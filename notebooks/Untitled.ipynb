{
 "cells": [
  {
   "cell_type": "code",
   "execution_count": 1,
   "id": "5be42dbf",
   "metadata": {},
   "outputs": [],
   "source": [
    "import pandas as pd"
   ]
  },
  {
   "cell_type": "code",
   "execution_count": 3,
   "id": "ec36f93c",
   "metadata": {},
   "outputs": [
    {
     "name": "stdout",
     "output_type": "stream",
     "text": [
      "CPU times: user 294 ms, sys: 42.4 ms, total: 336 ms\n",
      "Wall time: 401 ms\n"
     ]
    },
    {
     "data": {
      "text/html": [
       "<div>\n",
       "<style scoped>\n",
       "    .dataframe tbody tr th:only-of-type {\n",
       "        vertical-align: middle;\n",
       "    }\n",
       "\n",
       "    .dataframe tbody tr th {\n",
       "        vertical-align: top;\n",
       "    }\n",
       "\n",
       "    .dataframe thead th {\n",
       "        text-align: right;\n",
       "    }\n",
       "</style>\n",
       "<table border=\"1\" class=\"dataframe\">\n",
       "  <thead>\n",
       "    <tr style=\"text-align: right;\">\n",
       "      <th></th>\n",
       "      <th>url</th>\n",
       "      <th>group_representative</th>\n",
       "      <th>group_representative_label</th>\n",
       "      <th>text</th>\n",
       "      <th>chtml</th>\n",
       "      <th>&lt;div&gt;</th>\n",
       "    </tr>\n",
       "  </thead>\n",
       "  <tbody>\n",
       "    <tr>\n",
       "      <th>0</th>\n",
       "      <td>http://12-18.com</td>\n",
       "      <td>30</td>\n",
       "      <td>Leisure, Travel &amp; Tourism</td>\n",
       "      <td>12.18. Investment Management - ANDERS. AUS PRI...</td>\n",
       "      <td>&lt;html&gt;\\n&lt;head&gt;\\n\\t&lt;title&gt;12.18. Investment Man...</td>\n",
       "      <td>investment resultat arbeit prinzipien wir kund...</td>\n",
       "    </tr>\n",
       "  </tbody>\n",
       "</table>\n",
       "</div>"
      ],
      "text/plain": [
       "                url  group_representative group_representative_label  \\\n",
       "0  http://12-18.com                    30  Leisure, Travel & Tourism   \n",
       "\n",
       "                                                text  \\\n",
       "0  12.18. Investment Management - ANDERS. AUS PRI...   \n",
       "\n",
       "                                               chtml  \\\n",
       "0  <html>\\n<head>\\n\\t<title>12.18. Investment Man...   \n",
       "\n",
       "                                               <div>  \n",
       "0  investment resultat arbeit prinzipien wir kund...  "
      ]
     },
     "execution_count": 3,
     "metadata": {},
     "output_type": "execute_result"
    }
   ],
   "source": [
    "%%time\n",
    "train = pd.read_csv(\"../app/tmp/tmp(0, 1000).csv\", lineterminator=\"\\n\", nrows=1000).fillna(\"\")\n",
    "#train = train.fillna(\"\")\n",
    "train.head(1)"
   ]
  },
  {
   "cell_type": "code",
   "execution_count": 26,
   "id": "8fd553c1",
   "metadata": {},
   "outputs": [
    {
     "name": "stdout",
     "output_type": "stream",
     "text": [
      "CPU times: user 449 ms, sys: 54.9 ms, total: 504 ms\n",
      "Wall time: 666 ms\n"
     ]
    },
    {
     "data": {
      "text/html": [
       "<div>\n",
       "<style scoped>\n",
       "    .dataframe tbody tr th:only-of-type {\n",
       "        vertical-align: middle;\n",
       "    }\n",
       "\n",
       "    .dataframe tbody tr th {\n",
       "        vertical-align: top;\n",
       "    }\n",
       "\n",
       "    .dataframe thead th {\n",
       "        text-align: right;\n",
       "    }\n",
       "</style>\n",
       "<table border=\"1\" class=\"dataframe\">\n",
       "  <thead>\n",
       "    <tr style=\"text-align: right;\">\n",
       "      <th></th>\n",
       "      <th>url</th>\n",
       "      <th>group_representative</th>\n",
       "      <th>group_representative_label</th>\n",
       "      <th>text</th>\n",
       "      <th>chtml</th>\n",
       "      <th>&lt;meta&gt;_title</th>\n",
       "      <th>&lt;meta&gt;_keywords</th>\n",
       "      <th>&lt;meta&gt;_description</th>\n",
       "      <th>&lt;title&gt;</th>\n",
       "      <th>&lt;h1&gt;</th>\n",
       "      <th>...</th>\n",
       "      <th>&lt;h6&gt;</th>\n",
       "      <th>&lt;b&gt;</th>\n",
       "      <th>&lt;strong&gt;</th>\n",
       "      <th>&lt;em&gt;</th>\n",
       "      <th>&lt;i&gt;</th>\n",
       "      <th>&lt;p&gt;</th>\n",
       "      <th>&lt;a&gt;</th>\n",
       "      <th>&lt;li&gt;</th>\n",
       "      <th>&lt;div&gt;</th>\n",
       "      <th>country</th>\n",
       "    </tr>\n",
       "  </thead>\n",
       "  <tbody>\n",
       "    <tr>\n",
       "      <th>0</th>\n",
       "      <td>http://12-18.com</td>\n",
       "      <td>30</td>\n",
       "      <td>Leisure, Travel &amp; Tourism</td>\n",
       "      <td>\\n\\nInvestment Management.\\n\\nEin glückliches ...</td>\n",
       "      <td>&lt;html&gt;\\n&lt;head&gt;\\n\\t&lt;title&gt;12.18. Investment Man...</td>\n",
       "      <td>12.18. Investment Management - ANDERS. AUS PRI...</td>\n",
       "      <td>12 18, 1218 Investment, 12 18 Invest, lim, lin...</td>\n",
       "      <td>Ein glückliches Investment ist das Resultat ha...</td>\n",
       "      <td>12.18. Investment Management - ANDERS. AUS PRI...</td>\n",
       "      <td></td>\n",
       "      <td>...</td>\n",
       "      <td></td>\n",
       "      <td></td>\n",
       "      <td></td>\n",
       "      <td></td>\n",
       "      <td>Wir nehmen den Datenschutz nach EU-DSGVO erns...</td>\n",
       "      <td>12.18. Investment Management GmbHKönigsallee ...</td>\n",
       "      <td>Studie \"Ferienimmobilien\" Downloaden Hotel St...</td>\n",
       "      <td>karriere DE / EN Investment Management Newslet...</td>\n",
       "      <td>\\n \\n \\n \\n \\n \\n \\n \\n \\n \\n \\n \\n \\n \\n \\n \\...</td>\n",
       "      <td>DE</td>\n",
       "    </tr>\n",
       "  </tbody>\n",
       "</table>\n",
       "<p>1 rows × 24 columns</p>\n",
       "</div>"
      ],
      "text/plain": [
       "                url  group_representative group_representative_label  \\\n",
       "0  http://12-18.com                    30  Leisure, Travel & Tourism   \n",
       "\n",
       "                                                text  \\\n",
       "0  \\n\\nInvestment Management.\\n\\nEin glückliches ...   \n",
       "\n",
       "                                               chtml  \\\n",
       "0  <html>\\n<head>\\n\\t<title>12.18. Investment Man...   \n",
       "\n",
       "                                        <meta>_title  \\\n",
       "0  12.18. Investment Management - ANDERS. AUS PRI...   \n",
       "\n",
       "                                     <meta>_keywords  \\\n",
       "0  12 18, 1218 Investment, 12 18 Invest, lim, lin...   \n",
       "\n",
       "                                  <meta>_description  \\\n",
       "0  Ein glückliches Investment ist das Resultat ha...   \n",
       "\n",
       "                                             <title> <h1>  ... <h6> <b>  \\\n",
       "0  12.18. Investment Management - ANDERS. AUS PRI...       ...            \n",
       "\n",
       "  <strong> <em>                                                <i>  \\\n",
       "0                 Wir nehmen den Datenschutz nach EU-DSGVO erns...   \n",
       "\n",
       "                                                 <p>  \\\n",
       "0  12.18. Investment Management GmbHKönigsallee ...   \n",
       "\n",
       "                                                 <a>  \\\n",
       "0   Studie \"Ferienimmobilien\" Downloaden Hotel St...   \n",
       "\n",
       "                                                <li>  \\\n",
       "0  karriere DE / EN Investment Management Newslet...   \n",
       "\n",
       "                                               <div> country  \n",
       "0  \\n \\n \\n \\n \\n \\n \\n \\n \\n \\n \\n \\n \\n \\n \\n \\...      DE  \n",
       "\n",
       "[1 rows x 24 columns]"
      ]
     },
     "execution_count": 26,
     "metadata": {},
     "output_type": "execute_result"
    }
   ],
   "source": [
    "%%time\n",
    "train = pd.read_csv(\"../data/ctrain.csv\", lineterminator=\"\\n\", nrows=1000).fillna(\"\")\n",
    "#train = train.fillna(\"\")\n",
    "train.head(1)"
   ]
  },
  {
   "cell_type": "code",
   "execution_count": 9,
   "id": "cd6196bf",
   "metadata": {},
   "outputs": [
    {
     "data": {
      "text/plain": [
       "(1000, 24)"
      ]
     },
     "execution_count": 9,
     "metadata": {},
     "output_type": "execute_result"
    }
   ],
   "source": [
    "train.shape"
   ]
  },
  {
   "cell_type": "code",
   "execution_count": 17,
   "id": "16849c08",
   "metadata": {},
   "outputs": [],
   "source": [
    "train[\"<div>\"] = train.apply(lambda row: row[\"<div>\"].strip(), axis=1)\n",
    "#train[len(train[\"<div>\"]) <= 10]"
   ]
  },
  {
   "cell_type": "code",
   "execution_count": 21,
   "id": "4e60898f",
   "metadata": {},
   "outputs": [
    {
     "data": {
      "text/plain": [
       "0      Ein glückliches Investment ist das Resultat h...\n",
       "1      Wir machen   Vertriebsprozesse   einfacher.  \\...\n",
       "2      ORDER NOW Learn More \\n \\n \\n \\n \\n \\n \\n \\n \\...\n",
       "3                                                       \n",
       "4      support@8sense.com Öffnungszeiten: 9.00 Uhr -...\n",
       "                             ...                        \n",
       "995    Damit Sie immer über alle Neuerungen Ihrer So...\n",
       "996    This website uses cookies to improve your expe...\n",
       "997    The Future of Auto Starts Here.\\r\\n           ...\n",
       "998                                                     \n",
       "999              |  \\n \\n \\n \\n \\n \\n \\n \\n Kein Treffer\n",
       "Name: <div>, Length: 1000, dtype: object"
      ]
     },
     "execution_count": 21,
     "metadata": {},
     "output_type": "execute_result"
    }
   ],
   "source": [
    "train[\"<div>\"]"
   ]
  },
  {
   "cell_type": "code",
   "execution_count": 27,
   "id": "27515835",
   "metadata": {},
   "outputs": [
    {
     "data": {
      "text/plain": [
       "(37, 24)"
      ]
     },
     "execution_count": 27,
     "metadata": {},
     "output_type": "execute_result"
    }
   ],
   "source": [
    "train[train[\"<div>\"] == \"\"].shape"
   ]
  },
  {
   "cell_type": "code",
   "execution_count": 25,
   "id": "2ccd1560",
   "metadata": {},
   "outputs": [
    {
     "data": {
      "text/plain": [
       "1068"
      ]
     },
     "execution_count": 25,
     "metadata": {},
     "output_type": "execute_result"
    }
   ],
   "source": [
    "781+287"
   ]
  },
  {
   "cell_type": "code",
   "execution_count": 5,
   "id": "2caa47aa",
   "metadata": {},
   "outputs": [
    {
     "data": {
      "text/html": [
       "<div>\n",
       "<style scoped>\n",
       "    .dataframe tbody tr th:only-of-type {\n",
       "        vertical-align: middle;\n",
       "    }\n",
       "\n",
       "    .dataframe tbody tr th {\n",
       "        vertical-align: top;\n",
       "    }\n",
       "\n",
       "    .dataframe thead th {\n",
       "        text-align: right;\n",
       "    }\n",
       "</style>\n",
       "<table border=\"1\" class=\"dataframe\">\n",
       "  <thead>\n",
       "    <tr style=\"text-align: right;\">\n",
       "      <th></th>\n",
       "      <th>url</th>\n",
       "      <th>group_representative</th>\n",
       "      <th>group_representative_label</th>\n",
       "      <th>text</th>\n",
       "      <th>chtml</th>\n",
       "      <th>&lt;div&gt;</th>\n",
       "    </tr>\n",
       "  </thead>\n",
       "  <tbody>\n",
       "    <tr>\n",
       "      <th>0</th>\n",
       "      <td>http://12-18.com</td>\n",
       "      <td>30</td>\n",
       "      <td>Leisure, Travel &amp; Tourism</td>\n",
       "      <td>12.18. Investment Management - ANDERS. AUS PRI...</td>\n",
       "      <td>&lt;html&gt;\\n&lt;head&gt;\\n\\t&lt;title&gt;12.18. Investment Man...</td>\n",
       "      <td>investment resultat arbeit prinzipien wir kund...</td>\n",
       "    </tr>\n",
       "    <tr>\n",
       "      <th>1</th>\n",
       "      <td>http://1sales.io</td>\n",
       "      <td>96</td>\n",
       "      <td>Information Technology and Services</td>\n",
       "      <td>1sales.io | Das CRM um deinen Vertrieb zu revo...</td>\n",
       "      <td>&lt;html&gt;\\n&lt;head&gt;\\n\\t\\t\\n\\n\\t\\n\\n\\t\\n\\t\\n\\t\\n\\t\\n...</td>\n",
       "      <td>vertriebsprozesse direkt vertriebsorganisation...</td>\n",
       "    </tr>\n",
       "    <tr>\n",
       "      <th>2</th>\n",
       "      <td>http://3dvisionlabs.com</td>\n",
       "      <td>96</td>\n",
       "      <td>Information Technology and Services</td>\n",
       "      <td>Home - 3dvisionlabs\\n\\n3dvisionlabs\\n\\n\\nProdu...</td>\n",
       "      <td>&lt;html&gt;\\n&lt;head&gt;\\n\\t\\n\\t\\n\\t\\t\\t\\n\\t\\n\\t\\n\\t\\t\\n...</td>\n",
       "      <td>order website cookies experience website cooki...</td>\n",
       "    </tr>\n",
       "    <tr>\n",
       "      <th>3</th>\n",
       "      <td>http://4road.co.uk</td>\n",
       "      <td>42</td>\n",
       "      <td>Insurance</td>\n",
       "      <td>Car Insurance groups explained. Find your car'...</td>\n",
       "      <td>&lt;html&gt;\\n&lt;head&gt;\\n\\n\\n\\n&lt;title&gt;Car Insurance gro...</td>\n",
       "      <td></td>\n",
       "    </tr>\n",
       "    <tr>\n",
       "      <th>4</th>\n",
       "      <td>http://8sense.com</td>\n",
       "      <td>96</td>\n",
       "      <td>Information Technology and Services</td>\n",
       "      <td>Der weltweite erste Haltungs- und Rückentraine...</td>\n",
       "      <td>&lt;html&gt;&lt;head&gt;&lt;title&gt;Der weltweite erste Haltung...</td>\n",
       "      <td>support com ffnungszeiten uhr uhr</td>\n",
       "    </tr>\n",
       "    <tr>\n",
       "      <th>...</th>\n",
       "      <td>...</td>\n",
       "      <td>...</td>\n",
       "      <td>...</td>\n",
       "      <td>...</td>\n",
       "      <td>...</td>\n",
       "      <td>...</td>\n",
       "    </tr>\n",
       "    <tr>\n",
       "      <th>776</th>\n",
       "      <td>http://werk.ah.nl</td>\n",
       "      <td>25</td>\n",
       "      <td>Consumer Goods</td>\n",
       "      <td>Home - Werken bij Albert Heijn\\n\\nVacatures\\n\\...</td>\n",
       "      <td>&lt;html&gt;\\n&lt;head&gt;\\n        \\n    \\n    \\n    \\n  ...</td>\n",
       "      <td></td>\n",
       "    </tr>\n",
       "    <tr>\n",
       "      <th>777</th>\n",
       "      <td>http://wingfan.com.br</td>\n",
       "      <td>55</td>\n",
       "      <td>Machinery</td>\n",
       "      <td>Wing Fan - Smart Fan Technology\\n\\n(19)  99774...</td>\n",
       "      <td>&lt;html&gt;&lt;body&gt;&lt;p&gt;\\r\\n\\r\\n&lt;/p&gt;\\r\\n\\r\\n    &lt;title&gt;...</td>\n",
       "      <td>direitos reservados</td>\n",
       "    </tr>\n",
       "    <tr>\n",
       "      <th>778</th>\n",
       "      <td>http://wolken-asm.de</td>\n",
       "      <td>96</td>\n",
       "      <td>Information Technology and Services</td>\n",
       "      <td>Wolken-ASM | Individualsoftware, Web- und Mobi...</td>\n",
       "      <td>&lt;html&gt;\\n\\n&lt;head&gt;\\n\\n\\n \\n\\n\\n\\n&lt;title&gt;Wolken-A...</td>\n",
       "      <td>wolken entwicklung sehen werke welt welt tzen ...</td>\n",
       "    </tr>\n",
       "    <tr>\n",
       "      <th>779</th>\n",
       "      <td>http://worldwide.hyundai.com</td>\n",
       "      <td>53</td>\n",
       "      <td>Automotive</td>\n",
       "      <td>Hyundai Motor Company Worldwide website\\n\\nGo ...</td>\n",
       "      <td>&lt;html&gt;\\n    &lt;head&gt;\\n        \\n        \\n\\n\\n\\n...</td>\n",
       "      <td>experiences world</td>\n",
       "    </tr>\n",
       "    <tr>\n",
       "      <th>780</th>\n",
       "      <td>http://wps.ch</td>\n",
       "      <td>80</td>\n",
       "      <td>Marketing and Advertising</td>\n",
       "      <td>wps medienservice AG – Das Unternehmen für Pro...</td>\n",
       "      <td>&lt;html&gt;\\n\\n&lt;head&gt;\\n\\t\\n\\t\\t\\n\\t\\t\\t\\n\\t        ...</td>\n",
       "      <td>medienservice unternehmen produktkommunikation...</td>\n",
       "    </tr>\n",
       "  </tbody>\n",
       "</table>\n",
       "<p>781 rows × 6 columns</p>\n",
       "</div>"
      ],
      "text/plain": [
       "                              url  group_representative  \\\n",
       "0                http://12-18.com                    30   \n",
       "1                http://1sales.io                    96   \n",
       "2         http://3dvisionlabs.com                    96   \n",
       "3              http://4road.co.uk                    42   \n",
       "4               http://8sense.com                    96   \n",
       "..                            ...                   ...   \n",
       "776             http://werk.ah.nl                    25   \n",
       "777         http://wingfan.com.br                    55   \n",
       "778          http://wolken-asm.de                    96   \n",
       "779  http://worldwide.hyundai.com                    53   \n",
       "780                 http://wps.ch                    80   \n",
       "\n",
       "              group_representative_label  \\\n",
       "0              Leisure, Travel & Tourism   \n",
       "1    Information Technology and Services   \n",
       "2    Information Technology and Services   \n",
       "3                              Insurance   \n",
       "4    Information Technology and Services   \n",
       "..                                   ...   \n",
       "776                       Consumer Goods   \n",
       "777                            Machinery   \n",
       "778  Information Technology and Services   \n",
       "779                           Automotive   \n",
       "780            Marketing and Advertising   \n",
       "\n",
       "                                                  text  \\\n",
       "0    12.18. Investment Management - ANDERS. AUS PRI...   \n",
       "1    1sales.io | Das CRM um deinen Vertrieb zu revo...   \n",
       "2    Home - 3dvisionlabs\\n\\n3dvisionlabs\\n\\n\\nProdu...   \n",
       "3    Car Insurance groups explained. Find your car'...   \n",
       "4    Der weltweite erste Haltungs- und Rückentraine...   \n",
       "..                                                 ...   \n",
       "776  Home - Werken bij Albert Heijn\\n\\nVacatures\\n\\...   \n",
       "777  Wing Fan - Smart Fan Technology\\n\\n(19)  99774...   \n",
       "778  Wolken-ASM | Individualsoftware, Web- und Mobi...   \n",
       "779  Hyundai Motor Company Worldwide website\\n\\nGo ...   \n",
       "780  wps medienservice AG – Das Unternehmen für Pro...   \n",
       "\n",
       "                                                 chtml  \\\n",
       "0    <html>\\n<head>\\n\\t<title>12.18. Investment Man...   \n",
       "1    <html>\\n<head>\\n\\t\\t\\n\\n\\t\\n\\n\\t\\n\\t\\n\\t\\n\\t\\n...   \n",
       "2    <html>\\n<head>\\n\\t\\n\\t\\n\\t\\t\\t\\n\\t\\n\\t\\n\\t\\t\\n...   \n",
       "3    <html>\\n<head>\\n\\n\\n\\n<title>Car Insurance gro...   \n",
       "4    <html><head><title>Der weltweite erste Haltung...   \n",
       "..                                                 ...   \n",
       "776  <html>\\n<head>\\n        \\n    \\n    \\n    \\n  ...   \n",
       "777  <html><body><p>\\r\\n\\r\\n</p>\\r\\n\\r\\n    <title>...   \n",
       "778  <html>\\n\\n<head>\\n\\n\\n \\n\\n\\n\\n<title>Wolken-A...   \n",
       "779  <html>\\n    <head>\\n        \\n        \\n\\n\\n\\n...   \n",
       "780  <html>\\n\\n<head>\\n\\t\\n\\t\\t\\n\\t\\t\\t\\n\\t        ...   \n",
       "\n",
       "                                                 <div>  \n",
       "0    investment resultat arbeit prinzipien wir kund...  \n",
       "1    vertriebsprozesse direkt vertriebsorganisation...  \n",
       "2    order website cookies experience website cooki...  \n",
       "3                                                       \n",
       "4                    support com ffnungszeiten uhr uhr  \n",
       "..                                                 ...  \n",
       "776                                                     \n",
       "777                                direitos reservados  \n",
       "778  wolken entwicklung sehen werke welt welt tzen ...  \n",
       "779                                  experiences world  \n",
       "780  medienservice unternehmen produktkommunikation...  \n",
       "\n",
       "[781 rows x 6 columns]"
      ]
     },
     "execution_count": 5,
     "metadata": {},
     "output_type": "execute_result"
    }
   ],
   "source": [
    "train"
   ]
  },
  {
   "cell_type": "code",
   "execution_count": null,
   "id": "0e85545b",
   "metadata": {},
   "outputs": [],
   "source": []
  }
 ],
 "metadata": {
  "kernelspec": {
   "display_name": "Python 3",
   "language": "python",
   "name": "python3"
  },
  "language_info": {
   "codemirror_mode": {
    "name": "ipython",
    "version": 3
   },
   "file_extension": ".py",
   "mimetype": "text/x-python",
   "name": "python",
   "nbconvert_exporter": "python",
   "pygments_lexer": "ipython3",
   "version": "3.8.10"
  }
 },
 "nbformat": 4,
 "nbformat_minor": 5
}
