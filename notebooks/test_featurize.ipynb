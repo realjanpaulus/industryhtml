{
 "cells": [
  {
   "cell_type": "markdown",
   "id": "56775f5c",
   "metadata": {},
   "source": [
    "# Test featurize"
   ]
  },
  {
   "cell_type": "code",
   "execution_count": 101,
   "id": "560b2b68",
   "metadata": {},
   "outputs": [],
   "source": [
    "import matplotlib.pyplot as plt\n",
    "import numpy as np\n",
    "import pandas as pd\n",
    "import seaborn as sns\n",
    "\n",
    "# sklearn classification\n",
    "from sklearn.linear_model import SGDClassifier\n",
    "from sklearn.svm import LinearSVC\n",
    "\n",
    "# sklearn general\n",
    "from sklearn.feature_extraction.text import CountVectorizer, TfidfTransformer, TfidfVectorizer\n",
    "from sklearn.metrics import (accuracy_score,\n",
    "                             confusion_matrix, \n",
    "                             classification_report, \n",
    "                             f1_score, \n",
    "                             precision_score,\n",
    "                             recall_score)\n",
    "from sklearn.pipeline import Pipeline\n",
    "from sklearn.preprocessing import LabelEncoder\n",
    "from xgboost import XGBClassifier\n",
    "\n",
    "\n",
    "from stop_words import get_stop_words\n",
    "import ujson as json\n",
    "\n",
    "import sys\n",
    "import os\n",
    "\n",
    "module_path = os.path.abspath(os.path.join('..'))\n",
    "if module_path not in sys.path:\n",
    "    sys.path.append(module_path)\n",
    "\n",
    "from app.utils import (clean_boilerplate, \n",
    "                       clean_string,\n",
    "                       clean_website, \n",
    "                       detect_XML, \n",
    "                       extract_meta_informations,\n",
    "                       reduce_whitespace,\n",
    "                       remove_special_characters,\n",
    "                       remove_tags, \n",
    "                       tokenizing_html, \n",
    "                       trim_html)"
   ]
  },
  {
   "cell_type": "code",
   "execution_count": 133,
   "id": "a24b0a0d",
   "metadata": {},
   "outputs": [
    {
     "name": "stdout",
     "output_type": "stream",
     "text": [
      "CPU times: user 1.57 s, sys: 552 ms, total: 2.12 s\n",
      "Wall time: 2.41 s\n"
     ]
    },
    {
     "data": {
      "text/html": [
       "<div>\n",
       "<style scoped>\n",
       "    .dataframe tbody tr th:only-of-type {\n",
       "        vertical-align: middle;\n",
       "    }\n",
       "\n",
       "    .dataframe tbody tr th {\n",
       "        vertical-align: top;\n",
       "    }\n",
       "\n",
       "    .dataframe thead th {\n",
       "        text-align: right;\n",
       "    }\n",
       "</style>\n",
       "<table border=\"1\" class=\"dataframe\">\n",
       "  <thead>\n",
       "    <tr style=\"text-align: right;\">\n",
       "      <th></th>\n",
       "      <th>url</th>\n",
       "      <th>industry</th>\n",
       "      <th>industry_label</th>\n",
       "      <th>group</th>\n",
       "      <th>group_representative</th>\n",
       "      <th>html</th>\n",
       "      <th>text</th>\n",
       "      <th>source</th>\n",
       "      <th>country</th>\n",
       "      <th>group_representative_label</th>\n",
       "      <th>meta</th>\n",
       "      <th>chtml</th>\n",
       "    </tr>\n",
       "  </thead>\n",
       "  <tbody>\n",
       "    <tr>\n",
       "      <th>0</th>\n",
       "      <td>http://12-18.com</td>\n",
       "      <td>31</td>\n",
       "      <td>Hospitality</td>\n",
       "      <td>rec, serv, tran</td>\n",
       "      <td>30</td>\n",
       "      <td>&lt;!DOCTYPE html&gt;\\n&lt;html lang=\"de\"&gt;\\n&lt;head&gt;\\n\\t&lt;...</td>\n",
       "      <td>12.18. Investment Management - ANDERS. AUS PRI...</td>\n",
       "      <td>xing</td>\n",
       "      <td>DE</td>\n",
       "      <td>Leisure, Travel &amp; Tourism</td>\n",
       "      <td>Ein glückliches Investment ist das Resultat ha...</td>\n",
       "      <td>&lt;html&gt;\\n&lt;head&gt;\\n\\t&lt;title&gt;12.18. Investment Man...</td>\n",
       "    </tr>\n",
       "  </tbody>\n",
       "</table>\n",
       "</div>"
      ],
      "text/plain": [
       "                url  industry industry_label            group  \\\n",
       "0  http://12-18.com        31    Hospitality  rec, serv, tran   \n",
       "\n",
       "   group_representative                                               html  \\\n",
       "0                    30  <!DOCTYPE html>\\n<html lang=\"de\">\\n<head>\\n\\t<...   \n",
       "\n",
       "                                                text source country  \\\n",
       "0  12.18. Investment Management - ANDERS. AUS PRI...   xing      DE   \n",
       "\n",
       "  group_representative_label  \\\n",
       "0  Leisure, Travel & Tourism   \n",
       "\n",
       "                                                meta  \\\n",
       "0  Ein glückliches Investment ist das Resultat ha...   \n",
       "\n",
       "                                               chtml  \n",
       "0  <html>\\n<head>\\n\\t<title>12.18. Investment Man...  "
      ]
     },
     "execution_count": 133,
     "metadata": {},
     "output_type": "execute_result"
    }
   ],
   "source": [
    "%%time\n",
    "train = pd.read_csv(\"../data/ctrain.csv\", nrows=1000).fillna(\"\")\n",
    "train = train.fillna(\"\")\n",
    "test = pd.read_csv(\"../data/ctest.csv\", nrows=200).fillna(\"\")\n",
    "test = test.fillna(\"\")\n",
    "train.head(1)"
   ]
  },
  {
   "cell_type": "code",
   "execution_count": 134,
   "id": "a4c684a7",
   "metadata": {},
   "outputs": [],
   "source": [
    "def get_count_vectors(text, vectorizer=None):\n",
    "    if vectorizer:\n",
    "        vector = vectorizer.transform(text).toarray().tolist()\n",
    "        return vector, _\n",
    "    else:\n",
    "        vectorizer = TfidfVectorizer()\n",
    "        vector = vectorizer.fit_transform(text).toarray().tolist()\n",
    "        return vector, vectorizer\n",
    "\n",
    "def get_feature_mtx(data, vectorizer=None):\n",
    "    \"\"\" \"\"\"\n",
    "    mtx = []\n",
    "    \n",
    "    vector, vectorizer = get_vectors(data.text, vectorizer=vectorizer)\n",
    "    mtx.extend(vector)\n",
    "\n",
    "    \n",
    "    #mtx = list(map(list, zip(*mtx)))\n",
    "    return np.array(mtx), vectorizer"
   ]
  },
  {
   "cell_type": "code",
   "execution_count": 135,
   "id": "d1bf9700",
   "metadata": {},
   "outputs": [],
   "source": [
    "X_train, vectorizer = get_feature_mtx(train)\n",
    "y_train = train.group_representative_label\n",
    "X_test, _ = get_feature_mtx(test, vectorizer=vectorizer)\n",
    "y_test = test.group_representative_label"
   ]
  },
  {
   "cell_type": "code",
   "execution_count": 136,
   "id": "686c302c",
   "metadata": {},
   "outputs": [
    {
     "name": "stdout",
     "output_type": "stream",
     "text": [
      "CPU times: user 785 ms, sys: 0 ns, total: 785 ms\n",
      "Wall time: 714 ms\n"
     ]
    },
    {
     "data": {
      "text/plain": [
       "0.455"
      ]
     },
     "execution_count": 136,
     "metadata": {},
     "output_type": "execute_result"
    }
   ],
   "source": [
    "%%time\n",
    "clf = LinearSVC()\n",
    "clf.fit(X_train, y_train)\n",
    "pred = clf.predict(X_test)\n",
    "score = accuracy_score(pred, y_test)\n",
    "score"
   ]
  },
  {
   "cell_type": "code",
   "execution_count": null,
   "id": "7e300780",
   "metadata": {},
   "outputs": [],
   "source": []
  }
 ],
 "metadata": {
  "kernelspec": {
   "display_name": "Python 3",
   "language": "python",
   "name": "python3"
  },
  "language_info": {
   "codemirror_mode": {
    "name": "ipython",
    "version": 3
   },
   "file_extension": ".py",
   "mimetype": "text/x-python",
   "name": "python",
   "nbconvert_exporter": "python",
   "pygments_lexer": "ipython3",
   "version": "3.9.5"
  }
 },
 "nbformat": 4,
 "nbformat_minor": 5
}
