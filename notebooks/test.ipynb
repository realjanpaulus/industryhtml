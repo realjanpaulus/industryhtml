{
 "cells": [
  {
   "cell_type": "markdown",
   "id": "a7b8fb28",
   "metadata": {},
   "source": [
    "# Test Notebook"
   ]
  },
  {
   "cell_type": "code",
   "execution_count": 1,
   "id": "a9c58ffa",
   "metadata": {},
   "outputs": [],
   "source": [
    "import pandas as pd\n",
    "import sys\n",
    "import os\n",
    "\n",
    "module_path = os.path.abspath(os.path.join('..'))\n",
    "if module_path not in sys.path:\n",
    "    sys.path.append(module_path)\n",
    "from app.utils import clean_html"
   ]
  },
  {
   "cell_type": "code",
   "execution_count": 2,
   "id": "655cc2fc",
   "metadata": {},
   "outputs": [],
   "source": [
    "DATA_DIR_PATH = \"../data/\"\n",
    "LANG = \"_DE\"\n",
    "\n",
    "TRAIN_PATH_CSV = DATA_DIR_PATH + \"train\" + LANG + \".csv\"\n",
    "TEST_PATH_CSV = DATA_DIR_PATH + \"test\" + LANG + \".csv\""
   ]
  },
  {
   "cell_type": "code",
   "execution_count": 5,
   "id": "578d4c81",
   "metadata": {},
   "outputs": [
    {
     "name": "stdout",
     "output_type": "stream",
     "text": [
      "CPU times: user 30.3 s, sys: 1min 30s, total: 2min\n",
      "Wall time: 2min 10s\n"
     ]
    }
   ],
   "source": [
    "%%time\n",
    "train = pd.read_csv(TRAIN_PATH_CSV)"
   ]
  },
  {
   "cell_type": "code",
   "execution_count": 6,
   "id": "1befe964",
   "metadata": {},
   "outputs": [],
   "source": [
    "n = 0"
   ]
  },
  {
   "cell_type": "code",
   "execution_count": 9,
   "id": "f84bf467",
   "metadata": {},
   "outputs": [],
   "source": [
    "old_html = train.iloc[n][\"html\"]\n",
    "old_html = old_html.replace(\"\\n\", \"\")\n",
    "old_html = old_html.replace(\"\\r\", \"\")\n",
    "old_html = old_html.replace(\"\\t\", \"\")\n",
    "with open(\"../app/old/test.html\", \"w+\") as f:\n",
    "    f.write(old_html)"
   ]
  },
  {
   "cell_type": "markdown",
   "id": "9ab0ae79",
   "metadata": {},
   "source": [
    "## real tests"
   ]
  },
  {
   "cell_type": "code",
   "execution_count": 52,
   "id": "6c267d83",
   "metadata": {},
   "outputs": [],
   "source": [
    "train2 = train.head(10)"
   ]
  },
  {
   "cell_type": "code",
   "execution_count": 50,
   "id": "eb55ac82",
   "metadata": {},
   "outputs": [],
   "source": [
    "from lxml.html.clean import Cleaner\n",
    "\n",
    "def clean_html_boilerplate(string):\n",
    "    \"\"\" Cleans boilerplate HTML tags from HTML.\"\"\"\n",
    "    \n",
    "    cleaner = Cleaner(page_structure=False, meta=True, style=True, kill_tags=[\"img\"])\n",
    "    clean = cleaner.clean_html(string)\n",
    "    clean = clean.replace(\"\\n\", \"\")\n",
    "    clean = clean.replace(\"\\r\", \"\")\n",
    "    clean = clean.replace(\"\\t\", \"\")\n",
    "\n",
    "    return clean"
   ]
  },
  {
   "cell_type": "code",
   "execution_count": 51,
   "id": "01617a04",
   "metadata": {
    "collapsed": true
   },
   "outputs": [
    {
     "name": "stderr",
     "output_type": "stream",
     "text": [
      "<ipython-input-51-b9318d847efe>:3: SettingWithCopyWarning: \n",
      "A value is trying to be set on a copy of a slice from a DataFrame.\n",
      "Try using .loc[row_indexer,col_indexer] = value instead\n",
      "\n",
      "See the caveats in the documentation: https://pandas.pydata.org/pandas-docs/stable/user_guide/indexing.html#returning-a-view-versus-a-copy\n",
      "  train2[\"html\"] = train2.apply(lambda row: clean_html_boilerplate(row[\"html\"]), axis=1)\n"
     ]
    }
   ],
   "source": [
    "train2[\"html\"] = train2.apply(lambda row: clean_html_boilerplate(row[\"html\"]), axis=1)"
   ]
  },
  {
   "cell_type": "code",
   "execution_count": 55,
   "id": "cde4029f",
   "metadata": {},
   "outputs": [
    {
     "data": {
      "text/html": [
       "<div>\n",
       "<style scoped>\n",
       "    .dataframe tbody tr th:only-of-type {\n",
       "        vertical-align: middle;\n",
       "    }\n",
       "\n",
       "    .dataframe tbody tr th {\n",
       "        vertical-align: top;\n",
       "    }\n",
       "\n",
       "    .dataframe thead th {\n",
       "        text-align: right;\n",
       "    }\n",
       "</style>\n",
       "<table border=\"1\" class=\"dataframe\">\n",
       "  <thead>\n",
       "    <tr style=\"text-align: right;\">\n",
       "      <th></th>\n",
       "      <th>url</th>\n",
       "      <th>industry</th>\n",
       "      <th>industry_label</th>\n",
       "      <th>group</th>\n",
       "      <th>group_representative</th>\n",
       "      <th>html</th>\n",
       "      <th>text</th>\n",
       "      <th>source</th>\n",
       "      <th>country</th>\n",
       "      <th>group_representative_label</th>\n",
       "    </tr>\n",
       "  </thead>\n",
       "  <tbody>\n",
       "    <tr>\n",
       "      <th>0</th>\n",
       "      <td>http://www.bruggcables.com</td>\n",
       "      <td>57</td>\n",
       "      <td>Oil &amp; Energy</td>\n",
       "      <td>man</td>\n",
       "      <td>55</td>\n",
       "      <td>&lt;html lang=\"de\"&gt;&lt;head&gt;&lt;base href=\"https://brug...</td>\n",
       "      <td>Home\\n\\nDeutsch\\nEnglish\\n\\n\\nShop\\nProdukte\\n...</td>\n",
       "      <td>xing</td>\n",
       "      <td>DE</td>\n",
       "      <td>Apparel &amp; Fashion</td>\n",
       "    </tr>\n",
       "    <tr>\n",
       "      <th>1</th>\n",
       "      <td>http://www.famo24.de</td>\n",
       "      <td>133</td>\n",
       "      <td>Wholesale</td>\n",
       "      <td>good</td>\n",
       "      <td>133</td>\n",
       "      <td>&lt;html class=\"no-js\"&gt;&lt;head&gt;&lt;title&gt;Startseite | ...</td>\n",
       "      <td>Startseite | FAMO24\\n\\nSchließen\\nPasswort ver...</td>\n",
       "      <td>xing</td>\n",
       "      <td>DE</td>\n",
       "      <td>Hospitality</td>\n",
       "    </tr>\n",
       "    <tr>\n",
       "      <th>2</th>\n",
       "      <td>http://www.arcanum-energy.de</td>\n",
       "      <td>57</td>\n",
       "      <td>Oil &amp; Energy</td>\n",
       "      <td>man</td>\n",
       "      <td>55</td>\n",
       "      <td>&lt;html lang=\"de-DE\"&gt;&lt;head&gt;&lt;title&gt;Erneuerbare En...</td>\n",
       "      <td>Erneuerbare Energien - Arcanum Energy\\n\\nAus A...</td>\n",
       "      <td>xing</td>\n",
       "      <td>DE</td>\n",
       "      <td>Apparel &amp; Fashion</td>\n",
       "    </tr>\n",
       "  </tbody>\n",
       "</table>\n",
       "</div>"
      ],
      "text/plain": [
       "                            url  industry industry_label group  \\\n",
       "0    http://www.bruggcables.com        57   Oil & Energy   man   \n",
       "1          http://www.famo24.de       133      Wholesale  good   \n",
       "2  http://www.arcanum-energy.de        57   Oil & Energy   man   \n",
       "\n",
       "   group_representative                                               html  \\\n",
       "0                    55  <html lang=\"de\"><head><base href=\"https://brug...   \n",
       "1                   133  <html class=\"no-js\"><head><title>Startseite | ...   \n",
       "2                    55  <html lang=\"de-DE\"><head><title>Erneuerbare En...   \n",
       "\n",
       "                                                text source country  \\\n",
       "0  Home\\n\\nDeutsch\\nEnglish\\n\\n\\nShop\\nProdukte\\n...   xing      DE   \n",
       "1  Startseite | FAMO24\\n\\nSchließen\\nPasswort ver...   xing      DE   \n",
       "2  Erneuerbare Energien - Arcanum Energy\\n\\nAus A...   xing      DE   \n",
       "\n",
       "  group_representative_label  \n",
       "0          Apparel & Fashion  \n",
       "1                Hospitality  \n",
       "2          Apparel & Fashion  "
      ]
     },
     "execution_count": 55,
     "metadata": {},
     "output_type": "execute_result"
    }
   ],
   "source": [
    "train.head(3)"
   ]
  },
  {
   "cell_type": "code",
   "execution_count": 56,
   "id": "6c70d550",
   "metadata": {},
   "outputs": [
    {
     "data": {
      "text/html": [
       "<div>\n",
       "<style scoped>\n",
       "    .dataframe tbody tr th:only-of-type {\n",
       "        vertical-align: middle;\n",
       "    }\n",
       "\n",
       "    .dataframe tbody tr th {\n",
       "        vertical-align: top;\n",
       "    }\n",
       "\n",
       "    .dataframe thead th {\n",
       "        text-align: right;\n",
       "    }\n",
       "</style>\n",
       "<table border=\"1\" class=\"dataframe\">\n",
       "  <thead>\n",
       "    <tr style=\"text-align: right;\">\n",
       "      <th></th>\n",
       "      <th>url</th>\n",
       "      <th>industry</th>\n",
       "      <th>industry_label</th>\n",
       "      <th>group</th>\n",
       "      <th>group_representative</th>\n",
       "      <th>html</th>\n",
       "      <th>text</th>\n",
       "      <th>source</th>\n",
       "      <th>country</th>\n",
       "      <th>group_representative_label</th>\n",
       "    </tr>\n",
       "  </thead>\n",
       "  <tbody>\n",
       "    <tr>\n",
       "      <th>0</th>\n",
       "      <td>http://www.bruggcables.com</td>\n",
       "      <td>57</td>\n",
       "      <td>Oil &amp; Energy</td>\n",
       "      <td>man</td>\n",
       "      <td>55</td>\n",
       "      <td>&lt;html lang=\"de\"&gt;&lt;head&gt;&lt;base href=\"https://brug...</td>\n",
       "      <td>Home\\n\\nDeutsch\\nEnglish\\n\\n\\nShop\\nProdukte\\n...</td>\n",
       "      <td>xing</td>\n",
       "      <td>DE</td>\n",
       "      <td>Apparel &amp; Fashion</td>\n",
       "    </tr>\n",
       "    <tr>\n",
       "      <th>1</th>\n",
       "      <td>http://www.famo24.de</td>\n",
       "      <td>133</td>\n",
       "      <td>Wholesale</td>\n",
       "      <td>good</td>\n",
       "      <td>133</td>\n",
       "      <td>&lt;html class=\"no-js\"&gt;&lt;head&gt;&lt;title&gt;Startseite | ...</td>\n",
       "      <td>Startseite | FAMO24\\n\\nSchließen\\nPasswort ver...</td>\n",
       "      <td>xing</td>\n",
       "      <td>DE</td>\n",
       "      <td>Hospitality</td>\n",
       "    </tr>\n",
       "    <tr>\n",
       "      <th>2</th>\n",
       "      <td>http://www.arcanum-energy.de</td>\n",
       "      <td>57</td>\n",
       "      <td>Oil &amp; Energy</td>\n",
       "      <td>man</td>\n",
       "      <td>55</td>\n",
       "      <td>&lt;html lang=\"de-DE\"&gt;&lt;head&gt;&lt;title&gt;Erneuerbare En...</td>\n",
       "      <td>Erneuerbare Energien - Arcanum Energy\\n\\nAus A...</td>\n",
       "      <td>xing</td>\n",
       "      <td>DE</td>\n",
       "      <td>Apparel &amp; Fashion</td>\n",
       "    </tr>\n",
       "  </tbody>\n",
       "</table>\n",
       "</div>"
      ],
      "text/plain": [
       "                            url  industry industry_label group  \\\n",
       "0    http://www.bruggcables.com        57   Oil & Energy   man   \n",
       "1          http://www.famo24.de       133      Wholesale  good   \n",
       "2  http://www.arcanum-energy.de        57   Oil & Energy   man   \n",
       "\n",
       "   group_representative                                               html  \\\n",
       "0                    55  <html lang=\"de\"><head><base href=\"https://brug...   \n",
       "1                   133  <html class=\"no-js\"><head><title>Startseite | ...   \n",
       "2                    55  <html lang=\"de-DE\"><head><title>Erneuerbare En...   \n",
       "\n",
       "                                                text source country  \\\n",
       "0  Home\\n\\nDeutsch\\nEnglish\\n\\n\\nShop\\nProdukte\\n...   xing      DE   \n",
       "1  Startseite | FAMO24\\n\\nSchließen\\nPasswort ver...   xing      DE   \n",
       "2  Erneuerbare Energien - Arcanum Energy\\n\\nAus A...   xing      DE   \n",
       "\n",
       "  group_representative_label  \n",
       "0          Apparel & Fashion  \n",
       "1                Hospitality  \n",
       "2          Apparel & Fashion  "
      ]
     },
     "execution_count": 56,
     "metadata": {},
     "output_type": "execute_result"
    }
   ],
   "source": [
    "train2.head(3)"
   ]
  },
  {
   "cell_type": "code",
   "execution_count": null,
   "id": "6f6f61a2",
   "metadata": {},
   "outputs": [],
   "source": []
  },
  {
   "cell_type": "code",
   "execution_count": 36,
   "id": "44157ba3",
   "metadata": {},
   "outputs": [],
   "source": [
    "with open(\"../app/old/test.html\", \"r\") as f:\n",
    "    old_html = f.read()"
   ]
  },
  {
   "cell_type": "code",
   "execution_count": 37,
   "id": "20e073cf",
   "metadata": {},
   "outputs": [
    {
     "data": {
      "text/plain": [
       "'<!DOCTYPE html>\\n<html lang=\"de\">\\n\\n<head>\\n    <meta charset=\"utf-8\">\\n    <!-- This website is powered'"
      ]
     },
     "execution_count": 37,
     "metadata": {},
     "output_type": "execute_result"
    }
   ],
   "source": [
    "old_html[:100]"
   ]
  },
  {
   "cell_type": "code",
   "execution_count": 38,
   "id": "f8470e74",
   "metadata": {},
   "outputs": [],
   "source": [
    "cleaned_html = cleans_html_boilerplate(old_html)"
   ]
  },
  {
   "cell_type": "code",
   "execution_count": 39,
   "id": "a05bda4a",
   "metadata": {},
   "outputs": [
    {
     "data": {
      "text/plain": [
       "'<html lang=\"de\"><hea'"
      ]
     },
     "execution_count": 39,
     "metadata": {},
     "output_type": "execute_result"
    }
   ],
   "source": [
    "cleaned_html[:20]"
   ]
  },
  {
   "cell_type": "code",
   "execution_count": 42,
   "id": "baf41a97",
   "metadata": {},
   "outputs": [
    {
     "data": {
      "text/plain": [
       "'      </body></html>'"
      ]
     },
     "execution_count": 42,
     "metadata": {},
     "output_type": "execute_result"
    }
   ],
   "source": [
    "cleaned_html[-20:]"
   ]
  },
  {
   "cell_type": "code",
   "execution_count": 48,
   "id": "3a1092d8",
   "metadata": {},
   "outputs": [
    {
     "data": {
      "text/plain": [
       "['a',\n",
       " 'base',\n",
       " 'body',\n",
       " 'br',\n",
       " 'div',\n",
       " 'dl',\n",
       " 'footer',\n",
       " 'h2',\n",
       " 'h3',\n",
       " 'h4',\n",
       " 'head',\n",
       " 'header',\n",
       " 'hr',\n",
       " 'html',\n",
       " 'i',\n",
       " 'label',\n",
       " 'li',\n",
       " 'nav',\n",
       " 'p',\n",
       " 'span',\n",
       " 'time',\n",
       " 'title',\n",
       " 'ul']"
      ]
     },
     "execution_count": 48,
     "metadata": {},
     "output_type": "execute_result"
    }
   ],
   "source": [
    "from lxml import etree\n",
    "from lxml import html\n",
    "import numpy as np\n",
    "\n",
    "html_file = html.fromstring(cleaned_html)\n",
    "\n",
    "tags = [element.tag for element in html_file.iter()]\n",
    "list(np.unique(tags))"
   ]
  },
  {
   "cell_type": "code",
   "execution_count": null,
   "id": "ef29cdb6",
   "metadata": {},
   "outputs": [],
   "source": [
    "# If you want to visit all of the descendants\n",
    "for element in html_file.iter():\n",
    "    print(element.tag)\n",
    "    \n",
    "    \n",
    "# Or, if you want to have a list of all the descendents\n",
    "all_elements = list(html_file.iter())\n",
    "#print([element.tag for element in all_elements])"
   ]
  },
  {
   "cell_type": "code",
   "execution_count": null,
   "id": "4b5cf8ee",
   "metadata": {},
   "outputs": [],
   "source": []
  },
  {
   "cell_type": "code",
   "execution_count": null,
   "id": "11fbbf2a",
   "metadata": {},
   "outputs": [],
   "source": []
  },
  {
   "cell_type": "code",
   "execution_count": null,
   "id": "581c30a7",
   "metadata": {},
   "outputs": [],
   "source": []
  },
  {
   "cell_type": "code",
   "execution_count": null,
   "id": "a25d90cb",
   "metadata": {},
   "outputs": [],
   "source": []
  }
 ],
 "metadata": {
  "kernelspec": {
   "display_name": "Python 3",
   "language": "python",
   "name": "python3"
  },
  "language_info": {
   "codemirror_mode": {
    "name": "ipython",
    "version": 3
   },
   "file_extension": ".py",
   "mimetype": "text/x-python",
   "name": "python",
   "nbconvert_exporter": "python",
   "pygments_lexer": "ipython3",
   "version": "3.9.4"
  }
 },
 "nbformat": 4,
 "nbformat_minor": 5
}
