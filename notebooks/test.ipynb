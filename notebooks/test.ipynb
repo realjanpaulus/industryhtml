{
 "cells": [
  {
   "cell_type": "markdown",
   "id": "00ad4410",
   "metadata": {},
   "source": [
    "# Test Notebook\n",
    "\n",
    "- Encode/Decode Cycle: https://stackoverflow.com/questions/15304229/convert-python-elementtree-to-string"
   ]
  },
  {
   "cell_type": "code",
   "execution_count": 1,
   "id": "70ad2a14",
   "metadata": {},
   "outputs": [],
   "source": [
    "import lxml\n",
    "from lxml import etree, html\n",
    "import numpy as np\n",
    "import pandas as pd\n",
    "import sys\n",
    "import os\n",
    "\n",
    "module_path = os.path.abspath(os.path.join('..'))\n",
    "if module_path not in sys.path:\n",
    "    sys.path.append(module_path)\n",
    "from app.utils import clean_boilerplate"
   ]
  },
  {
   "cell_type": "markdown",
   "id": "565457b3",
   "metadata": {},
   "source": [
    "### Loading"
   ]
  },
  {
   "cell_type": "code",
   "execution_count": 2,
   "id": "8a1310b7",
   "metadata": {},
   "outputs": [],
   "source": [
    "DATA_DIR_PATH = \"../data/\"\n",
    "LANG = \"\"\n",
    "\n",
    "TRAIN_PATH_CSV = DATA_DIR_PATH + \"train\" + LANG + \".csv\"\n",
    "TEST_PATH_CSV = DATA_DIR_PATH + \"test\" + LANG + \".csv\"\n",
    "\n",
    "N = 0"
   ]
  },
  {
   "cell_type": "code",
   "execution_count": 7,
   "id": "a17aa4d1",
   "metadata": {},
   "outputs": [
    {
     "name": "stdout",
     "output_type": "stream",
     "text": [
      "CPU times: user 1.82 s, sys: 346 ms, total: 2.17 s\n",
      "Wall time: 2.58 s\n"
     ]
    }
   ],
   "source": [
    "%%time\n",
    "train = pd.read_csv(TRAIN_PATH_CSV, nrows=1000)"
   ]
  },
  {
   "cell_type": "code",
   "execution_count": 8,
   "id": "17293af5",
   "metadata": {},
   "outputs": [
    {
     "data": {
      "text/html": [
       "<div>\n",
       "<style scoped>\n",
       "    .dataframe tbody tr th:only-of-type {\n",
       "        vertical-align: middle;\n",
       "    }\n",
       "\n",
       "    .dataframe tbody tr th {\n",
       "        vertical-align: top;\n",
       "    }\n",
       "\n",
       "    .dataframe thead th {\n",
       "        text-align: right;\n",
       "    }\n",
       "</style>\n",
       "<table border=\"1\" class=\"dataframe\">\n",
       "  <thead>\n",
       "    <tr style=\"text-align: right;\">\n",
       "      <th></th>\n",
       "      <th>url</th>\n",
       "      <th>industry</th>\n",
       "      <th>industry_label</th>\n",
       "      <th>group</th>\n",
       "      <th>group_representative</th>\n",
       "      <th>html</th>\n",
       "      <th>text</th>\n",
       "      <th>source</th>\n",
       "      <th>country</th>\n",
       "      <th>group_representative_label</th>\n",
       "      <th>webtype</th>\n",
       "    </tr>\n",
       "  </thead>\n",
       "  <tbody>\n",
       "    <tr>\n",
       "      <th>0</th>\n",
       "      <td>http://www.energy-net.de</td>\n",
       "      <td>8</td>\n",
       "      <td>Telecommunications</td>\n",
       "      <td>gov, tech</td>\n",
       "      <td>8</td>\n",
       "      <td>&lt;!DOCTYPE html&gt;\\n&lt;html dir=\"ltr\" lang=\"de-DE\"&gt;...</td>\n",
       "      <td>Energy Net Apple Reseller\\n\\nSpringe zum Inhal...</td>\n",
       "      <td>xing</td>\n",
       "      <td>DE</td>\n",
       "      <td>Telecommunications</td>\n",
       "      <td>html</td>\n",
       "    </tr>\n",
       "  </tbody>\n",
       "</table>\n",
       "</div>"
      ],
      "text/plain": [
       "                        url  industry      industry_label      group  \\\n",
       "0  http://www.energy-net.de         8  Telecommunications  gov, tech   \n",
       "\n",
       "   group_representative                                               html  \\\n",
       "0                     8  <!DOCTYPE html>\\n<html dir=\"ltr\" lang=\"de-DE\">...   \n",
       "\n",
       "                                                text source country  \\\n",
       "0  Energy Net Apple Reseller\\n\\nSpringe zum Inhal...   xing      DE   \n",
       "\n",
       "  group_representative_label webtype  \n",
       "0         Telecommunications    html  "
      ]
     },
     "execution_count": 8,
     "metadata": {},
     "output_type": "execute_result"
    }
   ],
   "source": [
    "train.head(1)"
   ]
  },
  {
   "cell_type": "code",
   "execution_count": 5,
   "id": "40816499",
   "metadata": {},
   "outputs": [],
   "source": [
    "train2 = train.head(10)"
   ]
  },
  {
   "cell_type": "markdown",
   "id": "324448b1",
   "metadata": {},
   "source": [
    "### create test html"
   ]
  },
  {
   "cell_type": "code",
   "execution_count": 7,
   "id": "0a5c22e1",
   "metadata": {},
   "outputs": [],
   "source": [
    "old_html = train.iloc[N][\"html\"]\n",
    "old_html = old_html.replace(\"\\n\", \"\")\n",
    "old_html = old_html.replace(\"\\r\", \"\")\n",
    "old_html = old_html.replace(\"\\t\", \"\")\n",
    "with open(\"../app/old/test.html\", \"w+\") as f:\n",
    "    f.write(old_html)"
   ]
  },
  {
   "cell_type": "code",
   "execution_count": 8,
   "id": "85e9385a",
   "metadata": {},
   "outputs": [
    {
     "name": "stdout",
     "output_type": "stream",
     "text": [
      "121802.391\n"
     ]
    }
   ],
   "source": [
    "html_length = train.apply(lambda row: len(row[\"html\"]), axis=1)\n",
    "print(np.mean(html_length))"
   ]
  },
  {
   "cell_type": "code",
   "execution_count": 9,
   "id": "58ee6ef5",
   "metadata": {},
   "outputs": [
    {
     "data": {
      "text/plain": [
       "'<!DOCTYPE html><html dir=\"ltr\" lang=\"de-DE\"><head><meta charset=\"utf-8\"><!-- TYPO3 Website made with'"
      ]
     },
     "execution_count": 9,
     "metadata": {},
     "output_type": "execute_result"
    }
   ],
   "source": [
    "old_html[:100]"
   ]
  },
  {
   "cell_type": "markdown",
   "id": "f6799a87",
   "metadata": {},
   "source": [
    "## Test strange websites"
   ]
  },
  {
   "cell_type": "code",
   "execution_count": null,
   "id": "9afe027c",
   "metadata": {},
   "outputs": [],
   "source": [
    "import requests\n",
    "\n",
    "l = ['http://www.ciphron.de', \n",
    "     'http://www.debas.de', \n",
    "     'http://www.m2g-consult.de',\n",
    "     'http://www.roundsolutions.com']\n",
    "\n",
    "d = {}\n",
    "d2 = {}\n",
    "\n",
    "for link in l:\n",
    "    d[link] = requests.get(link).text\n",
    "    d2[link] = requests.get(link).content\n",
    "    \n",
    "url = 'http://www.roundsolutions.com'\n",
    "s = d[url]\n",
    "clean = clean_boilerplate(s, url)"
   ]
  },
  {
   "cell_type": "code",
   "execution_count": null,
   "id": "07cf04ea",
   "metadata": {},
   "outputs": [],
   "source": []
  },
  {
   "cell_type": "code",
   "execution_count": null,
   "id": "0c505c26",
   "metadata": {},
   "outputs": [],
   "source": []
  },
  {
   "cell_type": "code",
   "execution_count": 42,
   "id": "bac0ec1c",
   "metadata": {
    "collapsed": true
   },
   "outputs": [
    {
     "ename": "XMLSyntaxError",
     "evalue": "Start tag expected, '<' not found, line 1, column 1 (<string>, line 1)",
     "output_type": "error",
     "traceback": [
      "Traceback \u001b[0;36m(most recent call last)\u001b[0m:\n",
      "  File \u001b[1;32m\"/home/jpaulus/miniconda3/envs/industry/lib/python3.9/site-packages/IPython/core/interactiveshell.py\"\u001b[0m, line \u001b[1;32m3437\u001b[0m, in \u001b[1;35mrun_code\u001b[0m\n    exec(code_obj, self.user_global_ns, self.user_ns)\n",
      "  File \u001b[1;32m\"<ipython-input-42-2c6a01013c53>\"\u001b[0m, line \u001b[1;32m3\u001b[0m, in \u001b[1;35m<module>\u001b[0m\n    tree = etree.fromstring(s)\n",
      "  File \u001b[1;32m\"src/lxml/etree.pyx\"\u001b[0m, line \u001b[1;32m3237\u001b[0m, in \u001b[1;35mlxml.etree.fromstring\u001b[0m\n",
      "  File \u001b[1;32m\"src/lxml/parser.pxi\"\u001b[0m, line \u001b[1;32m1896\u001b[0m, in \u001b[1;35mlxml.etree._parseMemoryDocument\u001b[0m\n",
      "  File \u001b[1;32m\"src/lxml/parser.pxi\"\u001b[0m, line \u001b[1;32m1777\u001b[0m, in \u001b[1;35mlxml.etree._parseDoc\u001b[0m\n",
      "  File \u001b[1;32m\"src/lxml/parser.pxi\"\u001b[0m, line \u001b[1;32m1082\u001b[0m, in \u001b[1;35mlxml.etree._BaseParser._parseUnicodeDoc\u001b[0m\n",
      "  File \u001b[1;32m\"src/lxml/parser.pxi\"\u001b[0m, line \u001b[1;32m615\u001b[0m, in \u001b[1;35mlxml.etree._ParserContext._handleParseResultDoc\u001b[0m\n",
      "  File \u001b[1;32m\"src/lxml/parser.pxi\"\u001b[0m, line \u001b[1;32m725\u001b[0m, in \u001b[1;35mlxml.etree._handleParseResult\u001b[0m\n",
      "\u001b[0;36m  File \u001b[0;32m\"src/lxml/parser.pxi\"\u001b[0;36m, line \u001b[0;32m654\u001b[0;36m, in \u001b[0;35mlxml.etree._raiseParseError\u001b[0;36m\u001b[0m\n",
      "\u001b[0;36m  File \u001b[0;32m\"<string>\"\u001b[0;36m, line \u001b[0;32m1\u001b[0m\n\u001b[0;31mXMLSyntaxError\u001b[0m\u001b[0;31m:\u001b[0m Start tag expected, '<' not found, line 1, column 1\n"
     ]
    }
   ],
   "source": [
    "s = train3.iloc[0].html\n",
    "parser = etree.XMLParser(encoding=\"utf-8\", recover=True)\n",
    "tree = etree.fromstring(s)"
   ]
  },
  {
   "cell_type": "code",
   "execution_count": 59,
   "id": "9dd9109f",
   "metadata": {},
   "outputs": [],
   "source": [
    "train4 = train3.copy()\n",
    "train4[\"html\"] = train4.apply(lambda row: clean_boilerplate(row.html, row.url), axis=1)"
   ]
  },
  {
   "cell_type": "code",
   "execution_count": 16,
   "id": "dc708dd7",
   "metadata": {},
   "outputs": [
    {
     "name": "stdout",
     "output_type": "stream",
     "text": [
      "CPU times: user 2min 46s, sys: 37.3 s, total: 3min 24s\n",
      "Wall time: 4min 43s\n"
     ]
    }
   ],
   "source": [
    "%%time\n",
    "import random\n",
    "p = 0.2  # 1% of the lines\n",
    "train2 = pd.read_csv(\n",
    "         TRAIN_PATH_CSV,\n",
    "         header=0, \n",
    "         skiprows=lambda i: i>0 and random.random() > p\n",
    ")"
   ]
  },
  {
   "cell_type": "code",
   "execution_count": null,
   "id": "94f3f592",
   "metadata": {},
   "outputs": [],
   "source": []
  },
  {
   "cell_type": "code",
   "execution_count": 50,
   "id": "a97c9884",
   "metadata": {},
   "outputs": [],
   "source": []
  },
  {
   "cell_type": "code",
   "execution_count": 4,
   "id": "8d6b761f",
   "metadata": {},
   "outputs": [],
   "source": []
  },
  {
   "cell_type": "code",
   "execution_count": 60,
   "id": "cd1782ae",
   "metadata": {},
   "outputs": [],
   "source": [
    "train2[\"html\"] = train2.apply(lambda row: clean_boilerplate(row.html, row.url), axis=1)"
   ]
  },
  {
   "cell_type": "code",
   "execution_count": null,
   "id": "3f2933b5",
   "metadata": {},
   "outputs": [],
   "source": []
  },
  {
   "cell_type": "code",
   "execution_count": null,
   "id": "e371db6c",
   "metadata": {},
   "outputs": [],
   "source": []
  },
  {
   "cell_type": "code",
   "execution_count": null,
   "id": "acf041fd",
   "metadata": {},
   "outputs": [],
   "source": []
  },
  {
   "cell_type": "code",
   "execution_count": 105,
   "id": "3288f176",
   "metadata": {},
   "outputs": [
    {
     "name": "stdout",
     "output_type": "stream",
     "text": [
      "CPU times: user 43.4 s, sys: 2.71 s, total: 46.1 s\n",
      "Wall time: 46 s\n"
     ]
    }
   ],
   "source": [
    "%%time\n",
    "import random\n",
    "p = 0.05  # 1% of the lines\n",
    "train3 = pd.read_csv(\n",
    "         TRAIN_PATH_CSV,\n",
    "         header=0, \n",
    "         skiprows=lambda i: i>0 and random.random() > p\n",
    ")"
   ]
  },
  {
   "cell_type": "code",
   "execution_count": 12,
   "id": "19712026",
   "metadata": {
    "collapsed": true
   },
   "outputs": [
    {
     "name": "stdout",
     "output_type": "stream",
     "text": [
      "http://www.intera.de\n",
      "Website 'http://www.intera.de' couldn't be cleaned (Type: xml).\n",
      "http://www.maschinen-stockert.de\n",
      "Website 'http://www.maschinen-stockert.de' couldn't be cleaned (Type: xml).\n",
      "http://www.arnold-verladesysteme.com\n",
      "Website 'http://www.arnold-verladesysteme.com' couldn't be cleaned (Type: xml).\n",
      "http://www.crediteuropebank.com\n",
      "Website 'http://www.crediteuropebank.com' couldn't be cleaned (Type: xml).\n",
      "http://www.fasek.com\n",
      "Website 'http://www.fasek.com' couldn't be cleaned (Type: xml).\n",
      "http://www.bvb-berlin.de\n",
      "Website 'http://www.bvb-berlin.de' couldn't be cleaned (Type: xml).\n",
      "http://www.bauder.de\n",
      "Website 'http://www.bauder.de' couldn't be cleaned (Type: xml).\n",
      "http://www.storzmedical.com\n",
      "Website 'http://www.storzmedical.com' couldn't be cleaned (Type: xml).\n",
      "http://www.debas.de\n",
      "Website 'http://www.debas.de' couldn't be cleaned (Type: xml).\n",
      "http://www.buedenbender-hausbau.de\n",
      "Website 'http://www.buedenbender-hausbau.de' couldn't be cleaned (Type: xml).\n",
      "http://www.k-m-werbemittel.de\n",
      "Website 'http://www.k-m-werbemittel.de' couldn't be cleaned (Type: xml).\n"
     ]
    }
   ],
   "source": [
    "train3[\"html\"] = train3.apply(lambda row: clean_html_boilerplate(row), axis=1)"
   ]
  },
  {
   "cell_type": "code",
   "execution_count": null,
   "id": "b4fca053",
   "metadata": {},
   "outputs": [],
   "source": []
  },
  {
   "cell_type": "code",
   "execution_count": null,
   "id": "8c90fd53",
   "metadata": {},
   "outputs": [],
   "source": []
  },
  {
   "cell_type": "code",
   "execution_count": null,
   "id": "d68a6cee",
   "metadata": {},
   "outputs": [],
   "source": []
  },
  {
   "cell_type": "markdown",
   "id": "505b9e36",
   "metadata": {},
   "source": [
    "## Only text between specific HTML Tags"
   ]
  },
  {
   "cell_type": "code",
   "execution_count": 90,
   "id": "2c7e3ac4",
   "metadata": {},
   "outputs": [],
   "source": []
  },
  {
   "cell_type": "code",
   "execution_count": 188,
   "id": "af23a669",
   "metadata": {},
   "outputs": [],
   "source": [
    "# TODO: aktuell unused\n",
    "\n",
    "def stringify_children(node):\n",
    "    \"\"\"Given a LXML tag, return contents as a string\n",
    "\n",
    "       >>> html = \"<p><strong>Sample sentence</strong> with tags.</p>\"\n",
    "       >>> node = lxml.html.fragment_fromstring(html)\n",
    "       >>> extract_html_content(node)\n",
    "       \"<strong>Sample sentence</strong> with tags.\"\n",
    "    \"\"\"\n",
    "    if node is None or (len(node) == 0 and not getattr(node, 'text', None)):\n",
    "        return \"\"\n",
    "    node.attrib.clear()\n",
    "    opening_tag = len(node.tag) + 2\n",
    "    closing_tag = -(len(node.tag) + 3)\n",
    "    return lxml.html.tostring(node)[opening_tag:closing_tag]"
   ]
  },
  {
   "cell_type": "code",
   "execution_count": null,
   "id": "9565a1a1",
   "metadata": {},
   "outputs": [],
   "source": []
  },
  {
   "cell_type": "code",
   "execution_count": null,
   "id": "727df982",
   "metadata": {},
   "outputs": [],
   "source": []
  },
  {
   "cell_type": "code",
   "execution_count": null,
   "id": "64bd71ab",
   "metadata": {},
   "outputs": [],
   "source": [
    "tag_list = ['a', 'b', 'em', 'h1', 'h2', 'h3', 'i', 'li', 'p', 'strong', 'title']"
   ]
  },
  {
   "cell_type": "code",
   "execution_count": 199,
   "id": "69b12b20",
   "metadata": {},
   "outputs": [],
   "source": []
  },
  {
   "cell_type": "code",
   "execution_count": 202,
   "id": "0c58ad5d",
   "metadata": {
    "collapsed": true
   },
   "outputs": [
    {
     "name": "stdout",
     "output_type": "stream",
     "text": [
      "Energy Net Apple Reseller Springe zum Inhalt Home Unternehmen Über Energy Net Partner Referenzen Aktuelles Stellenangebote Soziales Engagement Lösungen Apple Enterprise Services Collaboration Publishing Print & Copy Training & Events Services SHOP Kontakt Online einkaufen oder bestellen. Besuchen Sie unseren Shop! Ihr Partner für Remote Working.Work Anything. Anywhere. Lösungen für Dein BusinessFinden Sie Produkte in unserem Online-Shop 360° Video-KonferenzlösungenKeep your business rolling!                     Online einkaufen oder bestellen. Besuchen Sie unseren Shop!                                     Ihr Partner für Remote Working.                                     Lösungen für Dein Business                                     360° Video-Konferenzlösungen                 ENERGY NET - IHR PARTNER FÜR DIGITALE LÖSUNGEN Energy Net ist ein Full-Service Anbieter für die Bereiche Informations- und Bürokommunikation und gehört seit 2018 zur Econocom Group, mit über 10.700 Mitarbeitern, in 18 Ländern, und einem Umsatz von 3 Milliarden EURO im Jahr 2019. Zum Econocom Kundenstamm zählen vorwiegend internationale Konzerne, Mittelstandsunternehmen und öffentliche Auftraggeber - im europäischen Raum. Save-the-date! Apple lädt zu Event am 20. April 2021, 19 Uhr: Spring loaded. Was Siri schon verplapperte, ist nun offiziell: Apple lädt zu einem virtuellen Event nächste Woche. Jetzt vormerken und dabei sein, wenn die neuen…                         Weiterlesen                     „Kostenloses Webinar - 10 Tipps & Tricks für Apple Geräte im Unternehmen.\" Jetzt anmelden! Am Mittwoch, 14. April 2021, 10.00 - 11.30 Uhr, veranstaltet Energy Net das für alle B2B-Kunden und KMU's erfolgreiche Webinar rund um das Thema:…                         Weiterlesen                     Kostenloses Online Webinar, Dienstag, 23. März 2021, 13:30-15.00 Uhr, Thema \"Homeoffice – So können Sie davon profitieren!\". In Deutschland arbeiten bundesweit rund 14,8 Mio. Menschen in Büros – Tendenz steigend. Für viele von ihnen hat die Coronakrise den Arbeitsalltag…                         Weiterlesen                     Final Call zur Online Konferenz am Do., 18.3.2021, 15-17 Uhr, \"Expertenwissen kompakt - Apple im Unternehmen\" In 20-minütigen Präsentationen und anschließenden Q&A-Runden, an denen Sie via Internet teilnehmen können, berichten unsere Expertinnen und Experten…                         Weiterlesen                     Förderprogramm \"Digital jetzt\": Wirtschaft und Energie (BMWi) unterstützt bis 2023 kleine und mittlere Unternehmen (KMU)  das Bundesministerium für Wirtschaft und Energie (BMWi) unterstützt bis 2023 kleine und mittlere Unternehmen (KMU) mit dem Programm \"Digital Jetzt\".…                         Weiterlesen                     Erfolgreich und souverän präsentieren in Videokonferenzen, Mi., 10.3.2021, 8.30-9.30 Uhr Ziel des Vortrags ist es, alle Teilnehmer für die Möglichkeiten von Videokonferenzen zu begeistern, die Teilnehmenden mit der Technik vertraut zu…                         Weiterlesen                     Employees Choice - Wenn Mitarbeiter wählen könnten, würden Sie sich für Apple Geräte entscheiden. Wenn Menschen mit den Tools, die sie lieben, so arbeiten können, wie sie wollen, dann inspiriert sie das zu der besten Arbeit ihres Lebens. Apple…                         Weiterlesen                     Apple im Unternehmen Am Mittwoch, den 3. März 2021, um 08:30 Uhr - 09.30 Uhr, können Sie kostenlos am Webinar \"10 Tipps & Tricks für Apple Geräte im Unternehmen\"…                         Weiterlesen                     Am 8.2.2021 hat Canon die neue Serie offiziell vorgestellt: imageRUNNER ADVANCE DX C5800 Mit der Einführung der imageRUNNER ADVANCE DX C5800 Baureihe geht Canon den Weg der Unterstützung hybrider Arbeitsweisen konsequent weiter.                           Weiterlesen                     Apple im Unternehmen Am Mittwoch, den 10. Februar 2021, um 08:30 Uhr - 09.30 Uhr, können Sie kostenlos am Webinar \"10 Tipps & Tricks für Apple Geräte im Unternehmen\"…                         Weiterlesen                     XING After Work online | Frankfurt NETworking mit Energy Net GmbH Am 03.02.2021 um 19:00 Uhr steht das Thema Future Workplace Trends 2021/2022 im Fokus bei XING-Frankfurt. Teilnahmegebühr: keine                         Weiterlesen                     IT-Praxiswissen: Wie lassen sich Dokumente sicher ausdrucken? Am Mittwoch, 27. Januar 2021 um 12:30 Uhr legen wir wieder mit unserem Kooperationspartner BVMW den Fokus auf die Digitalisierung im Mittelstand.…                         Weiterlesen                     Vollauto­matische Implementie­rung macht es Ihrer IT ganz leicht. Und spart Zeit und Kosten. Apple Business Manager macht die Implementierung und Verwaltung von Apple Geräten einfach. Die IT kann Apps verteilen und verwaltete Apple IDs…                         Weiterlesen                     Apple im Unternehmen - networker, solutions GmbH (Success Story) Die Cyber-Security und SAP Vertragsmanagement Firma networker, solutions setzt seit jeher Apple Geräte ein, da hier eine deutlich erhöhte…                         Weiterlesen                     Apple im Unternehmen - AD&VISION Kreativagentur (Success Story)  Als Kreativagentur baut AD&VISION seit bereits 25 Jahren auf die Erfahrung und den Service von Energy Net als IT-Partner. Die Ausstattung mit Apple…                         Weiterlesen                     Autorisierter Service ProviderAARAdobeboxCanonciscoCode42DocuwareJamfLenovaLogitechMicrosoftSophosvjoonvm Ware Intelligente Arbeitsplatzkonzepte Unsere Lösungsbereiche.                                                                     Apple Enterprise Services                                                                                                                                 Collaboration                                                                                                                                 Publishing Workflows                                                                                                                                 Print & Copy Solutions                                                             Unser umfangreiches Serviceangebot für Sie. Apple sourcing Transition to Apple Collaboration Network & Security Fullfilment & Warehousing Device Management Helpdesk Financing solutions Maintenance & Repair Kaufen, das war früher. Jetzt nutzen, statt kaufen! Mit BOS stellen wir Ihnen Ihr Wunschpaket zu einer günstigen monatlichen Rate zur Verfügung. Überzeugen Sie sich auch von den umfassenden Services. Econocom entwickelte BOS (Business Optimisation Services), um Unternehmen eine einfache, flexible Lösung anzubieten: Von der Beschaffung der Geräte bis hin zu vielfältigen Dienstleistungen profitieren Sie von diesem Rundum-Sorglos-Angebot. Weitere Informationen erhalten Sie unter: https://www.chooseyourbos.de Das Richtige für den Mittelstand. Energy Net GmbH Gutleutstraße 169-171 60327 Frankfurt am Main 069 97 69 709 - 0 069 97 69 709 - 48 info@energy-net.de Öffnungszeiten Montag – Freitag 9.00 bis 18.00 Uhr Für den Newsletter eintragen? Hier geht es zur Newsletter-Anmeldung xing linkedin Youtube © 2021 - Energy Net GmbH Energy Net GmbH ist ein Unternehmen der Econocom Gruppe AGB Kontakt Datenschutz Impressum Ihr Browser ist nicht aktuell! Um die korrekte Ansicht unserer Website zu erhalten, empfehlen wir, dass Sie Ihren Browser auf eine neuere Version aktualisieren oder einen anderen Browser verwenden. Kontakt Termin Hallo.Wie können wir Ihnen heute helfen?        Nachricht*        Name*        E-Mail*        Datenschutz*Ich stimme zu, dass meine Angaben aus dem Kontaktformular zur Beantwortung meiner Anfrage erhoben und verarbeitet werden. Die Daten werden nach abgeschlossener Bearbeitung Ihrer Anfrage gelöscht. Hinweis: Sie können Ihre Einwilligung jederzeit für die Zukunft per E-Mail an info@energy-net.de widerrufen. Detaillierte Informationen zum Umgang mit Nutzerdaten finden Sie in unserer  Datenschutzerklärung .Diese Feld nicht ausfüllen!Hallo.Wie können wir Ihnen heute helfen?        Nachricht*Vereinbaren Sie einen Wunschtermin in unserem Store        Wunschtermin*        Anmerkung zum Termin            Name*        E-Mail*        Datenschutz    Ich stimme zu, dass meine Angaben aus dem Kontaktformular zur Beantwortung meiner Anfrage erhoben und verarbeitet werden. Die Daten werden nach abgeschlossener Bearbeitung Ihrer Anfrage gelöscht. Hinweis: Sie können Ihre Einwilligung jederzeit für die Zukunft per E-Mail an info@energy-net.de widerrufen. Detaillierte Informationen zum Umgang mit Nutzerdaten finden Sie in unserer  Datenschutzerklärung .Diese Feld nicht ausfüllen! Rufen Sie uns an unter +49 69 97 69 709 0\n"
     ]
    }
   ],
   "source": [
    "cleared_html_string = remove_tags(old_html, tag_list, tagless_output_string=True)\n",
    "print(cleared_html_string)"
   ]
  },
  {
   "cell_type": "code",
   "execution_count": 186,
   "id": "e6473590",
   "metadata": {},
   "outputs": [
    {
     "data": {
      "text/plain": [
       "'<html><title>Energy Net Apple Reseller</title><a>Springe zum Inhalt</a><a></a><a><i></i></a><li><a>Home</a></li><li><a>Unternehmen</a><li><a>Über Energy Net</a></li><li><a>Partner</a></li><li><a>Referenzen</a></li><li><a>Aktuelles</a></li><li><a>Stellenangebote</a></li><li><a>Soziales Engagement</a></li></li><li><a>Lösungen</a><li><a>Apple Enterprise Services</a></li><li><a>Collaboration</a></li><li><a>Publishing</a></li><li><a>Print &amp; Copy</a></li><li><a>Training &amp; Events</a></li></li><li><a>Services</a></li><li><a>SHOP</a></li><li><a>Kontakt</a></li><i></i><a><a>Online einkaufen oder bestellen. Besuchen Sie unseren Shop!</a></a><a></a>Ihr Partner für Remote Working.Work Anything. Anywhere.<a><a>Lösungen für Dein BusinessFinden Sie Produkte in unserem Online-Shop</a></a><a><a>360° Video-KonferenzlösungenKeep your business rolling!</a></a><li>                    Online einkaufen oder bestellen. Besuchen Sie unseren Shop!                </li><li><li>                    Ihr Partn'"
      ]
     },
     "execution_count": 186,
     "metadata": {},
     "output_type": "execute_result"
    }
   ],
   "source": [
    "cleared_html_string[:1000]"
   ]
  },
  {
   "cell_type": "code",
   "execution_count": 179,
   "id": "7a07b47c",
   "metadata": {
    "collapsed": true
   },
   "outputs": [
    {
     "name": "stdout",
     "output_type": "stream",
     "text": [
      "title | Energy Net Apple Reseller\n",
      "a | Springe zum Inhalt\n",
      "a | None\n",
      "\n",
      "i | None\n",
      "\n",
      "a | Home\n",
      "a | Unternehmen\n",
      "a | Über Energy Net\n",
      "a | Partner\n",
      "a | Referenzen\n",
      "a | Aktuelles\n",
      "a | Stellenangebote\n",
      "a | Soziales Engagement\n",
      "a | Lösungen\n",
      "a | Apple Enterprise Services\n",
      "a | Collaboration\n",
      "a | Publishing\n",
      "a | Print & Copy\n",
      "a | Training & Events\n",
      "a | Services\n",
      "a | SHOP\n",
      "a | Kontakt\n",
      "i | None\n",
      "\n",
      "a | Online einkaufen oder bestellen. Besuchen Sie unseren Shop!\n",
      "a | None\n",
      "\n",
      "a | Lösungen für Dein BusinessFinden Sie Produkte in unserem Online-Shop\n",
      "a | 360° Video-KonferenzlösungenKeep your business rolling!\n",
      "li |                     Online einkaufen oder bestellen. Besuchen Sie unseren Shop!                \n",
      "li | None\n",
      "\n",
      "li |                     Ihr Partner für Remote Working.                \n",
      "li |                     Lösungen für Dein Business                \n",
      "li |                     360° Video-Konferenzlösungen                \n",
      "a | None\n",
      "\n",
      "a | None\n",
      "\n",
      "h1 | ENERGY NET - IHR PARTNER FÜR DIGITALE LÖSUNGEN\n",
      "p | Energy Net ist ein Full-Service Anbieter für die Bereiche Informations- und Bürokommunikation und gehört seit 2018 zur Econocom Group, mit über 10.700 Mitarbeitern, in 18 Ländern, und einem Umsatz von 3 Milliarden EURO im Jahr 2019. Zum Econocom Kundenstamm zählen vorwiegend internationale Konzerne, Mittelstandsunternehmen und öffentliche Auftraggeber - im europäischen Raum.\n",
      "a | Save-the-date! Apple lädt zu Event am 20. April 2021, 19 Uhr: Spring loaded.\n",
      "p | Was Siri schon verplapperte, ist nun offiziell: Apple lädt zu einem virtuellen Event nächste Woche. Jetzt vormerken und dabei sein, wenn die neuen…\n",
      "a |                         Weiterlesen                    \n",
      "a | „Kostenloses Webinar - 10 Tipps & Tricks für Apple Geräte im Unternehmen.\" Jetzt anmelden!\n",
      "p | Am Mittwoch, 14. April 2021, 10.00 - 11.30 Uhr, veranstaltet Energy Net das für alle B2B-Kunden und KMU's erfolgreiche Webinar rund um das Thema:…\n",
      "a |                         Weiterlesen                    \n",
      "a | Kostenloses Online Webinar, Dienstag, 23. März 2021, 13:30-15.00 Uhr, Thema \"Homeoffice – So können Sie davon profitieren!\".\n",
      "p | In Deutschland arbeiten bundesweit rund 14,8 Mio. Menschen in Büros – Tendenz steigend. Für viele von ihnen hat die Coronakrise den Arbeitsalltag…\n",
      "a |                         Weiterlesen                    \n",
      "a | Final Call zur Online Konferenz am Do., 18.3.2021, 15-17 Uhr, \"Expertenwissen kompakt - Apple im Unternehmen\"\n",
      "p | In 20-minütigen Präsentationen und anschließenden Q&A-Runden, an denen Sie via Internet teilnehmen können, berichten unsere Expertinnen und Experten…\n",
      "a |                         Weiterlesen                    \n",
      "a | Förderprogramm \"Digital jetzt\": Wirtschaft und Energie (BMWi) unterstützt bis 2023 kleine und mittlere Unternehmen (KMU) \n",
      "p | das Bundesministerium für Wirtschaft und Energie (BMWi) unterstützt bis 2023 kleine und mittlere Unternehmen (KMU) mit dem Programm \"Digital Jetzt\".…\n",
      "a |                         Weiterlesen                    \n",
      "a | Erfolgreich und souverän präsentieren in Videokonferenzen, Mi., 10.3.2021, 8.30-9.30 Uhr\n",
      "p | Ziel des Vortrags ist es, alle Teilnehmer für die Möglichkeiten von Videokonferenzen zu begeistern, die Teilnehmenden mit der Technik vertraut zu…\n",
      "a |                         Weiterlesen                    \n",
      "a | Employees Choice - Wenn Mitarbeiter wählen könnten, würden Sie sich für Apple Geräte entscheiden.\n",
      "p | Wenn Menschen mit den Tools, die sie lieben, so arbeiten können, wie sie wollen, dann inspiriert sie das zu der besten Arbeit ihres Lebens. Apple…\n",
      "a |                         Weiterlesen                    \n",
      "a | Apple im Unternehmen\n",
      "p | Am Mittwoch, den 3. März 2021, um 08:30 Uhr - 09.30 Uhr, können Sie kostenlos am Webinar \"10 Tipps & Tricks für Apple Geräte im Unternehmen\"…\n",
      "a |                         Weiterlesen                    \n",
      "a | Am 8.2.2021 hat Canon die neue Serie offiziell vorgestellt: imageRUNNER ADVANCE DX C5800\n",
      "p | Mit der Einführung der imageRUNNER ADVANCE DX C5800 Baureihe geht Canon den Weg der Unterstützung hybrider Arbeitsweisen konsequent weiter.\n",
      "p |  \n",
      "a |                         Weiterlesen                    \n",
      "a | Apple im Unternehmen\n",
      "p | Am Mittwoch, den 10. Februar 2021, um 08:30 Uhr - 09.30 Uhr, können Sie kostenlos am Webinar \"10 Tipps & Tricks für Apple Geräte im Unternehmen\"…\n",
      "a |                         Weiterlesen                    \n",
      "a | XING After Work online | Frankfurt NETworking mit Energy Net GmbH\n",
      "p | Am 03.02.2021 um 19:00 Uhr steht das Thema Future Workplace Trends 2021/2022 im Fokus bei XING-Frankfurt.\n",
      "p | Teilnahmegebühr: keine\n",
      "a |                         Weiterlesen                    \n",
      "a | IT-Praxiswissen: Wie lassen sich Dokumente sicher ausdrucken?\n",
      "p | Am Mittwoch, 27. Januar 2021 um 12:30 Uhr legen wir wieder mit unserem Kooperationspartner BVMW den Fokus auf die Digitalisierung im Mittelstand.…\n",
      "a |                         Weiterlesen                    \n",
      "a | Vollauto­matische Implementie­rung macht es Ihrer IT ganz leicht. Und spart Zeit und Kosten.\n",
      "p | Apple Business Manager macht die Implementierung und Verwaltung von Apple Geräten einfach. Die IT kann Apps verteilen und verwaltete Apple IDs…\n",
      "a |                         Weiterlesen                    \n",
      "a | Apple im Unternehmen - networker, solutions GmbH (Success Story)\n",
      "p | Die Cyber-Security und SAP Vertragsmanagement Firma networker, solutions setzt seit jeher Apple Geräte ein, da hier eine deutlich erhöhte…\n",
      "a |                         Weiterlesen                    \n",
      "a | Apple im Unternehmen - AD&VISION Kreativagentur (Success Story) \n",
      "p | Als Kreativagentur baut AD&VISION seit bereits 25 Jahren auf die Erfahrung und den Service von Energy Net als IT-Partner. Die Ausstattung mit Apple…\n",
      "a |                         Weiterlesen                    \n",
      "a | Intelligente Arbeitsplatzkonzepte\n",
      "h1 | Unsere Lösungsbereiche.\n",
      "i | None\n",
      "\n",
      "i | None\n",
      "\n",
      "i | None\n",
      "\n",
      "i | None\n",
      "\n",
      "h1 | Unser umfangreiches Serviceangebot für Sie.\n",
      "p | Apple sourcing\n",
      "p | Transition to Apple\n",
      "p | Collaboration\n",
      "p | Network & Security\n",
      "p | Fullfilment & Warehousing\n",
      "p | Device Management\n",
      "p | Helpdesk\n",
      "p | Financing solutions\n",
      "p | Maintenance & Repair\n",
      "a | None\n",
      "\n",
      "h1 | Kaufen, das war früher.\n",
      "p | Jetzt nutzen, statt kaufen! Mit BOS stellen wir Ihnen Ihr Wunschpaket zu einer günstigen monatlichen Rate zur Verfügung. Überzeugen Sie sich auch von den umfassenden Services. Econocom entwickelte BOS (Business Optimisation Services), um Unternehmen eine einfache, flexible Lösung anzubieten: Von der Beschaffung der Geräte bis hin zu vielfältigen Dienstleistungen profitieren Sie von diesem Rundum-Sorglos-Angebot. Weitere Informationen erhalten Sie unter:\n",
      "a | https://www.chooseyourbos.de\n",
      "a | Das Richtige für den Mittelstand.\n",
      "p | Energy Net GmbH\n",
      "p | Gutleutstraße 169-171\n",
      "p | 60327 Frankfurt am Main\n",
      "i | None\n",
      "\n",
      "a | 069 97 69 709 - 0\n",
      "i | None\n",
      "\n",
      "i | None\n",
      "\n",
      "a | info@energy-net.de\n",
      "p | Öffnungszeiten\n",
      "p | Montag – Freitag\n",
      "p | 9.00 bis 18.00 Uhr\n",
      "p | Für den Newsletter eintragen?\n",
      "a | Hier geht es zur Newsletter-Anmeldung\n",
      "a | xing\n",
      "a | linkedin\n",
      "a | Youtube\n",
      "a | None\n",
      "\n",
      "a | Energy Net GmbH ist ein Unternehmen der Econocom Gruppe\n",
      "a | AGB\n",
      "a | Kontakt\n",
      "a | Datenschutz\n",
      "a | Impressum\n",
      "a | None\n",
      "\n",
      "a | None\n",
      "\n",
      "p | Ihr Browser ist nicht aktuell!\n",
      "p | Um die korrekte Ansicht unserer Website zu erhalten, empfehlen wir, dass Sie Ihren Browser auf eine neuere Version aktualisieren oder einen anderen Browser verwenden.\n",
      "i | None\n",
      "\n",
      "a | Kontakt\n",
      "a | Termin\n",
      "a | Datenschutzerklärung\n",
      "a | Datenschutzerklärung\n",
      "i | None\n",
      "\n",
      "p | Rufen Sie uns an unter\n",
      "a | +49 69 97 69 709 0\n"
     ]
    }
   ],
   "source": [
    "for tag in cleared_html.iter():\n",
    "    if not len(tag):\n",
    "        #print(tag.tag, \"|\", tag.text)\n",
    "        if type(tag.text) != str:\n",
    "            print(stringify_children(tag.text))"
   ]
  },
  {
   "cell_type": "code",
   "execution_count": null,
   "id": "44798dc3",
   "metadata": {},
   "outputs": [],
   "source": []
  },
  {
   "cell_type": "code",
   "execution_count": 124,
   "id": "12a51ddb",
   "metadata": {},
   "outputs": [],
   "source": [
    "import numpy as np\n",
    "\n",
    "html_file = old_html[:100]\n",
    "token_list = ['a', 'b', 'em', 'h1', 'h2', 'h3', 'i', 'li', 'p', 'strong', 'title']\n",
    "\n",
    "tree = html.fromstring(html_file)\n",
    "unique_tags = list(np.unique([element.tag for element in tree.iter()]))\n",
    "unique_tags = [element for element in unique_tags if element not in token_list]"
   ]
  },
  {
   "cell_type": "code",
   "execution_count": 125,
   "id": "a2486a3b",
   "metadata": {},
   "outputs": [
    {
     "data": {
      "text/plain": [
       "['body', 'div', 'head', 'html', 'span']"
      ]
     },
     "execution_count": 125,
     "metadata": {},
     "output_type": "execute_result"
    }
   ],
   "source": [
    "unique_tags"
   ]
  },
  {
   "cell_type": "code",
   "execution_count": 126,
   "id": "7714799e",
   "metadata": {},
   "outputs": [
    {
     "data": {
      "text/plain": [
       "b'<html><title>Energy Net Apple Reseller</title><a>Springe zum Inhalt</a></html>'"
      ]
     },
     "execution_count": 126,
     "metadata": {},
     "output_type": "execute_result"
    }
   ],
   "source": [
    "etree.strip_tags(tree, unique_tags)\n",
    "etree.tostring(tree)"
   ]
  },
  {
   "cell_type": "code",
   "execution_count": 127,
   "id": "5c308167",
   "metadata": {},
   "outputs": [],
   "source": [
    "result_html = stringify_children(tree)"
   ]
  },
  {
   "cell_type": "code",
   "execution_count": 128,
   "id": "4ae4fc05",
   "metadata": {},
   "outputs": [
    {
     "data": {
      "text/plain": [
       "'<title>Energy Net Apple Reseller</title><a>Springe zum Inhalt</a>'"
      ]
     },
     "execution_count": 128,
     "metadata": {},
     "output_type": "execute_result"
    }
   ],
   "source": [
    "result_html.decode(\"utf-8\")"
   ]
  },
  {
   "cell_type": "code",
   "execution_count": 89,
   "id": "6f20bda9",
   "metadata": {},
   "outputs": [
    {
     "data": {
      "text/plain": [
       "'<html><head><title>Energy Net Apple Reseller</title></head><body><div><a><span>Springe zum Inhalt</span></a><header><div><div><div><a></a></div><div><div><div><div><div><a><i></i></a></div></div></div><div><nav><ul><li><a><span>Home</span></a></li><li><a><span>Unternehmen</span></a><ul><li><a><span>Über Energy Net</span></a></li><li><a><span>Partner</span></a></li><li><a><span>Referenzen</span></a></li><li><a><span>Aktuelles</span></a></li><li><a><span>Stellenangebote</span></a></li><li><a><span>Soziales Engagement</span></a></li></ul></li><li><a><span>Lösungen</span></a><ul><li><a><span>Apple Enterprise Services</span></a></li><li><a><span>Collaboration</span></a></li><li><a><span>Publishing</span></a></li><li><a><span>Print &amp; Copy</span></a></li><li><a><span>Training &amp; Events</span></a></li></ul></li><li><a><span>Services</span></a></li><li><a><span>SHOP</span></a></li><li><a><span>Kontakt</span></a></li></ul></nav></div></div></div></div></div><div><span><i></i></span><div><'"
      ]
     },
     "execution_count": 89,
     "metadata": {},
     "output_type": "execute_result"
    }
   ],
   "source": [
    "old_html[:1000]"
   ]
  },
  {
   "cell_type": "code",
   "execution_count": 77,
   "id": "704025fe",
   "metadata": {},
   "outputs": [
    {
     "name": "stdout",
     "output_type": "stream",
     "text": [
      "title | Energy Net Apple Reseller\n",
      "span | Springe zum Inhalt\n",
      "a | None\n",
      "<class 'NoneType'>\n"
     ]
    },
    {
     "ename": "AttributeError",
     "evalue": "'NoneType' object has no attribute 'text'",
     "output_type": "error",
     "traceback": [
      "\u001b[0;31m---------------------------------------------------------------------------\u001b[0m",
      "\u001b[0;31mAttributeError\u001b[0m                            Traceback (most recent call last)",
      "\u001b[0;32m<ipython-input-77-07ad4df66f68>\u001b[0m in \u001b[0;36m<module>\u001b[0;34m\u001b[0m\n\u001b[1;32m      3\u001b[0m         \u001b[0mprint\u001b[0m\u001b[0;34m(\u001b[0m\u001b[0mtag\u001b[0m\u001b[0;34m.\u001b[0m\u001b[0mtag\u001b[0m\u001b[0;34m,\u001b[0m \u001b[0;34m\"|\"\u001b[0m\u001b[0;34m,\u001b[0m \u001b[0mtag\u001b[0m\u001b[0;34m.\u001b[0m\u001b[0mtext\u001b[0m\u001b[0;34m)\u001b[0m\u001b[0;34m\u001b[0m\u001b[0;34m\u001b[0m\u001b[0m\n\u001b[1;32m      4\u001b[0m         \u001b[0;32mif\u001b[0m \u001b[0mtype\u001b[0m\u001b[0;34m(\u001b[0m\u001b[0mtag\u001b[0m\u001b[0;34m.\u001b[0m\u001b[0mtext\u001b[0m\u001b[0;34m)\u001b[0m \u001b[0;34m!=\u001b[0m \u001b[0mstr\u001b[0m\u001b[0;34m:\u001b[0m\u001b[0;34m\u001b[0m\u001b[0;34m\u001b[0m\u001b[0m\n\u001b[0;32m----> 5\u001b[0;31m             \u001b[0mprint\u001b[0m\u001b[0;34m(\u001b[0m\u001b[0mstringify_children\u001b[0m\u001b[0;34m(\u001b[0m\u001b[0mtag\u001b[0m\u001b[0;34m.\u001b[0m\u001b[0mtext\u001b[0m\u001b[0;34m)\u001b[0m\u001b[0;34m)\u001b[0m\u001b[0;34m\u001b[0m\u001b[0;34m\u001b[0m\u001b[0m\n\u001b[0m",
      "\u001b[0;32m<ipython-input-68-5e7142ab71eb>\u001b[0m in \u001b[0;36mstringify_children\u001b[0;34m(node)\u001b[0m\n\u001b[1;32m      1\u001b[0m \u001b[0;32mdef\u001b[0m \u001b[0mstringify_children\u001b[0m\u001b[0;34m(\u001b[0m\u001b[0mnode\u001b[0m\u001b[0;34m)\u001b[0m\u001b[0;34m:\u001b[0m\u001b[0;34m\u001b[0m\u001b[0;34m\u001b[0m\u001b[0m\n\u001b[1;32m      2\u001b[0m     \u001b[0mprint\u001b[0m\u001b[0;34m(\u001b[0m\u001b[0mtype\u001b[0m\u001b[0;34m(\u001b[0m\u001b[0mnode\u001b[0m\u001b[0;34m)\u001b[0m\u001b[0;34m)\u001b[0m\u001b[0;34m\u001b[0m\u001b[0;34m\u001b[0m\u001b[0m\n\u001b[0;32m----> 3\u001b[0;31m     \u001b[0ms\u001b[0m \u001b[0;34m=\u001b[0m \u001b[0mnode\u001b[0m\u001b[0;34m.\u001b[0m\u001b[0mtext\u001b[0m\u001b[0;34m\u001b[0m\u001b[0;34m\u001b[0m\u001b[0m\n\u001b[0m\u001b[1;32m      4\u001b[0m     \u001b[0;32mif\u001b[0m \u001b[0ms\u001b[0m \u001b[0;32mis\u001b[0m \u001b[0;32mNone\u001b[0m\u001b[0;34m:\u001b[0m \u001b[0ms\u001b[0m \u001b[0;34m=\u001b[0m \u001b[0;34m''\u001b[0m\u001b[0;34m\u001b[0m\u001b[0;34m\u001b[0m\u001b[0m\n\u001b[1;32m      5\u001b[0m     \u001b[0;32mfor\u001b[0m \u001b[0mchild\u001b[0m \u001b[0;32min\u001b[0m \u001b[0mnode\u001b[0m\u001b[0;34m:\u001b[0m\u001b[0;34m\u001b[0m\u001b[0;34m\u001b[0m\u001b[0m\n",
      "\u001b[0;31mAttributeError\u001b[0m: 'NoneType' object has no attribute 'text'"
     ]
    }
   ],
   "source": [
    "for tag in tree.iter():\n",
    "    if not len(tag):\n",
    "        print(tag.tag, \"|\", tag.text)\n",
    "        if type(tag.text) != str:\n",
    "            print(stringify_children(tag.text))"
   ]
  },
  {
   "cell_type": "code",
   "execution_count": null,
   "id": "8b3a2fca",
   "metadata": {},
   "outputs": [],
   "source": []
  },
  {
   "cell_type": "markdown",
   "id": "0bb4b2ac",
   "metadata": {},
   "source": [
    "## Only keep specific HTML Tags"
   ]
  },
  {
   "cell_type": "code",
   "execution_count": 31,
   "id": "d5bf0d7d",
   "metadata": {},
   "outputs": [],
   "source": [
    "from lxml.html.clean import Cleaner\n",
    "from lxml import html, etree\n",
    "\n",
    "\n",
    "html_file = etree.fromstring(old_html, parser=etree.HTMLParser(remove_comments=True))\n",
    "\n",
    "tags = [element.tag for element in html_file.iter()]"
   ]
  },
  {
   "cell_type": "code",
   "execution_count": null,
   "id": "f346b564",
   "metadata": {},
   "outputs": [],
   "source": [
    "özel_tags = [\"title\", \"h1\", \"h2\", \"h3\", \"b\", \"strong\", \"em\", \"i\", \"p\", \"a\", \"li\"]"
   ]
  },
  {
   "cell_type": "code",
   "execution_count": null,
   "id": "54404a32",
   "metadata": {},
   "outputs": [],
   "source": []
  },
  {
   "cell_type": "markdown",
   "id": "5a6848e3",
   "metadata": {},
   "source": [
    "TODO:\n",
    "- alles entfernen außer özel tags\n",
    "    -  das vielleicht in cleaner?\n",
    "    - mindestens die in `allow_tags`\n",
    "        - https://lxml.de/api/lxml.html.clean.Cleaner-class.html\n",
    "- paper 2020 hashemi weiterlesen\n",
    "- weitere verfahren angucken\n",
    "- clf pipeline aufsetzen"
   ]
  },
  {
   "cell_type": "code",
   "execution_count": null,
   "id": "d8d9c611",
   "metadata": {},
   "outputs": [],
   "source": []
  },
  {
   "cell_type": "code",
   "execution_count": 113,
   "id": "0aa34377",
   "metadata": {},
   "outputs": [],
   "source": [
    "f = html.fromstring(old_html)"
   ]
  },
  {
   "cell_type": "code",
   "execution_count": 129,
   "id": "73b8e94c",
   "metadata": {},
   "outputs": [],
   "source": [
    "# get all tags\n",
    "\n",
    "from lxml import etree\n",
    "from lxml import html\n",
    "import numpy as np\n",
    "\n",
    "html_file = etree.fromstring(old_html, parser=etree.HTMLParser(remove_comments=True))\n",
    "\n",
    "tags = [element.tag for element in html_file.iter()]\n",
    "#list(np.unique(tags))"
   ]
  },
  {
   "cell_type": "code",
   "execution_count": 131,
   "id": "0ef61551",
   "metadata": {
    "collapsed": true
   },
   "outputs": [
    {
     "name": "stdout",
     "output_type": "stream",
     "text": [
      "<!doctype html><html class=\"no-js\" lang=\"\"><head><meta charset=\"utf-8\"><meta http-equiv=\"x-ua-compatible\" content=\"ie=edge\"><meta name=\"viewport\" content=\"width=device-width, initial-scale=1, user-scalable=no\"><link rel=\"shortcut icon\" type=\"image/x-icon\" href=\"https://www.plersch.de/wp-content/themes/plersch/favicon.ico\"><link rel=\"shortcut icon\" type=\"image/png\" href=\"https://www.plersch.de/wp-content/themes/plersch/favicon.png\"><!-- This site is optimized with the Yoast SEO plugin v7.1 - https://yoast.com/wordpress/plugins/seo/ --><title>Start | Plersch Edelstahltechnik GmbH</title><link rel=\"canonical\" href=\"https://www.plersch.de/\" /><meta property=\"og:locale\" content=\"de_DE\" /><meta property=\"og:type\" content=\"website\" /><meta property=\"og:title\" content=\"Start | Plersch Edelstahltechnik GmbH\" /><meta property=\"og:description\" content=\"Dies ist eine Beispiel-Seite. Sie unterscheidet sich von Beiträgen, da sie stets an der selben Stelle bleibt und (bei den meisten Themes) in der Navigation angezeigt wird. Die meisten Leute starten mit einem Impressum oder einer „Über uns“-Seite mit einer Vorstellung für mögliche Besucher der Website. Dort könnte zum Beispiel stehen: Hallo! Tagsüber arbeite ich &hellip;\" /><meta property=\"og:url\" content=\"https://www.plersch.de/\" /><meta property=\"og:site_name\" content=\"Plersch Edelstahltechnik GmbH\" /><meta property=\"og:image\" content=\"https://www.plersch.de/wp-content/uploads/2018/07/0016.jpg\" /><meta property=\"og:image:secure_url\" content=\"https://www.plersch.de/wp-content/uploads/2018/07/0016.jpg\" /><meta property=\"og:image:width\" content=\"2546\" /><meta property=\"og:image:height\" content=\"864\" /><meta name=\"twitter:card\" content=\"summary_large_image\" /><meta name=\"twitter:description\" content=\"Dies ist eine Beispiel-Seite. Sie unterscheidet sich von Beiträgen, da sie stets an der selben Stelle bleibt und (bei den meisten Themes) in der Navigation angezeigt wird. Die meisten Leute starten mit einem Impressum oder einer „Über uns“-Seite mit einer Vorstellung für mögliche Besucher der Website. Dort könnte zum Beispiel stehen: Hallo! Tagsüber arbeite ich [&hellip;]\" /><meta name=\"twitter:title\" content=\"Start | Plersch Edelstahltechnik GmbH\" /><meta name=\"twitter:image\" content=\"https://www.plersch.de/wp-content/uploads/2018/07/0016.jpg\" /><script type='application/ld+json'>{\"@context\":\"https:\\/\\/schema.org\",\"@type\":\"WebSite\",\"@id\":\"#website\",\"url\":\"https:\\/\\/www.plersch.de\\/\",\"name\":\"Plersch Edelstahltechnik GmbH\",\"potentialAction\":{\"@type\":\"SearchAction\",\"target\":\"https:\\/\\/www.plersch.de\\/?s={search_term_string}\",\"query-input\":\"required name=search_term_string\"}}</script><script type='application/ld+json'>{\"@context\":\"https:\\/\\/schema.org\",\"@type\":\"Organization\",\"url\":\"https:\\/\\/www.plersch.de\\/\",\"sameAs\":[],\"@id\":\"#organization\",\"name\":\"Plersch Edelstahltechnik GmbH\",\"logo\":\"http:\\/\\/neu.plersch.de\\/wp-content\\/uploads\\/2018\\/04\\/logo-plersch.png\"}</script><!-- / Yoast SEO plugin. --><link rel='dns-prefetch' href='//s.w.org' /><script type=\"text/javascript\">window._wpemojiSettings = {\"baseUrl\":\"https:\\/\\/s.w.org\\/images\\/core\\/emoji\\/11\\/72x72\\/\",\"ext\":\".png\",\"svgUrl\":\"https:\\/\\/s.w.org\\/images\\/core\\/emoji\\/11\\/svg\\/\",\"svgExt\":\".svg\",\"source\":{\"concatemoji\":\"https:\\/\\/www.plersch.de\\/wp-includes\\/js\\/wp-emoji-release.min.js?ver=4.9.16\"}};!function(a,b,c){function d(a,b){var c=String.fromCharCode;l.clearRect(0,0,k.width,k.height),l.fillText(c.apply(this,a),0,0);var d=k.toDataURL();l.clearRect(0,0,k.width,k.height),l.fillText(c.apply(this,b),0,0);var e=k.toDataURL();return d===e}function e(a){var b;if(!l||!l.fillText)return!1;switch(l.textBaseline=\"top\",l.font=\"600 32px Arial\",a){case\"flag\":return!(b=d([55356,56826,55356,56819],[55356,56826,8203,55356,56819]))&&(b=d([55356,57332,56128,56423,56128,56418,56128,56421,56128,56430,56128,56423,56128,56447],[55356,57332,8203,56128,56423,8203,56128,56418,8203,56128,56421,8203,56128,56430,8203,56128,56423,8203,56128,56447]),!b);case\"emoji\":return b=d([55358,56760,9792,65039],[55358,56760,8203,9792,65039]),!b}return!1}function f(a){var c=b.createElement(\"script\");c.src=a,c.defer=c.type=\"text/javascript\",b.getElementsByTagName(\"head\")[0].appendChild(c)}var g,h,i,j,k=b.createElement(\"canvas\"),l=k.getContext&&k.getContext(\"2d\");for(j=Array(\"flag\",\"emoji\"),c.supports={everything:!0,everythingExceptFlag:!0},i=0;i<j.length;i++)c.supports[j[i]]=e(j[i]),c.supports.everything=c.supports.everything&&c.supports[j[i]],\"flag\"!==j[i]&&(c.supports.everythingExceptFlag=c.supports.everythingExceptFlag&&c.supports[j[i]]);c.supports.everythingExceptFlag=c.supports.everythingExceptFlag&&!c.supports.flag,c.DOMReady=!1,c.readyCallback=function(){c.DOMReady=!0},c.supports.everything||(h=function(){c.readyCallback()},b.addEventListener?(b.addEventListener(\"DOMContentLoaded\",h,!1),a.addEventListener(\"load\",h,!1)):(a.attachEvent(\"onload\",h),b.attachEvent(\"onreadystatechange\",function(){\"complete\"===b.readyState&&c.readyCallback()})),g=c.source||{},g.concatemoji?f(g.concatemoji):g.wpemoji&&g.twemoji&&(f(g.twemoji),f(g.wpemoji)))}(window,document,window._wpemojiSettings);</script><style type=\"text/css\">img.wp-smiley,img.emoji {display: inline !important;border: none !important;box-shadow: none !important;height: 1em !important;width: 1em !important;margin: 0 .07em !important;vertical-align: -0.1em !important;background: none !important;padding: 0 !important;}</style><link rel='stylesheet' id='main_style-css'  href='https://www.plersch.de/wp-content/themes/plersch/css/screen.min.css?ver=4.9.16' type='text/css' media='all' /><link rel='stylesheet' id='flickity_style-css'  href='https://www.plersch.de/wp-content/themes/plersch/css/vendor/flickity.css?ver=4.9.16' type='text/css' media='all' /><link rel='stylesheet' id='sccss_style-css'  href='https://www.plersch.de/?sccss=1&#038;ver=4.9.16' type='text/css' media='all' /><link rel='stylesheet' id='cmplz-cookie-css'  href='https://www.plersch.de/wp-content/plugins/complianz-gdpr/core/assets/css/cookieconsent.min.css?ver=3.2.3' type='text/css' media='all' /><script type='text/javascript' src='https://www.plersch.de/wp-includes/js/jquery/jquery.js'></script><script type='text/javascript' src='https://www.plersch.de/wp-content/themes/plersch/js/modernizr-custom.js'></script><link rel='https://api.w.org/' href='https://www.plersch.de/wp-json/' /><link rel=\"EditURI\" type=\"application/rsd+xml\" title=\"RSD\" href=\"https://www.plersch.de/xmlrpc.php?rsd\" /><link rel=\"wlwmanifest\" type=\"application/wlwmanifest+xml\" href=\"https://www.plersch.de/wp-includes/wlwmanifest.xml\" /> <link rel='shortlink' href='https://www.plersch.de/' /><link rel=\"alternate\" type=\"application/json+oembed\" href=\"https://www.plersch.de/wp-json/oembed/1.0/embed?url=https%3A%2F%2Fwww.plersch.de%2F\" /><link rel=\"alternate\" type=\"text/xml+oembed\" href=\"https://www.plersch.de/wp-json/oembed/1.0/embed?url=https%3A%2F%2Fwww.plersch.de%2F&#038;format=xml\" /><link href=\"https://fonts.googleapis.com/css?family=Titillium+Web:400,600,700\" rel=\"stylesheet\"></head><body data-cmplz=1 class=\"home page-template-default page page-id-2\"><!-- Global site tag (gtag.js) - Google Analytics --><script async src=\"https://www.googletagmanager.com/gtag/js?id=UA-9645838-43\"></script><script>  window.dataLayer = window.dataLayer || [];  function gtag(){dataLayer.push(arguments);}  gtag('js', new Date());  gtag('config', 'UA-9645838-43');</script><aside class=\"pr-metaMenu\" data-js=\"popOut\"><nav><ul id=\"menu-meta-menue-kleingedrucktes-header\" class=\"pr-metaMenu__wrap\"><li class=\"pr-metaMenu__item-wrap\"><a class='pr-metaMenu__item ' href=\"https://www.plersch.de/impressum/\">Impressum</a></li><li class=\"pr-metaMenu__item-wrap\"><a class='pr-metaMenu__item ' href=\"https://www.plersch.de/kontakt/\">Kontakt</a></li><li class=\"pr-metaMenu__item-wrap\"><a class='pr-metaMenu__item ' href=\"https://www.plersch.de/datenschutz/\">Datenschutz</a></li><li class=\"pr-metaMenu__item-wrap\"><a class='pr-metaMenu__item ' href=\"https://www.plersch.de/agb/\">AGB</a></li></ul></nav></aside><header class=\"pr-siteHead\" data-state=\"\" data-js=\"modalMenu\"><div class=\"pr-siteHead__wrap\"><a class=\"pr-siteHead__logo\" href=\"https://www.plersch.de\"><img class=\"pr-siteHead__logo-image\" src=\"https://www.plersch.de/wp-content/themes/plersch/img/plersch-logo.png\" alt=\"Plersch Logo\"></a><input class=\"pr-siteMenu__toggle-input\" type=\"checkbox\" id=\"menuToggle\"><label data-js=\"menuToggle\" class=\"pr-siteMenu__toggle\" for=\"menuToggle\"></label><ul id=\"menu-hauptmenue-header\" class=\"pr-siteMenu__wrap\"><li data-js=\"menuPoint\" class=\"pr-siteMenu__item-wrap\"><a class='pr-siteMenu__item ' data-state=\"active\" href=\"https://www.plersch.de/\">Start</a></li><li data-js=\"menuPoint\" class=\"pr-siteMenu__item-wrap\"><a class='pr-siteMenu__item ' href=\"https://www.plersch.de/leistungen/\">Leistungen</a><ul class=\"pr-siteMenu__sub\"><li  class=\"pr-siteMenu__sub-item-wrap\"><a class='pr-siteMenu__sub-item ' href=\"https://www.plersch.de/leistung/beratung/\">Beratung</a></li><li  class=\"pr-siteMenu__sub-item-wrap\"><a class='pr-siteMenu__sub-item ' href=\"https://www.plersch.de/leistung/zuschnitt/\">Zuschnitt</a></li><li  class=\"pr-siteMenu__sub-item-wrap\"><a class='pr-siteMenu__sub-item ' href=\"https://www.plersch.de/leistung/entgraten/\">Entgraten</a></li><li  class=\"pr-siteMenu__sub-item-wrap\"><a class='pr-siteMenu__sub-item ' href=\"https://www.plersch.de/leistung/umformen/\">Umformen</a></li><li  class=\"pr-siteMenu__sub-item-wrap\"><a class='pr-siteMenu__sub-item ' href=\"https://www.plersch.de/leistung/schweissen/\">Schweißen</a></li><li  class=\"pr-siteMenu__sub-item-wrap\"><a class='pr-siteMenu__sub-item ' href=\"https://www.plersch.de/leistung/oberflaechenbehandlung/\">Oberflächenbehandlung</a></li><li  class=\"pr-siteMenu__sub-item-wrap\"><a class='pr-siteMenu__sub-item ' href=\"https://www.plersch.de/leistung/dichtungsschaeumen/\">Dichtungsschäumen</a></li><li  class=\"pr-siteMenu__sub-item-wrap\"><a class='pr-siteMenu__sub-item ' href=\"https://www.plersch.de/leistung/montage/\">Montage</a></li></ul></li><li data-js=\"menuPoint\" class=\"pr-siteMenu__item-wrap\"><a class='pr-siteMenu__item ' href=\"https://www.plersch.de/produkte/\">Produkte</a><ul class=\"pr-siteMenu__sub\"><li  class=\"pr-siteMenu__sub-item-wrap\"><a class='pr-siteMenu__sub-item ' href=\"https://www.plersch.de/produkt/baugruppen/\">Baugruppen</a></li><li  class=\"pr-siteMenu__sub-item-wrap\"><a class='pr-siteMenu__sub-item ' href=\"https://www.plersch.de/produkt/kantteile/\">Abkantteile</a></li><li  class=\"pr-siteMenu__sub-item-wrap\"><a class='pr-siteMenu__sub-item ' href=\"https://www.plersch.de/produkt/rohrlaserteile/\">Rohrlaserteile</a></li><li  class=\"pr-siteMenu__sub-item-wrap\"><a class='pr-siteMenu__sub-item ' href=\"https://www.plersch.de/produkt/stanzen/\">Stanzteile</a></li></ul></li><li data-js=\"menuPoint\" class=\"pr-siteMenu__item-wrap\"><a class='pr-siteMenu__item ' href=\"https://www.plersch.de/unternehmen/\">Unternehmen</a><ul class=\"pr-siteMenu__sub\"><li  class=\"pr-siteMenu__sub-item-wrap\"><a class='pr-siteMenu__sub-item ' href=\"https://www.plersch.de/unternehmen/geschichte/\">Geschichte</a></li><li  class=\"pr-siteMenu__sub-item-wrap\"><a class='pr-siteMenu__sub-item ' href=\"https://www.plersch.de/unternehmen/qualitaet-und-umwelt/\">Qualität und Umwelt</a></li><li  class=\"pr-siteMenu__sub-item-wrap\"><a class='pr-siteMenu__sub-item ' href=\"https://www.plersch.de/unternehmen/ansprechpartner/\">Ansprechpartner</a></li></ul></li><li data-js=\"menuPoint\" class=\"pr-siteMenu__item-wrap\"><a class='pr-siteMenu__item ' href=\"https://www.plersch.de/karriere/\">Karriere</a><ul class=\"pr-siteMenu__sub\"><li  class=\"pr-siteMenu__sub-item-wrap\"><a class='pr-siteMenu__sub-item ' href=\"https://www.plersch.de/karriere/offene-stellen/\">Offene Stellen</a></li><li  class=\"pr-siteMenu__sub-item-wrap\"><a class='pr-siteMenu__sub-item ' href=\"https://www.plersch.de/karriere/ausbildung/\">Ausbildung</a></li></ul></li></ul></div></header><div class=\"pr-breadcrumbs\"><div class=\"pr-breadcrumbs__wrap\"><span class=\"pr-breadcrumbs__prefix\">Sie befinden sich hier:</span>            <ul class=\"pr-breadcrumbs__level pr-breadcrumbs__level_1\">                <li class=\"pr-breadcrumbs__level-anchor-wrap\"><a class=\"pr-breadcrumbs__level-anchor\">Startseite</a>                </li>            </ul></div></div><section class=\"pr-splash\"><div class=\"pr-splash__background-image pr-splash__background-image_mobile\" style=\"background-image: url(https://www.plersch.de/wp-content/uploads/2018/07/0016-600x204.jpg)\"></div><div class=\"pr-splash__background-image pr-splash__background-image_desktop\" style=\"background-image: url(https://www.plersch.de/wp-content/uploads/2018/07/0016-1920x652.jpg)\"></div><div class=\"pr-splash__wrap\"><div class=\"pr-splash__content\"><i class=\"pr-splash__content-background\"></i><div class=\"pr-splash__content-wrap\"><h1 class=\"pr-splash__content-headline\">Start</h1><span class=\"pr-splash__content-subline\">Herzlich Willkommen </span><a href=\"http://www.plersch.de/unternehmen/\" class=\"pr-splash__content-cta\">Mehr erfahren</a></div></div><i class=\"pr-splash__videotrigger\" data-js=\"videotrigger\">Imagefilm ansehen</i><div class=\"pr-splash__video\" data-js=\"videotarget\"><div class=\"pr-splash__video-wrap\"><div class=\"pr-splash__video-videowrap\"><iframe data-placeholder-image=\"https://www.plersch.de/wp-content/uploads/complianz/placeholders/youtubefbxxbbPsgOQ-hqdefault.jpg\" class=\" cmplz-placeholder-element  cmplz-iframe cmplz-iframe-styles cmplz-video cmplz-hidden \" data-src-cmplz=\"https://www.youtube-nocookie.com/embed/fbxxbbPsgOQ?rel=0\"  src=\"https://www.plersch.de/wp-content/plugins/complianz-gdpr/core/assets/video/youtube-placeholder.mp4?cmplz=1\"  frameborder=\"0\" allow=\"autoplay; encrypted-media\" allowfullscreen></iframe></div></div></div></div></section><main class=\"pr-siteContent\" >         <div class=\"pr-siteContent__wrap \">        <div class=\"pr-siteContent__layout-wrap\">            <section class=\"pr-siteContent__layout pr-siteContent__layout_single\">        <div class=\"pr-cgCopy\"><div class=\"pr-cgCopy__wrap\"><h3 class=\"pr-cgCopy__subheading\">Robert Plersch Edelstahltechnik GmbH</h3><p  class=\"pr-cgCopy__paragraph\">Wir sind ein mittelständisches Familienunternehmen in der sechsten Generation und einer der leistungsfähigsten Systempartner der Blechfertigung in Süddeutschland. Die Verarbeitung von Stahl, Edelstahl und Aluminium ist unser Spezialgebiet. Etwa 100 Mitarbeiter stellen täglich ihre Vielseitigkeit unter Beweis. Zur Verfügung steht eine Produktionsfläche von ca. 8.000 m² und über 3.000 m² überdachtes Lager.</p><p  class=\"pr-cgCopy__paragraph\">Unser leistungsfähiger Maschinenpark, vom Laserschneiden über die CNC-Kanttechnik bis zum Schweißen und Oberflächenfinish, ist nur ein Teil des Erfolgs. Die effiziente Kombination von Hightech und handwerklicher Erfahrung ist die solide Basis für die Produktion von Komponenten oder Baugruppen für unterschiedlichste Branchen. Die tägliche Praxis zeigt uns, dass die größte Flexibilität nach wie vor vom Menschen ausgehen muss. „Geht nicht – gibt‘s nicht“ wird von unseren Mitarbeitern gelebt und umgesetzt.</p></div></div></section><section class=\"pr-siteContent__layout pr-siteContent__layout_double pr-siteContent__layout_double_symm\"><div class=\"pr-siteContent__layout-element\">        <div class=\"pr-cgCombobox\"><div class=\"pr-cgCombobox__wrap\"><div class=\"pr-cgCombobox__imagewrap\" style=\"background-image:url(https://www.plersch.de/wp-content/uploads/2018/07/Produkt_Ausbildung_bearbeitet_2-600x454.jpg)\"><img src=\"https://www.plersch.de/wp-content/uploads/2018/07/Produkt_Ausbildung_bearbeitet_2.jpg\" alt=\"Produkt Ausbildung Bearbeitet 2\" class=\"pr-cgCombobox__image\"></div><div class=\"pr-cgCombobox__contentwrap\"><span class=\"pr-cgCombobox__headline\">Ausbildung</span><span class=\"pr-cgCombobox__subline\">Bewirb Dich jetzt!!!</span><a target=\"\" href=\"http://plersch.de/karriere/ausbildung/\" class=\"pr-cgCombobox__cta\">Mehr erfahren</a></div></div></div><div class=\"pr-cgCombobox\"><div class=\"pr-cgCombobox__wrap\"><div class=\"pr-cgCombobox__imagewrap\" style=\"background-image:url(https://www.plersch.de/wp-content/uploads/2018/04/AdobeStock_157524050-600x400.jpeg)\"><img src=\"https://www.plersch.de/wp-content/uploads/2018/04/AdobeStock_157524050.jpeg\" alt=\"Finished Product From Laser Cutting Machine\" class=\"pr-cgCombobox__image\"></div><div class=\"pr-cgCombobox__contentwrap\"><span class=\"pr-cgCombobox__headline\">Baugruppen-Fertigung</span><span class=\"pr-cgCombobox__subline\">Alles aus einer Hand!!!</span><a target=\"\" href=\"http://plersch.de/produkt/baugruppen/\" class=\"pr-cgCombobox__cta\">Mehr erfahren</a></div></div></div></div><div class=\"pr-siteContent__layout-element\">        <div class=\"pr-cgCombobox\"><div class=\"pr-cgCombobox__wrap\"><div class=\"pr-cgCombobox__imagewrap\" style=\"background-image:url(https://www.plersch.de/wp-content/uploads/2018/04/AdobeStock_171007783-600x353.jpeg)\"><img src=\"https://www.plersch.de/wp-content/uploads/2018/04/AdobeStock_171007783.jpeg\" alt=\"High Precision CNC Laser Welding Metal Sheet\" class=\"pr-cgCombobox__image\"></div><div class=\"pr-cgCombobox__contentwrap\"><span class=\"pr-cgCombobox__headline\">Lohnfertigung</span><span class=\"pr-cgCombobox__subline\">High-Tech in allen Bereichen!!!</span><a target=\"\" href=\"http://plersch.de/leistungen/\" class=\"pr-cgCombobox__cta\">Mehr erfahren</a></div></div></div><div class=\"pr-cgCombobox\"><div class=\"pr-cgCombobox__wrap\"><div class=\"pr-cgCombobox__imagewrap\" style=\"background-image:url(https://www.plersch.de/wp-content/uploads/2018/04/AdobeStock_61985161-600x400.jpeg)\"><img src=\"https://www.plersch.de/wp-content/uploads/2018/04/AdobeStock_61985161.jpeg\" alt=\"Businesswoman Fill The Form\" class=\"pr-cgCombobox__image\"></div><div class=\"pr-cgCombobox__contentwrap\"><span class=\"pr-cgCombobox__headline\">Individuelle Anfrage</span><span class=\"pr-cgCombobox__subline\">Kontaktieren Sie uns jetzt!!!</span><a target=\"\" href=\"http://plersch.de/kontakt/\" class=\"pr-cgCombobox__cta\">Mehr erfahren</a></div></div></div></div></section>        </div>    </div></main><aside class=\"pr-fastContact\"><div class=\"pr-fastContact__wrap\"><a href=\"tel:+49833279060\" class=\"pr-fastContact__item pr-fastContact__item_call\"><span class=\"pr-fastContact__item-icon\"></span><span class=\"pr-fastContact__item-label\">+49 8332 7906 -0</span></a><a href=\"/kontakt\" class=\"pr-fastContact__item pr-fastContact__item_request\"><span class=\"pr-fastContact__item-icon\"></span><span class=\"pr-fastContact__item-label\">Anfrage stellen</span></a></div></aside><footer class=\"pr-siteFooter\"><div class=\"pr-siteFooter__wrap\"><a href=\"#\" data-js=\"toTop\" data-options=\"{'timing':500}\" class=\"pr-siteFooter__toTop\"><i class=\"fa fa-chevron-up\"></i></a></div><div class=\"pr-siteFooter__wrap\"><section class=\"pr-siteFooter__block pr-infoBlock pr-infoBlock_contact\"><div class=\"pr-infoBlock__content\"><p  class=\"pr-infoBlock__content-paragraph\">Robert Plersch<br />Edelstahltechnik GmbH</p><p  class=\"pr-infoBlock__content-paragraph\">Kemptener Straße 3<br />87749 Hawangen<br />+49 8332 7906 -0<br />info@plersch.de</p></div></section><section class=\"pr-siteFooter__block pr-infoBlock pr-infoBlock_nav\"><nav><ul id=\"menu-footer-block-1\" class=\"pr-infoBlock__navigation\"><li class=\"pr-infoBlock__navigation-item-wrap\"><a class='pr-infoBlock__navigation-item pr-infoBlock__heading ' href=\"https://www.plersch.de/leistungen/\">Leistungen</a></li><li class=\"pr-infoBlock__navigation-item-wrap\"><a class='pr-infoBlock__navigation-item pr-infoBlock__heading ' href=\"https://www.plersch.de/unternehmen/\">Unternehmen</a></li><li class=\"pr-infoBlock__navigation-item-wrap\"><a class='pr-infoBlock__navigation-item pr-infoBlock__heading ' href=\"https://www.plersch.de/karriere/\">Karriere</a></li><li class=\"pr-infoBlock__navigation-item-wrap\"><a class='pr-infoBlock__navigation-item pr-infoBlock__heading ' href=\"https://www.plersch.de/cookie-policy-eu/\">Cookie policy (EU)</a></li></ul></nav></section><section class=\"pr-siteFooter__block pr-infoBlock pr-infoBlock_nav\"><nav><ul id=\"menu-footer-block-2\" class=\"pr-infoBlock__navigation\"><li class=\"pr-infoBlock__navigation-item-wrap\"><a class='pr-infoBlock__navigation-item pr-infoBlock__heading ' href=\"https://www.plersch.de/produkte/\">Produkte</a><ul class=\"pr-infoBlock__navigation-sub\"><li class=\"pr-infoBlock__navigation-sub-item-wrap\"><a class='pr-infoBlock__navigation-sub-item ' href=\"https://www.plersch.de/produkt/stanzen/\">Stanzteile</a></li><li class=\"pr-infoBlock__navigation-sub-item-wrap\"><a class='pr-infoBlock__navigation-sub-item ' href=\"https://www.plersch.de/produkt/rohrlaserteile/\">Rohrlaserteile</a></li><li class=\"pr-infoBlock__navigation-sub-item-wrap\"><a class='pr-infoBlock__navigation-sub-item ' href=\"https://www.plersch.de/produkt/kantteile/\">Abkantteile</a></li><li class=\"pr-infoBlock__navigation-sub-item-wrap\"><a class='pr-infoBlock__navigation-sub-item ' href=\"https://www.plersch.de/produkt/baugruppen/\">Baugruppen</a></li></ul></li></ul></nav></section><section class=\"pr-siteFooter__block pr-infoBlock pr-infoBlock_nav\"><nav><ul id=\"menu-footer-block-3\" class=\"pr-infoBlock__navigation\"><li class=\"pr-infoBlock__navigation-item-wrap\"><a class='pr-infoBlock__navigation-item pr-infoBlock__heading ' href=\"https://www.plersch.de/kontakt/\">Kontakt</a></li></ul></nav></section><section class=\"pr-siteFooter__block pr-infoBlock pr-infoBlock_nav\"><nav><ul id=\"menu-footer-block-4\" class=\"pr-infoBlock__navigation\"><li class=\"pr-infoBlock__navigation-item-wrap\"><a class='pr-infoBlock__navigation-item pr-infoBlock__heading ' href=\"https://www.plersch.de/impressum/\">Impressum</a></li><li class=\"pr-infoBlock__navigation-item-wrap\"><a class='pr-infoBlock__navigation-item pr-infoBlock__heading ' href=\"https://www.plersch.de/datenschutz/\">Datenschutz</a></li><li class=\"pr-infoBlock__navigation-item-wrap\"><a class='pr-infoBlock__navigation-item pr-infoBlock__heading ' href=\"https://www.plersch.de/agb/\">AGB</a></li></ul></nav></section></div><div class=\"pr-siteFooter__footnote\"><div class=\"pr-siteFooter__footnote-social-icons\"><a target=\"_blank\" href=\"https://de.linkedin.com/company/robert-plersch-edelstahltechnik\" class=\"pr-siteFooter__footnote-social-icon pr-siteFooter__footnote-social-icon_linkedin\"></a><a target=\"_blank\" href=\"https://www.xing.com/companies/robertplerschedelstahltechnikgmbh\" class=\"pr-siteFooter__footnote-social-icon pr-siteFooter__footnote-social-icon_xing\"></a><a target=\"_blank\" href=\"https://www.youtube.com/channel/UCwRcQU343OedBjZnqZzQ-tQ\" class=\"pr-siteFooter__footnote-social-icon pr-siteFooter__footnote-social-icon_youtube\"></a><a target=\"_blank\" href=\"https://www.kununu.com/de/robert-plersch-edelstahltechnik\" class=\"pr-siteFooter__footnote-social-icon pr-siteFooter__footnote-social-icon_kununu\"></a></div><span class=\"pr-siteFooter__footnote-text\">© Plersch Edelstahltechnik GmbH 2021</span></div></footer><script type='text/javascript' src='https://www.plersch.de/wp-content/themes/plersch/js/main.js'></script><script type='text/javascript' src='https://www.plersch.de/wp-content/themes/plersch/js/flickity.pkgd.min.js'></script><script type='text/javascript' src='https://www.plersch.de/wp-content/plugins/complianz-gdpr/core/assets/js/cookieconsent.min.js?ver=3.2.3'></script><script type='text/javascript'>/* <![CDATA[ */var complianz = {\"static\":\"\",\"set_cookies\":[],\"banner_version\":\"16\",\"version\":\"3.2.3\",\"a_b_testing\":\"\",\"do_not_track\":\"\",\"consenttype\":\"optin\",\"region\":\"eu\",\"geoip\":\"\",\"categories\":\"<label><input checked disabled type=\\\"checkbox\\\" id=\\\"cmplz_functional\\\" style=\\\"display: none;\\\"><label for=\\\"cmplz_functional\\\" class=\\\"cc-check\\\"><svg width=\\\"16px\\\" height=\\\"16px\\\" viewBox=\\\"0 0 18 18\\\"> <path d=\\\"M1,9 L1,3.5 C1,2 2,1 3.5,1 L14.5,1 C16,1 17,2 17,3.5 L17,14.5 C17,16 16,17 14.5,17 L3.5,17 C2,17 1,16 1,14.5 L1,9 Z\\\"><\\/path> <polyline points=\\\"1 9 7 14 15 4\\\"><\\/polyline><\\/svg><\\/label><span class=\\\"cc-category\\\" style=\\\"color:#fff\\\">Funktionale Cookies<\\/span><\\/label><label><input type=\\\"checkbox\\\" id=\\\"cmplz_stats\\\" style=\\\"display: none;\\\"><label for=\\\"cmplz_stats\\\" class=\\\"cc-check\\\"><svg width=\\\"16px\\\" height=\\\"16px\\\" viewBox=\\\"0 0 18 18\\\"> <path d=\\\"M1,9 L1,3.5 C1,2 2,1 3.5,1 L14.5,1 C16,1 17,2 17,3.5 L17,14.5 C17,16 16,17 14.5,17 L3.5,17 C2,17 1,16 1,14.5 L1,9 Z\\\"><\\/path> <polyline points=\\\"1 9 7 14 15 4\\\"><\\/polyline><\\/svg><\\/label><span class=\\\"cc-category\\\" style=\\\"color:#fff\\\">Statistiken<\\/span><\\/label><label><input type=\\\"checkbox\\\" id=\\\"cmplz_all\\\" style=\\\"display: none;\\\"><label for=\\\"cmplz_all\\\" class=\\\"cc-check\\\"><svg width=\\\"16px\\\" height=\\\"16px\\\" viewBox=\\\"0 0 18 18\\\"> <path d=\\\"M1,9 L1,3.5 C1,2 2,1 3.5,1 L14.5,1 C16,1 17,2 17,3.5 L17,14.5 C17,16 16,17 14.5,17 L3.5,17 C2,17 1,16 1,14.5 L1,9 Z\\\"><\\/path> <polyline points=\\\"1 9 7 14 15 4\\\"><\\/polyline><\\/svg><\\/label><span class=\\\"cc-category\\\" style=\\\"color:#fff\\\">Marketing<\\/span><\\/label>\",\"position\":\"bottom\",\"title\":\"Consent\",\"theme\":\"edgeless\",\"use_categories\":\"1\",\"accept\":\"Alle Cookies\",\"revoke\":\"Einstellungen anzeigen\",\"dismiss\":\"Nur funktionsf\\u00e4hig\",\"dismiss_on_scroll\":\"\",\"dismiss_on_timeout\":\"\",\"dismiss_timeout\":\"10\",\"popup_background_color\":\"#af2a12\",\"popup_text_color\":\"#fff\",\"button_background_color\":\"#fff\",\"button_text_color\":\"#af2a12\",\"border_color\":\"\",\"use_custom_cookie_css\":\"\",\"custom_css\":\".cc-window\",\"save_preferences\":\"Einstellungen speichern\",\"readmore_optin\":\"Weiterlesen\",\"accept_informational\":\"Akzeptieren\",\"message_optout\":\"Wir verwenden Cookies, um unsere Website und unseren Service zu optimieren.\",\"message_optin\":\"Wir verwenden Cookies, um unsere Website und unseren Service zu optimieren.\",\"readmore_optout\":\"Cookie Policy (US)\",\"readmore_privacy\":\"Datenschutzerkl\\u00e4rung\",\"view_preferences\":\"Einstellungen anzeigen\",\"hide_revoke\":\"\",\"soft_cookiewall\":\"\",\"type\":\"categories\",\"layout\":\"categories-layout\",\"cookie_expiry\":\"365\",\"readmore_url\":{\"eu\":\"\\/cookie-policy-eu-2\"},\"privacy_link\":\"\",\"nonce\":\"336b7aa96b\",\"url\":\"https:\\/\\/www.plersch.de\\/wp-admin\\/admin-ajax.php\",\"current_policy_id\":\"20\",\"placeholdertext\":\"Hier \\u201eKlicken\\u201d, um Cookies zu akzeptieren und diesen Inhalt zu aktivieren\"};/* ]]> */</script><script type='text/javascript' src='https://www.plersch.de/wp-content/plugins/complianz-gdpr/core/assets/js/cookieconfig.min.js?ver=3.2.3'></script><script type='text/javascript' src='https://www.plersch.de/wp-includes/js/wp-embed.min.js?ver=4.9.16'></script>                <script type=\"text/plain\" class=\"cmplz-script cmplz-stats cmplz-stats\">                    (function (i, s, o, g, r, a, m) {    i['GoogleAnalyticsObject'] = r;    i[r] = i[r] || function () {        (i[r].q = i[r].q || []).push(arguments)    }, i[r].l = 1 * new Date();    a = s.createElement(o),        m = s.getElementsByTagName(o)[0];    a.async = 1;    a.src = g;    m.parentNode.insertBefore(a, m)})(window, document, 'script', 'https://www.google-analytics.com/analytics.js', 'ga');ga('create', 'sdfafqf', 'auto');ga('send', 'pageview', {    });                </script>                        <script class=\"cmplz-native\">                function complianz_enable_cookies() {                    console.log(\"enabling cookies\");                                    }            </script>            </body></html>\n"
     ]
    }
   ],
   "source": [
    "print(old_html)"
   ]
  },
  {
   "cell_type": "code",
   "execution_count": null,
   "id": "471b32ec",
   "metadata": {},
   "outputs": [],
   "source": []
  },
  {
   "cell_type": "code",
   "execution_count": null,
   "id": "13b80a8c",
   "metadata": {},
   "outputs": [],
   "source": []
  },
  {
   "cell_type": "code",
   "execution_count": 116,
   "id": "054f83e0",
   "metadata": {},
   "outputs": [
    {
     "name": "stdout",
     "output_type": "stream",
     "text": [
      "b'<html class=\"no-js\" lang=\"\">\\n  <head><link rel=\"shortcut icon\" type=\"image/x-icon\" href=\"https://www'\n"
     ]
    }
   ],
   "source": [
    "from lxml import etree\n",
    "from lxml import html\n",
    "\n",
    "f = html.fromstring(old_html)\n",
    "\n",
    "# for r in f.xpath('//r'):\n",
    "#     r.tail = 'DELETED' + r.tail if r.tail else 'DELETED'\n",
    "\n",
    "etree.strip_elements(f, 'meta', with_tail=True)\n",
    "\n",
    "print(etree.tostring(f,pretty_print=True)[:100])"
   ]
  },
  {
   "cell_type": "code",
   "execution_count": null,
   "id": "55878ed6",
   "metadata": {},
   "outputs": [],
   "source": []
  },
  {
   "cell_type": "code",
   "execution_count": null,
   "id": "cee3143a",
   "metadata": {},
   "outputs": [],
   "source": []
  },
  {
   "cell_type": "code",
   "execution_count": 102,
   "id": "2853699e",
   "metadata": {},
   "outputs": [
    {
     "ename": "TypeError",
     "evalue": "Type 'NoneType' cannot be serialized.",
     "output_type": "error",
     "traceback": [
      "\u001b[0;31m---------------------------------------------------------------------------\u001b[0m",
      "\u001b[0;31mTypeError\u001b[0m                                 Traceback (most recent call last)",
      "\u001b[0;32m<ipython-input-102-208faabcc80b>\u001b[0m in \u001b[0;36m<module>\u001b[0;34m\u001b[0m\n\u001b[1;32m      3\u001b[0m \u001b[0mparser\u001b[0m \u001b[0;34m=\u001b[0m \u001b[0metree\u001b[0m\u001b[0;34m.\u001b[0m\u001b[0mXMLParser\u001b[0m\u001b[0;34m(\u001b[0m\u001b[0mns_clean\u001b[0m\u001b[0;34m=\u001b[0m\u001b[0;32mTrue\u001b[0m\u001b[0;34m,\u001b[0m \u001b[0mrecover\u001b[0m\u001b[0;34m=\u001b[0m\u001b[0;32mTrue\u001b[0m\u001b[0;34m,\u001b[0m \u001b[0mencoding\u001b[0m\u001b[0;34m=\u001b[0m\u001b[0;34m'utf-8'\u001b[0m\u001b[0;34m)\u001b[0m\u001b[0;34m\u001b[0m\u001b[0;34m\u001b[0m\u001b[0m\n\u001b[1;32m      4\u001b[0m \u001b[0mparsed_xml\u001b[0m \u001b[0;34m=\u001b[0m \u001b[0metree\u001b[0m\u001b[0;34m.\u001b[0m\u001b[0mfromstring\u001b[0m\u001b[0;34m(\u001b[0m\u001b[0mstring\u001b[0m\u001b[0;34m.\u001b[0m\u001b[0mencode\u001b[0m\u001b[0;34m(\u001b[0m\u001b[0;34m'utf-8'\u001b[0m\u001b[0;34m)\u001b[0m\u001b[0;34m,\u001b[0m \u001b[0mparser\u001b[0m\u001b[0;34m=\u001b[0m\u001b[0mparser\u001b[0m\u001b[0;34m)\u001b[0m\u001b[0;34m\u001b[0m\u001b[0;34m\u001b[0m\u001b[0m\n\u001b[0;32m----> 5\u001b[0;31m \u001b[0mstring\u001b[0m \u001b[0;34m=\u001b[0m \u001b[0metree\u001b[0m\u001b[0;34m.\u001b[0m\u001b[0mtostring\u001b[0m\u001b[0;34m(\u001b[0m\u001b[0mparsed_xml\u001b[0m\u001b[0;34m)\u001b[0m\u001b[0;34m\u001b[0m\u001b[0;34m\u001b[0m\u001b[0m\n\u001b[0m\u001b[1;32m      6\u001b[0m \u001b[0mstring\u001b[0m \u001b[0;34m=\u001b[0m \u001b[0mstring\u001b[0m\u001b[0;34m.\u001b[0m\u001b[0mdecode\u001b[0m\u001b[0;34m(\u001b[0m\u001b[0;34m\"utf-8\"\u001b[0m\u001b[0;34m)\u001b[0m\u001b[0;34m\u001b[0m\u001b[0;34m\u001b[0m\u001b[0m\n",
      "\u001b[0;32msrc/lxml/etree.pyx\u001b[0m in \u001b[0;36mlxml.etree.tostring\u001b[0;34m()\u001b[0m\n",
      "\u001b[0;31mTypeError\u001b[0m: Type 'NoneType' cannot be serialized."
     ]
    }
   ],
   "source": [
    "string = old_html\n",
    "\n",
    "parser = etree.XMLParser(ns_clean=True, recover=True, encoding='utf-8')\n",
    "parsed_xml = etree.fromstring(string.encode('utf-8'), parser=parser)\n",
    "string = etree.tostring(parsed_xml)\n",
    "string = string.decode(\"utf-8\")"
   ]
  },
  {
   "cell_type": "code",
   "execution_count": null,
   "id": "2418dd58",
   "metadata": {},
   "outputs": [],
   "source": []
  },
  {
   "cell_type": "code",
   "execution_count": null,
   "id": "ac8f6f64",
   "metadata": {},
   "outputs": [],
   "source": []
  },
  {
   "cell_type": "markdown",
   "id": "1774a6e9",
   "metadata": {},
   "source": [
    "## Clean HTML"
   ]
  },
  {
   "cell_type": "markdown",
   "id": "1f220303",
   "metadata": {},
   "source": [
    "### lxml"
   ]
  },
  {
   "cell_type": "code",
   "execution_count": 84,
   "id": "2e621d56",
   "metadata": {},
   "outputs": [],
   "source": [
    "from lxml.html.clean import Cleaner\n",
    "from lxml import html, etree\n",
    "\n",
    "\n",
    "def clean_html_boilerplate(row):\n",
    "    \"\"\" Cleans boilerplate HTML tags from HTML.\"\"\"\n",
    "    \n",
    "    string = row.html\n",
    "    url = row.url\n",
    "    \n",
    "    cleaner = Cleaner(page_structure=False, meta=True, style=True, kill_tags=[\"img\"])\n",
    "    clean = string\n",
    "    \n",
    "    try:\n",
    "        clean = cleaner.clean_html(string)\n",
    "    except:\n",
    "        try:\n",
    "            parser = etree.XMLParser(ns_clean=True, recover=True, encoding='utf-8')\n",
    "            parsed_xml = etree.fromstring(string.encode('utf-8'), parser=parser)\n",
    "            string = etree.tostring(parsed_xml)\n",
    "            string = string.decode(\"utf-8\")\n",
    "            clean = cleaner.clean_html(string)\n",
    "        except:\n",
    "            print(f\"Website '{url}' couldn't be cleaned.\")\n",
    "    \n",
    "    clean = clean.replace(\"\\n\", \"\")\n",
    "    clean = clean.replace(\"\\r\", \"\")\n",
    "    clean = clean.replace(\"\\t\", \"\")\n",
    "    \n",
    "    return clean"
   ]
  },
  {
   "cell_type": "code",
   "execution_count": null,
   "id": "2e06a9ed",
   "metadata": {},
   "outputs": [],
   "source": []
  },
  {
   "cell_type": "code",
   "execution_count": 47,
   "id": "a90c1adb",
   "metadata": {},
   "outputs": [
    {
     "name": "stdout",
     "output_type": "stream",
     "text": [
      "CPU times: user 3min 22s, sys: 350 ms, total: 3min 22s\n",
      "Wall time: 3min 22s\n"
     ]
    }
   ],
   "source": [
    "%%time\n",
    "train[\"html\"] = train.apply(lambda row: clean_html_boilerplate(row), axis=1)"
   ]
  },
  {
   "cell_type": "code",
   "execution_count": 48,
   "id": "8866bcc7",
   "metadata": {},
   "outputs": [
    {
     "name": "stdout",
     "output_type": "stream",
     "text": [
      "38466.64927477841\n"
     ]
    }
   ],
   "source": [
    "html_length = train.apply(lambda row: len(row[\"html\"]), axis=1)\n",
    "print(np.mean(html_length))"
   ]
  },
  {
   "cell_type": "code",
   "execution_count": 56,
   "id": "da4f319e",
   "metadata": {},
   "outputs": [
    {
     "data": {
      "text/plain": [
       "-0.6769056318508253"
      ]
     },
     "execution_count": 56,
     "metadata": {},
     "output_type": "execute_result"
    }
   ],
   "source": [
    "a = 119055\n",
    "b = 38466\n",
    "\n",
    "b/a-1"
   ]
  },
  {
   "cell_type": "code",
   "execution_count": 57,
   "id": "230e2036",
   "metadata": {},
   "outputs": [
    {
     "data": {
      "text/plain": [
       "0.8666666666666667"
      ]
     },
     "execution_count": 57,
     "metadata": {},
     "output_type": "execute_result"
    }
   ],
   "source": [
    "26 / 30"
   ]
  },
  {
   "cell_type": "code",
   "execution_count": 7,
   "id": "4ecd57f5",
   "metadata": {},
   "outputs": [
    {
     "data": {
      "text/plain": [
       "(27263, 13341)"
      ]
     },
     "execution_count": 7,
     "metadata": {},
     "output_type": "execute_result"
    }
   ],
   "source": [
    "cleaned_html = clean_html_boilerplate(old_html)\n",
    "len(old_html), len(cleaned_html)"
   ]
  },
  {
   "cell_type": "markdown",
   "id": "5b0fa1b1",
   "metadata": {},
   "source": [
    "### VERWORFEN: Tidylib (Python Wrapper)"
   ]
  },
  {
   "cell_type": "code",
   "execution_count": 30,
   "id": "221dae07",
   "metadata": {},
   "outputs": [],
   "source": [
    "from tidylib import Tidy\n",
    "tidy = Tidy()\n",
    "document, errors = tidy.tidy_document(cleaned_html, options={'alt-text': 'baz'})\n",
    "document = document.replace(\"\\n\", \"\")\n",
    "document = document.replace(\"\\r\", \"\")\n",
    "document = document.replace(\"\\t\", \"\")"
   ]
  },
  {
   "cell_type": "markdown",
   "id": "598be906",
   "metadata": {},
   "source": [
    "## real tests"
   ]
  },
  {
   "cell_type": "code",
   "execution_count": 15,
   "id": "2d620bb3",
   "metadata": {},
   "outputs": [],
   "source": [
    "cleaned_html = clean_html_boilerplate(old_html)"
   ]
  },
  {
   "cell_type": "code",
   "execution_count": 16,
   "id": "a3a129f7",
   "metadata": {},
   "outputs": [
    {
     "data": {
      "text/plain": [
       "(27263, 13341)"
      ]
     },
     "execution_count": 16,
     "metadata": {},
     "output_type": "execute_result"
    }
   ],
   "source": [
    "len(old_html), len(cleaned_html)"
   ]
  },
  {
   "cell_type": "code",
   "execution_count": 106,
   "id": "31638f57",
   "metadata": {},
   "outputs": [],
   "source": [
    "with open(\"../app/old/test.html\", \"r\") as f:\n",
    "    testhtml = f.read()\n",
    "    \n",
    "    \n",
    "html_doc = html.fromstring(soup_str)\n",
    "html_doc_s = etree.tostring(html_doc, method=\"xml\").decode(\"utf-8\") "
   ]
  },
  {
   "cell_type": "code",
   "execution_count": 113,
   "id": "8f45e925",
   "metadata": {},
   "outputs": [
    {
     "name": "stdout",
     "output_type": "stream",
     "text": [
      "<html class=\"no-js\" lang=\"\">\n",
      " <head>\n",
      "  <title>\n",
      "   Start | Plersch Edelstahltechnik GmbH\n",
      "  </title>\n",
      " </head>\n",
      " <body class=\"home page-template-default page page-id-2\">\n",
      "  <aside class=\"pr-metaMenu\">\n",
      "   <nav>\n",
      "    <ul class=\"pr-metaMenu__wrap\" id=\"menu-meta-menue-kleingedrucktes-header\">\n",
      "     <li class=\"pr-metaMenu__item-wrap\">\n",
      "      <a class=\"pr-metaMenu__item\" href=\"https://www.plersch.de/impressum/\">\n",
      "       Impressum\n",
      "      </a>\n",
      "     </li>\n",
      "     <li class=\"pr-metaMenu__item-wrap\">\n",
      "      <a class=\"pr-metaMenu__item\" href=\"https://www.plersch.de/kontakt/\">\n",
      "       Kontakt\n",
      "      </a>\n",
      "     </li>\n",
      "     <li class=\"pr-metaMenu__item-wrap\">\n",
      "      <a class=\"pr-metaMenu__item\" href=\"https://www.plersch.de/datenschutz/\">\n",
      "       Datenschutz\n",
      "      </a>\n",
      "     </li>\n",
      "     <li class=\"pr-metaMenu__item-wrap\">\n",
      "      <a class=\"pr-metaMenu__item\" href=\"https://www.plersch.de/agb/\">\n",
      "       AGB\n",
      "      </a>\n",
      "     </li>\n",
      "    </ul>\n",
      "   </nav>\n",
      "  </aside>\n",
      "  <header class=\"pr-siteHead\">\n",
      "   <div class=\"pr-siteHead__wrap\">\n",
      "   \n"
     ]
    }
   ],
   "source": [
    "print(html_doc_s[:1000])"
   ]
  },
  {
   "cell_type": "code",
   "execution_count": 99,
   "id": "ae915046",
   "metadata": {},
   "outputs": [],
   "source": [
    "from bs4 import BeautifulSoup\n",
    "\n",
    "soup = BeautifulSoup(cleaned_html)\n",
    "soup_str = soup.prettify()\n",
    "with open(\"../app/old/etest.html\", \"w+\") as f:\n",
    "    f.write(soup_str)"
   ]
  },
  {
   "cell_type": "code",
   "execution_count": 100,
   "id": "55f9e415",
   "metadata": {},
   "outputs": [
    {
     "name": "stdout",
     "output_type": "stream",
     "text": [
      "16658\n",
      "<html class=\"no-js\" lang=\"\">\n",
      " <head>\n",
      "  <title>\n",
      "   Start | Plersch Edelstahltechnik GmbH\n",
      "  </title>\n",
      " </head>\n",
      " <body class=\"home page-template-default page page-id-2\">\n",
      "  <aside class=\"pr-metaMenu\">\n",
      "   <nav>\n",
      "    <ul class=\"pr-metaMenu__wrap\" id=\"menu-meta-menue-kleingedrucktes-header\">\n",
      "     <li class=\"pr-metaMenu__item-wrap\">\n",
      "      <a class=\"pr-metaMenu__item\" href=\"https://www.plersch.de/impressum/\">\n",
      "       Impressum\n",
      "      </a>\n",
      "     </li>\n",
      "     <li class=\"pr-metaMenu__item-wrap\">\n",
      "      <a class=\"pr-metaMenu__item\" href=\"https://www.plersch.de/kontakt/\">\n",
      "       Kontakt\n",
      "      </a>\n",
      "     </li>\n",
      "     <li class=\"pr-metaMenu__item-wrap\">\n",
      "      <a class=\"pr-metaMenu__item\" href=\"https://www.plersch.de/datenschutz/\">\n",
      "       Datenschutz\n",
      "      </a>\n",
      "     </li>\n",
      "     <li class=\"pr-metaMenu__item-wrap\">\n",
      "      <a class=\"pr-metaMenu__item\" href=\"https://www.plersch.de/agb/\">\n",
      "       AGB\n",
      "      </a>\n",
      "     </li>\n",
      "    </ul>\n",
      "   </nav>\n",
      "  </aside>\n",
      "  <header class=\"pr-siteHead\">\n",
      "   <div class=\"pr-siteHead__wrap\">\n",
      "   \n"
     ]
    }
   ],
   "source": [
    "from lxml.html import html_to_xhtml\n",
    "from lxml import etree\n",
    "\n",
    "html_doc = html.fromstring(soup_str)\n",
    "html_doc_s = etree.tostring(html_doc).decode(\"utf-8\") \n",
    "print(len(html_doc_s))\n",
    "print(html_doc_s[:1000])\n",
    "\n",
    "with open(\"../app/old/etest.html\", \"w+\") as f:\n",
    "    f.write(html_doc_s)"
   ]
  },
  {
   "cell_type": "code",
   "execution_count": 101,
   "id": "5cb57407",
   "metadata": {},
   "outputs": [
    {
     "name": "stdout",
     "output_type": "stream",
     "text": [
      "18620\n",
      "<html:html xmlns:html=\"http://www.w3.org/1999/xhtml\" class=\"no-js\" lang=\"\">\n",
      " <html:head>\n",
      "  <html:title>\n",
      "   Start | Plersch Edelstahltechnik GmbH\n",
      "  </html:title>\n",
      " </html:head>\n",
      " <html:body class=\"home page-template-default page page-id-2\">\n",
      "  <html:aside class=\"pr-metaMenu\">\n",
      "   <html:nav>\n",
      "    <html:ul class=\"pr-metaMenu__wrap\" id=\"menu-meta-menue-kleingedrucktes-header\">\n",
      "     <html:li class=\"pr-metaMenu__item-wrap\">\n",
      "      <html:a class=\"pr-metaMenu__item\" href=\"https://www.plersch.de/impressum/\">\n",
      "       Impressum\n",
      "      </html:a>\n",
      "     </html:li>\n",
      "     <html:li class=\"pr-metaMenu__item-wrap\">\n",
      "      <html:a class=\"pr-metaMenu__item\" href=\"https://www.plersch.de/kontakt/\">\n",
      "       Kontakt\n",
      "      </html:a>\n",
      "     </html:li>\n",
      "     <html:li class=\"pr-metaMenu__item-wrap\">\n",
      "      <html:a class=\"pr-metaMenu__item\" href=\"https://www.plersch.de/datenschutz/\">\n",
      "       Datenschutz\n",
      "      </html:a>\n",
      "     </html:li>\n",
      "     <html:li class=\"pr-metaMenu__item-wrap\">\n",
      "      <html:a class=\"pr-metaMenu__item\" href=\"https:\n"
     ]
    }
   ],
   "source": [
    "html_to_xhtml(html_doc)\n",
    "\n",
    "html_doc_s = etree.tostring(html_doc).decode(\"utf-8\") \n",
    "print(len(html_doc_s))\n",
    "print(html_doc_s[:1000])\n",
    "\n",
    "with open(\"../app/old/etest.xhtml\", \"w+\") as f:\n",
    "    f.write(html_doc_s)"
   ]
  },
  {
   "cell_type": "code",
   "execution_count": null,
   "id": "483c6ee9",
   "metadata": {},
   "outputs": [],
   "source": []
  },
  {
   "cell_type": "code",
   "execution_count": null,
   "id": "5a7ab1ff",
   "metadata": {},
   "outputs": [],
   "source": []
  },
  {
   "cell_type": "code",
   "execution_count": 9,
   "id": "2a7be250",
   "metadata": {
    "collapsed": true
   },
   "outputs": [
    {
     "name": "stderr",
     "output_type": "stream",
     "text": [
      "/Users/jan/anaconda3/lib/python3.7/site-packages/ipykernel_launcher.py:1: SettingWithCopyWarning: \n",
      "A value is trying to be set on a copy of a slice from a DataFrame.\n",
      "Try using .loc[row_indexer,col_indexer] = value instead\n",
      "\n",
      "See the caveats in the documentation: https://pandas.pydata.org/pandas-docs/stable/user_guide/indexing.html#returning-a-view-versus-a-copy\n",
      "  \"\"\"Entry point for launching an IPython kernel.\n"
     ]
    }
   ],
   "source": [
    "train2[\"html\"] = train2.apply(lambda row: clean_html_boilerplate(row[\"html\"]), axis=1)"
   ]
  },
  {
   "cell_type": "code",
   "execution_count": 10,
   "id": "833b4375",
   "metadata": {},
   "outputs": [
    {
     "data": {
      "text/html": [
       "<div>\n",
       "<style scoped>\n",
       "    .dataframe tbody tr th:only-of-type {\n",
       "        vertical-align: middle;\n",
       "    }\n",
       "\n",
       "    .dataframe tbody tr th {\n",
       "        vertical-align: top;\n",
       "    }\n",
       "\n",
       "    .dataframe thead th {\n",
       "        text-align: right;\n",
       "    }\n",
       "</style>\n",
       "<table border=\"1\" class=\"dataframe\">\n",
       "  <thead>\n",
       "    <tr style=\"text-align: right;\">\n",
       "      <th></th>\n",
       "      <th>url</th>\n",
       "      <th>industry</th>\n",
       "      <th>industry_label</th>\n",
       "      <th>group</th>\n",
       "      <th>group_representative</th>\n",
       "      <th>html</th>\n",
       "      <th>text</th>\n",
       "      <th>source</th>\n",
       "      <th>country</th>\n",
       "      <th>group_representative_label</th>\n",
       "    </tr>\n",
       "  </thead>\n",
       "  <tbody>\n",
       "    <tr>\n",
       "      <th>0</th>\n",
       "      <td>http://www.weldmont.de</td>\n",
       "      <td>56</td>\n",
       "      <td>Mining &amp; Metals</td>\n",
       "      <td>man</td>\n",
       "      <td>55</td>\n",
       "      <td>&lt;html&gt;    &lt;head&gt;                              ...</td>\n",
       "      <td>Weldmont\\n\\nHU\\nDE\\nEN\\nSK\\nHU\\nDE\\nEN\\nSK\\n\\n...</td>\n",
       "      <td>xing</td>\n",
       "      <td>DE</td>\n",
       "      <td>Apparel &amp; Fashion</td>\n",
       "    </tr>\n",
       "    <tr>\n",
       "      <th>1</th>\n",
       "      <td>http://www.rvs.at</td>\n",
       "      <td>41</td>\n",
       "      <td>Banking</td>\n",
       "      <td>fin</td>\n",
       "      <td>43</td>\n",
       "      <td>&lt;html lang=\"de\"&gt;&lt;head&gt;            &lt;title&gt;Raiff...</td>\n",
       "      <td>Raiffeisenverband Salzburg Privatkunden\\n\\nSki...</td>\n",
       "      <td>xing</td>\n",
       "      <td>DE</td>\n",
       "      <td>Higher Education</td>\n",
       "    </tr>\n",
       "    <tr>\n",
       "      <th>2</th>\n",
       "      <td>http://www.unicon.at</td>\n",
       "      <td>11</td>\n",
       "      <td>Management Consulting</td>\n",
       "      <td>corp, consulting</td>\n",
       "      <td>11</td>\n",
       "      <td>&lt;html lang=\"de\"&gt;&lt;head&gt;&lt;title&gt;Unternehmensberat...</td>\n",
       "      <td>Unternehmensberatung, Coaching &amp; Seminare | UN...</td>\n",
       "      <td>linkedin</td>\n",
       "      <td>DE</td>\n",
       "      <td>Motion Pictures and Film</td>\n",
       "    </tr>\n",
       "  </tbody>\n",
       "</table>\n",
       "</div>"
      ],
      "text/plain": [
       "                      url  industry         industry_label             group  \\\n",
       "0  http://www.weldmont.de        56        Mining & Metals               man   \n",
       "1       http://www.rvs.at        41                Banking               fin   \n",
       "2    http://www.unicon.at        11  Management Consulting  corp, consulting   \n",
       "\n",
       "   group_representative                                               html  \\\n",
       "0                    55  <html>    <head>                              ...   \n",
       "1                    43  <html lang=\"de\"><head>            <title>Raiff...   \n",
       "2                    11  <html lang=\"de\"><head><title>Unternehmensberat...   \n",
       "\n",
       "                                                text    source country  \\\n",
       "0  Weldmont\\n\\nHU\\nDE\\nEN\\nSK\\nHU\\nDE\\nEN\\nSK\\n\\n...      xing      DE   \n",
       "1  Raiffeisenverband Salzburg Privatkunden\\n\\nSki...      xing      DE   \n",
       "2  Unternehmensberatung, Coaching & Seminare | UN...  linkedin      DE   \n",
       "\n",
       "  group_representative_label  \n",
       "0          Apparel & Fashion  \n",
       "1           Higher Education  \n",
       "2   Motion Pictures and Film  "
      ]
     },
     "execution_count": 10,
     "metadata": {},
     "output_type": "execute_result"
    }
   ],
   "source": [
    "train.head(3)"
   ]
  },
  {
   "cell_type": "code",
   "execution_count": null,
   "id": "eca49690",
   "metadata": {},
   "outputs": [],
   "source": []
  },
  {
   "cell_type": "code",
   "execution_count": null,
   "id": "ef6f53f7",
   "metadata": {},
   "outputs": [],
   "source": []
  },
  {
   "cell_type": "code",
   "execution_count": 44,
   "id": "0881f6ba",
   "metadata": {},
   "outputs": [
    {
     "name": "stdout",
     "output_type": "stream",
     "text": [
      "Hospitality\n",
      "Logistics and Supply Chain\n",
      "Management Consulting\n",
      "Renewables & Environment\n"
     ]
    }
   ],
   "source": [
    "gr = sorted(list(train.group_representative_label.unique()))\n",
    "i = sorted(list(train.industry_label.unique()))\n",
    "\n",
    "for element in gr:\n",
    "    if element in i:\n",
    "        print(element)"
   ]
  },
  {
   "cell_type": "code",
   "execution_count": 102,
   "id": "05702ad2",
   "metadata": {},
   "outputs": [
    {
     "data": {
      "text/plain": [
       "['Apparel & Fashion',\n",
       " 'Business Supplies and Equipment',\n",
       " 'Civic & Social Organization',\n",
       " 'Cosmetics',\n",
       " 'Education Management',\n",
       " 'Higher Education',\n",
       " 'Hospitality',\n",
       " 'Investment Banking',\n",
       " 'Law Practice',\n",
       " 'Logistics and Supply Chain',\n",
       " 'Management Consulting',\n",
       " 'Maritime',\n",
       " 'Media Production',\n",
       " 'Motion Pictures and Film',\n",
       " 'Museums and Institutions',\n",
       " 'Package/Freight Delivery',\n",
       " 'Photography',\n",
       " 'Renewables & Environment',\n",
       " 'Research',\n",
       " 'Wireless',\n",
       " 'Writing and Editing']"
      ]
     },
     "execution_count": 102,
     "metadata": {},
     "output_type": "execute_result"
    }
   ],
   "source": [
    "gr"
   ]
  },
  {
   "cell_type": "code",
   "execution_count": 11,
   "id": "4074b7d6",
   "metadata": {},
   "outputs": [
    {
     "data": {
      "text/html": [
       "<div>\n",
       "<style scoped>\n",
       "    .dataframe tbody tr th:only-of-type {\n",
       "        vertical-align: middle;\n",
       "    }\n",
       "\n",
       "    .dataframe tbody tr th {\n",
       "        vertical-align: top;\n",
       "    }\n",
       "\n",
       "    .dataframe thead th {\n",
       "        text-align: right;\n",
       "    }\n",
       "</style>\n",
       "<table border=\"1\" class=\"dataframe\">\n",
       "  <thead>\n",
       "    <tr style=\"text-align: right;\">\n",
       "      <th></th>\n",
       "      <th>url</th>\n",
       "      <th>industry</th>\n",
       "      <th>industry_label</th>\n",
       "      <th>group</th>\n",
       "      <th>group_representative</th>\n",
       "      <th>html</th>\n",
       "      <th>text</th>\n",
       "      <th>source</th>\n",
       "      <th>country</th>\n",
       "      <th>group_representative_label</th>\n",
       "    </tr>\n",
       "  </thead>\n",
       "  <tbody>\n",
       "    <tr>\n",
       "      <th>0</th>\n",
       "      <td>http://www.weldmont.de</td>\n",
       "      <td>56</td>\n",
       "      <td>Mining &amp; Metals</td>\n",
       "      <td>man</td>\n",
       "      <td>55</td>\n",
       "      <td>&lt;html&gt;    &lt;head&gt;                              ...</td>\n",
       "      <td>Weldmont\\n\\nHU\\nDE\\nEN\\nSK\\nHU\\nDE\\nEN\\nSK\\n\\n...</td>\n",
       "      <td>xing</td>\n",
       "      <td>DE</td>\n",
       "      <td>Apparel &amp; Fashion</td>\n",
       "    </tr>\n",
       "    <tr>\n",
       "      <th>1</th>\n",
       "      <td>http://www.rvs.at</td>\n",
       "      <td>41</td>\n",
       "      <td>Banking</td>\n",
       "      <td>fin</td>\n",
       "      <td>43</td>\n",
       "      <td>&lt;html lang=\"de\"&gt;&lt;head&gt;            &lt;title&gt;Raiff...</td>\n",
       "      <td>Raiffeisenverband Salzburg Privatkunden\\n\\nSki...</td>\n",
       "      <td>xing</td>\n",
       "      <td>DE</td>\n",
       "      <td>Higher Education</td>\n",
       "    </tr>\n",
       "    <tr>\n",
       "      <th>2</th>\n",
       "      <td>http://www.unicon.at</td>\n",
       "      <td>11</td>\n",
       "      <td>Management Consulting</td>\n",
       "      <td>corp, consulting</td>\n",
       "      <td>11</td>\n",
       "      <td>&lt;html lang=\"de\"&gt;&lt;head&gt;&lt;title&gt;Unternehmensberat...</td>\n",
       "      <td>Unternehmensberatung, Coaching &amp; Seminare | UN...</td>\n",
       "      <td>linkedin</td>\n",
       "      <td>DE</td>\n",
       "      <td>Motion Pictures and Film</td>\n",
       "    </tr>\n",
       "  </tbody>\n",
       "</table>\n",
       "</div>"
      ],
      "text/plain": [
       "                      url  industry         industry_label             group  \\\n",
       "0  http://www.weldmont.de        56        Mining & Metals               man   \n",
       "1       http://www.rvs.at        41                Banking               fin   \n",
       "2    http://www.unicon.at        11  Management Consulting  corp, consulting   \n",
       "\n",
       "   group_representative                                               html  \\\n",
       "0                    55  <html>    <head>                              ...   \n",
       "1                    43  <html lang=\"de\"><head>            <title>Raiff...   \n",
       "2                    11  <html lang=\"de\"><head><title>Unternehmensberat...   \n",
       "\n",
       "                                                text    source country  \\\n",
       "0  Weldmont\\n\\nHU\\nDE\\nEN\\nSK\\nHU\\nDE\\nEN\\nSK\\n\\n...      xing      DE   \n",
       "1  Raiffeisenverband Salzburg Privatkunden\\n\\nSki...      xing      DE   \n",
       "2  Unternehmensberatung, Coaching & Seminare | UN...  linkedin      DE   \n",
       "\n",
       "  group_representative_label  \n",
       "0          Apparel & Fashion  \n",
       "1           Higher Education  \n",
       "2   Motion Pictures and Film  "
      ]
     },
     "execution_count": 11,
     "metadata": {},
     "output_type": "execute_result"
    }
   ],
   "source": [
    "train2.head(3)"
   ]
  },
  {
   "cell_type": "code",
   "execution_count": 14,
   "id": "f95fecf8",
   "metadata": {},
   "outputs": [],
   "source": [
    "with open(\"../app/old/test.html\", \"r\") as f:\n",
    "    old_html = f.read()"
   ]
  },
  {
   "cell_type": "code",
   "execution_count": 15,
   "id": "1ad4ef89",
   "metadata": {},
   "outputs": [
    {
     "data": {
      "text/plain": [
       "'<!DOCTYPE html><html>    <head>        <!-- Global site tag (gtag.js) - Google Analytics -->        '"
      ]
     },
     "execution_count": 15,
     "metadata": {},
     "output_type": "execute_result"
    }
   ],
   "source": [
    "old_html[:100]"
   ]
  },
  {
   "cell_type": "code",
   "execution_count": 17,
   "id": "02684937",
   "metadata": {},
   "outputs": [],
   "source": [
    "cleaned_html = clean_html_boilerplate(old_html)"
   ]
  },
  {
   "cell_type": "code",
   "execution_count": 18,
   "id": "94da58ef",
   "metadata": {},
   "outputs": [
    {
     "data": {
      "text/plain": [
       "'<html>    <head>    '"
      ]
     },
     "execution_count": 18,
     "metadata": {},
     "output_type": "execute_result"
    }
   ],
   "source": [
    "cleaned_html[:20]"
   ]
  },
  {
   "cell_type": "code",
   "execution_count": 19,
   "id": "4db9be36",
   "metadata": {},
   "outputs": [
    {
     "data": {
      "text/plain": [
       "'      </body></html>'"
      ]
     },
     "execution_count": 19,
     "metadata": {},
     "output_type": "execute_result"
    }
   ],
   "source": [
    "cleaned_html[-20:]"
   ]
  },
  {
   "cell_type": "code",
   "execution_count": 20,
   "id": "d89a4134",
   "metadata": {},
   "outputs": [
    {
     "data": {
      "text/plain": [
       "['a',\n",
       " 'body',\n",
       " 'br',\n",
       " 'div',\n",
       " 'h1',\n",
       " 'h2',\n",
       " 'head',\n",
       " 'html',\n",
       " 'i',\n",
       " 'li',\n",
       " 'p',\n",
       " 'span',\n",
       " 'svg',\n",
       " 'title',\n",
       " 'ul']"
      ]
     },
     "execution_count": 20,
     "metadata": {},
     "output_type": "execute_result"
    }
   ],
   "source": [
    "from lxml import etree\n",
    "from lxml import html\n",
    "import numpy as np\n",
    "\n",
    "html_file = html.fromstring(cleaned_html)\n",
    "\n",
    "tags = [element.tag for element in html_file.iter()]\n",
    "list(np.unique(tags))"
   ]
  },
  {
   "cell_type": "code",
   "execution_count": 21,
   "id": "2e9e683f",
   "metadata": {},
   "outputs": [
    {
     "name": "stdout",
     "output_type": "stream",
     "text": [
      "html\n",
      "head\n",
      "title\n",
      "body\n",
      "div\n",
      "div\n",
      "div\n",
      "div\n",
      "div\n",
      "div\n",
      "div\n",
      "a\n",
      "div\n",
      "div\n",
      "div\n",
      "i\n",
      "i\n",
      "div\n",
      "div\n",
      "div\n",
      "svg\n",
      "div\n",
      "a\n",
      "div\n",
      "a\n",
      "div\n",
      "a\n",
      "div\n",
      "a\n",
      "div\n",
      "div\n",
      "a\n",
      "svg\n",
      "div\n",
      "a\n",
      "svg\n",
      "div\n",
      "a\n",
      "svg\n",
      "div\n",
      "a\n",
      "svg\n",
      "div\n",
      "div\n",
      "div\n",
      "div\n",
      "div\n",
      "a\n",
      "svg\n",
      "div\n",
      "a\n",
      "svg\n",
      "div\n",
      "a\n",
      "svg\n",
      "div\n",
      "a\n",
      "svg\n",
      "div\n",
      "div\n",
      "svg\n",
      "div\n",
      "a\n",
      "div\n",
      "a\n",
      "div\n",
      "a\n",
      "div\n",
      "a\n",
      "div\n",
      "ul\n",
      "li\n",
      "a\n",
      "li\n",
      "a\n",
      "div\n",
      "div\n",
      "div\n",
      "a\n",
      "div\n",
      "div\n",
      "div\n",
      "div\n",
      "h1\n",
      "h2\n",
      "div\n",
      "svg\n",
      "div\n",
      "p\n",
      "div\n",
      "a\n",
      "div\n",
      "div\n",
      "div\n",
      "div\n",
      "h1\n",
      "h2\n",
      "div\n",
      "svg\n",
      "div\n",
      "p\n",
      "div\n",
      "div\n",
      "div\n",
      "div\n",
      "div\n",
      "div\n",
      "span\n",
      "br\n",
      "br\n",
      "br\n",
      "div\n",
      "span\n",
      "br\n",
      "br\n",
      "br\n",
      "div\n",
      "div\n",
      "div\n",
      "ul\n",
      "li\n",
      "a\n",
      "li\n",
      "a\n",
      "li\n",
      "a\n",
      "li\n",
      "a\n",
      "li\n",
      "a\n",
      "li\n",
      "a\n",
      "div\n",
      "div\n",
      "div\n",
      "ul\n",
      "li\n",
      "a\n",
      "li\n",
      "a\n",
      "li\n",
      "a\n",
      "li\n",
      "a\n",
      "li\n",
      "a\n",
      "div\n",
      "div\n",
      "div\n",
      "div\n",
      "ul\n",
      "li\n",
      "a\n",
      "li\n",
      "a\n",
      "div\n",
      "div\n",
      "div\n",
      "a\n",
      "svg\n",
      "div\n",
      "a\n",
      "svg\n",
      "div\n",
      "a\n",
      "svg\n",
      "div\n",
      "a\n",
      "svg\n",
      "div\n",
      "a\n",
      "div\n",
      "a\n"
     ]
    }
   ],
   "source": [
    "# If you want to visit all of the descendants\n",
    "for element in html_file.iter():\n",
    "    print(element.tag)\n",
    "    \n",
    "    \n",
    "# Or, if you want to have a list of all the descendents\n",
    "all_elements = list(html_file.iter())\n",
    "#print([element.tag for element in all_elements])"
   ]
  },
  {
   "cell_type": "code",
   "execution_count": null,
   "id": "b5af46b0",
   "metadata": {},
   "outputs": [],
   "source": []
  },
  {
   "cell_type": "code",
   "execution_count": null,
   "id": "124b6a76",
   "metadata": {},
   "outputs": [],
   "source": []
  },
  {
   "cell_type": "code",
   "execution_count": null,
   "id": "e1243d13",
   "metadata": {},
   "outputs": [],
   "source": []
  },
  {
   "cell_type": "code",
   "execution_count": null,
   "id": "473c5fcd",
   "metadata": {},
   "outputs": [],
   "source": []
  }
 ],
 "metadata": {
  "kernelspec": {
   "display_name": "Python 3",
   "language": "python",
   "name": "python3"
  },
  "language_info": {
   "codemirror_mode": {
    "name": "ipython",
    "version": 3
   },
   "file_extension": ".py",
   "mimetype": "text/x-python",
   "name": "python",
   "nbconvert_exporter": "python",
   "pygments_lexer": "ipython3",
   "version": "3.9.4"
  }
 },
 "nbformat": 4,
 "nbformat_minor": 5
}
