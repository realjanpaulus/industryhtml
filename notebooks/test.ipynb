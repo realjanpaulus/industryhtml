{
 "cells": [
  {
   "cell_type": "markdown",
   "id": "00ad4410",
   "metadata": {},
   "source": [
    "# Test Notebook\n",
    "\n",
    "- Encode/Decode Cycle: https://stackoverflow.com/questions/15304229/convert-python-elementtree-to-string"
   ]
  },
  {
   "cell_type": "code",
   "execution_count": 1,
   "id": "70ad2a14",
   "metadata": {},
   "outputs": [],
   "source": [
    "import lxml\n",
    "from lxml import etree, html\n",
    "import numpy as np\n",
    "import pandas as pd\n",
    "import sys\n",
    "import os\n",
    "\n",
    "module_path = os.path.abspath(os.path.join('..'))\n",
    "if module_path not in sys.path:\n",
    "    sys.path.append(module_path)\n",
    "from app.utils import clean_boilerplate, clean_website"
   ]
  },
  {
   "cell_type": "markdown",
   "id": "565457b3",
   "metadata": {},
   "source": [
    "### Loading"
   ]
  },
  {
   "cell_type": "code",
   "execution_count": 2,
   "id": "8a1310b7",
   "metadata": {},
   "outputs": [],
   "source": [
    "DATA_DIR_PATH = \"../data/\"\n",
    "LANG = \"\"\n",
    "\n",
    "TRAIN_PATH_CSV = DATA_DIR_PATH + \"train\" + LANG + \".csv\"\n",
    "TEST_PATH_CSV = DATA_DIR_PATH + \"test\" + LANG + \".csv\"\n",
    "\n",
    "N = 0"
   ]
  },
  {
   "cell_type": "code",
   "execution_count": 3,
   "id": "d93db20e",
   "metadata": {},
   "outputs": [
    {
     "name": "stdout",
     "output_type": "stream",
     "text": [
      "CPU times: user 7.37 s, sys: 1.09 s, total: 8.46 s\n",
      "Wall time: 8.45 s\n"
     ]
    }
   ],
   "source": [
    "%%time\n",
    "train = pd.read_csv(TRAIN_PATH_CSV)"
   ]
  },
  {
   "cell_type": "code",
   "execution_count": 57,
   "id": "a17aa4d1",
   "metadata": {},
   "outputs": [
    {
     "name": "stdout",
     "output_type": "stream",
     "text": [
      "CPU times: user 2.44 s, sys: 275 ms, total: 2.71 s\n",
      "Wall time: 2.71 s\n"
     ]
    }
   ],
   "source": [
    "%%time\n",
    "\n",
    "### sample dataframe ###\n",
    "import random\n",
    "p = 0.1\n",
    "train = pd.read_csv(\n",
    "         TRAIN_PATH_CSV,\n",
    "         header=0, \n",
    "         skiprows=lambda i: i>0 and random.random() > p\n",
    ")"
   ]
  },
  {
   "cell_type": "code",
   "execution_count": 58,
   "id": "17293af5",
   "metadata": {},
   "outputs": [
    {
     "data": {
      "text/html": [
       "<div>\n",
       "<style scoped>\n",
       "    .dataframe tbody tr th:only-of-type {\n",
       "        vertical-align: middle;\n",
       "    }\n",
       "\n",
       "    .dataframe tbody tr th {\n",
       "        vertical-align: top;\n",
       "    }\n",
       "\n",
       "    .dataframe thead th {\n",
       "        text-align: right;\n",
       "    }\n",
       "</style>\n",
       "<table border=\"1\" class=\"dataframe\">\n",
       "  <thead>\n",
       "    <tr style=\"text-align: right;\">\n",
       "      <th></th>\n",
       "      <th>url</th>\n",
       "      <th>industry</th>\n",
       "      <th>industry_label</th>\n",
       "      <th>group</th>\n",
       "      <th>group_representative</th>\n",
       "      <th>html</th>\n",
       "      <th>text</th>\n",
       "      <th>source</th>\n",
       "      <th>country</th>\n",
       "      <th>group_representative_label</th>\n",
       "    </tr>\n",
       "  </thead>\n",
       "  <tbody>\n",
       "    <tr>\n",
       "      <th>0</th>\n",
       "      <td>http://www.energy-net.de</td>\n",
       "      <td>8</td>\n",
       "      <td>Telecommunications</td>\n",
       "      <td>gov, tech</td>\n",
       "      <td>8</td>\n",
       "      <td>&lt;html&gt;&lt;head&gt;&lt;title&gt;Energy Net Apple Reseller&lt;/...</td>\n",
       "      <td>Energy Net Apple Reseller\\n\\nSpringe zum Inhal...</td>\n",
       "      <td>xing</td>\n",
       "      <td>DE</td>\n",
       "      <td>Telecommunications</td>\n",
       "    </tr>\n",
       "  </tbody>\n",
       "</table>\n",
       "</div>"
      ],
      "text/plain": [
       "                        url  industry      industry_label      group  \\\n",
       "0  http://www.energy-net.de         8  Telecommunications  gov, tech   \n",
       "\n",
       "   group_representative                                               html  \\\n",
       "0                     8  <html><head><title>Energy Net Apple Reseller</...   \n",
       "\n",
       "                                                text source country  \\\n",
       "0  Energy Net Apple Reseller\\n\\nSpringe zum Inhal...   xing      DE   \n",
       "\n",
       "  group_representative_label  \n",
       "0         Telecommunications  "
      ]
     },
     "execution_count": 58,
     "metadata": {},
     "output_type": "execute_result"
    }
   ],
   "source": [
    "train.head(1)"
   ]
  },
  {
   "cell_type": "markdown",
   "id": "f6799a87",
   "metadata": {},
   "source": [
    "## Test strange websites"
   ]
  },
  {
   "cell_type": "code",
   "execution_count": null,
   "id": "db53acaf",
   "metadata": {},
   "outputs": [],
   "source": [
    "import requests\n",
    "\n",
    "l = ['http://www.ciphron.de', \n",
    "     'http://www.debas.de', \n",
    "     'http://www.m2g-consult.de',\n",
    "     'http://www.roundsolutions.com']\n",
    "\n",
    "d = {}\n",
    "d2 = {}\n",
    "\n",
    "for link in l:\n",
    "    d[link] = requests.get(link).text\n",
    "    d2[link] = requests.get(link).content\n",
    "    \n",
    "url = 'http://www.roundsolutions.com'\n",
    "s = d[url]\n",
    "clean = clean_boilerplate(s, url)"
   ]
  },
  {
   "cell_type": "markdown",
   "id": "505b9e36",
   "metadata": {},
   "source": [
    "## Only text between specific HTML Tags"
   ]
  },
  {
   "cell_type": "code",
   "execution_count": 17,
   "id": "2c7e3ac4",
   "metadata": {},
   "outputs": [],
   "source": [
    "import re\n",
    "from typing import Dict, List, Optional, Tuple, Union\n",
    "\n",
    "from lxml.html.clean import Cleaner\n",
    "from lxml import html, etree\n",
    "import numpy as np  # todo: nötig?\n",
    "import pandas as pd  # todo: nötig?\n",
    "\n",
    "def remove_tags(tree):\n",
    "    \"\"\" Remove all tags of lxml tree and return string.\"\"\"\n",
    "    return \" \".join(tree.itertext())\n",
    "\n",
    "def tokenizing_html(text: str, token_list: Optional[List[str]] = []) -> List[str]:\n",
    "    \"\"\" Tokenizes a HTML document by keeping the HTML tags with angle brackets\n",
    "        and the text tokens. If a token_list is given, only tokens of the list\n",
    "        will be used, the others will be removed.\n",
    "    \"\"\"\n",
    "    token_pattern = r\"(?u)\\b\\w\\w+\\b\"\n",
    "    tag_pattern = r\"</{0,1}[A-Za-z][A-Za-z0-9]*\\s{0,1}/{0,1}>\"\n",
    "    regex = re.compile(token_pattern + \"|\" + tag_pattern)\n",
    "    tokens = regex.findall(text)\n",
    "\n",
    "    # create html tags from token list\n",
    "    updated_token_list = []\n",
    "\n",
    "    for token in token_list:\n",
    "        updated_token_list.append(f\"<{token}>\")\n",
    "        updated_token_list.append(f\"<{token}/>\")\n",
    "        updated_token_list.append(f\"</{token}>\")\n",
    "        updated_token_list.append(f\"</ {token}>\")\n",
    "\n",
    "    if token_list:\n",
    "        return [\n",
    "            token for token in tokens if token in updated_token_list or token[0] != \"<\"\n",
    "        ]\n",
    "    else:\n",
    "        return tokens"
   ]
  },
  {
   "cell_type": "code",
   "execution_count": 18,
   "id": "d211a182",
   "metadata": {},
   "outputs": [],
   "source": [
    "def detect_XML(string: str) -> str:\n",
    "    \"\"\" Detect XML by XML declaration and returns a markup type string.\"\"\"\n",
    "    if string.startswith(\"<?xml\"):\n",
    "        return \"xml\"\n",
    "    else:\n",
    "        return \"html\""
   ]
  },
  {
   "cell_type": "code",
   "execution_count": 19,
   "id": "76d5c1d3",
   "metadata": {},
   "outputs": [],
   "source": [
    "test_html = train.iloc[N].html\n",
    "\n",
    "tag_list = ['a', 'b', 'em', 'h1', 'h2', 'h3', 'i', 'li', 'p', 'strong', 'title']"
   ]
  },
  {
   "cell_type": "code",
   "execution_count": 7,
   "id": "b82b9a0a",
   "metadata": {},
   "outputs": [],
   "source": [
    "urls = []\n",
    "\n",
    "for idx, row in train.iterrows():\n",
    "    if detect_XML(row.html) == \"xml\" or row.html.startswith(\"<html\") == False:\n",
    "        urls.append(row.url)"
   ]
  },
  {
   "cell_type": "code",
   "execution_count": 8,
   "id": "bedad507",
   "metadata": {},
   "outputs": [],
   "source": [
    "import requests\n",
    "\n",
    "html_file = str(requests.get(urls[0]).text) #.encode(\"utf-8\").decode(\"utf-8\")"
   ]
  },
  {
   "cell_type": "code",
   "execution_count": 12,
   "id": "5705b41c",
   "metadata": {},
   "outputs": [],
   "source": [
    "cleaned = clean_boilerplate(html_file, \"url\")"
   ]
  },
  {
   "cell_type": "code",
   "execution_count": 20,
   "id": "60e25a1b",
   "metadata": {},
   "outputs": [
    {
     "name": "stdout",
     "output_type": "stream",
     "text": [
      "<class 'lxml.html.HtmlElement'>\n"
     ]
    }
   ],
   "source": [
    "s = trim_html(html_file, tag_list=tag_list, keep_tags=False)"
   ]
  },
  {
   "cell_type": "code",
   "execution_count": 15,
   "id": "b4228bb1",
   "metadata": {},
   "outputs": [
    {
     "data": {
      "text/plain": [
       "'Warning :  \"continue\" targeting switch is equivalent to \"break\". Did you mean to use \"continue 2\"? in  /home/clients/c2b3009eca73ccb0fafa927534fd4097/web_imos/wp-includes/pomo/plural-forms.php  on line  210 IMOS   Aller au contenu principal L\\'immobilier à taille humaine Lausanne / Neuchâtel Location Courtage PPE Tecimos Mazout Contact & horaires myIMOS Rue Centrale 10 (VD) / Rue des Sablons 6 (NE)   Descendre au contenu Accueil NEUCHÂTEL, nous voila  ! Ouverture de notre succursale neuchâteloise dès février 2019 ! Notre volonté de proximité et notre amour pour le  beau canton de Neuchâtel, nous a convaincu d’installer notre première succursale de suisse romande au bord du lac... IMOS est une société immobilière spécialisée dans la gestion locative,  le courtage et l’administration de PPE. Nous proposons une gestion de qualité, flexible et adaptée aux nouvelles exigences des propriétaires romands. Nous apportons également un oeil averti sur la consommation énergétique des bâtiments et proposons à nos clients la réalisation de bilan énergétique. Nous avons également développé la Société Romande de Consommateurde Mazout ( SRCM ) qui a pour but de faire profiter à nos clients des nombreux avantages engendrés par nos commandes groupées. Découvrez la présentation détaillée de nos différents services : Location Courtage   Administration de PPE Comptabilité et conseils SRCM Contact & horaires IMOS Immobilier & Conseils       Rue Centrale 10                       Rue des sablons 61003 Lausanne                          2000 Neuchatel T. 021 312 48 48                                       T. 032 323 47 47 M. info@imos-immobilier.ch HORAIRES Telephone :08H – 12H – du lundi au vendredi14H – 16H – du lundi au JEUDIHORAIRES BUREAU :09H – 12H – du lundi au vendredi : Réception14H – 16H – du lundi au JEUDI : sur rendez-vous     M. :  loc@imos-immobilier.ch     M. :  info@imos-immobilier.ch     M. :  ppe@imos-immobilier.ch      M. :  info@imos-immobilier.ch     Formulaire de contact Votre nom *      Votre prénom *      Votre email *      Votre message      Merci de recopier le code affiché ci-dessous   Liens Documentation Plugins Suggest Ideas Support Forum Themes WordPress Blog WordPress Planet Fièrement propulsé par WordPress'"
      ]
     },
     "execution_count": 15,
     "metadata": {},
     "output_type": "execute_result"
    }
   ],
   "source": [
    "s"
   ]
  },
  {
   "cell_type": "code",
   "execution_count": 80,
   "id": "f1b813a4",
   "metadata": {},
   "outputs": [],
   "source": []
  },
  {
   "cell_type": "code",
   "execution_count": null,
   "id": "ae141610",
   "metadata": {},
   "outputs": [],
   "source": []
  },
  {
   "cell_type": "code",
   "execution_count": 108,
   "id": "5b8aaaf7",
   "metadata": {
    "collapsed": true
   },
   "outputs": [
    {
     "data": {
      "text/plain": [
       "'\\ufeff<br />\\n<b>Warning</b>:  \"continue\" targeting switch is equivalent to \"break\". Did you mean to use \"continue 2\"? in <b>/home/clients/c2b3009eca73ccb0fafa927534fd4097/web_imos/wp-includes/pomo/plural-forms.php</b> on line <b>210</b><br />\\n<!DOCTYPE html>\\n<html lang=\"fr-FR\" class=\"no-js no-svg\">\\n<head>\\n<meta charset=\"UTF-8\">\\n<meta name=\"viewport\" content=\"width=device-width, initial-scale=1\">\\n<link rel=\"profile\" href=\"http://gmpg.org/xfn/11\">\\n\\n<script>(function(html){html.className = html.className.replace(/\\\\bno-js\\\\b/,\\'js\\')})(document.documentElement);</script>\\n<title>IMOS</title>\\n\\n<!-- All in One SEO Pack Pro 2.13 by Michael Torbert of Semper Fi Web Design[328,369] -->\\n<!-- Information de débogage: CEZBVTI8RKV/REZ7G2IP/B0JPYE -->\\n<meta name=\"description\"  content=\"Accueil du site internet la société IMOS\" />\\n\\n<link rel=\"canonical\" href=\"http://imos-immobilier.ch/\" />\\n<!-- /all in one seo pack pro -->\\n<link rel=\\'dns-prefetch\\' href=\\'//fonts.googleapis.com\\' />\\n<link rel=\\'dns-prefetch\\' href=\\'//s.w.org\\' />\\n<link href=\\'https://fonts.gstatic.com\\' crossorigin rel=\\'preconnect\\' />\\n<link rel=\"alternate\" type=\"application/rss+xml\" title=\" &raquo; Flux\" href=\"http://imos-immobilier.ch/feed/\" />\\n<link rel=\"alternate\" type=\"application/rss+xml\" title=\" &raquo; Flux des commentaires\" href=\"http://imos-immobilier.ch/comments/feed/\" />\\n<link rel=\"alternate\" type=\"application/rss+xml\" title=\" &raquo; Accueil Flux des commentaires\" href=\"http://imos-immobilier.ch/acceuil/feed/\" />\\n\\t\\t<script type=\"text/javascript\">\\n\\t\\t\\twindow._wpemojiSettings = {\"baseUrl\":\"https:\\\\/\\\\/s.w.org\\\\/images\\\\/core\\\\/emoji\\\\/2.4\\\\/72x72\\\\/\",\"ext\":\".png\",\"svgUrl\":\"https:\\\\/\\\\/s.w.org\\\\/images\\\\/core\\\\/emoji\\\\/2.4\\\\/svg\\\\/\",\"svgExt\":\".svg\",\"source\":{\"concatemoji\":\"http:\\\\/\\\\/imos-immobilier.ch\\\\/wp-includes\\\\/js\\\\/wp-emoji-release.min.js?ver=4.9.3\"}};\\n\\t\\t\\t!function(a,b,c){function d(a,b){var c=String.fromCharCode;l.clearRect(0,0,k.width,k.height),l.fillText(c.apply(this,a),0,0);var d=k.toDataURL();l.clearRect(0,0,k.width,k.height),l.fillText(c.apply(this,b),0,0);var e=k.toDataURL();return d===e}function e(a){var b;if(!l||!l.fillText)return!1;switch(l.textBaseline=\"top\",l.font=\"600 32px Arial\",a){case\"flag\":return!(b=d([55356,56826,55356,56819],[55356,56826,8203,55356,56819]))&&(b=d([55356,57332,56128,56423,56128,56418,56128,56421,56128,56430,56128,56423,56128,56447],[55356,57332,8203,56128,56423,8203,56128,56418,8203,56128,56421,8203,56128,56430,8203,56128,56423,8203,56128,56447]),!b);case\"emoji\":return b=d([55357,56692,8205,9792,65039],[55357,56692,8203,9792,65039]),!b}return!1}function f(a){var c=b.createElement(\"script\");c.src=a,c.defer=c.type=\"text/javascript\",b.getElementsByTagName(\"head\")[0].appendChild(c)}var g,h,i,j,k=b.createElement(\"canvas\"),l=k.getContext&&k.getContext(\"2d\");for(j=Array(\"flag\",\"emoji\"),c.supports={everything:!0,everythingExceptFlag:!0},i=0;i<j.length;i++)c.supports[j[i]]=e(j[i]),c.supports.everything=c.supports.everything&&c.supports[j[i]],\"flag\"!==j[i]&&(c.supports.everythingExceptFlag=c.supports.everythingExceptFlag&&c.supports[j[i]]);c.supports.everythingExceptFlag=c.supports.everythingExceptFlag&&!c.supports.flag,c.DOMReady=!1,c.readyCallback=function(){c.DOMReady=!0},c.supports.everything||(h=function(){c.readyCallback()},b.addEventListener?(b.addEventListener(\"DOMContentLoaded\",h,!1),a.addEventListener(\"load\",h,!1)):(a.attachEvent(\"onload\",h),b.attachEvent(\"onreadystatechange\",function(){\"complete\"===b.readyState&&c.readyCallback()})),g=c.source||{},g.concatemoji?f(g.concatemoji):g.wpemoji&&g.twemoji&&(f(g.twemoji),f(g.wpemoji)))}(window,document,window._wpemojiSettings);\\n\\t\\t</script>\\n\\t\\t<style type=\"text/css\">\\nimg.wp-smiley,\\nimg.emoji {\\n\\tdisplay: inline !important;\\n\\tborder: none !important;\\n\\tbox-shadow: none !important;\\n\\theight: 1em !important;\\n\\twidth: 1em !important;\\n\\tmargin: 0 .07em !important;\\n\\tvertical-align: -0.1em !important;\\n\\tbackground: none !important;\\n\\tpadding: 0 !important;\\n}\\n</style>\\n<link rel=\\'stylesheet\\' id=\\'contact-form-7-css\\'  href=\\'http://imos-immobilier.ch/wp-content/plugins/contact-form-7/includes/css/styles.css?ver=5.1.1\\' type=\\'text/css\\' media=\\'all\\' />\\n<link rel=\\'stylesheet\\' id=\\'twentyseventeen-fonts-css\\'  href=\\'https://fonts.googleapis.com/css?family=Libre+Franklin%3A300%2C300i%2C400%2C400i%2C600%2C600i%2C800%2C800i&#038;subset=latin%2Clatin-ext\\' type=\\'text/css\\' media=\\'all\\' />\\n<link rel=\\'stylesheet\\' id=\\'twentyseventeen-style-css\\'  href=\\'http://imos-immobilier.ch/wp-content/themes/twentyseventeen/style.css?ver=4.9.3\\' type=\\'text/css\\' media=\\'all\\' />\\n<link rel=\\'stylesheet\\' id=\\'twentyseventeen-block-style-css\\'  href=\\'http://imos-immobilier.ch/wp-content/themes/twentyseventeen/assets/css/blocks.css?ver=1.1\\' type=\\'text/css\\' media=\\'all\\' />\\n<link rel=\\'stylesheet\\' id=\\'twentyseventeen-colors-dark-css\\'  href=\\'http://imos-immobilier.ch/wp-content/themes/twentyseventeen/assets/css/colors-dark.css?ver=1.0\\' type=\\'text/css\\' media=\\'all\\' />\\n<!--[if lt IE 9]>\\n<link rel=\\'stylesheet\\' id=\\'twentyseventeen-ie8-css\\'  href=\\'http://imos-immobilier.ch/wp-content/themes/twentyseventeen/assets/css/ie8.css?ver=1.0\\' type=\\'text/css\\' media=\\'all\\' />\\n<![endif]-->\\n<link rel=\\'stylesheet\\' id=\\'wt-style-css\\'  href=\\'http://imos-immobilier.ch/wp-content/plugins/wp-easy-testimonial/assets/css/wtstyle.css?ver=0.1\\' type=\\'text/css\\' media=\\'all\\' />\\n<link rel=\\'stylesheet\\' id=\\'wt-fonts-css\\'  href=\\'//fonts.googleapis.com/css?family=Open+Sans%3A300%2C400%2C500%2C600%2C700%2C700%2C800%7CMontserrat%3A300%2C400%2C500%2C600%2C700%2C700%2C800%7Citalic&#038;subset=latin%2Clatin-ext&#038;ver=0.1\\' type=\\'text/css\\' media=\\'\\' />\\n<link rel=\\'stylesheet\\' id=\\'fontawesome-css\\'  href=\\'http://imos-immobilier.ch/wp-content/plugins/wp-easy-testimonial/assets/css/font-awesome-4.7.0/css/font-awesome.min.css?ver=0.1\\' type=\\'text/css\\' media=\\'\\' />\\n<link rel=\\'stylesheet\\' id=\\'oul-carousel-css\\'  href=\\'http://imos-immobilier.ch/wp-content/plugins/wp-easy-testimonial/assets/css/owl.carousel.css?ver=0.1\\' type=\\'text/css\\' media=\\'\\' />\\n<link rel=\\'stylesheet\\' id=\\'oul-theme-default-css\\'  href=\\'http://imos-immobilier.ch/wp-content/plugins/wp-easy-testimonial/assets/css/owl.theme.default.min.css?ver=0.1\\' type=\\'text/css\\' media=\\'\\' />\\n<script type=\\'text/javascript\\' src=\\'https://ajax.googleapis.com/ajax/libs/prototype/1.7.1.0/prototype.js?ver=1.7.1\\'></script>\\n<script type=\\'text/javascript\\' src=\\'https://ajax.googleapis.com/ajax/libs/scriptaculous/1.9.0/scriptaculous.js?ver=1.9.0\\'></script>\\n<script type=\\'text/javascript\\' src=\\'https://ajax.googleapis.com/ajax/libs/scriptaculous/1.9.0/effects.js?ver=1.9.0\\'></script>\\n<script type=\\'text/javascript\\' src=\\'http://imos-immobilier.ch/wp-content/plugins/lightbox-2/lightbox.js?ver=1.8\\'></script>\\n<script type=\\'text/javascript\\' src=\\'http://imos-immobilier.ch/wp-includes/js/jquery/jquery.js?ver=1.12.4\\'></script>\\n<script type=\\'text/javascript\\' src=\\'http://imos-immobilier.ch/wp-includes/js/jquery/jquery-migrate.min.js?ver=1.4.1\\'></script>\\n<!--[if lt IE 9]>\\n<script type=\\'text/javascript\\' src=\\'http://imos-immobilier.ch/wp-content/themes/twentyseventeen/assets/js/html5.js?ver=3.7.3\\'></script>\\n<![endif]-->\\n<link rel=\\'https://api.w.org/\\' href=\\'http://imos-immobilier.ch/wp-json/\\' />\\n<link rel=\"EditURI\" type=\"application/rsd+xml\" title=\"RSD\" href=\"http://imos-immobilier.ch/xmlrpc.php?rsd\" />\\n<link rel=\"wlwmanifest\" type=\"application/wlwmanifest+xml\" href=\"http://imos-immobilier.ch/wp-includes/wlwmanifest.xml\" /> \\n<meta name=\"generator\" content=\"WordPress 4.9.3\" />\\n<link rel=\\'shortlink\\' href=\\'http://imos-immobilier.ch/\\' />\\n<link rel=\"alternate\" type=\"application/json+oembed\" href=\"http://imos-immobilier.ch/wp-json/oembed/1.0/embed?url=http%3A%2F%2Fimos-immobilier.ch%2F\" />\\n<link rel=\"alternate\" type=\"text/xml+oembed\" href=\"http://imos-immobilier.ch/wp-json/oembed/1.0/embed?url=http%3A%2F%2Fimos-immobilier.ch%2F&#038;format=xml\" />\\n\\n\\t<!-- begin lightbox scripts -->\\n\\t<script type=\"text/javascript\">\\n    //<![CDATA[\\n    document.write(\\'<link rel=\"stylesheet\" href=\"http://imos-immobilier.ch/wp-content/plugins/lightbox-2/Themes/Black/lightbox.css\" type=\"text/css\" media=\"screen\" />\\');\\n    //]]>\\n    </script>\\n\\t<!-- end lightbox scripts -->\\n<style></style><link rel=\"pingback\" href=\"http://imos-immobilier.ch/xmlrpc.php\">\\n\\t\\t<style id=\"twentyseventeen-custom-header-styles\" type=\"text/css\">\\n\\t\\t\\t\\t.site-title,\\n\\t\\t.site-description {\\n\\t\\t\\tposition: absolute;\\n\\t\\t\\tclip: rect(1px, 1px, 1px, 1px);\\n\\t\\t}\\n\\t\\t\\t\\t</style>\\n\\t\\t<link rel=\"icon\" href=\"http://imos-immobilier.ch/wp-content/uploads/2011/10/cropped-logo-carre-rouge@0.5x-32x32.png\" sizes=\"32x32\" />\\n<link rel=\"icon\" href=\"http://imos-immobilier.ch/wp-content/uploads/2011/10/cropped-logo-carre-rouge@0.5x-192x192.png\" sizes=\"192x192\" />\\n<link rel=\"apple-touch-icon-precomposed\" href=\"http://imos-immobilier.ch/wp-content/uploads/2011/10/cropped-logo-carre-rouge@0.5x-180x180.png\" />\\n<meta name=\"msapplication-TileImage\" content=\"http://imos-immobilier.ch/wp-content/uploads/2011/10/cropped-logo-carre-rouge@0.5x-270x270.png\" />\\n</head>\\n\\n<body class=\"home page-template-default page page-id-5 wp-custom-logo twentyseventeen-front-page has-header-image page-one-column title-tagline-hidden colors-dark\">\\n<div id=\"page\" class=\"site\">\\n\\t<a class=\"skip-link screen-reader-text\" href=\"#content\">Aller au contenu principal</a>\\n\\n\\t<header id=\"masthead\" class=\"site-header\" role=\"banner\">\\n\\n\\t\\t<div class=\"custom-header\">\\n\\n\\t\\t<div class=\"custom-header-media\">\\n\\t\\t\\t<div id=\"wp-custom-header\" class=\"wp-custom-header\"><img src=\"http://imos-immobilier.ch/wp-content/uploads/2018/02/cropped-Fotolia_164327341_L.jpg\" width=\"2000\" height=\"1199\" alt=\"\" srcset=\"http://imos-immobilier.ch/wp-content/uploads/2018/02/cropped-Fotolia_164327341_L.jpg 2000w, http://imos-immobilier.ch/wp-content/uploads/2018/02/cropped-Fotolia_164327341_L-300x180.jpg 300w, http://imos-immobilier.ch/wp-content/uploads/2018/02/cropped-Fotolia_164327341_L-768x460.jpg 768w, http://imos-immobilier.ch/wp-content/uploads/2018/02/cropped-Fotolia_164327341_L-1024x614.jpg 1024w\" sizes=\"100vw\" /></div>\\t\\t</div>\\n\\n\\t<div class=\"site-branding\">\\n\\t<div class=\"wrap\">\\n\\n\\t\\t<a href=\"http://imos-immobilier.ch/\" class=\"custom-logo-link\" rel=\"home\" itemprop=\"url\"><img width=\"250\" height=\"250\" src=\"http://imos-immobilier.ch/wp-content/uploads/2017/12/cropped-logo-blanc@2x.png\" class=\"custom-logo\" alt=\"\" itemprop=\"logo\" srcset=\"http://imos-immobilier.ch/wp-content/uploads/2017/12/cropped-logo-blanc@2x.png 250w, http://imos-immobilier.ch/wp-content/uploads/2017/12/cropped-logo-blanc@2x-150x150.png 150w, http://imos-immobilier.ch/wp-content/uploads/2017/12/cropped-logo-blanc@2x-100x100.png 100w\" sizes=\"100vw\" /></a>\\n\\t\\t<div class=\"site-branding-text\">\\n\\t\\t\\t\\t\\t\\t\\t<h1 class=\"site-title\"><a href=\"http://imos-immobilier.ch/\" rel=\"home\"></a></h1>\\n\\t\\t\\t\\n\\t\\t\\t\\t\\t\\t\\t<p class=\"site-description\">L&#039;immobilier à taille humaine</p>\\n\\t\\t\\t\\t\\t</div><!-- .site-branding-text -->\\n\\n\\t\\t\\n\\t</div><!-- .wrap -->\\n</div><!-- .site-branding -->\\n\\n</div><!-- .custom-header -->\\n\\n\\t\\t\\t\\t\\t<div class=\"navigation-top\">\\n\\t\\t\\t\\t<div class=\"wrap\">\\n\\t\\t\\t\\t\\t<nav id=\"site-navigation\" class=\"main-navigation\" role=\"navigation\" aria-label=\"Menu supérieur\">\\n\\t<button class=\"menu-toggle\" aria-controls=\"top-menu\" aria-expanded=\"false\">\\n\\t\\t<svg class=\"icon icon-bars\" aria-hidden=\"true\" role=\"img\"> <use href=\"#icon-bars\" xlink:href=\"#icon-bars\"></use> </svg><svg class=\"icon icon-close\" aria-hidden=\"true\" role=\"img\"> <use href=\"#icon-close\" xlink:href=\"#icon-close\"></use> </svg>Menu\\t</button>\\n\\n\\t<div class=\"menu-menu-container\"><ul id=\"top-menu\" class=\"menu\"><li id=\"menu-item-358\" class=\"menu-item menu-item-type-post_type menu-item-object-page menu-item-358\"><a href=\"http://imos-immobilier.ch/portrait/\">Lausanne / Neuchâtel</a></li>\\n<li id=\"menu-item-355\" class=\"menu-item menu-item-type-post_type menu-item-object-page menu-item-355\"><a href=\"http://imos-immobilier.ch/location/\">Location</a></li>\\n<li id=\"menu-item-458\" class=\"menu-item menu-item-type-post_type menu-item-object-page menu-item-458\"><a href=\"http://imos-immobilier.ch/courtage/\">Courtage</a></li>\\n<li id=\"menu-item-357\" class=\"menu-item menu-item-type-post_type menu-item-object-page menu-item-357\"><a href=\"http://imos-immobilier.ch/admin-ppe/\">PPE</a></li>\\n<li id=\"menu-item-699\" class=\"menu-item menu-item-type-post_type menu-item-object-page menu-item-699\"><a href=\"http://imos-immobilier.ch/tecimos/\">Tecimos</a></li>\\n<li id=\"menu-item-352\" class=\"menu-item menu-item-type-post_type menu-item-object-page menu-item-352\"><a href=\"http://imos-immobilier.ch/scrm/\">Mazout</a></li>\\n<li id=\"menu-item-353\" class=\"menu-item menu-item-type-post_type menu-item-object-page menu-item-353\"><a href=\"http://imos-immobilier.ch/contact/\">Contact &#038; horaires</a></li>\\n<li id=\"menu-item-354\" class=\"menu-item menu-item-type-post_type menu-item-object-page menu-item-354\"><a href=\"http://imos-immobilier.ch/espace-client/\">myIMOS</a></li>\\n<li id=\"menu-item-661\" class=\"menu-item menu-item-type-post_type menu-item-object-page menu-item-661\"><a href=\"http://imos-immobilier.ch/rue-centrale-10/\">Rue Centrale 10 (VD) / Rue des Sablons 6 (NE)</a></li>\\n</ul></div>\\n\\t\\t\\t<a href=\"#content\" class=\"menu-scroll-down\"><svg class=\"icon icon-arrow-right\" aria-hidden=\"true\" role=\"img\"> <use href=\"#icon-arrow-right\" xlink:href=\"#icon-arrow-right\"></use> </svg><span class=\"screen-reader-text\">Descendre au contenu</span></a>\\n\\t</nav><!-- #site-navigation -->\\n\\t\\t\\t\\t</div><!-- .wrap -->\\n\\t\\t\\t</div><!-- .navigation-top -->\\n\\t\\t\\n\\t</header><!-- #masthead -->\\n\\n\\t\\n\\t<div class=\"site-content-contain\">\\n\\t\\t<div id=\"content\" class=\"site-content\">\\n\\n<div id=\"primary\" class=\"content-area\">\\n\\t<main id=\"main\" class=\"site-main\" role=\"main\">\\n\\n\\t\\t<article id=\"post-5\" class=\"twentyseventeen-panel  post-5 page type-page status-publish hentry\" >\\n\\n\\t\\n\\t<div class=\"panel-content\">\\n\\t\\t<div class=\"wrap\">\\n\\t\\t\\t<header class=\"entry-header\">\\n\\t\\t\\t\\t<h2 class=\"entry-title\">Accueil</h2>\\n\\t\\t\\t\\t\\n\\t\\t\\t</header><!-- .entry-header -->\\n\\n\\t\\t\\t<div class=\"entry-content\">\\n\\t\\t\\t\\t<h1 style=\"text-align: left;\"></h1>\\n<h1 style=\"text-align: left;\"><strong>NEUCHÂTEL, nous voila <a href=\"http://imos-immobilier.ch/wp-content/uploads/2017/11/IMOS@1x.png\" rel=\"lightbox[5]\"><img class=\"wp-image-460  alignright\" src=\"http://imos-immobilier.ch/wp-content/uploads/2017/11/IMOS@1x.png\" alt=\"\" width=\"254\" height=\"255\" srcset=\"http://imos-immobilier.ch/wp-content/uploads/2017/11/IMOS@1x.png 223w, http://imos-immobilier.ch/wp-content/uploads/2017/11/IMOS@1x-150x150.png 150w, http://imos-immobilier.ch/wp-content/uploads/2017/11/IMOS@1x-100x100.png 100w\" sizes=\"(max-width: 254px) 100vw, 254px\" /></a>!</strong></h1>\\n<p style=\"text-align: left;\"><em>Ouverture de notre succursale neuchâteloise dès février 2019 !</em></p>\\n<p style=\"text-align: left;\">Notre volonté de proximité et notre amour pour le \\xa0beau canton de Neuchâtel, nous a convaincu d&rsquo;installer notre première succursale de suisse romande au bord du lac&#8230;</p>\\n<p style=\"text-align: left;\">IMOS est une société immobilière spécialisée dans la gestion locative, \\xa0le courtage et l’administration de PPE.</p>\\n<p style=\"text-align: left;\">Nous proposons une gestion de qualité, flexible et adaptée aux nouvelles exigences des propriétaires romands. Nous apportons également un oeil averti sur la consommation énergétique des bâtiments et proposons à nos clients la réalisation de bilan énergétique.</p>\\n<p style=\"text-align: left;\">Nous avons également développé la Société Romande de Consommateur<br />\\nde Mazout (<a href=\"http://www.conso-mazout.ch\">SRCM</a>) qui\\xa0a pour but de\\xa0faire profiter à nos clients\\xa0des nombreux avantages engendrés par nos commandes\\xa0groupées.</p>\\n<p style=\"text-align: left;\">Découvrez\\xa0la présentation détaillée de nos différents services :</p>\\n<p style=\"text-align: left;\"><a title=\"Location\" href=\"http://imos-immobilier.ch/?page_id=13\">Location</a></p>\\n<p style=\"text-align: left;\"><span style=\"color: #3366ff;\"><a href=\"http://imos-immobilier.ch/courtage/\">Courtage</a></span></p>\\n<p style=\"text-align: left;\"><span style=\"color: #3366ff;\"> <a title=\"Administration de PPE\" href=\"http://imos-immobilier.ch/?page_id=9\">Administration de PPE</a></span></p>\\n<p style=\"text-align: left;\"><span style=\"color: #3366ff;\"><a title=\"Consulting\" href=\"http://imos-immobilier.ch/?page_id=11\">Comptabilité et conseils</a></span></p>\\n<p style=\"text-align: left;\"><span style=\"color: #3366ff;\"><a href=\"http://www.conso-mazout.ch\">SRCM</a></span></p>\\n<div style=\"float: right; text-align: left;\"></div>\\n\\t\\t\\t</div><!-- .entry-content -->\\n\\n\\t\\t</div><!-- .wrap -->\\n\\t</div><!-- .panel-content -->\\n\\n</article><!-- #post-## -->\\n\\n\\t\\t\\n<article id=\"panel1\" class=\"twentyseventeen-panel  post-17 page type-page status-publish hentry\" >\\n\\n\\t\\n\\t<div class=\"panel-content\">\\n\\t\\t<div class=\"wrap\">\\n\\t\\t\\t<header class=\"entry-header\">\\n\\t\\t\\t\\t<h2 class=\"entry-title\">Contact &#038; horaires</h2>\\n\\t\\t\\t\\t\\n\\t\\t\\t</header><!-- .entry-header -->\\n\\n\\t\\t\\t<div class=\"entry-content\">\\n\\t\\t\\t\\t<h5 style=\"text-align: left;\"><strong><em>IMOS Immobilier &amp; Conseils</em>\\xa0 \\xa0 \\xa0</strong></h5>\\n<h5 style=\"text-align: left;\"><i>Rue Centrale 10 \\xa0 \\xa0 \\xa0 \\xa0 \\xa0 \\xa0 \\xa0 \\xa0 \\xa0 \\xa0 \\xa0 Rue des sablons 6<br />\\n1003 Lausanne \\xa0 \\xa0 \\xa0 \\xa0 \\xa0 \\xa0 \\xa0 \\xa0 \\xa0 \\xa0 \\xa0 \\xa0 \\xa02000 Neuchatel</i></h5>\\n<p>T. 021 312 48 48 \\xa0 \\xa0 \\xa0 \\xa0 \\xa0 \\xa0 \\xa0 \\xa0 \\xa0 \\xa0 \\xa0 \\xa0 \\xa0 \\xa0 \\xa0 \\xa0 \\xa0 \\xa0 \\xa0 T. 032 323 47 47</p>\\n<p>M. info@imos-immobilier.ch</p>\\n<h5 style=\"text-align: left;\">HORAIRES Telephone :</h5>\\n<h5 style=\"text-align: left;\"><span style=\"font-size: 0.8125rem; letter-spacing: 0.15em;\">08H &#8211; 12H &#8211; du lundi au vendredi</span></h5>\\n<h5 style=\"text-align: left;\"><span style=\"font-size: 0.8125rem; letter-spacing: 0.15em;\">14H &#8211; 16H &#8211; du lundi au JEUDI</span></h5>\\n<h5 style=\"text-align: left;\">HORAIRES BUREAU :</h5>\\n<h5 style=\"text-align: left;\"><span style=\"font-size: 0.8125rem; letter-spacing: 0.15em;\">09H &#8211; 12H &#8211; du lundi au vendredi : Réception</span></h5>\\n<h5 style=\"text-align: left;\"><span style=\"font-size: 0.8125rem; letter-spacing: 0.15em;\">14H &#8211; 16H &#8211; du lundi au JEUDI : sur rendez-vous</span></h5>\\n<p>&nbsp;</p>\\n<p><a href=\"http://imos-immobilier.ch/wp-content/uploads/2017/12/logo-location@0.5x.png\" rel=\"lightbox[17]\"><img class=\" wp-image-627 alignleft\" src=\"http://imos-immobilier.ch/wp-content/uploads/2017/12/logo-location@0.5x.png\" alt=\"\" width=\"228\" height=\"92\" /></a></p>\\n<p>&nbsp;</p>\\n<p>M. : <strong><u>loc@imos-immobilier.ch</u></strong></p>\\n<p>&nbsp;</p>\\n<p><a href=\"http://imos-immobilier.ch/wp-content/uploads/2017/12/logo-courtage@0.5x.png\" rel=\"lightbox[17]\"><img class=\"size-full wp-image-626 alignleft\" src=\"http://imos-immobilier.ch/wp-content/uploads/2017/12/logo-courtage@0.5x.png\" alt=\"\" width=\"287\" height=\"112\" /></a></p>\\n<p>&nbsp;</p>\\n<p>M. : <strong><u>info@imos-immobilier.ch</u></strong></p>\\n<p>&nbsp;</p>\\n<p><a href=\"http://imos-immobilier.ch/wp-content/uploads/2017/12/logo-ppe@0.5x.png\" rel=\"lightbox[17]\"><img class=\"size-full wp-image-629 alignleft\" src=\"http://imos-immobilier.ch/wp-content/uploads/2017/12/logo-ppe@0.5x.png\" alt=\"\" width=\"198\" height=\"112\" /></a></p>\\n<p>&nbsp;</p>\\n<p>M. :<b><u> ppe@imos-immobilier.ch </u></b></p>\\n<p>&nbsp;</p>\\n<p><a href=\"http://imos-immobilier.ch/wp-content/uploads/2017/12/logo-consulting@0.5x.png\" rel=\"lightbox[17]\"><img class=\"size-medium wp-image-625 alignleft\" src=\"http://imos-immobilier.ch/wp-content/uploads/2017/12/logo-consulting@0.5x-300x107.png\" alt=\"\" width=\"300\" height=\"107\" srcset=\"http://imos-immobilier.ch/wp-content/uploads/2017/12/logo-consulting@0.5x-300x107.png 300w, http://imos-immobilier.ch/wp-content/uploads/2017/12/logo-consulting@0.5x.png 315w\" sizes=\"(max-width: 300px) 100vw, 300px\" /></a></p>\\n<p>&nbsp;</p>\\n<p>M. :\\xa0<b><u>info@imos-immobilier.ch</u></b></p>\\n<p>&nbsp;</p>\\n<p>&nbsp;</p>\\n<p style=\"text-align: center;\">Formulaire de contact</p>\\n<p style=\"text-align: center;\"><div role=\"form\" class=\"wpcf7\" id=\"wpcf7-f4-o1\" dir=\"ltr\">\\n<div class=\"screen-reader-response\"></div>\\n<form action=\"/#wpcf7-f4-o1\" method=\"post\" class=\"wpcf7-form\" novalidate=\"novalidate\">\\n<div style=\"display: none;\">\\n<input type=\"hidden\" name=\"_wpcf7\" value=\"4\" />\\n<input type=\"hidden\" name=\"_wpcf7_version\" value=\"5.1.1\" />\\n<input type=\"hidden\" name=\"_wpcf7_locale\" value=\"\" />\\n<input type=\"hidden\" name=\"_wpcf7_unit_tag\" value=\"wpcf7-f4-o1\" />\\n<input type=\"hidden\" name=\"_wpcf7_container_post\" value=\"0\" />\\n<input type=\"hidden\" name=\"g-recaptcha-response\" value=\"\" />\\n</div>\\n<p>Votre nom *<br />\\n    <span class=\"wpcf7-form-control-wrap your-name\"><input type=\"text\" name=\"your-name\" value=\"\" size=\"40\" class=\"wpcf7-form-control wpcf7-text wpcf7-validates-as-required\" aria-required=\"true\" aria-invalid=\"false\" /></span> </p>\\n<p>Votre prénom *<br />\\n    <span class=\"wpcf7-form-control-wrap your-firstname\"><input type=\"text\" name=\"your-firstname\" value=\"\" size=\"40\" class=\"wpcf7-form-control wpcf7-text wpcf7-validates-as-required\" aria-required=\"true\" aria-invalid=\"false\" /></span> </p>\\n<p>Votre email *<br />\\n    <span class=\"wpcf7-form-control-wrap your-email\"><input type=\"email\" name=\"your-email\" value=\"\" size=\"40\" class=\"wpcf7-form-control wpcf7-text wpcf7-email wpcf7-validates-as-required wpcf7-validates-as-email\" aria-required=\"true\" aria-invalid=\"false\" /></span> </p>\\n<p>Votre message<br />\\n    <span class=\"wpcf7-form-control-wrap your-message\"><textarea name=\"your-message\" cols=\"40\" rows=\"10\" class=\"wpcf7-form-control wpcf7-textarea\" aria-invalid=\"false\"></textarea></span> </p>\\n<p>Merci de recopier le code affiché ci-dessous<br />\\n<span class=\"wpcf7-form-control-wrap captcha-60\"><input type=\"text\" name=\"captcha-60\" value=\"\" size=\"40\" class=\"wpcf7-form-control wpcf7-captchar\" autocomplete=\"off\" aria-invalid=\"false\" /></span><br />\\n<input type=\"hidden\" name=\"_wpcf7_captcha_challenge_captcha-60\" value=\"2355866786\" /><img class=\"wpcf7-form-control wpcf7-captchac wpcf7-captcha-captcha-60\" width=\"72\" height=\"24\" alt=\"captcha\" src=\"http://imos-immobilier.ch/wp-content/uploads/wpcf7_captcha/2355866786.png\" />\\n</p>\\n<p><input type=\"submit\" value=\"Envoyer\" class=\"wpcf7-form-control wpcf7-submit\" /></p>\\n<div class=\"wpcf7-response-output wpcf7-display-none\"></div></form></div></p>\\n<p>&nbsp;</p>\\n\\t\\t\\t</div><!-- .entry-content -->\\n\\n\\t\\t\\t\\n\\t\\t</div><!-- .wrap -->\\n\\t</div><!-- .panel-content -->\\n\\n</article><!-- #post-## -->\\n\\n\\t</main><!-- #main -->\\n</div><!-- #primary -->\\n\\n\\n\\t\\t</div><!-- #content -->\\n\\n\\t\\t<footer id=\"colophon\" class=\"site-footer\" role=\"contentinfo\">\\n\\t\\t\\t<div class=\"wrap\">\\n\\t\\t\\t\\t\\n\\n\\t<aside class=\"widget-area\" role=\"complementary\" aria-label=\"Pied de page\">\\n\\t\\t\\t\\t\\t<div class=\"widget-column footer-widget-1\">\\n\\t\\t\\t\\t\\t\\t\\t</div>\\n\\t\\t\\t\\t\\t\\t<div class=\"widget-column footer-widget-2\">\\n\\t\\t\\t\\t<section id=\"linkcat-2\" class=\"widget widget_links\"><h2 class=\"widget-title\">Liens</h2>\\n\\t<ul class=\\'xoxo blogroll\\'>\\n<li><a href=\"http://codex.wordpress.org/\">Documentation</a></li>\\n<li><a href=\"http://wordpress.org/extend/plugins/\">Plugins</a></li>\\n<li><a href=\"http://wordpress.org/extend/ideas/\">Suggest Ideas</a></li>\\n<li><a href=\"http://wordpress.org/support/\">Support Forum</a></li>\\n<li><a href=\"http://wordpress.org/extend/themes/\">Themes</a></li>\\n<li><a href=\"http://wordpress.org/news/\">WordPress Blog</a></li>\\n<li><a href=\"http://planet.wordpress.org/\">WordPress Planet</a></li>\\n\\n\\t</ul>\\n</section>\\n\\t\\t\\t</div>\\n\\t\\t\\t</aside><!-- .widget-area -->\\n\\n<div class=\"site-info\">\\n\\t\\t<a href=\"https://wordpress.org/\" class=\"imprint\">\\n\\t\\tFièrement propulsé par WordPress\\t</a>\\n</div><!-- .site-info -->\\n\\t\\t\\t</div><!-- .wrap -->\\n\\t\\t</footer><!-- #colophon -->\\n\\t</div><!-- .site-content-contain -->\\n</div><!-- #page -->\\n<script type=\\'text/javascript\\'>\\n/* <![CDATA[ */\\nvar wpcf7 = {\"apiSettings\":{\"root\":\"http:\\\\/\\\\/imos-immobilier.ch\\\\/wp-json\\\\/contact-form-7\\\\/v1\",\"namespace\":\"contact-form-7\\\\/v1\"}};\\n/* ]]> */\\n</script>\\n<script type=\\'text/javascript\\' src=\\'http://imos-immobilier.ch/wp-content/plugins/contact-form-7/includes/js/scripts.js?ver=5.1.1\\'></script>\\n<script type=\\'text/javascript\\'>\\n/* <![CDATA[ */\\nvar twentyseventeenScreenReaderText = {\"quote\":\"<svg class=\\\\\"icon icon-quote-right\\\\\" aria-hidden=\\\\\"true\\\\\" role=\\\\\"img\\\\\"> <use href=\\\\\"#icon-quote-right\\\\\" xlink:href=\\\\\"#icon-quote-right\\\\\"><\\\\/use> <\\\\/svg>\",\"expand\":\"Ouvrir le sous-menu\",\"collapse\":\"Fermer le sous-menu\",\"icon\":\"<svg class=\\\\\"icon icon-angle-down\\\\\" aria-hidden=\\\\\"true\\\\\" role=\\\\\"img\\\\\"> <use href=\\\\\"#icon-angle-down\\\\\" xlink:href=\\\\\"#icon-angle-down\\\\\"><\\\\/use> <span class=\\\\\"svg-fallback icon-angle-down\\\\\"><\\\\/span><\\\\/svg>\"};\\n/* ]]> */\\n</script>\\n<script type=\\'text/javascript\\' src=\\'http://imos-immobilier.ch/wp-content/themes/twentyseventeen/assets/js/skip-link-focus-fix.js?ver=1.0\\'></script>\\n<script type=\\'text/javascript\\' src=\\'http://imos-immobilier.ch/wp-content/themes/twentyseventeen/assets/js/navigation.js?ver=1.0\\'></script>\\n<script type=\\'text/javascript\\' src=\\'http://imos-immobilier.ch/wp-content/themes/twentyseventeen/assets/js/global.js?ver=1.0\\'></script>\\n<script type=\\'text/javascript\\' src=\\'http://imos-immobilier.ch/wp-content/themes/twentyseventeen/assets/js/jquery.scrollTo.js?ver=2.1.2\\'></script>\\n<script type=\\'text/javascript\\' src=\\'http://imos-immobilier.ch/wp-content/plugins/wp-easy-testimonial/assets/js/owl.carousel.min.js?ver=0.1\\'></script>\\n<script type=\\'text/javascript\\' src=\\'http://imos-immobilier.ch/wp-content/plugins/wp-easy-testimonial/assets/js/custom.js?ver=0.1\\'></script>\\n<script type=\\'text/javascript\\' src=\\'http://imos-immobilier.ch/wp-includes/js/wp-embed.min.js?ver=4.9.3\\'></script>\\n<script type=\\'text/javascript\\' src=\\'http://imos-immobilier.ch/wp-includes/js/wp-sanitize.min.js?ver=4.9.3\\'></script>\\n<script type=\\'text/javascript\\' src=\\'http://imos-immobilier.ch/wp-includes/js/wp-a11y.min.js?ver=4.9.3\\'></script>\\n<script type=\\'text/javascript\\'>\\n/* <![CDATA[ */\\nvar _wpCustomHeaderSettings = {\"mimeType\":\"video\\\\/mp4\",\"posterUrl\":\"http:\\\\/\\\\/imos-immobilier.ch\\\\/wp-content\\\\/uploads\\\\/2018\\\\/02\\\\/cropped-Fotolia_164327341_L.jpg\",\"videoUrl\":\"http:\\\\/\\\\/imos-immobilier.ch\\\\/wp-content\\\\/uploads\\\\/2018\\\\/02\\\\/Fotolia_170539866_V_HD720.mp4\",\"width\":\"2000\",\"height\":\"1199\",\"minWidth\":\"900\",\"minHeight\":\"500\",\"l10n\":{\"pause\":\"<span class=\\\\\"screen-reader-text\\\\\">Arri\\\\u00e8re plan vid\\\\u00e9o en pause<\\\\/span><svg class=\\\\\"icon icon-pause\\\\\" aria-hidden=\\\\\"true\\\\\" role=\\\\\"img\\\\\"> <use href=\\\\\"#icon-pause\\\\\" xlink:href=\\\\\"#icon-pause\\\\\"><\\\\/use> <\\\\/svg>\",\"play\":\"<span class=\\\\\"screen-reader-text\\\\\">Lecture d\\\\u2019arri\\\\u00e8re-plan vid\\\\u00e9o<\\\\/span><svg class=\\\\\"icon icon-play\\\\\" aria-hidden=\\\\\"true\\\\\" role=\\\\\"img\\\\\"> <use href=\\\\\"#icon-play\\\\\" xlink:href=\\\\\"#icon-play\\\\\"><\\\\/use> <\\\\/svg>\",\"pauseSpeak\":\"La vid\\\\u00e9o est en pause\",\"playSpeak\":\"La vid\\\\u00e9o en cours de lecture\"}};\\n/* ]]> */\\n</script>\\n<script type=\\'text/javascript\\' src=\\'http://imos-immobilier.ch/wp-includes/js/wp-custom-header.min.js?ver=4.9.3\\'></script>\\n<svg style=\"position: absolute; width: 0; height: 0; overflow: hidden;\" version=\"1.1\" xmlns=\"http://www.w3.org/2000/svg\" xmlns:xlink=\"http://www.w3.org/1999/xlink\">\\n<defs>\\n<symbol id=\"icon-behance\" viewBox=\"0 0 37 32\">\\n<path class=\"path1\" d=\"M33 6.054h-9.125v2.214h9.125v-2.214zM28.5 13.661q-1.607 0-2.607 0.938t-1.107 2.545h7.286q-0.321-3.482-3.571-3.482zM28.786 24.107q1.125 0 2.179-0.571t1.357-1.554h3.946q-1.786 5.482-7.625 5.482-3.821 0-6.080-2.357t-2.259-6.196q0-3.714 2.33-6.17t6.009-2.455q2.464 0 4.295 1.214t2.732 3.196 0.902 4.429q0 0.304-0.036 0.839h-11.75q0 1.982 1.027 3.063t2.973 1.080zM4.946 23.214h5.286q3.661 0 3.661-2.982 0-3.214-3.554-3.214h-5.393v6.196zM4.946 13.625h5.018q1.393 0 2.205-0.652t0.813-2.027q0-2.571-3.393-2.571h-4.643v5.25zM0 4.536h10.607q1.554 0 2.768 0.25t2.259 0.848 1.607 1.723 0.563 2.75q0 3.232-3.071 4.696 2.036 0.571 3.071 2.054t1.036 3.643q0 1.339-0.438 2.438t-1.179 1.848-1.759 1.268-2.161 0.75-2.393 0.232h-10.911v-22.5z\"></path>\\n</symbol>\\n<symbol id=\"icon-deviantart\" viewBox=\"0 0 18 32\">\\n<path class=\"path1\" d=\"M18.286 5.411l-5.411 10.393 0.429 0.554h4.982v7.411h-9.054l-0.786 0.536-2.536 4.875-0.536 0.536h-5.375v-5.411l5.411-10.411-0.429-0.536h-4.982v-7.411h9.054l0.786-0.536 2.536-4.875 0.536-0.536h5.375v5.411z\"></path>\\n</symbol>\\n<symbol id=\"icon-medium\" viewBox=\"0 0 32 32\">\\n<path class=\"path1\" d=\"M10.661 7.518v20.946q0 0.446-0.223 0.759t-0.652 0.313q-0.304 0-0.589-0.143l-8.304-4.161q-0.375-0.179-0.634-0.598t-0.259-0.83v-20.357q0-0.357 0.179-0.607t0.518-0.25q0.25 0 0.786 0.268l9.125 4.571q0.054 0.054 0.054 0.089zM11.804 9.321l9.536 15.464-9.536-4.75v-10.714zM32 9.643v18.821q0 0.446-0.25 0.723t-0.679 0.277-0.839-0.232l-7.875-3.929zM31.946 7.5q0 0.054-4.58 7.491t-5.366 8.705l-6.964-11.321 5.786-9.411q0.304-0.5 0.929-0.5 0.25 0 0.464 0.107l9.661 4.821q0.071 0.036 0.071 0.107z\"></path>\\n</symbol>\\n<symbol id=\"icon-slideshare\" viewBox=\"0 0 32 32\">\\n<path class=\"path1\" d=\"M15.589 13.214q0 1.482-1.134 2.545t-2.723 1.063-2.723-1.063-1.134-2.545q0-1.5 1.134-2.554t2.723-1.054 2.723 1.054 1.134 2.554zM24.554 13.214q0 1.482-1.125 2.545t-2.732 1.063q-1.589 0-2.723-1.063t-1.134-2.545q0-1.5 1.134-2.554t2.723-1.054q1.607 0 2.732 1.054t1.125 2.554zM28.571 16.429v-11.911q0-1.554-0.571-2.205t-1.982-0.652h-19.857q-1.482 0-2.009 0.607t-0.527 2.25v12.018q0.768 0.411 1.58 0.714t1.446 0.5 1.446 0.33 1.268 0.196 1.25 0.071 1.045 0.009 1.009-0.036 0.795-0.036q1.214-0.018 1.696 0.482 0.107 0.107 0.179 0.161 0.464 0.446 1.089 0.911 0.125-1.625 2.107-1.554 0.089 0 0.652 0.027t0.768 0.036 0.813 0.018 0.946-0.018 0.973-0.080 1.089-0.152 1.107-0.241 1.196-0.348 1.205-0.482 1.286-0.616zM31.482 16.339q-2.161 2.661-6.643 4.5 1.5 5.089-0.411 8.304-1.179 2.018-3.268 2.643-1.857 0.571-3.25-0.268-1.536-0.911-1.464-2.929l-0.018-5.821v-0.018q-0.143-0.036-0.438-0.107t-0.42-0.089l-0.018 6.036q0.071 2.036-1.482 2.929-1.411 0.839-3.268 0.268-2.089-0.643-3.25-2.679-1.875-3.214-0.393-8.268-4.482-1.839-6.643-4.5-0.446-0.661-0.071-1.125t1.071 0.018q0.054 0.036 0.196 0.125t0.196 0.143v-12.393q0-1.286 0.839-2.196t2.036-0.911h22.446q1.196 0 2.036 0.911t0.839 2.196v12.393l0.375-0.268q0.696-0.482 1.071-0.018t-0.071 1.125z\"></path>\\n</symbol>\\n<symbol id=\"icon-snapchat-ghost\" viewBox=\"0 0 30 32\">\\n<path class=\"path1\" d=\"M15.143 2.286q2.393-0.018 4.295 1.223t2.92 3.438q0.482 1.036 0.482 3.196 0 0.839-0.161 3.411 0.25 0.125 0.5 0.125 0.321 0 0.911-0.241t0.911-0.241q0.518 0 1 0.321t0.482 0.821q0 0.571-0.563 0.964t-1.232 0.563-1.232 0.518-0.563 0.848q0 0.268 0.214 0.768 0.661 1.464 1.83 2.679t2.58 1.804q0.5 0.214 1.429 0.411 0.5 0.107 0.5 0.625 0 1.25-3.911 1.839-0.125 0.196-0.196 0.696t-0.25 0.83-0.589 0.33q-0.357 0-1.107-0.116t-1.143-0.116q-0.661 0-1.107 0.089-0.571 0.089-1.125 0.402t-1.036 0.679-1.036 0.723-1.357 0.598-1.768 0.241q-0.929 0-1.723-0.241t-1.339-0.598-1.027-0.723-1.036-0.679-1.107-0.402q-0.464-0.089-1.125-0.089-0.429 0-1.17 0.134t-1.045 0.134q-0.446 0-0.625-0.33t-0.25-0.848-0.196-0.714q-3.911-0.589-3.911-1.839 0-0.518 0.5-0.625 0.929-0.196 1.429-0.411 1.393-0.571 2.58-1.804t1.83-2.679q0.214-0.5 0.214-0.768 0-0.5-0.563-0.848t-1.241-0.527-1.241-0.563-0.563-0.938q0-0.482 0.464-0.813t0.982-0.33q0.268 0 0.857 0.232t0.946 0.232q0.321 0 0.571-0.125-0.161-2.536-0.161-3.393 0-2.179 0.482-3.214 1.143-2.446 3.071-3.536t4.714-1.125z\"></path>\\n</symbol>\\n<symbol id=\"icon-yelp\" viewBox=\"0 0 27 32\">\\n<path class=\"path1\" d=\"M13.804 23.554v2.268q-0.018 5.214-0.107 5.446-0.214 0.571-0.911 0.714-0.964 0.161-3.241-0.679t-2.902-1.589q-0.232-0.268-0.304-0.643-0.018-0.214 0.071-0.464 0.071-0.179 0.607-0.839t3.232-3.857q0.018 0 1.071-1.25 0.268-0.339 0.705-0.438t0.884 0.063q0.429 0.179 0.67 0.518t0.223 0.75zM11.143 19.071q-0.054 0.982-0.929 1.25l-2.143 0.696q-4.911 1.571-5.214 1.571-0.625-0.036-0.964-0.643-0.214-0.446-0.304-1.339-0.143-1.357 0.018-2.973t0.536-2.223 1-0.571q0.232 0 3.607 1.375 1.25 0.518 2.054 0.839l1.5 0.607q0.411 0.161 0.634 0.545t0.205 0.866zM25.893 24.375q-0.125 0.964-1.634 2.875t-2.42 2.268q-0.661 0.25-1.125-0.125-0.25-0.179-3.286-5.125l-0.839-1.375q-0.25-0.375-0.205-0.821t0.348-0.821q0.625-0.768 1.482-0.464 0.018 0.018 2.125 0.714 3.625 1.179 4.321 1.42t0.839 0.366q0.5 0.393 0.393 1.089zM13.893 13.089q0.089 1.821-0.964 2.179-1.036 0.304-2.036-1.268l-6.75-10.679q-0.143-0.625 0.339-1.107 0.732-0.768 3.705-1.598t4.009-0.563q0.714 0.179 0.875 0.804 0.054 0.321 0.393 5.455t0.429 6.777zM25.714 15.018q0.054 0.696-0.464 1.054-0.268 0.179-5.875 1.536-1.196 0.268-1.625 0.411l0.018-0.036q-0.411 0.107-0.821-0.071t-0.661-0.571q-0.536-0.839 0-1.554 0.018-0.018 1.339-1.821 2.232-3.054 2.679-3.643t0.607-0.696q0.5-0.339 1.161-0.036 0.857 0.411 2.196 2.384t1.446 2.991v0.054z\"></path>\\n</symbol>\\n<symbol id=\"icon-vine\" viewBox=\"0 0 27 32\">\\n<path class=\"path1\" d=\"M26.732 14.768v3.536q-1.804 0.411-3.536 0.411-1.161 2.429-2.955 4.839t-3.241 3.848-2.286 1.902q-1.429 0.804-2.893-0.054-0.5-0.304-1.080-0.777t-1.518-1.491-1.83-2.295-1.92-3.286-1.884-4.357-1.634-5.616-1.259-6.964h5.054q0.464 3.893 1.25 7.116t1.866 5.661 2.17 4.205 2.5 3.482q3.018-3.018 5.125-7.25-2.536-1.286-3.982-3.929t-1.446-5.946q0-3.429 1.857-5.616t5.071-2.188q3.179 0 4.875 1.884t1.696 5.313q0 2.839-1.036 5.107-0.125 0.018-0.348 0.054t-0.821 0.036-1.125-0.107-1.107-0.455-0.902-0.92q0.554-1.839 0.554-3.286 0-1.554-0.518-2.357t-1.411-0.804q-0.946 0-1.518 0.884t-0.571 2.509q0 3.321 1.875 5.241t4.768 1.92q1.107 0 2.161-0.25z\"></path>\\n</symbol>\\n<symbol id=\"icon-vk\" viewBox=\"0 0 35 32\">\\n<path class=\"path1\" d=\"M34.232 9.286q0.411 1.143-2.679 5.25-0.429 0.571-1.161 1.518-1.393 1.786-1.607 2.339-0.304 0.732 0.25 1.446 0.304 0.375 1.446 1.464h0.018l0.071 0.071q2.518 2.339 3.411 3.946 0.054 0.089 0.116 0.223t0.125 0.473-0.009 0.607-0.446 0.491-1.054 0.223l-4.571 0.071q-0.429 0.089-1-0.089t-0.929-0.393l-0.357-0.214q-0.536-0.375-1.25-1.143t-1.223-1.384-1.089-1.036-1.009-0.277q-0.054 0.018-0.143 0.063t-0.304 0.259-0.384 0.527-0.304 0.929-0.116 1.384q0 0.268-0.063 0.491t-0.134 0.33l-0.071 0.089q-0.321 0.339-0.946 0.393h-2.054q-1.268 0.071-2.607-0.295t-2.348-0.946-1.839-1.179-1.259-1.027l-0.446-0.429q-0.179-0.179-0.491-0.536t-1.277-1.625-1.893-2.696-2.188-3.768-2.33-4.857q-0.107-0.286-0.107-0.482t0.054-0.286l0.071-0.107q0.268-0.339 1.018-0.339l4.893-0.036q0.214 0.036 0.411 0.116t0.286 0.152l0.089 0.054q0.286 0.196 0.429 0.571 0.357 0.893 0.821 1.848t0.732 1.455l0.286 0.518q0.518 1.071 1 1.857t0.866 1.223 0.741 0.688 0.607 0.25 0.482-0.089q0.036-0.018 0.089-0.089t0.214-0.393 0.241-0.839 0.17-1.446 0-2.232q-0.036-0.714-0.161-1.304t-0.25-0.821l-0.107-0.214q-0.446-0.607-1.518-0.768-0.232-0.036 0.089-0.429 0.304-0.339 0.679-0.536 0.946-0.464 4.268-0.429 1.464 0.018 2.411 0.232 0.357 0.089 0.598 0.241t0.366 0.429 0.188 0.571 0.063 0.813-0.018 0.982-0.045 1.259-0.027 1.473q0 0.196-0.018 0.75t-0.009 0.857 0.063 0.723 0.205 0.696 0.402 0.438q0.143 0.036 0.304 0.071t0.464-0.196 0.679-0.616 0.929-1.196 1.214-1.92q1.071-1.857 1.911-4.018 0.071-0.179 0.179-0.313t0.196-0.188l0.071-0.054 0.089-0.045t0.232-0.054 0.357-0.009l5.143-0.036q0.696-0.089 1.143 0.045t0.554 0.295z\"></path>\\n</symbol>\\n<symbol id=\"icon-search\" viewBox=\"0 0 30 32\">\\n<path class=\"path1\" d=\"M20.571 14.857q0-3.304-2.348-5.652t-5.652-2.348-5.652 2.348-2.348 5.652 2.348 5.652 5.652 2.348 5.652-2.348 2.348-5.652zM29.714 29.714q0 0.929-0.679 1.607t-1.607 0.679q-0.964 0-1.607-0.679l-6.125-6.107q-3.196 2.214-7.125 2.214-2.554 0-4.884-0.991t-4.018-2.679-2.679-4.018-0.991-4.884 0.991-4.884 2.679-4.018 4.018-2.679 4.884-0.991 4.884 0.991 4.018 2.679 2.679 4.018 0.991 4.884q0 3.929-2.214 7.125l6.125 6.125q0.661 0.661 0.661 1.607z\"></path>\\n</symbol>\\n<symbol id=\"icon-envelope-o\" viewBox=\"0 0 32 32\">\\n<path class=\"path1\" d=\"M29.714 26.857v-13.714q-0.571 0.643-1.232 1.179-4.786 3.679-7.607 6.036-0.911 0.768-1.482 1.196t-1.545 0.866-1.83 0.438h-0.036q-0.857 0-1.83-0.438t-1.545-0.866-1.482-1.196q-2.821-2.357-7.607-6.036-0.661-0.536-1.232-1.179v13.714q0 0.232 0.17 0.402t0.402 0.17h26.286q0.232 0 0.402-0.17t0.17-0.402zM29.714 8.089v-0.438t-0.009-0.232-0.054-0.223-0.098-0.161-0.161-0.134-0.25-0.045h-26.286q-0.232 0-0.402 0.17t-0.17 0.402q0 3 2.625 5.071 3.446 2.714 7.161 5.661 0.107 0.089 0.625 0.527t0.821 0.67 0.795 0.563 0.902 0.491 0.768 0.161h0.036q0.357 0 0.768-0.161t0.902-0.491 0.795-0.563 0.821-0.67 0.625-0.527q3.714-2.946 7.161-5.661 0.964-0.768 1.795-2.063t0.83-2.348zM32 7.429v19.429q0 1.179-0.839 2.018t-2.018 0.839h-26.286q-1.179 0-2.018-0.839t-0.839-2.018v-19.429q0-1.179 0.839-2.018t2.018-0.839h26.286q1.179 0 2.018 0.839t0.839 2.018z\"></path>\\n</symbol>\\n<symbol id=\"icon-close\" viewBox=\"0 0 25 32\">\\n<path class=\"path1\" d=\"M23.179 23.607q0 0.714-0.5 1.214l-2.429 2.429q-0.5 0.5-1.214 0.5t-1.214-0.5l-5.25-5.25-5.25 5.25q-0.5 0.5-1.214 0.5t-1.214-0.5l-2.429-2.429q-0.5-0.5-0.5-1.214t0.5-1.214l5.25-5.25-5.25-5.25q-0.5-0.5-0.5-1.214t0.5-1.214l2.429-2.429q0.5-0.5 1.214-0.5t1.214 0.5l5.25 5.25 5.25-5.25q0.5-0.5 1.214-0.5t1.214 0.5l2.429 2.429q0.5 0.5 0.5 1.214t-0.5 1.214l-5.25 5.25 5.25 5.25q0.5 0.5 0.5 1.214z\"></path>\\n</symbol>\\n<symbol id=\"icon-angle-down\" viewBox=\"0 0 21 32\">\\n<path class=\"path1\" d=\"M19.196 13.143q0 0.232-0.179 0.411l-8.321 8.321q-0.179 0.179-0.411 0.179t-0.411-0.179l-8.321-8.321q-0.179-0.179-0.179-0.411t0.179-0.411l0.893-0.893q0.179-0.179 0.411-0.179t0.411 0.179l7.018 7.018 7.018-7.018q0.179-0.179 0.411-0.179t0.411 0.179l0.893 0.893q0.179 0.179 0.179 0.411z\"></path>\\n</symbol>\\n<symbol id=\"icon-folder-open\" viewBox=\"0 0 34 32\">\\n<path class=\"path1\" d=\"M33.554 17q0 0.554-0.554 1.179l-6 7.071q-0.768 0.911-2.152 1.545t-2.563 0.634h-19.429q-0.607 0-1.080-0.232t-0.473-0.768q0-0.554 0.554-1.179l6-7.071q0.768-0.911 2.152-1.545t2.563-0.634h19.429q0.607 0 1.080 0.232t0.473 0.768zM27.429 10.857v2.857h-14.857q-1.679 0-3.518 0.848t-2.929 2.134l-6.107 7.179q0-0.071-0.009-0.223t-0.009-0.223v-17.143q0-1.643 1.179-2.821t2.821-1.179h5.714q1.643 0 2.821 1.179t1.179 2.821v0.571h9.714q1.643 0 2.821 1.179t1.179 2.821z\"></path>\\n</symbol>\\n<symbol id=\"icon-twitter\" viewBox=\"0 0 30 32\">\\n<path class=\"path1\" d=\"M28.929 7.286q-1.196 1.75-2.893 2.982 0.018 0.25 0.018 0.75 0 2.321-0.679 4.634t-2.063 4.437-3.295 3.759-4.607 2.607-5.768 0.973q-4.839 0-8.857-2.589 0.625 0.071 1.393 0.071 4.018 0 7.161-2.464-1.875-0.036-3.357-1.152t-2.036-2.848q0.589 0.089 1.089 0.089 0.768 0 1.518-0.196-2-0.411-3.313-1.991t-1.313-3.67v-0.071q1.214 0.679 2.607 0.732-1.179-0.786-1.875-2.054t-0.696-2.75q0-1.571 0.786-2.911 2.161 2.661 5.259 4.259t6.634 1.777q-0.143-0.679-0.143-1.321 0-2.393 1.688-4.080t4.080-1.688q2.5 0 4.214 1.821 1.946-0.375 3.661-1.393-0.661 2.054-2.536 3.179 1.661-0.179 3.321-0.893z\"></path>\\n</symbol>\\n<symbol id=\"icon-facebook\" viewBox=\"0 0 19 32\">\\n<path class=\"path1\" d=\"M17.125 0.214v4.714h-2.804q-1.536 0-2.071 0.643t-0.536 1.929v3.375h5.232l-0.696 5.286h-4.536v13.554h-5.464v-13.554h-4.554v-5.286h4.554v-3.893q0-3.321 1.857-5.152t4.946-1.83q2.625 0 4.071 0.214z\"></path>\\n</symbol>\\n<symbol id=\"icon-github\" viewBox=\"0 0 27 32\">\\n<path class=\"path1\" d=\"M13.714 2.286q3.732 0 6.884 1.839t4.991 4.991 1.839 6.884q0 4.482-2.616 8.063t-6.759 4.955q-0.482 0.089-0.714-0.125t-0.232-0.536q0-0.054 0.009-1.366t0.009-2.402q0-1.732-0.929-2.536 1.018-0.107 1.83-0.321t1.679-0.696 1.446-1.188 0.946-1.875 0.366-2.688q0-2.125-1.411-3.679 0.661-1.625-0.143-3.643-0.5-0.161-1.446 0.196t-1.643 0.786l-0.679 0.429q-1.661-0.464-3.429-0.464t-3.429 0.464q-0.286-0.196-0.759-0.482t-1.491-0.688-1.518-0.241q-0.804 2.018-0.143 3.643-1.411 1.554-1.411 3.679 0 1.518 0.366 2.679t0.938 1.875 1.438 1.196 1.679 0.696 1.83 0.321q-0.696 0.643-0.875 1.839-0.375 0.179-0.804 0.268t-1.018 0.089-1.17-0.384-0.991-1.116q-0.339-0.571-0.866-0.929t-0.884-0.429l-0.357-0.054q-0.375 0-0.518 0.080t-0.089 0.205 0.161 0.25 0.232 0.214l0.125 0.089q0.393 0.179 0.777 0.679t0.563 0.911l0.179 0.411q0.232 0.679 0.786 1.098t1.196 0.536 1.241 0.125 0.991-0.063l0.411-0.071q0 0.679 0.009 1.58t0.009 0.973q0 0.321-0.232 0.536t-0.714 0.125q-4.143-1.375-6.759-4.955t-2.616-8.063q0-3.732 1.839-6.884t4.991-4.991 6.884-1.839zM5.196 21.982q0.054-0.125-0.125-0.214-0.179-0.054-0.232 0.036-0.054 0.125 0.125 0.214 0.161 0.107 0.232-0.036zM5.75 22.589q0.125-0.089-0.036-0.286-0.179-0.161-0.286-0.054-0.125 0.089 0.036 0.286 0.179 0.179 0.286 0.054zM6.286 23.393q0.161-0.125 0-0.339-0.143-0.232-0.304-0.107-0.161 0.089 0 0.321t0.304 0.125zM7.036 24.143q0.143-0.143-0.071-0.339-0.214-0.214-0.357-0.054-0.161 0.143 0.071 0.339 0.214 0.214 0.357 0.054zM8.054 24.589q0.054-0.196-0.232-0.286-0.268-0.071-0.339 0.125t0.232 0.268q0.268 0.107 0.339-0.107zM9.179 24.679q0-0.232-0.304-0.196-0.286 0-0.286 0.196 0 0.232 0.304 0.196 0.286 0 0.286-0.196zM10.214 24.5q-0.036-0.196-0.321-0.161-0.286 0.054-0.25 0.268t0.321 0.143 0.25-0.25z\"></path>\\n</symbol>\\n<symbol id=\"icon-bars\" viewBox=\"0 0 27 32\">\\n<path class=\"path1\" d=\"M27.429 24v2.286q0 0.464-0.339 0.804t-0.804 0.339h-25.143q-0.464 0-0.804-0.339t-0.339-0.804v-2.286q0-0.464 0.339-0.804t0.804-0.339h25.143q0.464 0 0.804 0.339t0.339 0.804zM27.429 14.857v2.286q0 0.464-0.339 0.804t-0.804 0.339h-25.143q-0.464 0-0.804-0.339t-0.339-0.804v-2.286q0-0.464 0.339-0.804t0.804-0.339h25.143q0.464 0 0.804 0.339t0.339 0.804zM27.429 5.714v2.286q0 0.464-0.339 0.804t-0.804 0.339h-25.143q-0.464 0-0.804-0.339t-0.339-0.804v-2.286q0-0.464 0.339-0.804t0.804-0.339h25.143q0.464 0 0.804 0.339t0.339 0.804z\"></path>\\n</symbol>\\n<symbol id=\"icon-google-plus\" viewBox=\"0 0 41 32\">\\n<path class=\"path1\" d=\"M25.661 16.304q0 3.714-1.554 6.616t-4.429 4.536-6.589 1.634q-2.661 0-5.089-1.036t-4.179-2.786-2.786-4.179-1.036-5.089 1.036-5.089 2.786-4.179 4.179-2.786 5.089-1.036q5.107 0 8.768 3.429l-3.554 3.411q-2.089-2.018-5.214-2.018-2.196 0-4.063 1.107t-2.955 3.009-1.089 4.152 1.089 4.152 2.955 3.009 4.063 1.107q1.482 0 2.723-0.411t2.045-1.027 1.402-1.402 0.875-1.482 0.384-1.321h-7.429v-4.5h12.357q0.214 1.125 0.214 2.179zM41.143 14.125v3.75h-3.732v3.732h-3.75v-3.732h-3.732v-3.75h3.732v-3.732h3.75v3.732h3.732z\"></path>\\n</symbol>\\n<symbol id=\"icon-linkedin\" viewBox=\"0 0 27 32\">\\n<path class=\"path1\" d=\"M6.232 11.161v17.696h-5.893v-17.696h5.893zM6.607 5.696q0.018 1.304-0.902 2.179t-2.42 0.875h-0.036q-1.464 0-2.357-0.875t-0.893-2.179q0-1.321 0.92-2.188t2.402-0.866 2.375 0.866 0.911 2.188zM27.429 18.714v10.143h-5.875v-9.464q0-1.875-0.723-2.938t-2.259-1.063q-1.125 0-1.884 0.616t-1.134 1.527q-0.196 0.536-0.196 1.446v9.875h-5.875q0.036-7.125 0.036-11.554t-0.018-5.286l-0.018-0.857h5.875v2.571h-0.036q0.357-0.571 0.732-1t1.009-0.929 1.554-0.777 2.045-0.277q3.054 0 4.911 2.027t1.857 5.938z\"></path>\\n</symbol>\\n<symbol id=\"icon-quote-right\" viewBox=\"0 0 30 32\">\\n<path class=\"path1\" d=\"M13.714 5.714v12.571q0 1.857-0.723 3.545t-1.955 2.92-2.92 1.955-3.545 0.723h-1.143q-0.464 0-0.804-0.339t-0.339-0.804v-2.286q0-0.464 0.339-0.804t0.804-0.339h1.143q1.893 0 3.232-1.339t1.339-3.232v-0.571q0-0.714-0.5-1.214t-1.214-0.5h-4q-1.429 0-2.429-1t-1-2.429v-6.857q0-1.429 1-2.429t2.429-1h6.857q1.429 0 2.429 1t1 2.429zM29.714 5.714v12.571q0 1.857-0.723 3.545t-1.955 2.92-2.92 1.955-3.545 0.723h-1.143q-0.464 0-0.804-0.339t-0.339-0.804v-2.286q0-0.464 0.339-0.804t0.804-0.339h1.143q1.893 0 3.232-1.339t1.339-3.232v-0.571q0-0.714-0.5-1.214t-1.214-0.5h-4q-1.429 0-2.429-1t-1-2.429v-6.857q0-1.429 1-2.429t2.429-1h6.857q1.429 0 2.429 1t1 2.429z\"></path>\\n</symbol>\\n<symbol id=\"icon-mail-reply\" viewBox=\"0 0 32 32\">\\n<path class=\"path1\" d=\"M32 20q0 2.964-2.268 8.054-0.054 0.125-0.188 0.429t-0.241 0.536-0.232 0.393q-0.214 0.304-0.5 0.304-0.268 0-0.42-0.179t-0.152-0.446q0-0.161 0.045-0.473t0.045-0.42q0.089-1.214 0.089-2.196 0-1.804-0.313-3.232t-0.866-2.473-1.429-1.804-1.884-1.241-2.375-0.759-2.75-0.384-3.134-0.107h-4v4.571q0 0.464-0.339 0.804t-0.804 0.339-0.804-0.339l-9.143-9.143q-0.339-0.339-0.339-0.804t0.339-0.804l9.143-9.143q0.339-0.339 0.804-0.339t0.804 0.339 0.339 0.804v4.571h4q12.732 0 15.625 7.196 0.946 2.393 0.946 5.946z\"></path>\\n</symbol>\\n<symbol id=\"icon-youtube\" viewBox=\"0 0 27 32\">\\n<path class=\"path1\" d=\"M17.339 22.214v3.768q0 1.196-0.696 1.196-0.411 0-0.804-0.393v-5.375q0.393-0.393 0.804-0.393 0.696 0 0.696 1.196zM23.375 22.232v0.821h-1.607v-0.821q0-1.214 0.804-1.214t0.804 1.214zM6.125 18.339h1.911v-1.679h-5.571v1.679h1.875v10.161h1.786v-10.161zM11.268 28.5h1.589v-8.821h-1.589v6.75q-0.536 0.75-1.018 0.75-0.321 0-0.375-0.375-0.018-0.054-0.018-0.625v-6.5h-1.589v6.982q0 0.875 0.143 1.304 0.214 0.661 1.036 0.661 0.857 0 1.821-1.089v0.964zM18.929 25.857v-3.518q0-1.304-0.161-1.768-0.304-1-1.268-1-0.893 0-1.661 0.964v-3.875h-1.589v11.839h1.589v-0.857q0.804 0.982 1.661 0.982 0.964 0 1.268-0.982 0.161-0.482 0.161-1.786zM24.964 25.679v-0.232h-1.625q0 0.911-0.036 1.089-0.125 0.643-0.714 0.643-0.821 0-0.821-1.232v-1.554h3.196v-1.839q0-1.411-0.482-2.071-0.696-0.911-1.893-0.911-1.214 0-1.911 0.911-0.5 0.661-0.5 2.071v3.089q0 1.411 0.518 2.071 0.696 0.911 1.929 0.911 1.286 0 1.929-0.946 0.321-0.482 0.375-0.964 0.036-0.161 0.036-1.036zM14.107 9.375v-3.75q0-1.232-0.768-1.232t-0.768 1.232v3.75q0 1.25 0.768 1.25t0.768-1.25zM26.946 22.786q0 4.179-0.464 6.25-0.25 1.054-1.036 1.768t-1.821 0.821q-3.286 0.375-9.911 0.375t-9.911-0.375q-1.036-0.107-1.83-0.821t-1.027-1.768q-0.464-2-0.464-6.25 0-4.179 0.464-6.25 0.25-1.054 1.036-1.768t1.839-0.839q3.268-0.357 9.893-0.357t9.911 0.357q1.036 0.125 1.83 0.839t1.027 1.768q0.464 2 0.464 6.25zM9.125 0h1.821l-2.161 7.125v4.839h-1.786v-4.839q-0.25-1.321-1.089-3.786-0.661-1.839-1.161-3.339h1.893l1.268 4.696zM15.732 5.946v3.125q0 1.446-0.5 2.107-0.661 0.911-1.893 0.911-1.196 0-1.875-0.911-0.5-0.679-0.5-2.107v-3.125q0-1.429 0.5-2.089 0.679-0.911 1.875-0.911 1.232 0 1.893 0.911 0.5 0.661 0.5 2.089zM21.714 3.054v8.911h-1.625v-0.982q-0.946 1.107-1.839 1.107-0.821 0-1.054-0.661-0.143-0.429-0.143-1.339v-7.036h1.625v6.554q0 0.589 0.018 0.625 0.054 0.393 0.375 0.393 0.482 0 1.018-0.768v-6.804h1.625z\"></path>\\n</symbol>\\n<symbol id=\"icon-dropbox\" viewBox=\"0 0 32 32\">\\n<path class=\"path1\" d=\"M7.179 12.625l8.821 5.446-6.107 5.089-8.75-5.696zM24.786 22.536v1.929l-8.75 5.232v0.018l-0.018-0.018-0.018 0.018v-0.018l-8.732-5.232v-1.929l2.625 1.714 6.107-5.071v-0.036l0.018 0.018 0.018-0.018v0.036l6.125 5.071zM9.893 2.107l6.107 5.089-8.821 5.429-6.036-4.821zM24.821 12.625l6.036 4.839-8.732 5.696-6.125-5.089zM22.125 2.107l8.732 5.696-6.036 4.821-8.821-5.429z\"></path>\\n</symbol>\\n<symbol id=\"icon-instagram\" viewBox=\"0 0 27 32\">\\n<path class=\"path1\" d=\"M18.286 16q0-1.893-1.339-3.232t-3.232-1.339-3.232 1.339-1.339 3.232 1.339 3.232 3.232 1.339 3.232-1.339 1.339-3.232zM20.75 16q0 2.929-2.054 4.982t-4.982 2.054-4.982-2.054-2.054-4.982 2.054-4.982 4.982-2.054 4.982 2.054 2.054 4.982zM22.679 8.679q0 0.679-0.482 1.161t-1.161 0.482-1.161-0.482-0.482-1.161 0.482-1.161 1.161-0.482 1.161 0.482 0.482 1.161zM13.714 4.75q-0.125 0-1.366-0.009t-1.884 0-1.723 0.054-1.839 0.179-1.277 0.33q-0.893 0.357-1.571 1.036t-1.036 1.571q-0.196 0.518-0.33 1.277t-0.179 1.839-0.054 1.723 0 1.884 0.009 1.366-0.009 1.366 0 1.884 0.054 1.723 0.179 1.839 0.33 1.277q0.357 0.893 1.036 1.571t1.571 1.036q0.518 0.196 1.277 0.33t1.839 0.179 1.723 0.054 1.884 0 1.366-0.009 1.366 0.009 1.884 0 1.723-0.054 1.839-0.179 1.277-0.33q0.893-0.357 1.571-1.036t1.036-1.571q0.196-0.518 0.33-1.277t0.179-1.839 0.054-1.723 0-1.884-0.009-1.366 0.009-1.366 0-1.884-0.054-1.723-0.179-1.839-0.33-1.277q-0.357-0.893-1.036-1.571t-1.571-1.036q-0.518-0.196-1.277-0.33t-1.839-0.179-1.723-0.054-1.884 0-1.366 0.009zM27.429 16q0 4.089-0.089 5.661-0.179 3.714-2.214 5.75t-5.75 2.214q-1.571 0.089-5.661 0.089t-5.661-0.089q-3.714-0.179-5.75-2.214t-2.214-5.75q-0.089-1.571-0.089-5.661t0.089-5.661q0.179-3.714 2.214-5.75t5.75-2.214q1.571-0.089 5.661-0.089t5.661 0.089q3.714 0.179 5.75 2.214t2.214 5.75q0.089 1.571 0.089 5.661z\"></path>\\n</symbol>\\n<symbol id=\"icon-flickr\" viewBox=\"0 0 27 32\">\\n<path class=\"path1\" d=\"M22.286 2.286q2.125 0 3.634 1.509t1.509 3.634v17.143q0 2.125-1.509 3.634t-3.634 1.509h-17.143q-2.125 0-3.634-1.509t-1.509-3.634v-17.143q0-2.125 1.509-3.634t3.634-1.509h17.143zM12.464 16q0-1.571-1.107-2.679t-2.679-1.107-2.679 1.107-1.107 2.679 1.107 2.679 2.679 1.107 2.679-1.107 1.107-2.679zM22.536 16q0-1.571-1.107-2.679t-2.679-1.107-2.679 1.107-1.107 2.679 1.107 2.679 2.679 1.107 2.679-1.107 1.107-2.679z\"></path>\\n</symbol>\\n<symbol id=\"icon-tumblr\" viewBox=\"0 0 19 32\">\\n<path class=\"path1\" d=\"M16.857 23.732l1.429 4.232q-0.411 0.625-1.982 1.179t-3.161 0.571q-1.857 0.036-3.402-0.464t-2.545-1.321-1.696-1.893-0.991-2.143-0.295-2.107v-9.714h-3v-3.839q1.286-0.464 2.304-1.241t1.625-1.607 1.036-1.821 0.607-1.768 0.268-1.58q0.018-0.089 0.080-0.152t0.134-0.063h4.357v7.571h5.946v4.5h-5.964v9.25q0 0.536 0.116 1t0.402 0.938 0.884 0.741 1.455 0.25q1.393-0.036 2.393-0.518z\"></path>\\n</symbol>\\n<symbol id=\"icon-dockerhub\" viewBox=\"0 0 24 28\">\\n<path class=\"path1\" d=\"M1.597 10.257h2.911v2.83H1.597v-2.83zm3.573 0h2.91v2.83H5.17v-2.83zm0-3.627h2.91v2.829H5.17V6.63zm3.57 3.627h2.912v2.83H8.74v-2.83zm0-3.627h2.912v2.829H8.74V6.63zm3.573 3.627h2.911v2.83h-2.911v-2.83zm0-3.627h2.911v2.829h-2.911V6.63zm3.572 3.627h2.911v2.83h-2.911v-2.83zM12.313 3h2.911v2.83h-2.911V3zm-6.65 14.173c-.449 0-.812.354-.812.788 0 .435.364.788.812.788.447 0 .811-.353.811-.788 0-.434-.363-.788-.811-.788\"></path>\\n<path class=\"path2\" d=\"M28.172 11.721c-.978-.549-2.278-.624-3.388-.306-.136-1.146-.91-2.149-1.83-2.869l-.366-.286-.307.345c-.618.692-.8 1.845-.718 2.73.063.651.273 1.312.685 1.834-.313.183-.668.328-.985.434-.646.212-1.347.33-2.028.33H.083l-.042.429c-.137 1.432.065 2.866.674 4.173l.262.519.03.048c1.8 2.973 4.963 4.225 8.41 4.225 6.672 0 12.174-2.896 14.702-9.015 1.689.085 3.417-.4 4.243-1.968l.211-.4-.401-.223zM5.664 19.458c-.85 0-1.542-.671-1.542-1.497 0-.825.691-1.498 1.541-1.498.849 0 1.54.672 1.54 1.497s-.69 1.498-1.539 1.498z\"></path>\\n</symbol>\\n<symbol id=\"icon-dribbble\" viewBox=\"0 0 27 32\">\\n<path class=\"path1\" d=\"M18.286 26.786q-0.75-4.304-2.5-8.893h-0.036l-0.036 0.018q-0.286 0.107-0.768 0.295t-1.804 0.875-2.446 1.464-2.339 2.045-1.839 2.643l-0.268-0.196q3.286 2.679 7.464 2.679 2.357 0 4.571-0.929zM14.982 15.946q-0.375-0.875-0.946-1.982-5.554 1.661-12.018 1.661-0.018 0.125-0.018 0.375 0 2.214 0.786 4.223t2.214 3.598q0.893-1.589 2.205-2.973t2.545-2.223 2.33-1.446 1.777-0.857l0.661-0.232q0.071-0.018 0.232-0.063t0.232-0.080zM13.071 12.161q-2.143-3.804-4.357-6.75-2.464 1.161-4.179 3.321t-2.286 4.857q5.393 0 10.821-1.429zM25.286 17.857q-3.75-1.071-7.304-0.518 1.554 4.268 2.286 8.375 1.982-1.339 3.304-3.384t1.714-4.473zM10.911 4.625q-0.018 0-0.036 0.018 0.018-0.018 0.036-0.018zM21.446 7.214q-3.304-2.929-7.732-2.929-1.357 0-2.768 0.339 2.339 3.036 4.393 6.821 1.232-0.464 2.321-1.080t1.723-1.098 1.17-1.018 0.67-0.723zM25.429 15.875q-0.054-4.143-2.661-7.321l-0.018 0.018q-0.161 0.214-0.339 0.438t-0.777 0.795-1.268 1.080-1.786 1.161-2.348 1.152q0.446 0.946 0.786 1.696 0.036 0.107 0.116 0.313t0.134 0.295q0.643-0.089 1.33-0.125t1.313-0.036 1.232 0.027 1.143 0.071 1.009 0.098 0.857 0.116 0.652 0.107 0.446 0.080zM27.429 16q0 3.732-1.839 6.884t-4.991 4.991-6.884 1.839-6.884-1.839-4.991-4.991-1.839-6.884 1.839-6.884 4.991-4.991 6.884-1.839 6.884 1.839 4.991 4.991 1.839 6.884z\"></path>\\n</symbol>\\n<symbol id=\"icon-skype\" viewBox=\"0 0 27 32\">\\n<path class=\"path1\" d=\"M20.946 18.982q0-0.893-0.348-1.634t-0.866-1.223-1.304-0.875-1.473-0.607-1.563-0.411l-1.857-0.429q-0.536-0.125-0.786-0.188t-0.625-0.205-0.536-0.286-0.295-0.375-0.134-0.536q0-1.375 2.571-1.375 0.768 0 1.375 0.214t0.964 0.509 0.679 0.598 0.714 0.518 0.857 0.214q0.839 0 1.348-0.571t0.509-1.375q0-0.982-1-1.777t-2.536-1.205-3.25-0.411q-1.214 0-2.357 0.277t-2.134 0.839-1.589 1.554-0.598 2.295q0 1.089 0.339 1.902t1 1.348 1.429 0.866 1.839 0.58l2.607 0.643q1.607 0.393 2 0.643 0.571 0.357 0.571 1.071 0 0.696-0.714 1.152t-1.875 0.455q-0.911 0-1.634-0.286t-1.161-0.688-0.813-0.804-0.821-0.688-0.964-0.286q-0.893 0-1.348 0.536t-0.455 1.339q0 1.643 2.179 2.813t5.196 1.17q1.304 0 2.5-0.33t2.188-0.955 1.58-1.67 0.589-2.348zM27.429 22.857q0 2.839-2.009 4.848t-4.848 2.009q-2.321 0-4.179-1.429-1.375 0.286-2.679 0.286-2.554 0-4.884-0.991t-4.018-2.679-2.679-4.018-0.991-4.884q0-1.304 0.286-2.679-1.429-1.857-1.429-4.179 0-2.839 2.009-4.848t4.848-2.009q2.321 0 4.179 1.429 1.375-0.286 2.679-0.286 2.554 0 4.884 0.991t4.018 2.679 2.679 4.018 0.991 4.884q0 1.304-0.286 2.679 1.429 1.857 1.429 4.179z\"></path>\\n</symbol>\\n<symbol id=\"icon-foursquare\" viewBox=\"0 0 23 32\">\\n<path class=\"path1\" d=\"M17.857 7.75l0.661-3.464q0.089-0.411-0.161-0.714t-0.625-0.304h-12.714q-0.411 0-0.688 0.304t-0.277 0.661v19.661q0 0.125 0.107 0.018l5.196-6.286q0.411-0.464 0.679-0.598t0.857-0.134h4.268q0.393 0 0.661-0.259t0.321-0.527q0.429-2.321 0.661-3.411 0.071-0.375-0.205-0.714t-0.652-0.339h-5.25q-0.518 0-0.857-0.339t-0.339-0.857v-0.75q0-0.518 0.339-0.848t0.857-0.33h6.179q0.321 0 0.625-0.241t0.357-0.527zM21.911 3.786q-0.268 1.304-0.955 4.759t-1.241 6.25-0.625 3.098q-0.107 0.393-0.161 0.58t-0.25 0.58-0.438 0.589-0.688 0.375-1.036 0.179h-4.839q-0.232 0-0.393 0.179-0.143 0.161-7.607 8.821-0.393 0.446-1.045 0.509t-0.866-0.098q-0.982-0.393-0.982-1.75v-25.179q0-0.982 0.679-1.83t2.143-0.848h15.857q1.696 0 2.268 0.946t0.179 2.839zM21.911 3.786l-2.821 14.107q0.071-0.304 0.625-3.098t1.241-6.25 0.955-4.759z\"></path>\\n</symbol>\\n<symbol id=\"icon-wordpress\" viewBox=\"0 0 32 32\">\\n<path class=\"path1\" d=\"M2.268 16q0-2.911 1.196-5.589l6.554 17.946q-3.5-1.696-5.625-5.018t-2.125-7.339zM25.268 15.304q0 0.339-0.045 0.688t-0.179 0.884-0.205 0.786-0.313 1.054-0.313 1.036l-1.357 4.571-4.964-14.75q0.821-0.054 1.571-0.143 0.339-0.036 0.464-0.33t-0.045-0.554-0.509-0.241l-3.661 0.179q-1.339-0.018-3.607-0.179-0.214-0.018-0.366 0.089t-0.205 0.268-0.027 0.33 0.161 0.295 0.348 0.143l1.429 0.143 2.143 5.857-3 9-5-14.857q0.821-0.054 1.571-0.143 0.339-0.036 0.464-0.33t-0.045-0.554-0.509-0.241l-3.661 0.179q-0.125 0-0.411-0.009t-0.464-0.009q1.875-2.857 4.902-4.527t6.563-1.67q2.625 0 5.009 0.946t4.259 2.661h-0.179q-0.982 0-1.643 0.723t-0.661 1.705q0 0.214 0.036 0.429t0.071 0.384 0.143 0.411 0.161 0.375 0.214 0.402 0.223 0.375 0.259 0.429 0.25 0.411q1.125 1.911 1.125 3.786zM16.232 17.196l4.232 11.554q0.018 0.107 0.089 0.196-2.25 0.786-4.554 0.786-2 0-3.875-0.571zM28.036 9.411q1.696 3.107 1.696 6.589 0 3.732-1.857 6.884t-4.982 4.973l4.196-12.107q1.054-3.018 1.054-4.929 0-0.75-0.107-1.411zM16 0q3.25 0 6.214 1.268t5.107 3.411 3.411 5.107 1.268 6.214-1.268 6.214-3.411 5.107-5.107 3.411-6.214 1.268-6.214-1.268-5.107-3.411-3.411-5.107-1.268-6.214 1.268-6.214 3.411-5.107 5.107-3.411 6.214-1.268zM16 31.268q3.089 0 5.92-1.214t4.875-3.259 3.259-4.875 1.214-5.92-1.214-5.92-3.259-4.875-4.875-3.259-5.92-1.214-5.92 1.214-4.875 3.259-3.259 4.875-1.214 5.92 1.214 5.92 3.259 4.875 4.875 3.259 5.92 1.214z\"></path>\\n</symbol>\\n<symbol id=\"icon-stumbleupon\" viewBox=\"0 0 34 32\">\\n<path class=\"path1\" d=\"M18.964 12.714v-2.107q0-0.75-0.536-1.286t-1.286-0.536-1.286 0.536-0.536 1.286v10.929q0 3.125-2.25 5.339t-5.411 2.214q-3.179 0-5.42-2.241t-2.241-5.42v-4.75h5.857v4.679q0 0.768 0.536 1.295t1.286 0.527 1.286-0.527 0.536-1.295v-11.071q0-3.054 2.259-5.214t5.384-2.161q3.143 0 5.393 2.179t2.25 5.25v2.429l-3.482 1.036zM28.429 16.679h5.857v4.75q0 3.179-2.241 5.42t-5.42 2.241q-3.161 0-5.411-2.223t-2.25-5.366v-4.786l2.339 1.089 3.482-1.036v4.821q0 0.75 0.536 1.277t1.286 0.527 1.286-0.527 0.536-1.277v-4.911z\"></path>\\n</symbol>\\n<symbol id=\"icon-digg\" viewBox=\"0 0 37 32\">\\n<path class=\"path1\" d=\"M5.857 5.036h3.643v17.554h-9.5v-12.446h5.857v-5.107zM5.857 19.661v-6.589h-2.196v6.589h2.196zM10.964 10.143v12.446h3.661v-12.446h-3.661zM10.964 5.036v3.643h3.661v-3.643h-3.661zM16.089 10.143h9.518v16.821h-9.518v-2.911h5.857v-1.464h-5.857v-12.446zM21.946 19.661v-6.589h-2.196v6.589h2.196zM27.071 10.143h9.5v16.821h-9.5v-2.911h5.839v-1.464h-5.839v-12.446zM32.911 19.661v-6.589h-2.196v6.589h2.196z\"></path>\\n</symbol>\\n<symbol id=\"icon-spotify\" viewBox=\"0 0 27 32\">\\n<path class=\"path1\" d=\"M20.125 21.607q0-0.571-0.536-0.911-3.446-2.054-7.982-2.054-2.375 0-5.125 0.607-0.75 0.161-0.75 0.929 0 0.357 0.241 0.616t0.634 0.259q0.089 0 0.661-0.143 2.357-0.482 4.339-0.482 4.036 0 7.089 1.839 0.339 0.196 0.589 0.196 0.339 0 0.589-0.241t0.25-0.616zM21.839 17.768q0-0.714-0.625-1.089-4.232-2.518-9.786-2.518-2.732 0-5.411 0.75-0.857 0.232-0.857 1.143 0 0.446 0.313 0.759t0.759 0.313q0.125 0 0.661-0.143 2.179-0.589 4.482-0.589 4.982 0 8.714 2.214 0.429 0.232 0.679 0.232 0.446 0 0.759-0.313t0.313-0.759zM23.768 13.339q0-0.839-0.714-1.25-2.25-1.304-5.232-1.973t-6.125-0.67q-3.643 0-6.5 0.839-0.411 0.125-0.688 0.455t-0.277 0.866q0 0.554 0.366 0.929t0.92 0.375q0.196 0 0.714-0.143 2.375-0.661 5.482-0.661 2.839 0 5.527 0.607t4.527 1.696q0.375 0.214 0.714 0.214 0.518 0 0.902-0.366t0.384-0.92zM27.429 16q0 3.732-1.839 6.884t-4.991 4.991-6.884 1.839-6.884-1.839-4.991-4.991-1.839-6.884 1.839-6.884 4.991-4.991 6.884-1.839 6.884 1.839 4.991 4.991 1.839 6.884z\"></path>\\n</symbol>\\n<symbol id=\"icon-soundcloud\" viewBox=\"0 0 41 32\">\\n<path class=\"path1\" d=\"M14 24.5l0.286-4.304-0.286-9.339q-0.018-0.179-0.134-0.304t-0.295-0.125q-0.161 0-0.286 0.125t-0.125 0.304l-0.25 9.339 0.25 4.304q0.018 0.179 0.134 0.295t0.277 0.116q0.393 0 0.429-0.411zM19.286 23.982l0.196-3.768-0.214-10.464q0-0.286-0.232-0.429-0.143-0.089-0.286-0.089t-0.286 0.089q-0.232 0.143-0.232 0.429l-0.018 0.107-0.179 10.339q0 0.018 0.196 4.214v0.018q0 0.179 0.107 0.304 0.161 0.196 0.411 0.196 0.196 0 0.357-0.161 0.161-0.125 0.161-0.357zM0.625 17.911l0.357 2.286-0.357 2.25q-0.036 0.161-0.161 0.161t-0.161-0.161l-0.304-2.25 0.304-2.286q0.036-0.161 0.161-0.161t0.161 0.161zM2.161 16.5l0.464 3.696-0.464 3.625q-0.036 0.161-0.179 0.161-0.161 0-0.161-0.179l-0.411-3.607 0.411-3.696q0-0.161 0.161-0.161 0.143 0 0.179 0.161zM3.804 15.821l0.446 4.375-0.446 4.232q0 0.196-0.196 0.196-0.179 0-0.214-0.196l-0.375-4.232 0.375-4.375q0.036-0.214 0.214-0.214 0.196 0 0.196 0.214zM5.482 15.696l0.411 4.5-0.411 4.357q-0.036 0.232-0.25 0.232-0.232 0-0.232-0.232l-0.375-4.357 0.375-4.5q0-0.232 0.232-0.232 0.214 0 0.25 0.232zM7.161 16.018l0.375 4.179-0.375 4.393q-0.036 0.286-0.286 0.286-0.107 0-0.188-0.080t-0.080-0.205l-0.357-4.393 0.357-4.179q0-0.107 0.080-0.188t0.188-0.080q0.25 0 0.286 0.268zM8.839 13.411l0.375 6.786-0.375 4.393q0 0.125-0.089 0.223t-0.214 0.098q-0.286 0-0.321-0.321l-0.321-4.393 0.321-6.786q0.036-0.321 0.321-0.321 0.125 0 0.214 0.098t0.089 0.223zM10.518 11.875l0.339 8.357-0.339 4.357q0 0.143-0.098 0.241t-0.241 0.098q-0.321 0-0.357-0.339l-0.286-4.357 0.286-8.357q0.036-0.339 0.357-0.339 0.143 0 0.241 0.098t0.098 0.241zM12.268 11.161l0.321 9.036-0.321 4.321q-0.036 0.375-0.393 0.375-0.339 0-0.375-0.375l-0.286-4.321 0.286-9.036q0-0.161 0.116-0.277t0.259-0.116q0.161 0 0.268 0.116t0.125 0.277zM19.268 24.411v0 0zM15.732 11.089l0.268 9.107-0.268 4.268q0 0.179-0.134 0.313t-0.313 0.134-0.304-0.125-0.143-0.321l-0.25-4.268 0.25-9.107q0-0.196 0.134-0.321t0.313-0.125 0.313 0.125 0.134 0.321zM17.5 11.429l0.25 8.786-0.25 4.214q0 0.196-0.143 0.339t-0.339 0.143-0.339-0.143-0.161-0.339l-0.214-4.214 0.214-8.786q0.018-0.214 0.161-0.357t0.339-0.143 0.33 0.143 0.152 0.357zM21.286 20.214l-0.25 4.125q0 0.232-0.161 0.393t-0.393 0.161-0.393-0.161-0.179-0.393l-0.107-2.036-0.107-2.089 0.214-11.357v-0.054q0.036-0.268 0.214-0.429 0.161-0.125 0.357-0.125 0.143 0 0.268 0.089 0.25 0.143 0.286 0.464zM41.143 19.875q0 2.089-1.482 3.563t-3.571 1.473h-14.036q-0.232-0.036-0.393-0.196t-0.161-0.393v-16.054q0-0.411 0.5-0.589 1.518-0.607 3.232-0.607 3.482 0 6.036 2.348t2.857 5.777q0.946-0.393 1.964-0.393 2.089 0 3.571 1.482t1.482 3.589z\"></path>\\n</symbol>\\n<symbol id=\"icon-codepen\" viewBox=\"0 0 32 32\">\\n<path class=\"path1\" d=\"M3.857 20.875l10.768 7.179v-6.411l-5.964-3.982zM2.75 18.304l3.446-2.304-3.446-2.304v4.607zM17.375 28.054l10.768-7.179-4.804-3.214-5.964 3.982v6.411zM16 19.25l4.857-3.25-4.857-3.25-4.857 3.25zM8.661 14.339l5.964-3.982v-6.411l-10.768 7.179zM25.804 16l3.446 2.304v-4.607zM23.339 14.339l4.804-3.214-10.768-7.179v6.411zM32 11.125v9.75q0 0.732-0.607 1.143l-14.625 9.75q-0.375 0.232-0.768 0.232t-0.768-0.232l-14.625-9.75q-0.607-0.411-0.607-1.143v-9.75q0-0.732 0.607-1.143l14.625-9.75q0.375-0.232 0.768-0.232t0.768 0.232l14.625 9.75q0.607 0.411 0.607 1.143z\"></path>\\n</symbol>\\n<symbol id=\"icon-twitch\" viewBox=\"0 0 32 32\">\\n<path class=\"path1\" d=\"M16 7.75v7.75h-2.589v-7.75h2.589zM23.107 7.75v7.75h-2.589v-7.75h2.589zM23.107 21.321l4.518-4.536v-14.196h-21.321v18.732h5.821v3.875l3.875-3.875h7.107zM30.214 0v18.089l-7.75 7.75h-5.821l-3.875 3.875h-3.875v-3.875h-7.107v-20.679l1.946-5.161h26.482z\"></path>\\n</symbol>\\n<symbol id=\"icon-meanpath\" viewBox=\"0 0 27 32\">\\n<path class=\"path1\" d=\"M23.411 15.036v2.036q0 0.429-0.241 0.679t-0.67 0.25h-3.607q-0.429 0-0.679-0.25t-0.25-0.679v-2.036q0-0.429 0.25-0.679t0.679-0.25h3.607q0.429 0 0.67 0.25t0.241 0.679zM14.661 19.143v-4.464q0-0.946-0.58-1.527t-1.527-0.58h-2.375q-1.214 0-1.714 0.929-0.5-0.929-1.714-0.929h-2.321q-0.946 0-1.527 0.58t-0.58 1.527v4.464q0 0.393 0.375 0.393h0.982q0.393 0 0.393-0.393v-4.107q0-0.429 0.241-0.679t0.688-0.25h1.679q0.429 0 0.679 0.25t0.25 0.679v4.107q0 0.393 0.375 0.393h0.964q0.393 0 0.393-0.393v-4.107q0-0.429 0.25-0.679t0.679-0.25h1.732q0.429 0 0.67 0.25t0.241 0.679v4.107q0 0.393 0.393 0.393h0.982q0.375 0 0.375-0.393zM25.179 17.429v-2.75q0-0.946-0.589-1.527t-1.536-0.58h-4.714q-0.946 0-1.536 0.58t-0.589 1.527v7.321q0 0.375 0.393 0.375h0.982q0.375 0 0.375-0.375v-3.214q0.554 0.75 1.679 0.75h3.411q0.946 0 1.536-0.58t0.589-1.527zM27.429 6.429v19.143q0 1.714-1.214 2.929t-2.929 1.214h-19.143q-1.714 0-2.929-1.214t-1.214-2.929v-19.143q0-1.714 1.214-2.929t2.929-1.214h19.143q1.714 0 2.929 1.214t1.214 2.929z\"></path>\\n</symbol>\\n<symbol id=\"icon-pinterest-p\" viewBox=\"0 0 23 32\">\\n<path class=\"path1\" d=\"M0 10.661q0-1.929 0.67-3.634t1.848-2.973 2.714-2.196 3.304-1.393 3.607-0.464q2.821 0 5.25 1.188t3.946 3.455 1.518 5.125q0 1.714-0.339 3.357t-1.071 3.161-1.786 2.67-2.589 1.839-3.375 0.688q-1.214 0-2.411-0.571t-1.714-1.571q-0.179 0.696-0.5 2.009t-0.42 1.696-0.366 1.268-0.464 1.268-0.571 1.116-0.821 1.384-1.107 1.545l-0.25 0.089-0.161-0.179q-0.268-2.804-0.268-3.357 0-1.643 0.384-3.688t1.188-5.134 0.929-3.625q-0.571-1.161-0.571-3.018 0-1.482 0.929-2.786t2.357-1.304q1.089 0 1.696 0.723t0.607 1.83q0 1.179-0.786 3.411t-0.786 3.339q0 1.125 0.804 1.866t1.946 0.741q0.982 0 1.821-0.446t1.402-1.214 1-1.696 0.679-1.973 0.357-1.982 0.116-1.777q0-3.089-1.955-4.813t-5.098-1.723q-3.571 0-5.964 2.313t-2.393 5.866q0 0.786 0.223 1.518t0.482 1.161 0.482 0.813 0.223 0.545q0 0.5-0.268 1.304t-0.661 0.804q-0.036 0-0.304-0.054-0.911-0.268-1.616-1t-1.089-1.688-0.58-1.929-0.196-1.902z\"></path>\\n</symbol>\\n<symbol id=\"icon-periscope\" viewBox=\"0 0 24 28\">\\n<path class=\"path1\" d=\"M12.285,1C6.696,1,2.277,5.643,2.277,11.243c0,5.851,7.77,14.578,10.007,14.578c1.959,0,9.729-8.728,9.729-14.578 C22.015,5.643,17.596,1,12.285,1z M12.317,16.551c-3.473,0-6.152-2.611-6.152-5.664c0-1.292,0.39-2.472,1.065-3.438 c0.206,1.084,1.18,1.906,2.352,1.906c1.322,0,2.393-1.043,2.393-2.333c0-0.832-0.447-1.561-1.119-1.975 c0.467-0.105,0.955-0.161,1.46-0.161c3.133,0,5.81,2.611,5.81,5.998C18.126,13.94,15.449,16.551,12.317,16.551z\"></path>\\n</symbol>\\n<symbol id=\"icon-get-pocket\" viewBox=\"0 0 31 32\">\\n<path class=\"path1\" d=\"M27.946 2.286q1.161 0 1.964 0.813t0.804 1.973v9.268q0 3.143-1.214 6t-3.259 4.911-4.893 3.259-5.973 1.205q-3.143 0-5.991-1.205t-4.902-3.259-3.268-4.911-1.214-6v-9.268q0-1.143 0.821-1.964t1.964-0.821h25.161zM15.375 21.286q0.839 0 1.464-0.589l7.214-6.929q0.661-0.625 0.661-1.518 0-0.875-0.616-1.491t-1.491-0.616q-0.839 0-1.464 0.589l-5.768 5.536-5.768-5.536q-0.625-0.589-1.446-0.589-0.875 0-1.491 0.616t-0.616 1.491q0 0.911 0.643 1.518l7.232 6.929q0.589 0.589 1.446 0.589z\"></path>\\n</symbol>\\n<symbol id=\"icon-vimeo\" viewBox=\"0 0 32 32\">\\n<path class=\"path1\" d=\"M30.518 9.25q-0.179 4.214-5.929 11.625-5.946 7.696-10.036 7.696-2.536 0-4.286-4.696-0.786-2.857-2.357-8.607-1.286-4.679-2.804-4.679-0.321 0-2.268 1.357l-1.375-1.75q0.429-0.375 1.929-1.723t2.321-2.063q2.786-2.464 4.304-2.607 1.696-0.161 2.732 0.991t1.446 3.634q0.786 5.125 1.179 6.661 0.982 4.446 2.143 4.446 0.911 0 2.75-2.875 1.804-2.875 1.946-4.393 0.232-2.482-1.946-2.482-1.018 0-2.161 0.464 2.143-7.018 8.196-6.821 4.482 0.143 4.214 5.821z\"></path>\\n</symbol>\\n<symbol id=\"icon-reddit-alien\" viewBox=\"0 0 32 32\">\\n<path class=\"path1\" d=\"M32 15.107q0 1.036-0.527 1.884t-1.42 1.295q0.214 0.821 0.214 1.714 0 2.768-1.902 5.125t-5.188 3.723-7.143 1.366-7.134-1.366-5.179-3.723-1.902-5.125q0-0.839 0.196-1.679-0.911-0.446-1.464-1.313t-0.554-1.902q0-1.464 1.036-2.509t2.518-1.045q1.518 0 2.589 1.125 3.893-2.714 9.196-2.893l2.071-9.304q0.054-0.232 0.268-0.375t0.464-0.089l6.589 1.446q0.321-0.661 0.964-1.063t1.411-0.402q1.107 0 1.893 0.777t0.786 1.884-0.786 1.893-1.893 0.786-1.884-0.777-0.777-1.884l-5.964-1.321-1.857 8.429q5.357 0.161 9.268 2.857 1.036-1.089 2.554-1.089 1.482 0 2.518 1.045t1.036 2.509zM7.464 18.661q0 1.107 0.777 1.893t1.884 0.786 1.893-0.786 0.786-1.893-0.786-1.884-1.893-0.777q-1.089 0-1.875 0.786t-0.786 1.875zM21.929 25q0.196-0.196 0.196-0.464t-0.196-0.464q-0.179-0.179-0.446-0.179t-0.464 0.179q-0.732 0.75-2.161 1.107t-2.857 0.357-2.857-0.357-2.161-1.107q-0.196-0.179-0.464-0.179t-0.446 0.179q-0.196 0.179-0.196 0.455t0.196 0.473q0.768 0.768 2.116 1.214t2.188 0.527 1.625 0.080 1.625-0.080 2.188-0.527 2.116-1.214zM21.875 21.339q1.107 0 1.884-0.786t0.777-1.893q0-1.089-0.786-1.875t-1.875-0.786q-1.107 0-1.893 0.777t-0.786 1.884 0.786 1.893 1.893 0.786z\"></path>\\n</symbol>\\n<symbol id=\"icon-hashtag\" viewBox=\"0 0 32 32\">\\n<path class=\"path1\" d=\"M17.696 18.286l1.143-4.571h-4.536l-1.143 4.571h4.536zM31.411 9.286l-1 4q-0.125 0.429-0.554 0.429h-5.839l-1.143 4.571h5.554q0.268 0 0.446 0.214 0.179 0.25 0.107 0.5l-1 4q-0.089 0.429-0.554 0.429h-5.839l-1.446 5.857q-0.125 0.429-0.554 0.429h-4q-0.286 0-0.464-0.214-0.161-0.214-0.107-0.5l1.393-5.571h-4.536l-1.446 5.857q-0.125 0.429-0.554 0.429h-4.018q-0.268 0-0.446-0.214-0.161-0.214-0.107-0.5l1.393-5.571h-5.554q-0.268 0-0.446-0.214-0.161-0.214-0.107-0.5l1-4q0.125-0.429 0.554-0.429h5.839l1.143-4.571h-5.554q-0.268 0-0.446-0.214-0.179-0.25-0.107-0.5l1-4q0.089-0.429 0.554-0.429h5.839l1.446-5.857q0.125-0.429 0.571-0.429h4q0.268 0 0.446 0.214 0.161 0.214 0.107 0.5l-1.393 5.571h4.536l1.446-5.857q0.125-0.429 0.571-0.429h4q0.268 0 0.446 0.214 0.161 0.214 0.107 0.5l-1.393 5.571h5.554q0.268 0 0.446 0.214 0.161 0.214 0.107 0.5z\"></path>\\n</symbol>\\n<symbol id=\"icon-chain\" viewBox=\"0 0 30 32\">\\n<path class=\"path1\" d=\"M26 21.714q0-0.714-0.5-1.214l-3.714-3.714q-0.5-0.5-1.214-0.5-0.75 0-1.286 0.571 0.054 0.054 0.339 0.33t0.384 0.384 0.268 0.339 0.232 0.455 0.063 0.491q0 0.714-0.5 1.214t-1.214 0.5q-0.268 0-0.491-0.063t-0.455-0.232-0.339-0.268-0.384-0.384-0.33-0.339q-0.589 0.554-0.589 1.304 0 0.714 0.5 1.214l3.679 3.696q0.482 0.482 1.214 0.482 0.714 0 1.214-0.464l2.625-2.607q0.5-0.5 0.5-1.196zM13.446 9.125q0-0.714-0.5-1.214l-3.679-3.696q-0.5-0.5-1.214-0.5-0.696 0-1.214 0.482l-2.625 2.607q-0.5 0.5-0.5 1.196 0 0.714 0.5 1.214l3.714 3.714q0.482 0.482 1.214 0.482 0.75 0 1.286-0.554-0.054-0.054-0.339-0.33t-0.384-0.384-0.268-0.339-0.232-0.455-0.063-0.491q0-0.714 0.5-1.214t1.214-0.5q0.268 0 0.491 0.063t0.455 0.232 0.339 0.268 0.384 0.384 0.33 0.339q0.589-0.554 0.589-1.304zM29.429 21.714q0 2.143-1.518 3.625l-2.625 2.607q-1.482 1.482-3.625 1.482-2.161 0-3.643-1.518l-3.679-3.696q-1.482-1.482-1.482-3.625 0-2.196 1.571-3.732l-1.571-1.571q-1.536 1.571-3.714 1.571-2.143 0-3.643-1.5l-3.714-3.714q-1.5-1.5-1.5-3.643t1.518-3.625l2.625-2.607q1.482-1.482 3.625-1.482 2.161 0 3.643 1.518l3.679 3.696q1.482 1.482 1.482 3.625 0 2.196-1.571 3.732l1.571 1.571q1.536-1.571 3.714-1.571 2.143 0 3.643 1.5l3.714 3.714q1.5 1.5 1.5 3.643z\"></path>\\n</symbol>\\n<symbol id=\"icon-thumb-tack\" viewBox=\"0 0 21 32\">\\n<path class=\"path1\" d=\"M8.571 15.429v-8q0-0.25-0.161-0.411t-0.411-0.161-0.411 0.161-0.161 0.411v8q0 0.25 0.161 0.411t0.411 0.161 0.411-0.161 0.161-0.411zM20.571 21.714q0 0.464-0.339 0.804t-0.804 0.339h-7.661l-0.911 8.625q-0.036 0.214-0.188 0.366t-0.366 0.152h-0.018q-0.482 0-0.571-0.482l-1.357-8.661h-7.214q-0.464 0-0.804-0.339t-0.339-0.804q0-2.196 1.402-3.955t3.17-1.759v-9.143q-0.929 0-1.607-0.679t-0.679-1.607 0.679-1.607 1.607-0.679h11.429q0.929 0 1.607 0.679t0.679 1.607-0.679 1.607-1.607 0.679v9.143q1.768 0 3.17 1.759t1.402 3.955z\"></path>\\n</symbol>\\n<symbol id=\"icon-arrow-left\" viewBox=\"0 0 43 32\">\\n<path class=\"path1\" d=\"M42.311 14.044c-0.178-0.178-0.533-0.356-0.711-0.356h-33.778l10.311-10.489c0.178-0.178 0.356-0.533 0.356-0.711 0-0.356-0.178-0.533-0.356-0.711l-1.6-1.422c-0.356-0.178-0.533-0.356-0.889-0.356s-0.533 0.178-0.711 0.356l-14.578 14.933c-0.178 0.178-0.356 0.533-0.356 0.711s0.178 0.533 0.356 0.711l14.756 14.933c0 0.178 0.356 0.356 0.533 0.356s0.533-0.178 0.711-0.356l1.6-1.6c0.178-0.178 0.356-0.533 0.356-0.711s-0.178-0.533-0.356-0.711l-10.311-10.489h33.778c0.178 0 0.533-0.178 0.711-0.356 0.356-0.178 0.533-0.356 0.533-0.711v-2.133c0-0.356-0.178-0.711-0.356-0.889z\"></path>\\n</symbol>\\n<symbol id=\"icon-arrow-right\" viewBox=\"0 0 43 32\">\\n<path class=\"path1\" d=\"M0.356 17.956c0.178 0.178 0.533 0.356 0.711 0.356h33.778l-10.311 10.489c-0.178 0.178-0.356 0.533-0.356 0.711 0 0.356 0.178 0.533 0.356 0.711l1.6 1.6c0.178 0.178 0.533 0.356 0.711 0.356s0.533-0.178 0.711-0.356l14.756-14.933c0.178-0.356 0.356-0.711 0.356-0.889s-0.178-0.533-0.356-0.711l-14.756-14.933c0-0.178-0.356-0.356-0.533-0.356s-0.533 0.178-0.711 0.356l-1.6 1.6c-0.178 0.178-0.356 0.533-0.356 0.711s0.178 0.533 0.356 0.711l10.311 10.489h-33.778c-0.178 0-0.533 0.178-0.711 0.356-0.356 0.178-0.533 0.356-0.533 0.711v2.311c0 0.178 0.178 0.533 0.356 0.711z\"></path>\\n</symbol>\\n<symbol id=\"icon-play\" viewBox=\"0 0 22 28\">\\n<path d=\"M21.625 14.484l-20.75 11.531c-0.484 0.266-0.875 0.031-0.875-0.516v-23c0-0.547 0.391-0.781 0.875-0.516l20.75 11.531c0.484 0.266 0.484 0.703 0 0.969z\"></path>\\n</symbol>\\n<symbol id=\"icon-pause\" viewBox=\"0 0 24 28\">\\n<path d=\"M24 3v22c0 0.547-0.453 1-1 1h-8c-0.547 0-1-0.453-1-1v-22c0-0.547 0.453-1 1-1h8c0.547 0 1 0.453 1 1zM10 3v22c0 0.547-0.453 1-1 1h-8c-0.547 0-1-0.453-1-1v-22c0-0.547 0.453-1 1-1h8c0.547 0 1 0.453 1 1z\"></path>\\n</symbol>\\n</defs>\\n</svg>\\n\\n</body>\\n</html>\\n'"
      ]
     },
     "execution_count": 108,
     "metadata": {},
     "output_type": "execute_result"
    }
   ],
   "source": [
    "html_file"
   ]
  },
  {
   "cell_type": "code",
   "execution_count": 111,
   "id": "ebbd83d3",
   "metadata": {},
   "outputs": [
    {
     "ename": "TypeError",
     "evalue": "'<' not supported between instances of 'str' and 'cython_function_or_method'",
     "output_type": "error",
     "traceback": [
      "\u001b[0;31m---------------------------------------------------------------------------\u001b[0m",
      "\u001b[0;31mTypeError\u001b[0m                                 Traceback (most recent call last)",
      "\u001b[0;32m<ipython-input-111-df6fdfa23113>\u001b[0m in \u001b[0;36m<module>\u001b[0;34m\u001b[0m\n\u001b[0;32m----> 1\u001b[0;31m \u001b[0mtrim_html\u001b[0m\u001b[0;34m(\u001b[0m\u001b[0mhtml_file\u001b[0m\u001b[0;34m,\u001b[0m \u001b[0mtag_list\u001b[0m\u001b[0;34m,\u001b[0m \u001b[0mkeep_tags\u001b[0m\u001b[0;34m=\u001b[0m\u001b[0;32mTrue\u001b[0m\u001b[0;34m)\u001b[0m\u001b[0;34m\u001b[0m\u001b[0;34m\u001b[0m\u001b[0m\n\u001b[0m",
      "\u001b[0;32m<ipython-input-110-337d6fd53de4>\u001b[0m in \u001b[0;36mtrim_html\u001b[0;34m(html_string, tag_list, keep_tags, return_tree)\u001b[0m\n\u001b[1;32m     43\u001b[0m \u001b[0;34m\u001b[0m\u001b[0m\n\u001b[1;32m     44\u001b[0m     \u001b[0mtree\u001b[0m \u001b[0;34m=\u001b[0m \u001b[0mhtml\u001b[0m\u001b[0;34m.\u001b[0m\u001b[0mfromstring\u001b[0m\u001b[0;34m(\u001b[0m\u001b[0mhtml_string\u001b[0m\u001b[0;34m)\u001b[0m\u001b[0;34m\u001b[0m\u001b[0;34m\u001b[0m\u001b[0m\n\u001b[0;32m---> 45\u001b[0;31m     \u001b[0munique_tags\u001b[0m \u001b[0;34m=\u001b[0m \u001b[0mlist\u001b[0m\u001b[0;34m(\u001b[0m\u001b[0mnp\u001b[0m\u001b[0;34m.\u001b[0m\u001b[0munique\u001b[0m\u001b[0;34m(\u001b[0m\u001b[0;34m[\u001b[0m\u001b[0melement\u001b[0m\u001b[0;34m.\u001b[0m\u001b[0mtag\u001b[0m \u001b[0;32mfor\u001b[0m \u001b[0melement\u001b[0m \u001b[0;32min\u001b[0m \u001b[0mtree\u001b[0m\u001b[0;34m.\u001b[0m\u001b[0miter\u001b[0m\u001b[0;34m(\u001b[0m\u001b[0;34m)\u001b[0m\u001b[0;34m]\u001b[0m\u001b[0;34m)\u001b[0m\u001b[0;34m)\u001b[0m\u001b[0;34m\u001b[0m\u001b[0;34m\u001b[0m\u001b[0m\n\u001b[0m\u001b[1;32m     46\u001b[0m     \u001b[0munique_tags\u001b[0m \u001b[0;34m=\u001b[0m \u001b[0;34m[\u001b[0m\u001b[0melement\u001b[0m \u001b[0;32mfor\u001b[0m \u001b[0melement\u001b[0m \u001b[0;32min\u001b[0m \u001b[0munique_tags\u001b[0m \u001b[0;32mif\u001b[0m \u001b[0melement\u001b[0m \u001b[0;32mnot\u001b[0m \u001b[0;32min\u001b[0m \u001b[0mtag_list\u001b[0m\u001b[0;34m]\u001b[0m\u001b[0;34m\u001b[0m\u001b[0;34m\u001b[0m\u001b[0m\n\u001b[1;32m     47\u001b[0m \u001b[0;34m\u001b[0m\u001b[0m\n",
      "\u001b[0;32m<__array_function__ internals>\u001b[0m in \u001b[0;36munique\u001b[0;34m(*args, **kwargs)\u001b[0m\n",
      "\u001b[0;32m~/miniconda3/envs/industry/lib/python3.9/site-packages/numpy/lib/arraysetops.py\u001b[0m in \u001b[0;36munique\u001b[0;34m(ar, return_index, return_inverse, return_counts, axis)\u001b[0m\n\u001b[1;32m    259\u001b[0m     \u001b[0mar\u001b[0m \u001b[0;34m=\u001b[0m \u001b[0mnp\u001b[0m\u001b[0;34m.\u001b[0m\u001b[0masanyarray\u001b[0m\u001b[0;34m(\u001b[0m\u001b[0mar\u001b[0m\u001b[0;34m)\u001b[0m\u001b[0;34m\u001b[0m\u001b[0;34m\u001b[0m\u001b[0m\n\u001b[1;32m    260\u001b[0m     \u001b[0;32mif\u001b[0m \u001b[0maxis\u001b[0m \u001b[0;32mis\u001b[0m \u001b[0;32mNone\u001b[0m\u001b[0;34m:\u001b[0m\u001b[0;34m\u001b[0m\u001b[0;34m\u001b[0m\u001b[0m\n\u001b[0;32m--> 261\u001b[0;31m         \u001b[0mret\u001b[0m \u001b[0;34m=\u001b[0m \u001b[0m_unique1d\u001b[0m\u001b[0;34m(\u001b[0m\u001b[0mar\u001b[0m\u001b[0;34m,\u001b[0m \u001b[0mreturn_index\u001b[0m\u001b[0;34m,\u001b[0m \u001b[0mreturn_inverse\u001b[0m\u001b[0;34m,\u001b[0m \u001b[0mreturn_counts\u001b[0m\u001b[0;34m)\u001b[0m\u001b[0;34m\u001b[0m\u001b[0;34m\u001b[0m\u001b[0m\n\u001b[0m\u001b[1;32m    262\u001b[0m         \u001b[0;32mreturn\u001b[0m \u001b[0m_unpack_tuple\u001b[0m\u001b[0;34m(\u001b[0m\u001b[0mret\u001b[0m\u001b[0;34m)\u001b[0m\u001b[0;34m\u001b[0m\u001b[0;34m\u001b[0m\u001b[0m\n\u001b[1;32m    263\u001b[0m \u001b[0;34m\u001b[0m\u001b[0m\n",
      "\u001b[0;32m~/miniconda3/envs/industry/lib/python3.9/site-packages/numpy/lib/arraysetops.py\u001b[0m in \u001b[0;36m_unique1d\u001b[0;34m(ar, return_index, return_inverse, return_counts)\u001b[0m\n\u001b[1;32m    320\u001b[0m         \u001b[0maux\u001b[0m \u001b[0;34m=\u001b[0m \u001b[0mar\u001b[0m\u001b[0;34m[\u001b[0m\u001b[0mperm\u001b[0m\u001b[0;34m]\u001b[0m\u001b[0;34m\u001b[0m\u001b[0;34m\u001b[0m\u001b[0m\n\u001b[1;32m    321\u001b[0m     \u001b[0;32melse\u001b[0m\u001b[0;34m:\u001b[0m\u001b[0;34m\u001b[0m\u001b[0;34m\u001b[0m\u001b[0m\n\u001b[0;32m--> 322\u001b[0;31m         \u001b[0mar\u001b[0m\u001b[0;34m.\u001b[0m\u001b[0msort\u001b[0m\u001b[0;34m(\u001b[0m\u001b[0;34m)\u001b[0m\u001b[0;34m\u001b[0m\u001b[0;34m\u001b[0m\u001b[0m\n\u001b[0m\u001b[1;32m    323\u001b[0m         \u001b[0maux\u001b[0m \u001b[0;34m=\u001b[0m \u001b[0mar\u001b[0m\u001b[0;34m\u001b[0m\u001b[0;34m\u001b[0m\u001b[0m\n\u001b[1;32m    324\u001b[0m     \u001b[0mmask\u001b[0m \u001b[0;34m=\u001b[0m \u001b[0mnp\u001b[0m\u001b[0;34m.\u001b[0m\u001b[0mempty\u001b[0m\u001b[0;34m(\u001b[0m\u001b[0maux\u001b[0m\u001b[0;34m.\u001b[0m\u001b[0mshape\u001b[0m\u001b[0;34m,\u001b[0m \u001b[0mdtype\u001b[0m\u001b[0;34m=\u001b[0m\u001b[0mnp\u001b[0m\u001b[0;34m.\u001b[0m\u001b[0mbool_\u001b[0m\u001b[0;34m)\u001b[0m\u001b[0;34m\u001b[0m\u001b[0;34m\u001b[0m\u001b[0m\n",
      "\u001b[0;31mTypeError\u001b[0m: '<' not supported between instances of 'str' and 'cython_function_or_method'"
     ]
    }
   ],
   "source": []
  },
  {
   "cell_type": "code",
   "execution_count": 109,
   "id": "60619923",
   "metadata": {},
   "outputs": [
    {
     "data": {
      "text/plain": [
       "'<html><head><title>Energy Net Apple Reseller</title></head><body><div><a><span>Springe zum Inhalt</span></a><header><div><div><div><a></a></div><div><div><div><div><div><a><i></i></a></div></div></div><div><nav><ul><li><a><span>Home</span></a></li><li><a><span>Unternehmen</span></a><ul><li><a><span>Über Energy Net</span></a></li><li><a><span>Partner</span></a></li><li><a><span>Referenzen</span></a></li><li><a><span>Aktuelles</span></a></li><li><a><span>Stellenangebote</span></a></li><li><a><span>Soziales Engagement</span></a></li></ul></li><li><a><span>Lösungen</span></a><ul><li><a><span>Apple Enterprise Services</span></a></li><li><a><span>Collaboration</span></a></li><li><a><span>Publishing</span></a></li><li><a><span>Print &amp; Copy</span></a></li><li><a><span>Training &amp; Events</span></a></li></ul></li><li><a><span>Services</span></a></li><li><a><span>SHOP</span></a></li><li><a><span>Kontakt</span></a></li></ul></nav></div></div></div></div></div><div><span><i></i></span><div></div><div></div></div></header><div><div><div><div><div><div><div><a><div><div><div><div><a><span>Online einkaufen oder bestellen. Besuchen Sie unseren Shop!</span></a></div></div></div></div></a></div><div><a></a></div><div><div><div><div><div><span>Ihr Partner für Remote Working.</span><span>Work Anything. Anywhere.</span></div></div></div></div></div><div><a><div><div><div><div><a><span>Lösungen für Dein Business</span><span>Finden Sie Produkte in unserem Online-Shop</span></a></div></div></div></div></a></div><div><a><div><div><div><div><a><span>360° Video-Konferenzlösungen</span><span>Keep your business rolling!</span></a></div></div></div></div></a></div></div><ol><li><span>                    Online einkaufen oder bestellen. Besuchen Sie unseren Shop!                </span></li><li><span></span></li><li><span>                    Ihr Partner für Remote Working.                </span></li><li><span>                    Lösungen für Dein Business                </span></li><li><span>                    360° Video-Konferenzlösungen                </span></li></ol><a><span></span><span></span></a><a><span></span><span></span></a></div></div></div></div><div><div><div><div><header><h1>ENERGY NET - IHR PARTNER FÜR DIGITALE LÖSUNGEN</h1></header><p><span>Energy Net ist ein Full-Service Anbieter für die Bereiche Informations- und Bürokommunikation und gehört seit 2018 zur Econocom Group, mit über 10.700 Mitarbeitern, in 18\\xa0Ländern, und einem Umsatz von 3 Milliarden EURO im Jahr 2019. Zum Econocom Kundenstamm zählen vorwiegend internationale Konzerne, Mittelstandsunternehmen und öffentliche Auftraggeber - im europäischen Raum.</span></p></div></div><div><div><div><div><div><div><div><div><div><noscript></noscript></div><span><a>Save-the-date! Apple lädt zu Event am 20. April 2021, 19 Uhr: Spring loaded.</a><p>Was Siri schon verplapperte, ist nun offiziell: Apple lädt zu einem virtuellen Event nächste Woche. Jetzt vormerken und dabei sein, wenn die neuen…</p></span><a><span>                        Weiterlesen                    </span></a></div></div></div></div><div><div><div><div><div><noscript></noscript></div><span><a>„Kostenloses Webinar - 10 Tipps &amp; Tricks für Apple Geräte im Unternehmen.\" Jetzt anmelden!</a><p>Am Mittwoch, 14. April 2021, 10.00 - 11.30 Uhr, veranstaltet Energy Net das für alle B2B-Kunden und KMU\\'s erfolgreiche Webinar rund um das Thema:…</p></span><a><span>                        Weiterlesen                    </span></a></div></div></div></div><div><div><div><div><div><noscript></noscript></div><span><a>Kostenloses Online Webinar, Dienstag, 23. März 2021, 13:30-15.00 Uhr, Thema \"Homeoffice – So können Sie davon profitieren!\".</a><p>In Deutschland arbeiten bundesweit rund 14,8 Mio. Menschen in Büros – Tendenz steigend. Für viele von ihnen hat die Coronakrise den Arbeitsalltag…</p></span><a><span>                        Weiterlesen                    </span></a></div></div></div></div><div><div><div><div><div><noscript></noscript></div><span><a>Final Call zur Online Konferenz am Do., 18.3.2021, 15-17 Uhr, \"Expertenwissen kompakt - Apple im Unternehmen\"</a><p>In 20-minütigen Präsentationen und anschließenden Q&amp;A-Runden, an denen Sie via Internet teilnehmen können, berichten unsere Expertinnen und Experten…</p></span><a><span>                        Weiterlesen                    </span></a></div></div></div></div><div><div><div><div><div><noscript></noscript></div><span><a>Förderprogramm \"Digital jetzt\": Wirtschaft und Energie (BMWi) unterstützt bis 2023 kleine und mittlere Unternehmen (KMU) </a><p>das Bundesministerium für Wirtschaft und Energie (BMWi) unterstützt bis 2023 kleine und mittlere Unternehmen (KMU) mit dem Programm \"Digital Jetzt\".…</p></span><a><span>                        Weiterlesen                    </span></a></div></div></div></div><div><div><div><div><div><noscript></noscript></div><span><a>Erfolgreich und souverän präsentieren in Videokonferenzen, Mi., 10.3.2021, 8.30-9.30 Uhr</a><p>Ziel des Vortrags ist es, alle Teilnehmer für die Möglichkeiten von Videokonferenzen zu begeistern, die Teilnehmenden mit der Technik vertraut zu…</p></span><a><span>                        Weiterlesen                    </span></a></div></div></div></div><div><div><div><div><div><noscript></noscript></div><span><a>Employees Choice - Wenn Mitarbeiter wählen könnten, würden Sie sich für Apple Geräte entscheiden.</a><p>Wenn Menschen mit den Tools, die sie lieben, so arbeiten können, wie sie wollen, dann inspiriert sie das zu der besten Arbeit ihres Lebens. Apple…</p></span><a><span>                        Weiterlesen                    </span></a></div></div></div></div><div><div><div><div><div><noscript></noscript></div><span><a>Apple im Unternehmen</a><p>Am Mittwoch, den 3. März 2021, um 08:30 Uhr - 09.30 Uhr, können Sie kostenlos am Webinar \"10 Tipps &amp; Tricks für Apple Geräte im Unternehmen\"…</p></span><a><span>                        Weiterlesen                    </span></a></div></div></div></div><div><div><div><div><div><noscript></noscript></div><span><a>Am 8.2.2021 hat Canon die neue Serie offiziell vorgestellt: imageRUNNER ADVANCE DX C5800</a><p>Mit der Einführung der imageRUNNER ADVANCE DX C5800 Baureihe geht Canon den Weg der Unterstützung hybrider Arbeitsweisen konsequent weiter.</p><p>\\xa0</p></span><a><span>                        Weiterlesen                    </span></a></div></div></div></div><div><div><div><div><div><noscript></noscript></div><span><a>Apple im Unternehmen</a><p>Am Mittwoch, den 10. Februar 2021, um 08:30 Uhr - 09.30 Uhr, können Sie kostenlos am Webinar \"10 Tipps &amp; Tricks für Apple Geräte im Unternehmen\"…</p></span><a><span>                        Weiterlesen                    </span></a></div></div></div></div><div><div><div><div><div><noscript></noscript></div><span><a>XING After Work online | Frankfurt NETworking mit Energy Net GmbH</a><p>Am 03.02.2021 um 19:00 Uhr steht das Thema Future Workplace Trends 2021/2022 im Fokus bei XING-Frankfurt.</p><p>Teilnahmegebühr: keine</p></span><a><span>                        Weiterlesen                    </span></a></div></div></div></div><div><div><div><div><div><noscript></noscript></div><span><a>IT-Praxiswissen: Wie lassen sich Dokumente sicher ausdrucken?</a><p>Am\\xa0Mittwoch, 27. Januar\\xa02021\\xa0um\\xa012:30 Uhr\\xa0legen wir wieder mit unserem Kooperationspartner BVMW den Fokus auf die Digitalisierung im Mittelstand.…</p></span><a><span>                        Weiterlesen                    </span></a></div></div></div></div><div><div><div><div><div><noscript></noscript></div><span><a>Vollauto\\xadmatische Implementie\\xadrung macht es Ihrer IT ganz leicht. Und spart Zeit und Kosten.</a><p>Apple Business Manager macht die Implementierung und Verwaltung von Apple Geräten einfach. Die IT kann Apps verteilen und verwaltete Apple IDs…</p></span><a><span>                        Weiterlesen                    </span></a></div></div></div></div><div><div><div><div><div><noscript></noscript></div><span><a>Apple im Unternehmen - networker, solutions GmbH (Success Story)</a><p>Die Cyber-Security und SAP Vertragsmanagement Firma networker, solutions setzt seit jeher Apple Geräte ein, da hier eine deutlich erhöhte…</p></span><a><span>                        Weiterlesen                    </span></a></div></div></div></div><div><div><div><div><div><noscript></noscript></div><span><a>Apple im Unternehmen - AD&amp;VISION Kreativagentur (Success Story) </a><p>Als Kreativagentur baut AD&amp;VISION seit bereits 25 Jahren auf die Erfahrung und den Service von Energy Net als IT-Partner. Die Ausstattung mit Apple…</p></span><a><span>                        Weiterlesen                    </span></a></div></div></div></div><div><div><div><div></div></div></div></div></div><svg></svg></div></div></div><div><div><div><div><div><div><div><figure><source><source><source><source><source><noscript></noscript></source></source></source></source></source></figure><div>Autorisierter Service Provider</div></div></div><div><div><figure><source><source><source><source><source><noscript></noscript></source></source></source></source></source></figure><div>AAR</div></div></div><div><div><figure><source><source><source><source><source><noscript></noscript></source></source></source></source></source></figure><div>Adobe</div></div></div><div><div><figure><source><source><source><source><source><noscript></noscript></source></source></source></source></source></figure><div>box</div></div></div><div><div><figure><source><source><source><source><source><noscript></noscript></source></source></source></source></source></figure><div>Canon</div></div></div><div><div><figure><source><source><source><source><source><noscript></noscript></source></source></source></source></source></figure><div>cisco</div></div></div><div><div><figure><source><source><source><source><source><noscript></noscript></source></source></source></source></source></figure><div>Code42</div></div></div><div><div><figure><source><source><source><source><source><noscript></noscript></source></source></source></source></source></figure><div>Docuware</div></div></div><div><div><figure><source><source><source><source><source><noscript></noscript></source></source></source></source></source></figure><div>Jamf</div></div></div><div><div><figure><source><source><source><source><source><noscript></noscript></source></source></source></source></source></figure><div>Lenova</div></div></div><div><div><figure><source><source><source><source><source><noscript></noscript></source></source></source></source></source></figure><div>Logitech</div></div></div><div><div><figure><source><source><source><source><source><noscript></noscript></source></source></source></source></source></figure><div>Microsoft</div></div></div><div><div><figure><source><source><source><source><source><noscript></noscript></source></source></source></source></source></figure><div>Sophos</div></div></div><div><div><figure><source><source><source><source><source><noscript></noscript></source></source></source></source></source></figure><div>vjoon</div></div></div><div><div><figure><source><source><source><source><source><noscript></noscript></source></source></source></source></source></figure><div>vm Ware</div></div></div></div></div></div></div></div><div><div><div><div><div><a><div><div><div><div><a><span>Intelligente Arbeitsplatzkonzepte</span></a></div></div></div></div></a></div></div></div></div></div><div><div><header><h1>Unsere Lösungsbereiche.</h1></header></div></div><div><div><div><div><div><figure><noscript></noscript></figure></div><a><div><div><div>                                                                    Apple Enterprise Services                                                            </div><div></div><div><i></i></div></div></div></a></div><div><div><figure><noscript></noscript></figure></div><a><div><div><div>                                                                    Collaboration                                                            </div><div></div><div><i></i></div></div></div></a></div><div><div><figure><noscript></noscript></figure></div><a><div><div><div>                                                                    Publishing Workflows                                                            </div><div></div><div><i></i></div></div></div></a></div><div><div><figure><noscript></noscript></figure></div><a><div><div><div>                                                                    Print &amp; Copy Solutions                                                            </div><div></div><div><i></i></div></div></div></a></div></div></div></div><div><div><header><h1>Unser umfangreiches Serviceangebot für Sie.</h1></header><div><div><source><source><source><source><source><noscript></noscript></source></source></source></source></source><div><p>Apple sourcing</p><div></div></div></div><div><source><source><source><source><source><noscript></noscript></source></source></source></source></source><div><p>Transition to Apple</p><div></div></div></div><div><source><source><source><source><source><noscript></noscript></source></source></source></source></source><div><p>Collaboration</p><div></div></div></div><div><source><source><source><source><source><noscript></noscript></source></source></source></source></source><div><p>Network &amp; Security</p><div></div></div></div><div><source><source><source><source><source><noscript></noscript></source></source></source></source></source><div><p>Fullfilment &amp; Warehousing</p><div></div></div></div><div><source><source><source><source><source><noscript></noscript></source></source></source></source></source><div><p>Device Management</p><div></div></div></div><div><source><source><source><source><source><noscript></noscript></source></source></source></source></source><div><p>Helpdesk</p><div></div></div></div><div><source><source><source><source><source><noscript></noscript></source></source></source></source></source><div><p>Financing solutions</p><div></div></div></div><div><source><source><source><source><source><noscript></noscript></source></source></source></source></source><div><p>Maintenance &amp; Repair</p><div></div></div></div></div></div></div><div><div><div><div><div><a></a></div></div></div></div></div><div><div><header><h1>Kaufen, das war früher.</h1></header><p><span>Jetzt nutzen, statt kaufen! Mit BOS stellen wir Ihnen Ihr Wunschpaket zu einer günstigen monatlichen Rate zur Verfügung.<br> Überzeugen Sie sich auch von den umfassenden Services.<br><br> Econocom entwickelte BOS (Business Optimisation Services),\\xa0um Unternehmen eine einfache, flexible Lösung anzubieten:<br> Von der Beschaffung der Geräte bis hin zu vielfältigen Dienstleistungen profitieren Sie von diesem Rundum-Sorglos-Angebot.<br><br> Weitere Informationen erhalten Sie unter:</span></p><p><a>https://www.chooseyourbos.de</a></p></div></div><div><div><div><div><div><a><div><div><div><div><a><span>Das Richtige für den Mittelstand.</span></a></div></div></div></div></a></div></div></div></div></div></div><div><div><aside></aside></div></div><div></div></div></div><footer><section><div><div><div><div><div><div><div><div><figure><source><source><source><source><source><noscript></noscript></source></source></source></source></source></figure></div><div><figure><source><source><source><source><source><noscript></noscript></source></source></source></source></source></figure></div></div></div></div></div></div></div></div></section><section><div><div><div><div><div><p>Energy Net GmbH</p><p>Gutleutstraße 169-171</p><p>60327 Frankfurt am Main</p></div></div></div><div><p><i></i><a>069 97 69 709 - 0</a></p><p><i></i>069 97 69 709 - 48</p><p><i></i><a>info@energy-net.de</a></p><div><div></div></div></div><div><div><div><p>Öffnungszeiten</p><p>Montag – Freitag</p><p>9.00 bis 18.00 Uhr</p></div></div></div><div><div><div><p>Für den Newsletter eintragen?</p><p><a>Hier geht es zur Newsletter-Anmeldung</a></p></div></div></div><div><ul><li><a><span>xing</span></a></li><li><a><span>linkedin</span></a></li><li><a><span>Youtube</span></a></li></ul></div></div></div></section><section><div><div><div>© 2021 - Energy Net GmbH</div><div><div><div><div><div><div><div><figure><a><source><source><source><source><source><noscript></noscript></source></source></source></source></source></a></figure></div></div></div><div><p><small><a>Energy Net GmbH ist ein Unternehmen der Econocom Gruppe</a></small></p></div></div></div></div></div><div><ul><li><a><span>AGB</span></a></li><li><a><span>Kontakt</span></a></li><li><a><span>Datenschutz</span></a></li><li><a><span>Impressum</span></a></li></ul></div></div></div></section></footer><a><span></span></a><div><a></a><div></div><div><p>Ihr Browser ist nicht aktuell!</p><p>Um die korrekte Ansicht unserer Website zu erhalten, empfehlen wir, dass Sie Ihren Browser auf eine neuere Version aktualisieren oder einen anderen Browser verwenden.</p></div></div><aside></aside><div><div><div><div><i></i></div><div><div><div><a>Kontakt</a></div><div><a>Termin</a></div></div><div><div><div><div><div><div><div></div><fieldset><div><div><div>Hallo.<br>Wie können wir Ihnen heute helfen?</div></div><div><label>        Nachricht<span>*</span></label><div></div></div><div><label>        Name<span>*</span></label><div></div></div><div><label>        E-Mail<span>*</span></label><div></div></div><div><label>        Datenschutz<span>*</span></label><div><div><label><span><svg></svg></span><span>Ich stimme zu, dass meine Angaben aus dem Kontaktformular zur Beantwortung meiner Anfrage erhoben und verarbeitet werden. Die Daten werden nach abgeschlossener Bearbeitung Ihrer Anfrage gelöscht. Hinweis: Sie können Ihre Einwilligung jederzeit für die Zukunft per E-Mail an info@energy-net.de widerrufen. Detaillierte Informationen zum Umgang mit Nutzerdaten finden Sie in unserer <a>Datenschutzerklärung</a>.</span></label></div><div></div></div></div><svg></svg><div><div></div></div></div></fieldset><div><label>Diese Feld nicht ausfüllen!</label></div></div></div></div></div></div><div><div><div><div><div><div></div><fieldset><div><div><div>Hallo.<br>Wie können wir Ihnen heute helfen?</div></div><div><label>        Nachricht<span>*</span></label><div></div></div><div><div>Vereinbaren Sie einen Wunschtermin in unserem Store</div></div><div><label>        Wunschtermin<span>*</span></label><div></div></div><div><label>        Anmerkung zum Termin    </label><div></div></div><div><label>        Name<span>*</span></label><div></div></div><div><label>        E-Mail<span>*</span></label><div></div></div><div><label>        Datenschutz    </label><div><div><label><span><svg></svg></span><span>Ich stimme zu, dass meine Angaben aus dem Kontaktformular zur Beantwortung meiner Anfrage erhoben und verarbeitet werden. Die Daten werden nach abgeschlossener Bearbeitung Ihrer Anfrage gelöscht. Hinweis: Sie können Ihre Einwilligung jederzeit für die Zukunft per E-Mail an info@energy-net.de widerrufen. Detaillierte Informationen zum Umgang mit Nutzerdaten finden Sie in unserer <a>Datenschutzerklärung</a>.</span></label></div><div></div></div></div><svg></svg><div><div></div></div></div></fieldset><div><label>Diese Feld nicht ausfüllen!</label></div></div></div></div></div></div></div></div></div></div></div><div><div><div><div><i></i></div><div><div><div><div><div><p>Rufen Sie uns an unter</p><p><a>+49 69 97 69 709 0</a></p></div></div></div></div></div></div></div></div></div></body></html>'"
      ]
     },
     "execution_count": 109,
     "metadata": {},
     "output_type": "execute_result"
    }
   ],
   "source": [
    "test_html = train.iloc[N].html\n",
    "test_html"
   ]
  },
  {
   "cell_type": "code",
   "execution_count": 83,
   "id": "7514299b",
   "metadata": {},
   "outputs": [
    {
     "name": "stdout",
     "output_type": "stream",
     "text": [
      "<html><title>Energy Net Apple Reseller</title><a>Springe zum Inhalt</a><a></a><a><i></i></a><li><a>Home</a></li><li><a>Unternehmen</a><li><a>Über Energy Net</a></li><li><a>Partner</a></li><li><a>Referenzen</a></li><li><a>Aktuelles</a></li><li><a>Stellenangebote</a></li><li><a>Soziales Engagement</a></li></li><li><a>Lösungen</a><li><a>Apple Enterprise Services</a></li><li><a>Collaboration</a></li><li><a>Publishing</a></li><li><a>Print &amp; Copy</a></li><li><a>Training &amp; Events</a></li></li><li><a>Services</a></li><li><a>SHOP</a></li><li><a>Kontakt</a></li><i></i><a><a>Online einkaufen oder bestellen. Besuchen Sie unseren Shop!</a></a><a></a>Ihr Partner für Remote Working.Work Anything. Anywhere.<a><a>Lösungen für Dein BusinessFinden Sie Produkte in unserem Online-Shop</a></a><a><a>360° Video-KonferenzlösungenKeep your business rolling!</a></a><li>                    Online einkaufen oder bestellen. Besuchen Sie unseren Shop!                </li><li><li>                    Ihr Partner für Remote Working.                </li><li>                    Lösungen für Dein Business                </li><li>                    360° Video-Konferenzlösungen                </li><a></a><a></a><h1>ENERGY NET - IHR PARTNER FÜR DIGITALE LÖSUNGEN</h1><p>Energy Net ist ein Full-Service Anbieter für die Bereiche Informations- und Bürokommunikation und gehört seit 2018 zur Econocom Group, mit über 10.700 Mitarbeitern, in 18 Ländern, und einem Umsatz von 3 Milliarden EURO im Jahr 2019. Zum Econocom Kundenstamm zählen vorwiegend internationale Konzerne, Mittelstandsunternehmen und öffentliche Auftraggeber - im europäischen Raum.</p><a>Save-the-date! Apple lädt zu Event am 20. April 2021, 19 Uhr: Spring loaded.</a><p>Was Siri schon verplapperte, ist nun offiziell: Apple lädt zu einem virtuellen Event nächste Woche. Jetzt vormerken und dabei sein, wenn die neuen…</p><a>                        Weiterlesen                    </a><a>„Kostenloses Webinar - 10 Tipps &amp; Tricks für Apple Geräte im Unternehmen.\" Jetzt anmelden!</a><p>Am Mittwoch, 14. April 2021, 10.00 - 11.30 Uhr, veranstaltet Energy Net das für alle B2B-Kunden und KMU's erfolgreiche Webinar rund um das Thema:…</p><a>                        Weiterlesen                    </a><a>Kostenloses Online Webinar, Dienstag, 23. März 2021, 13:30-15.00 Uhr, Thema \"Homeoffice – So können Sie davon profitieren!\".</a><p>In Deutschland arbeiten bundesweit rund 14,8 Mio. Menschen in Büros – Tendenz steigend. Für viele von ihnen hat die Coronakrise den Arbeitsalltag…</p><a>                        Weiterlesen                    </a><a>Final Call zur Online Konferenz am Do., 18.3.2021, 15-17 Uhr, \"Expertenwissen kompakt - Apple im Unternehmen\"</a><p>In 20-minütigen Präsentationen und anschließenden Q&amp;A-Runden, an denen Sie via Internet teilnehmen können, berichten unsere Expertinnen und Experten…</p><a>                        Weiterlesen                    </a><a>Förderprogramm \"Digital jetzt\": Wirtschaft und Energie (BMWi) unterstützt bis 2023 kleine und mittlere Unternehmen (KMU) </a><p>das Bundesministerium für Wirtschaft und Energie (BMWi) unterstützt bis 2023 kleine und mittlere Unternehmen (KMU) mit dem Programm \"Digital Jetzt\".…</p><a>                        Weiterlesen                    </a><a>Erfolgreich und souverän präsentieren in Videokonferenzen, Mi., 10.3.2021, 8.30-9.30 Uhr</a><p>Ziel des Vortrags ist es, alle Teilnehmer für die Möglichkeiten von Videokonferenzen zu begeistern, die Teilnehmenden mit der Technik vertraut zu…</p><a>                        Weiterlesen                    </a><a>Employees Choice - Wenn Mitarbeiter wählen könnten, würden Sie sich für Apple Geräte entscheiden.</a><p>Wenn Menschen mit den Tools, die sie lieben, so arbeiten können, wie sie wollen, dann inspiriert sie das zu der besten Arbeit ihres Lebens. Apple…</p><a>                        Weiterlesen                    </a><a>Apple im Unternehmen</a><p>Am Mittwoch, den 3. März 2021, um 08:30 Uhr - 09.30 Uhr, können Sie kostenlos am Webinar \"10 Tipps &amp; Tricks für Apple Geräte im Unternehmen\"…</p><a>                        Weiterlesen                    </a><a>Am 8.2.2021 hat Canon die neue Serie offiziell vorgestellt: imageRUNNER ADVANCE DX C5800</a><p>Mit der Einführung der imageRUNNER ADVANCE DX C5800 Baureihe geht Canon den Weg der Unterstützung hybrider Arbeitsweisen konsequent weiter.</p><p> </p><a>                        Weiterlesen                    </a><a>Apple im Unternehmen</a><p>Am Mittwoch, den 10. Februar 2021, um 08:30 Uhr - 09.30 Uhr, können Sie kostenlos am Webinar \"10 Tipps &amp; Tricks für Apple Geräte im Unternehmen\"…</p><a>                        Weiterlesen                    </a><a>XING After Work online | Frankfurt NETworking mit Energy Net GmbH</a><p>Am 03.02.2021 um 19:00 Uhr steht das Thema Future Workplace Trends 2021/2022 im Fokus bei XING-Frankfurt.</p><p>Teilnahmegebühr: keine</p><a>                        Weiterlesen                    </a><a>IT-Praxiswissen: Wie lassen sich Dokumente sicher ausdrucken?</a><p>Am Mittwoch, 27. Januar 2021 um 12:30 Uhr legen wir wieder mit unserem Kooperationspartner BVMW den Fokus auf die Digitalisierung im Mittelstand.…</p><a>                        Weiterlesen                    </a><a>Vollauto­matische Implementie­rung macht es Ihrer IT ganz leicht. Und spart Zeit und Kosten.</a><p>Apple Business Manager macht die Implementierung und Verwaltung von Apple Geräten einfach. Die IT kann Apps verteilen und verwaltete Apple IDs…</p><a>                        Weiterlesen                    </a><a>Apple im Unternehmen - networker, solutions GmbH (Success Story)</a><p>Die Cyber-Security und SAP Vertragsmanagement Firma networker, solutions setzt seit jeher Apple Geräte ein, da hier eine deutlich erhöhte…</p><a>                        Weiterlesen                    </a><a>Apple im Unternehmen - AD&amp;VISION Kreativagentur (Success Story) </a><p>Als Kreativagentur baut AD&amp;VISION seit bereits 25 Jahren auf die Erfahrung und den Service von Energy Net als IT-Partner. Die Ausstattung mit Apple…</p><a>                        Weiterlesen                    </a>Autorisierter Service ProviderAARAdobeboxCanonciscoCode42DocuwareJamfLenovaLogitechMicrosoftSophosvjoonvm Ware<a><a>Intelligente Arbeitsplatzkonzepte</a></a><h1>Unsere Lösungsbereiche.</h1><a>                                                                    Apple Enterprise Services                                                            <i></i></a><a>                                                                    Collaboration                                                            <i></i></a><a>                                                                    Publishing Workflows                                                            <i></i></a><a>                                                                    Print &amp; Copy Solutions                                                            <i></i></a><h1>Unser umfangreiches Serviceangebot für Sie.</h1><p>Apple sourcing</p><p>Transition to Apple</p><p>Collaboration</p><p>Network &amp; Security</p><p>Fullfilment &amp; Warehousing</p><p>Device Management</p><p>Helpdesk</p><p>Financing solutions</p><p>Maintenance &amp; Repair</p><a></a><h1>Kaufen, das war früher.</h1><p>Jetzt nutzen, statt kaufen! Mit BOS stellen wir Ihnen Ihr Wunschpaket zu einer günstigen monatlichen Rate zur Verfügung. Überzeugen Sie sich auch von den umfassenden Services. Econocom entwickelte BOS (Business Optimisation Services), um Unternehmen eine einfache, flexible Lösung anzubieten: Von der Beschaffung der Geräte bis hin zu vielfältigen Dienstleistungen profitieren Sie von diesem Rundum-Sorglos-Angebot. Weitere Informationen erhalten Sie unter:</p><p><a>https://www.chooseyourbos.de</a></p><a><a>Das Richtige für den Mittelstand.</a></a><p>Energy Net GmbH</p><p>Gutleutstraße 169-171</p><p>60327 Frankfurt am Main</p><p><i></i><a>069 97 69 709 - 0</a></p><p><i></i>069 97 69 709 - 48</p><p><i></i><a>info@energy-net.de</a></p><p>Öffnungszeiten</p><p>Montag – Freitag</p><p>9.00 bis 18.00 Uhr</p><p>Für den Newsletter eintragen?</p><p><a>Hier geht es zur Newsletter-Anmeldung</a></p><li><a>xing</a></li><li><a>linkedin</a></li><li><a>Youtube</a></li>© 2021 - Energy Net GmbH<a></a><p><a>Energy Net GmbH ist ein Unternehmen der Econocom Gruppe</a></p><li><a>AGB</a></li><li><a>Kontakt</a></li><li><a>Datenschutz</a></li><li><a>Impressum</a></li><a></a><a></a><p>Ihr Browser ist nicht aktuell!</p><p>Um die korrekte Ansicht unserer Website zu erhalten, empfehlen wir, dass Sie Ihren Browser auf eine neuere Version aktualisieren oder einen anderen Browser verwenden.</p><i></i><a>Kontakt</a><a>Termin</a>Hallo.Wie können wir Ihnen heute helfen?        Nachricht*        Name*        E-Mail*        Datenschutz*Ich stimme zu, dass meine Angaben aus dem Kontaktformular zur Beantwortung meiner Anfrage erhoben und verarbeitet werden. Die Daten werden nach abgeschlossener Bearbeitung Ihrer Anfrage gelöscht. Hinweis: Sie können Ihre Einwilligung jederzeit für die Zukunft per E-Mail an info@energy-net.de widerrufen. Detaillierte Informationen zum Umgang mit Nutzerdaten finden Sie in unserer <a>Datenschutzerklärung</a>.Diese Feld nicht ausfüllen!Hallo.Wie können wir Ihnen heute helfen?        Nachricht*Vereinbaren Sie einen Wunschtermin in unserem Store        Wunschtermin*        Anmerkung zum Termin            Name*        E-Mail*        Datenschutz    Ich stimme zu, dass meine Angaben aus dem Kontaktformular zur Beantwortung meiner Anfrage erhoben und verarbeitet werden. Die Daten werden nach abgeschlossener Bearbeitung Ihrer Anfrage gelöscht. Hinweis: Sie können Ihre Einwilligung jederzeit für die Zukunft per E-Mail an info@energy-net.de widerrufen. Detaillierte Informationen zum Umgang mit Nutzerdaten finden Sie in unserer <a>Datenschutzerklärung</a>.Diese Feld nicht ausfüllen!<i></i><p>Rufen Sie uns an unter</p><p><a>+49 69 97 69 709 0</a></p></html>\n"
     ]
    }
   ],
   "source": [
    "trimmed_test_html = trim_html(test_html, tag_list, keep_tags=True)\n",
    "print(trimmed_test_html)"
   ]
  },
  {
   "cell_type": "code",
   "execution_count": null,
   "id": "4479eab4",
   "metadata": {},
   "outputs": [],
   "source": []
  },
  {
   "cell_type": "code",
   "execution_count": null,
   "id": "6f541c50",
   "metadata": {},
   "outputs": [],
   "source": []
  },
  {
   "cell_type": "code",
   "execution_count": null,
   "id": "1cbc287e",
   "metadata": {},
   "outputs": [],
   "source": []
  },
  {
   "cell_type": "code",
   "execution_count": 188,
   "id": "af23a669",
   "metadata": {},
   "outputs": [],
   "source": [
    "# TODO: aktuell unused\n",
    "\n",
    "def stringify_children(node):\n",
    "    \"\"\"Given a LXML tag, return contents as a string\n",
    "\n",
    "       >>> html = \"<p><strong>Sample sentence</strong> with tags.</p>\"\n",
    "       >>> node = lxml.html.fragment_fromstring(html)\n",
    "       >>> extract_html_content(node)\n",
    "       \"<strong>Sample sentence</strong> with tags.\"\n",
    "    \"\"\"\n",
    "    if node is None or (len(node) == 0 and not getattr(node, 'text', None)):\n",
    "        return \"\"\n",
    "    node.attrib.clear()\n",
    "    opening_tag = len(node.tag) + 2\n",
    "    closing_tag = -(len(node.tag) + 3)\n",
    "    return lxml.html.tostring(node)[opening_tag:closing_tag]"
   ]
  },
  {
   "cell_type": "code",
   "execution_count": null,
   "id": "9565a1a1",
   "metadata": {},
   "outputs": [],
   "source": []
  },
  {
   "cell_type": "code",
   "execution_count": null,
   "id": "727df982",
   "metadata": {},
   "outputs": [],
   "source": []
  },
  {
   "cell_type": "code",
   "execution_count": null,
   "id": "64bd71ab",
   "metadata": {},
   "outputs": [],
   "source": []
  },
  {
   "cell_type": "code",
   "execution_count": 199,
   "id": "69b12b20",
   "metadata": {},
   "outputs": [],
   "source": []
  },
  {
   "cell_type": "code",
   "execution_count": 202,
   "id": "0c58ad5d",
   "metadata": {
    "collapsed": true
   },
   "outputs": [
    {
     "name": "stdout",
     "output_type": "stream",
     "text": [
      "Energy Net Apple Reseller Springe zum Inhalt Home Unternehmen Über Energy Net Partner Referenzen Aktuelles Stellenangebote Soziales Engagement Lösungen Apple Enterprise Services Collaboration Publishing Print & Copy Training & Events Services SHOP Kontakt Online einkaufen oder bestellen. Besuchen Sie unseren Shop! Ihr Partner für Remote Working.Work Anything. Anywhere. Lösungen für Dein BusinessFinden Sie Produkte in unserem Online-Shop 360° Video-KonferenzlösungenKeep your business rolling!                     Online einkaufen oder bestellen. Besuchen Sie unseren Shop!                                     Ihr Partner für Remote Working.                                     Lösungen für Dein Business                                     360° Video-Konferenzlösungen                 ENERGY NET - IHR PARTNER FÜR DIGITALE LÖSUNGEN Energy Net ist ein Full-Service Anbieter für die Bereiche Informations- und Bürokommunikation und gehört seit 2018 zur Econocom Group, mit über 10.700 Mitarbeitern, in 18 Ländern, und einem Umsatz von 3 Milliarden EURO im Jahr 2019. Zum Econocom Kundenstamm zählen vorwiegend internationale Konzerne, Mittelstandsunternehmen und öffentliche Auftraggeber - im europäischen Raum. Save-the-date! Apple lädt zu Event am 20. April 2021, 19 Uhr: Spring loaded. Was Siri schon verplapperte, ist nun offiziell: Apple lädt zu einem virtuellen Event nächste Woche. Jetzt vormerken und dabei sein, wenn die neuen…                         Weiterlesen                     „Kostenloses Webinar - 10 Tipps & Tricks für Apple Geräte im Unternehmen.\" Jetzt anmelden! Am Mittwoch, 14. April 2021, 10.00 - 11.30 Uhr, veranstaltet Energy Net das für alle B2B-Kunden und KMU's erfolgreiche Webinar rund um das Thema:…                         Weiterlesen                     Kostenloses Online Webinar, Dienstag, 23. März 2021, 13:30-15.00 Uhr, Thema \"Homeoffice – So können Sie davon profitieren!\". In Deutschland arbeiten bundesweit rund 14,8 Mio. Menschen in Büros – Tendenz steigend. Für viele von ihnen hat die Coronakrise den Arbeitsalltag…                         Weiterlesen                     Final Call zur Online Konferenz am Do., 18.3.2021, 15-17 Uhr, \"Expertenwissen kompakt - Apple im Unternehmen\" In 20-minütigen Präsentationen und anschließenden Q&A-Runden, an denen Sie via Internet teilnehmen können, berichten unsere Expertinnen und Experten…                         Weiterlesen                     Förderprogramm \"Digital jetzt\": Wirtschaft und Energie (BMWi) unterstützt bis 2023 kleine und mittlere Unternehmen (KMU)  das Bundesministerium für Wirtschaft und Energie (BMWi) unterstützt bis 2023 kleine und mittlere Unternehmen (KMU) mit dem Programm \"Digital Jetzt\".…                         Weiterlesen                     Erfolgreich und souverän präsentieren in Videokonferenzen, Mi., 10.3.2021, 8.30-9.30 Uhr Ziel des Vortrags ist es, alle Teilnehmer für die Möglichkeiten von Videokonferenzen zu begeistern, die Teilnehmenden mit der Technik vertraut zu…                         Weiterlesen                     Employees Choice - Wenn Mitarbeiter wählen könnten, würden Sie sich für Apple Geräte entscheiden. Wenn Menschen mit den Tools, die sie lieben, so arbeiten können, wie sie wollen, dann inspiriert sie das zu der besten Arbeit ihres Lebens. Apple…                         Weiterlesen                     Apple im Unternehmen Am Mittwoch, den 3. März 2021, um 08:30 Uhr - 09.30 Uhr, können Sie kostenlos am Webinar \"10 Tipps & Tricks für Apple Geräte im Unternehmen\"…                         Weiterlesen                     Am 8.2.2021 hat Canon die neue Serie offiziell vorgestellt: imageRUNNER ADVANCE DX C5800 Mit der Einführung der imageRUNNER ADVANCE DX C5800 Baureihe geht Canon den Weg der Unterstützung hybrider Arbeitsweisen konsequent weiter.                           Weiterlesen                     Apple im Unternehmen Am Mittwoch, den 10. Februar 2021, um 08:30 Uhr - 09.30 Uhr, können Sie kostenlos am Webinar \"10 Tipps & Tricks für Apple Geräte im Unternehmen\"…                         Weiterlesen                     XING After Work online | Frankfurt NETworking mit Energy Net GmbH Am 03.02.2021 um 19:00 Uhr steht das Thema Future Workplace Trends 2021/2022 im Fokus bei XING-Frankfurt. Teilnahmegebühr: keine                         Weiterlesen                     IT-Praxiswissen: Wie lassen sich Dokumente sicher ausdrucken? Am Mittwoch, 27. Januar 2021 um 12:30 Uhr legen wir wieder mit unserem Kooperationspartner BVMW den Fokus auf die Digitalisierung im Mittelstand.…                         Weiterlesen                     Vollauto­matische Implementie­rung macht es Ihrer IT ganz leicht. Und spart Zeit und Kosten. Apple Business Manager macht die Implementierung und Verwaltung von Apple Geräten einfach. Die IT kann Apps verteilen und verwaltete Apple IDs…                         Weiterlesen                     Apple im Unternehmen - networker, solutions GmbH (Success Story) Die Cyber-Security und SAP Vertragsmanagement Firma networker, solutions setzt seit jeher Apple Geräte ein, da hier eine deutlich erhöhte…                         Weiterlesen                     Apple im Unternehmen - AD&VISION Kreativagentur (Success Story)  Als Kreativagentur baut AD&VISION seit bereits 25 Jahren auf die Erfahrung und den Service von Energy Net als IT-Partner. Die Ausstattung mit Apple…                         Weiterlesen                     Autorisierter Service ProviderAARAdobeboxCanonciscoCode42DocuwareJamfLenovaLogitechMicrosoftSophosvjoonvm Ware Intelligente Arbeitsplatzkonzepte Unsere Lösungsbereiche.                                                                     Apple Enterprise Services                                                                                                                                 Collaboration                                                                                                                                 Publishing Workflows                                                                                                                                 Print & Copy Solutions                                                             Unser umfangreiches Serviceangebot für Sie. Apple sourcing Transition to Apple Collaboration Network & Security Fullfilment & Warehousing Device Management Helpdesk Financing solutions Maintenance & Repair Kaufen, das war früher. Jetzt nutzen, statt kaufen! Mit BOS stellen wir Ihnen Ihr Wunschpaket zu einer günstigen monatlichen Rate zur Verfügung. Überzeugen Sie sich auch von den umfassenden Services. Econocom entwickelte BOS (Business Optimisation Services), um Unternehmen eine einfache, flexible Lösung anzubieten: Von der Beschaffung der Geräte bis hin zu vielfältigen Dienstleistungen profitieren Sie von diesem Rundum-Sorglos-Angebot. Weitere Informationen erhalten Sie unter: https://www.chooseyourbos.de Das Richtige für den Mittelstand. Energy Net GmbH Gutleutstraße 169-171 60327 Frankfurt am Main 069 97 69 709 - 0 069 97 69 709 - 48 info@energy-net.de Öffnungszeiten Montag – Freitag 9.00 bis 18.00 Uhr Für den Newsletter eintragen? Hier geht es zur Newsletter-Anmeldung xing linkedin Youtube © 2021 - Energy Net GmbH Energy Net GmbH ist ein Unternehmen der Econocom Gruppe AGB Kontakt Datenschutz Impressum Ihr Browser ist nicht aktuell! Um die korrekte Ansicht unserer Website zu erhalten, empfehlen wir, dass Sie Ihren Browser auf eine neuere Version aktualisieren oder einen anderen Browser verwenden. Kontakt Termin Hallo.Wie können wir Ihnen heute helfen?        Nachricht*        Name*        E-Mail*        Datenschutz*Ich stimme zu, dass meine Angaben aus dem Kontaktformular zur Beantwortung meiner Anfrage erhoben und verarbeitet werden. Die Daten werden nach abgeschlossener Bearbeitung Ihrer Anfrage gelöscht. Hinweis: Sie können Ihre Einwilligung jederzeit für die Zukunft per E-Mail an info@energy-net.de widerrufen. Detaillierte Informationen zum Umgang mit Nutzerdaten finden Sie in unserer  Datenschutzerklärung .Diese Feld nicht ausfüllen!Hallo.Wie können wir Ihnen heute helfen?        Nachricht*Vereinbaren Sie einen Wunschtermin in unserem Store        Wunschtermin*        Anmerkung zum Termin            Name*        E-Mail*        Datenschutz    Ich stimme zu, dass meine Angaben aus dem Kontaktformular zur Beantwortung meiner Anfrage erhoben und verarbeitet werden. Die Daten werden nach abgeschlossener Bearbeitung Ihrer Anfrage gelöscht. Hinweis: Sie können Ihre Einwilligung jederzeit für die Zukunft per E-Mail an info@energy-net.de widerrufen. Detaillierte Informationen zum Umgang mit Nutzerdaten finden Sie in unserer  Datenschutzerklärung .Diese Feld nicht ausfüllen! Rufen Sie uns an unter +49 69 97 69 709 0\n"
     ]
    }
   ],
   "source": []
  },
  {
   "cell_type": "code",
   "execution_count": 186,
   "id": "e6473590",
   "metadata": {},
   "outputs": [
    {
     "data": {
      "text/plain": [
       "'<html><title>Energy Net Apple Reseller</title><a>Springe zum Inhalt</a><a></a><a><i></i></a><li><a>Home</a></li><li><a>Unternehmen</a><li><a>Über Energy Net</a></li><li><a>Partner</a></li><li><a>Referenzen</a></li><li><a>Aktuelles</a></li><li><a>Stellenangebote</a></li><li><a>Soziales Engagement</a></li></li><li><a>Lösungen</a><li><a>Apple Enterprise Services</a></li><li><a>Collaboration</a></li><li><a>Publishing</a></li><li><a>Print &amp; Copy</a></li><li><a>Training &amp; Events</a></li></li><li><a>Services</a></li><li><a>SHOP</a></li><li><a>Kontakt</a></li><i></i><a><a>Online einkaufen oder bestellen. Besuchen Sie unseren Shop!</a></a><a></a>Ihr Partner für Remote Working.Work Anything. Anywhere.<a><a>Lösungen für Dein BusinessFinden Sie Produkte in unserem Online-Shop</a></a><a><a>360° Video-KonferenzlösungenKeep your business rolling!</a></a><li>                    Online einkaufen oder bestellen. Besuchen Sie unseren Shop!                </li><li><li>                    Ihr Partn'"
      ]
     },
     "execution_count": 186,
     "metadata": {},
     "output_type": "execute_result"
    }
   ],
   "source": [
    "cleared_html_string[:1000]"
   ]
  },
  {
   "cell_type": "code",
   "execution_count": 179,
   "id": "7a07b47c",
   "metadata": {
    "collapsed": true
   },
   "outputs": [
    {
     "name": "stdout",
     "output_type": "stream",
     "text": [
      "title | Energy Net Apple Reseller\n",
      "a | Springe zum Inhalt\n",
      "a | None\n",
      "\n",
      "i | None\n",
      "\n",
      "a | Home\n",
      "a | Unternehmen\n",
      "a | Über Energy Net\n",
      "a | Partner\n",
      "a | Referenzen\n",
      "a | Aktuelles\n",
      "a | Stellenangebote\n",
      "a | Soziales Engagement\n",
      "a | Lösungen\n",
      "a | Apple Enterprise Services\n",
      "a | Collaboration\n",
      "a | Publishing\n",
      "a | Print & Copy\n",
      "a | Training & Events\n",
      "a | Services\n",
      "a | SHOP\n",
      "a | Kontakt\n",
      "i | None\n",
      "\n",
      "a | Online einkaufen oder bestellen. Besuchen Sie unseren Shop!\n",
      "a | None\n",
      "\n",
      "a | Lösungen für Dein BusinessFinden Sie Produkte in unserem Online-Shop\n",
      "a | 360° Video-KonferenzlösungenKeep your business rolling!\n",
      "li |                     Online einkaufen oder bestellen. Besuchen Sie unseren Shop!                \n",
      "li | None\n",
      "\n",
      "li |                     Ihr Partner für Remote Working.                \n",
      "li |                     Lösungen für Dein Business                \n",
      "li |                     360° Video-Konferenzlösungen                \n",
      "a | None\n",
      "\n",
      "a | None\n",
      "\n",
      "h1 | ENERGY NET - IHR PARTNER FÜR DIGITALE LÖSUNGEN\n",
      "p | Energy Net ist ein Full-Service Anbieter für die Bereiche Informations- und Bürokommunikation und gehört seit 2018 zur Econocom Group, mit über 10.700 Mitarbeitern, in 18 Ländern, und einem Umsatz von 3 Milliarden EURO im Jahr 2019. Zum Econocom Kundenstamm zählen vorwiegend internationale Konzerne, Mittelstandsunternehmen und öffentliche Auftraggeber - im europäischen Raum.\n",
      "a | Save-the-date! Apple lädt zu Event am 20. April 2021, 19 Uhr: Spring loaded.\n",
      "p | Was Siri schon verplapperte, ist nun offiziell: Apple lädt zu einem virtuellen Event nächste Woche. Jetzt vormerken und dabei sein, wenn die neuen…\n",
      "a |                         Weiterlesen                    \n",
      "a | „Kostenloses Webinar - 10 Tipps & Tricks für Apple Geräte im Unternehmen.\" Jetzt anmelden!\n",
      "p | Am Mittwoch, 14. April 2021, 10.00 - 11.30 Uhr, veranstaltet Energy Net das für alle B2B-Kunden und KMU's erfolgreiche Webinar rund um das Thema:…\n",
      "a |                         Weiterlesen                    \n",
      "a | Kostenloses Online Webinar, Dienstag, 23. März 2021, 13:30-15.00 Uhr, Thema \"Homeoffice – So können Sie davon profitieren!\".\n",
      "p | In Deutschland arbeiten bundesweit rund 14,8 Mio. Menschen in Büros – Tendenz steigend. Für viele von ihnen hat die Coronakrise den Arbeitsalltag…\n",
      "a |                         Weiterlesen                    \n",
      "a | Final Call zur Online Konferenz am Do., 18.3.2021, 15-17 Uhr, \"Expertenwissen kompakt - Apple im Unternehmen\"\n",
      "p | In 20-minütigen Präsentationen und anschließenden Q&A-Runden, an denen Sie via Internet teilnehmen können, berichten unsere Expertinnen und Experten…\n",
      "a |                         Weiterlesen                    \n",
      "a | Förderprogramm \"Digital jetzt\": Wirtschaft und Energie (BMWi) unterstützt bis 2023 kleine und mittlere Unternehmen (KMU) \n",
      "p | das Bundesministerium für Wirtschaft und Energie (BMWi) unterstützt bis 2023 kleine und mittlere Unternehmen (KMU) mit dem Programm \"Digital Jetzt\".…\n",
      "a |                         Weiterlesen                    \n",
      "a | Erfolgreich und souverän präsentieren in Videokonferenzen, Mi., 10.3.2021, 8.30-9.30 Uhr\n",
      "p | Ziel des Vortrags ist es, alle Teilnehmer für die Möglichkeiten von Videokonferenzen zu begeistern, die Teilnehmenden mit der Technik vertraut zu…\n",
      "a |                         Weiterlesen                    \n",
      "a | Employees Choice - Wenn Mitarbeiter wählen könnten, würden Sie sich für Apple Geräte entscheiden.\n",
      "p | Wenn Menschen mit den Tools, die sie lieben, so arbeiten können, wie sie wollen, dann inspiriert sie das zu der besten Arbeit ihres Lebens. Apple…\n",
      "a |                         Weiterlesen                    \n",
      "a | Apple im Unternehmen\n",
      "p | Am Mittwoch, den 3. März 2021, um 08:30 Uhr - 09.30 Uhr, können Sie kostenlos am Webinar \"10 Tipps & Tricks für Apple Geräte im Unternehmen\"…\n",
      "a |                         Weiterlesen                    \n",
      "a | Am 8.2.2021 hat Canon die neue Serie offiziell vorgestellt: imageRUNNER ADVANCE DX C5800\n",
      "p | Mit der Einführung der imageRUNNER ADVANCE DX C5800 Baureihe geht Canon den Weg der Unterstützung hybrider Arbeitsweisen konsequent weiter.\n",
      "p |  \n",
      "a |                         Weiterlesen                    \n",
      "a | Apple im Unternehmen\n",
      "p | Am Mittwoch, den 10. Februar 2021, um 08:30 Uhr - 09.30 Uhr, können Sie kostenlos am Webinar \"10 Tipps & Tricks für Apple Geräte im Unternehmen\"…\n",
      "a |                         Weiterlesen                    \n",
      "a | XING After Work online | Frankfurt NETworking mit Energy Net GmbH\n",
      "p | Am 03.02.2021 um 19:00 Uhr steht das Thema Future Workplace Trends 2021/2022 im Fokus bei XING-Frankfurt.\n",
      "p | Teilnahmegebühr: keine\n",
      "a |                         Weiterlesen                    \n",
      "a | IT-Praxiswissen: Wie lassen sich Dokumente sicher ausdrucken?\n",
      "p | Am Mittwoch, 27. Januar 2021 um 12:30 Uhr legen wir wieder mit unserem Kooperationspartner BVMW den Fokus auf die Digitalisierung im Mittelstand.…\n",
      "a |                         Weiterlesen                    \n",
      "a | Vollauto­matische Implementie­rung macht es Ihrer IT ganz leicht. Und spart Zeit und Kosten.\n",
      "p | Apple Business Manager macht die Implementierung und Verwaltung von Apple Geräten einfach. Die IT kann Apps verteilen und verwaltete Apple IDs…\n",
      "a |                         Weiterlesen                    \n",
      "a | Apple im Unternehmen - networker, solutions GmbH (Success Story)\n",
      "p | Die Cyber-Security und SAP Vertragsmanagement Firma networker, solutions setzt seit jeher Apple Geräte ein, da hier eine deutlich erhöhte…\n",
      "a |                         Weiterlesen                    \n",
      "a | Apple im Unternehmen - AD&VISION Kreativagentur (Success Story) \n",
      "p | Als Kreativagentur baut AD&VISION seit bereits 25 Jahren auf die Erfahrung und den Service von Energy Net als IT-Partner. Die Ausstattung mit Apple…\n",
      "a |                         Weiterlesen                    \n",
      "a | Intelligente Arbeitsplatzkonzepte\n",
      "h1 | Unsere Lösungsbereiche.\n",
      "i | None\n",
      "\n",
      "i | None\n",
      "\n",
      "i | None\n",
      "\n",
      "i | None\n",
      "\n",
      "h1 | Unser umfangreiches Serviceangebot für Sie.\n",
      "p | Apple sourcing\n",
      "p | Transition to Apple\n",
      "p | Collaboration\n",
      "p | Network & Security\n",
      "p | Fullfilment & Warehousing\n",
      "p | Device Management\n",
      "p | Helpdesk\n",
      "p | Financing solutions\n",
      "p | Maintenance & Repair\n",
      "a | None\n",
      "\n",
      "h1 | Kaufen, das war früher.\n",
      "p | Jetzt nutzen, statt kaufen! Mit BOS stellen wir Ihnen Ihr Wunschpaket zu einer günstigen monatlichen Rate zur Verfügung. Überzeugen Sie sich auch von den umfassenden Services. Econocom entwickelte BOS (Business Optimisation Services), um Unternehmen eine einfache, flexible Lösung anzubieten: Von der Beschaffung der Geräte bis hin zu vielfältigen Dienstleistungen profitieren Sie von diesem Rundum-Sorglos-Angebot. Weitere Informationen erhalten Sie unter:\n",
      "a | https://www.chooseyourbos.de\n",
      "a | Das Richtige für den Mittelstand.\n",
      "p | Energy Net GmbH\n",
      "p | Gutleutstraße 169-171\n",
      "p | 60327 Frankfurt am Main\n",
      "i | None\n",
      "\n",
      "a | 069 97 69 709 - 0\n",
      "i | None\n",
      "\n",
      "i | None\n",
      "\n",
      "a | info@energy-net.de\n",
      "p | Öffnungszeiten\n",
      "p | Montag – Freitag\n",
      "p | 9.00 bis 18.00 Uhr\n",
      "p | Für den Newsletter eintragen?\n",
      "a | Hier geht es zur Newsletter-Anmeldung\n",
      "a | xing\n",
      "a | linkedin\n",
      "a | Youtube\n",
      "a | None\n",
      "\n",
      "a | Energy Net GmbH ist ein Unternehmen der Econocom Gruppe\n",
      "a | AGB\n",
      "a | Kontakt\n",
      "a | Datenschutz\n",
      "a | Impressum\n",
      "a | None\n",
      "\n",
      "a | None\n",
      "\n",
      "p | Ihr Browser ist nicht aktuell!\n",
      "p | Um die korrekte Ansicht unserer Website zu erhalten, empfehlen wir, dass Sie Ihren Browser auf eine neuere Version aktualisieren oder einen anderen Browser verwenden.\n",
      "i | None\n",
      "\n",
      "a | Kontakt\n",
      "a | Termin\n",
      "a | Datenschutzerklärung\n",
      "a | Datenschutzerklärung\n",
      "i | None\n",
      "\n",
      "p | Rufen Sie uns an unter\n",
      "a | +49 69 97 69 709 0\n"
     ]
    }
   ],
   "source": [
    "for tag in cleared_html.iter():\n",
    "    if not len(tag):\n",
    "        #print(tag.tag, \"|\", tag.text)\n",
    "        if type(tag.text) != str:\n",
    "            print(stringify_children(tag.text))"
   ]
  },
  {
   "cell_type": "code",
   "execution_count": null,
   "id": "44798dc3",
   "metadata": {},
   "outputs": [],
   "source": []
  },
  {
   "cell_type": "code",
   "execution_count": 124,
   "id": "12a51ddb",
   "metadata": {},
   "outputs": [],
   "source": [
    "import numpy as np\n",
    "\n",
    "html_file = old_html[:100]\n",
    "token_list = ['a', 'b', 'em', 'h1', 'h2', 'h3', 'i', 'li', 'p', 'strong', 'title']\n",
    "\n",
    "tree = html.fromstring(html_file)\n",
    "unique_tags = list(np.unique([element.tag for element in tree.iter()]))\n",
    "unique_tags = [element for element in unique_tags if element not in token_list]"
   ]
  },
  {
   "cell_type": "code",
   "execution_count": 125,
   "id": "a2486a3b",
   "metadata": {},
   "outputs": [
    {
     "data": {
      "text/plain": [
       "['body', 'div', 'head', 'html', 'span']"
      ]
     },
     "execution_count": 125,
     "metadata": {},
     "output_type": "execute_result"
    }
   ],
   "source": [
    "unique_tags"
   ]
  },
  {
   "cell_type": "code",
   "execution_count": 126,
   "id": "7714799e",
   "metadata": {},
   "outputs": [
    {
     "data": {
      "text/plain": [
       "b'<html><title>Energy Net Apple Reseller</title><a>Springe zum Inhalt</a></html>'"
      ]
     },
     "execution_count": 126,
     "metadata": {},
     "output_type": "execute_result"
    }
   ],
   "source": [
    "etree.strip_tags(tree, unique_tags)\n",
    "etree.tostring(tree)"
   ]
  },
  {
   "cell_type": "code",
   "execution_count": 127,
   "id": "5c308167",
   "metadata": {},
   "outputs": [],
   "source": [
    "result_html = stringify_children(tree)"
   ]
  },
  {
   "cell_type": "code",
   "execution_count": 128,
   "id": "4ae4fc05",
   "metadata": {},
   "outputs": [
    {
     "data": {
      "text/plain": [
       "'<title>Energy Net Apple Reseller</title><a>Springe zum Inhalt</a>'"
      ]
     },
     "execution_count": 128,
     "metadata": {},
     "output_type": "execute_result"
    }
   ],
   "source": [
    "result_html.decode(\"utf-8\")"
   ]
  },
  {
   "cell_type": "code",
   "execution_count": 89,
   "id": "6f20bda9",
   "metadata": {},
   "outputs": [
    {
     "data": {
      "text/plain": [
       "'<html><head><title>Energy Net Apple Reseller</title></head><body><div><a><span>Springe zum Inhalt</span></a><header><div><div><div><a></a></div><div><div><div><div><div><a><i></i></a></div></div></div><div><nav><ul><li><a><span>Home</span></a></li><li><a><span>Unternehmen</span></a><ul><li><a><span>Über Energy Net</span></a></li><li><a><span>Partner</span></a></li><li><a><span>Referenzen</span></a></li><li><a><span>Aktuelles</span></a></li><li><a><span>Stellenangebote</span></a></li><li><a><span>Soziales Engagement</span></a></li></ul></li><li><a><span>Lösungen</span></a><ul><li><a><span>Apple Enterprise Services</span></a></li><li><a><span>Collaboration</span></a></li><li><a><span>Publishing</span></a></li><li><a><span>Print &amp; Copy</span></a></li><li><a><span>Training &amp; Events</span></a></li></ul></li><li><a><span>Services</span></a></li><li><a><span>SHOP</span></a></li><li><a><span>Kontakt</span></a></li></ul></nav></div></div></div></div></div><div><span><i></i></span><div><'"
      ]
     },
     "execution_count": 89,
     "metadata": {},
     "output_type": "execute_result"
    }
   ],
   "source": [
    "old_html[:1000]"
   ]
  },
  {
   "cell_type": "code",
   "execution_count": 77,
   "id": "704025fe",
   "metadata": {},
   "outputs": [
    {
     "name": "stdout",
     "output_type": "stream",
     "text": [
      "title | Energy Net Apple Reseller\n",
      "span | Springe zum Inhalt\n",
      "a | None\n",
      "<class 'NoneType'>\n"
     ]
    },
    {
     "ename": "AttributeError",
     "evalue": "'NoneType' object has no attribute 'text'",
     "output_type": "error",
     "traceback": [
      "\u001b[0;31m---------------------------------------------------------------------------\u001b[0m",
      "\u001b[0;31mAttributeError\u001b[0m                            Traceback (most recent call last)",
      "\u001b[0;32m<ipython-input-77-07ad4df66f68>\u001b[0m in \u001b[0;36m<module>\u001b[0;34m\u001b[0m\n\u001b[1;32m      3\u001b[0m         \u001b[0mprint\u001b[0m\u001b[0;34m(\u001b[0m\u001b[0mtag\u001b[0m\u001b[0;34m.\u001b[0m\u001b[0mtag\u001b[0m\u001b[0;34m,\u001b[0m \u001b[0;34m\"|\"\u001b[0m\u001b[0;34m,\u001b[0m \u001b[0mtag\u001b[0m\u001b[0;34m.\u001b[0m\u001b[0mtext\u001b[0m\u001b[0;34m)\u001b[0m\u001b[0;34m\u001b[0m\u001b[0;34m\u001b[0m\u001b[0m\n\u001b[1;32m      4\u001b[0m         \u001b[0;32mif\u001b[0m \u001b[0mtype\u001b[0m\u001b[0;34m(\u001b[0m\u001b[0mtag\u001b[0m\u001b[0;34m.\u001b[0m\u001b[0mtext\u001b[0m\u001b[0;34m)\u001b[0m \u001b[0;34m!=\u001b[0m \u001b[0mstr\u001b[0m\u001b[0;34m:\u001b[0m\u001b[0;34m\u001b[0m\u001b[0;34m\u001b[0m\u001b[0m\n\u001b[0;32m----> 5\u001b[0;31m             \u001b[0mprint\u001b[0m\u001b[0;34m(\u001b[0m\u001b[0mstringify_children\u001b[0m\u001b[0;34m(\u001b[0m\u001b[0mtag\u001b[0m\u001b[0;34m.\u001b[0m\u001b[0mtext\u001b[0m\u001b[0;34m)\u001b[0m\u001b[0;34m)\u001b[0m\u001b[0;34m\u001b[0m\u001b[0;34m\u001b[0m\u001b[0m\n\u001b[0m",
      "\u001b[0;32m<ipython-input-68-5e7142ab71eb>\u001b[0m in \u001b[0;36mstringify_children\u001b[0;34m(node)\u001b[0m\n\u001b[1;32m      1\u001b[0m \u001b[0;32mdef\u001b[0m \u001b[0mstringify_children\u001b[0m\u001b[0;34m(\u001b[0m\u001b[0mnode\u001b[0m\u001b[0;34m)\u001b[0m\u001b[0;34m:\u001b[0m\u001b[0;34m\u001b[0m\u001b[0;34m\u001b[0m\u001b[0m\n\u001b[1;32m      2\u001b[0m     \u001b[0mprint\u001b[0m\u001b[0;34m(\u001b[0m\u001b[0mtype\u001b[0m\u001b[0;34m(\u001b[0m\u001b[0mnode\u001b[0m\u001b[0;34m)\u001b[0m\u001b[0;34m)\u001b[0m\u001b[0;34m\u001b[0m\u001b[0;34m\u001b[0m\u001b[0m\n\u001b[0;32m----> 3\u001b[0;31m     \u001b[0ms\u001b[0m \u001b[0;34m=\u001b[0m \u001b[0mnode\u001b[0m\u001b[0;34m.\u001b[0m\u001b[0mtext\u001b[0m\u001b[0;34m\u001b[0m\u001b[0;34m\u001b[0m\u001b[0m\n\u001b[0m\u001b[1;32m      4\u001b[0m     \u001b[0;32mif\u001b[0m \u001b[0ms\u001b[0m \u001b[0;32mis\u001b[0m \u001b[0;32mNone\u001b[0m\u001b[0;34m:\u001b[0m \u001b[0ms\u001b[0m \u001b[0;34m=\u001b[0m \u001b[0;34m''\u001b[0m\u001b[0;34m\u001b[0m\u001b[0;34m\u001b[0m\u001b[0m\n\u001b[1;32m      5\u001b[0m     \u001b[0;32mfor\u001b[0m \u001b[0mchild\u001b[0m \u001b[0;32min\u001b[0m \u001b[0mnode\u001b[0m\u001b[0;34m:\u001b[0m\u001b[0;34m\u001b[0m\u001b[0;34m\u001b[0m\u001b[0m\n",
      "\u001b[0;31mAttributeError\u001b[0m: 'NoneType' object has no attribute 'text'"
     ]
    }
   ],
   "source": [
    "for tag in tree.iter():\n",
    "    if not len(tag):\n",
    "        print(tag.tag, \"|\", tag.text)\n",
    "        if type(tag.text) != str:\n",
    "            print(stringify_children(tag.text))"
   ]
  },
  {
   "cell_type": "code",
   "execution_count": null,
   "id": "8b3a2fca",
   "metadata": {},
   "outputs": [],
   "source": []
  },
  {
   "cell_type": "markdown",
   "id": "0bb4b2ac",
   "metadata": {},
   "source": [
    "## Only keep specific HTML Tags"
   ]
  },
  {
   "cell_type": "code",
   "execution_count": 31,
   "id": "d5bf0d7d",
   "metadata": {},
   "outputs": [],
   "source": [
    "from lxml.html.clean import Cleaner\n",
    "from lxml import html, etree\n",
    "\n",
    "\n",
    "html_file = etree.fromstring(old_html, parser=etree.HTMLParser(remove_comments=True))\n",
    "\n",
    "tags = [element.tag for element in html_file.iter()]"
   ]
  },
  {
   "cell_type": "code",
   "execution_count": null,
   "id": "f346b564",
   "metadata": {},
   "outputs": [],
   "source": [
    "özel_tags = [\"title\", \"h1\", \"h2\", \"h3\", \"b\", \"strong\", \"em\", \"i\", \"p\", \"a\", \"li\"]"
   ]
  },
  {
   "cell_type": "code",
   "execution_count": null,
   "id": "54404a32",
   "metadata": {},
   "outputs": [],
   "source": []
  },
  {
   "cell_type": "markdown",
   "id": "5a6848e3",
   "metadata": {},
   "source": [
    "TODO:\n",
    "- alles entfernen außer özel tags\n",
    "    -  das vielleicht in cleaner?\n",
    "    - mindestens die in `allow_tags`\n",
    "        - https://lxml.de/api/lxml.html.clean.Cleaner-class.html\n",
    "- paper 2020 hashemi weiterlesen\n",
    "- weitere verfahren angucken\n",
    "- clf pipeline aufsetzen"
   ]
  },
  {
   "cell_type": "code",
   "execution_count": null,
   "id": "d8d9c611",
   "metadata": {},
   "outputs": [],
   "source": []
  },
  {
   "cell_type": "code",
   "execution_count": 113,
   "id": "0aa34377",
   "metadata": {},
   "outputs": [],
   "source": [
    "f = html.fromstring(old_html)"
   ]
  },
  {
   "cell_type": "code",
   "execution_count": 129,
   "id": "73b8e94c",
   "metadata": {},
   "outputs": [],
   "source": [
    "# get all tags\n",
    "\n",
    "from lxml import etree\n",
    "from lxml import html\n",
    "import numpy as np\n",
    "\n",
    "html_file = etree.fromstring(old_html, parser=etree.HTMLParser(remove_comments=True))\n",
    "\n",
    "tags = [element.tag for element in html_file.iter()]\n",
    "#list(np.unique(tags))"
   ]
  },
  {
   "cell_type": "code",
   "execution_count": 131,
   "id": "0ef61551",
   "metadata": {
    "collapsed": true
   },
   "outputs": [
    {
     "name": "stdout",
     "output_type": "stream",
     "text": [
      "<!doctype html><html class=\"no-js\" lang=\"\"><head><meta charset=\"utf-8\"><meta http-equiv=\"x-ua-compatible\" content=\"ie=edge\"><meta name=\"viewport\" content=\"width=device-width, initial-scale=1, user-scalable=no\"><link rel=\"shortcut icon\" type=\"image/x-icon\" href=\"https://www.plersch.de/wp-content/themes/plersch/favicon.ico\"><link rel=\"shortcut icon\" type=\"image/png\" href=\"https://www.plersch.de/wp-content/themes/plersch/favicon.png\"><!-- This site is optimized with the Yoast SEO plugin v7.1 - https://yoast.com/wordpress/plugins/seo/ --><title>Start | Plersch Edelstahltechnik GmbH</title><link rel=\"canonical\" href=\"https://www.plersch.de/\" /><meta property=\"og:locale\" content=\"de_DE\" /><meta property=\"og:type\" content=\"website\" /><meta property=\"og:title\" content=\"Start | Plersch Edelstahltechnik GmbH\" /><meta property=\"og:description\" content=\"Dies ist eine Beispiel-Seite. Sie unterscheidet sich von Beiträgen, da sie stets an der selben Stelle bleibt und (bei den meisten Themes) in der Navigation angezeigt wird. Die meisten Leute starten mit einem Impressum oder einer „Über uns“-Seite mit einer Vorstellung für mögliche Besucher der Website. Dort könnte zum Beispiel stehen: Hallo! Tagsüber arbeite ich &hellip;\" /><meta property=\"og:url\" content=\"https://www.plersch.de/\" /><meta property=\"og:site_name\" content=\"Plersch Edelstahltechnik GmbH\" /><meta property=\"og:image\" content=\"https://www.plersch.de/wp-content/uploads/2018/07/0016.jpg\" /><meta property=\"og:image:secure_url\" content=\"https://www.plersch.de/wp-content/uploads/2018/07/0016.jpg\" /><meta property=\"og:image:width\" content=\"2546\" /><meta property=\"og:image:height\" content=\"864\" /><meta name=\"twitter:card\" content=\"summary_large_image\" /><meta name=\"twitter:description\" content=\"Dies ist eine Beispiel-Seite. Sie unterscheidet sich von Beiträgen, da sie stets an der selben Stelle bleibt und (bei den meisten Themes) in der Navigation angezeigt wird. Die meisten Leute starten mit einem Impressum oder einer „Über uns“-Seite mit einer Vorstellung für mögliche Besucher der Website. Dort könnte zum Beispiel stehen: Hallo! Tagsüber arbeite ich [&hellip;]\" /><meta name=\"twitter:title\" content=\"Start | Plersch Edelstahltechnik GmbH\" /><meta name=\"twitter:image\" content=\"https://www.plersch.de/wp-content/uploads/2018/07/0016.jpg\" /><script type='application/ld+json'>{\"@context\":\"https:\\/\\/schema.org\",\"@type\":\"WebSite\",\"@id\":\"#website\",\"url\":\"https:\\/\\/www.plersch.de\\/\",\"name\":\"Plersch Edelstahltechnik GmbH\",\"potentialAction\":{\"@type\":\"SearchAction\",\"target\":\"https:\\/\\/www.plersch.de\\/?s={search_term_string}\",\"query-input\":\"required name=search_term_string\"}}</script><script type='application/ld+json'>{\"@context\":\"https:\\/\\/schema.org\",\"@type\":\"Organization\",\"url\":\"https:\\/\\/www.plersch.de\\/\",\"sameAs\":[],\"@id\":\"#organization\",\"name\":\"Plersch Edelstahltechnik GmbH\",\"logo\":\"http:\\/\\/neu.plersch.de\\/wp-content\\/uploads\\/2018\\/04\\/logo-plersch.png\"}</script><!-- / Yoast SEO plugin. --><link rel='dns-prefetch' href='//s.w.org' /><script type=\"text/javascript\">window._wpemojiSettings = {\"baseUrl\":\"https:\\/\\/s.w.org\\/images\\/core\\/emoji\\/11\\/72x72\\/\",\"ext\":\".png\",\"svgUrl\":\"https:\\/\\/s.w.org\\/images\\/core\\/emoji\\/11\\/svg\\/\",\"svgExt\":\".svg\",\"source\":{\"concatemoji\":\"https:\\/\\/www.plersch.de\\/wp-includes\\/js\\/wp-emoji-release.min.js?ver=4.9.16\"}};!function(a,b,c){function d(a,b){var c=String.fromCharCode;l.clearRect(0,0,k.width,k.height),l.fillText(c.apply(this,a),0,0);var d=k.toDataURL();l.clearRect(0,0,k.width,k.height),l.fillText(c.apply(this,b),0,0);var e=k.toDataURL();return d===e}function e(a){var b;if(!l||!l.fillText)return!1;switch(l.textBaseline=\"top\",l.font=\"600 32px Arial\",a){case\"flag\":return!(b=d([55356,56826,55356,56819],[55356,56826,8203,55356,56819]))&&(b=d([55356,57332,56128,56423,56128,56418,56128,56421,56128,56430,56128,56423,56128,56447],[55356,57332,8203,56128,56423,8203,56128,56418,8203,56128,56421,8203,56128,56430,8203,56128,56423,8203,56128,56447]),!b);case\"emoji\":return b=d([55358,56760,9792,65039],[55358,56760,8203,9792,65039]),!b}return!1}function f(a){var c=b.createElement(\"script\");c.src=a,c.defer=c.type=\"text/javascript\",b.getElementsByTagName(\"head\")[0].appendChild(c)}var g,h,i,j,k=b.createElement(\"canvas\"),l=k.getContext&&k.getContext(\"2d\");for(j=Array(\"flag\",\"emoji\"),c.supports={everything:!0,everythingExceptFlag:!0},i=0;i<j.length;i++)c.supports[j[i]]=e(j[i]),c.supports.everything=c.supports.everything&&c.supports[j[i]],\"flag\"!==j[i]&&(c.supports.everythingExceptFlag=c.supports.everythingExceptFlag&&c.supports[j[i]]);c.supports.everythingExceptFlag=c.supports.everythingExceptFlag&&!c.supports.flag,c.DOMReady=!1,c.readyCallback=function(){c.DOMReady=!0},c.supports.everything||(h=function(){c.readyCallback()},b.addEventListener?(b.addEventListener(\"DOMContentLoaded\",h,!1),a.addEventListener(\"load\",h,!1)):(a.attachEvent(\"onload\",h),b.attachEvent(\"onreadystatechange\",function(){\"complete\"===b.readyState&&c.readyCallback()})),g=c.source||{},g.concatemoji?f(g.concatemoji):g.wpemoji&&g.twemoji&&(f(g.twemoji),f(g.wpemoji)))}(window,document,window._wpemojiSettings);</script><style type=\"text/css\">img.wp-smiley,img.emoji {display: inline !important;border: none !important;box-shadow: none !important;height: 1em !important;width: 1em !important;margin: 0 .07em !important;vertical-align: -0.1em !important;background: none !important;padding: 0 !important;}</style><link rel='stylesheet' id='main_style-css'  href='https://www.plersch.de/wp-content/themes/plersch/css/screen.min.css?ver=4.9.16' type='text/css' media='all' /><link rel='stylesheet' id='flickity_style-css'  href='https://www.plersch.de/wp-content/themes/plersch/css/vendor/flickity.css?ver=4.9.16' type='text/css' media='all' /><link rel='stylesheet' id='sccss_style-css'  href='https://www.plersch.de/?sccss=1&#038;ver=4.9.16' type='text/css' media='all' /><link rel='stylesheet' id='cmplz-cookie-css'  href='https://www.plersch.de/wp-content/plugins/complianz-gdpr/core/assets/css/cookieconsent.min.css?ver=3.2.3' type='text/css' media='all' /><script type='text/javascript' src='https://www.plersch.de/wp-includes/js/jquery/jquery.js'></script><script type='text/javascript' src='https://www.plersch.de/wp-content/themes/plersch/js/modernizr-custom.js'></script><link rel='https://api.w.org/' href='https://www.plersch.de/wp-json/' /><link rel=\"EditURI\" type=\"application/rsd+xml\" title=\"RSD\" href=\"https://www.plersch.de/xmlrpc.php?rsd\" /><link rel=\"wlwmanifest\" type=\"application/wlwmanifest+xml\" href=\"https://www.plersch.de/wp-includes/wlwmanifest.xml\" /> <link rel='shortlink' href='https://www.plersch.de/' /><link rel=\"alternate\" type=\"application/json+oembed\" href=\"https://www.plersch.de/wp-json/oembed/1.0/embed?url=https%3A%2F%2Fwww.plersch.de%2F\" /><link rel=\"alternate\" type=\"text/xml+oembed\" href=\"https://www.plersch.de/wp-json/oembed/1.0/embed?url=https%3A%2F%2Fwww.plersch.de%2F&#038;format=xml\" /><link href=\"https://fonts.googleapis.com/css?family=Titillium+Web:400,600,700\" rel=\"stylesheet\"></head><body data-cmplz=1 class=\"home page-template-default page page-id-2\"><!-- Global site tag (gtag.js) - Google Analytics --><script async src=\"https://www.googletagmanager.com/gtag/js?id=UA-9645838-43\"></script><script>  window.dataLayer = window.dataLayer || [];  function gtag(){dataLayer.push(arguments);}  gtag('js', new Date());  gtag('config', 'UA-9645838-43');</script><aside class=\"pr-metaMenu\" data-js=\"popOut\"><nav><ul id=\"menu-meta-menue-kleingedrucktes-header\" class=\"pr-metaMenu__wrap\"><li class=\"pr-metaMenu__item-wrap\"><a class='pr-metaMenu__item ' href=\"https://www.plersch.de/impressum/\">Impressum</a></li><li class=\"pr-metaMenu__item-wrap\"><a class='pr-metaMenu__item ' href=\"https://www.plersch.de/kontakt/\">Kontakt</a></li><li class=\"pr-metaMenu__item-wrap\"><a class='pr-metaMenu__item ' href=\"https://www.plersch.de/datenschutz/\">Datenschutz</a></li><li class=\"pr-metaMenu__item-wrap\"><a class='pr-metaMenu__item ' href=\"https://www.plersch.de/agb/\">AGB</a></li></ul></nav></aside><header class=\"pr-siteHead\" data-state=\"\" data-js=\"modalMenu\"><div class=\"pr-siteHead__wrap\"><a class=\"pr-siteHead__logo\" href=\"https://www.plersch.de\"><img class=\"pr-siteHead__logo-image\" src=\"https://www.plersch.de/wp-content/themes/plersch/img/plersch-logo.png\" alt=\"Plersch Logo\"></a><input class=\"pr-siteMenu__toggle-input\" type=\"checkbox\" id=\"menuToggle\"><label data-js=\"menuToggle\" class=\"pr-siteMenu__toggle\" for=\"menuToggle\"></label><ul id=\"menu-hauptmenue-header\" class=\"pr-siteMenu__wrap\"><li data-js=\"menuPoint\" class=\"pr-siteMenu__item-wrap\"><a class='pr-siteMenu__item ' data-state=\"active\" href=\"https://www.plersch.de/\">Start</a></li><li data-js=\"menuPoint\" class=\"pr-siteMenu__item-wrap\"><a class='pr-siteMenu__item ' href=\"https://www.plersch.de/leistungen/\">Leistungen</a><ul class=\"pr-siteMenu__sub\"><li  class=\"pr-siteMenu__sub-item-wrap\"><a class='pr-siteMenu__sub-item ' href=\"https://www.plersch.de/leistung/beratung/\">Beratung</a></li><li  class=\"pr-siteMenu__sub-item-wrap\"><a class='pr-siteMenu__sub-item ' href=\"https://www.plersch.de/leistung/zuschnitt/\">Zuschnitt</a></li><li  class=\"pr-siteMenu__sub-item-wrap\"><a class='pr-siteMenu__sub-item ' href=\"https://www.plersch.de/leistung/entgraten/\">Entgraten</a></li><li  class=\"pr-siteMenu__sub-item-wrap\"><a class='pr-siteMenu__sub-item ' href=\"https://www.plersch.de/leistung/umformen/\">Umformen</a></li><li  class=\"pr-siteMenu__sub-item-wrap\"><a class='pr-siteMenu__sub-item ' href=\"https://www.plersch.de/leistung/schweissen/\">Schweißen</a></li><li  class=\"pr-siteMenu__sub-item-wrap\"><a class='pr-siteMenu__sub-item ' href=\"https://www.plersch.de/leistung/oberflaechenbehandlung/\">Oberflächenbehandlung</a></li><li  class=\"pr-siteMenu__sub-item-wrap\"><a class='pr-siteMenu__sub-item ' href=\"https://www.plersch.de/leistung/dichtungsschaeumen/\">Dichtungsschäumen</a></li><li  class=\"pr-siteMenu__sub-item-wrap\"><a class='pr-siteMenu__sub-item ' href=\"https://www.plersch.de/leistung/montage/\">Montage</a></li></ul></li><li data-js=\"menuPoint\" class=\"pr-siteMenu__item-wrap\"><a class='pr-siteMenu__item ' href=\"https://www.plersch.de/produkte/\">Produkte</a><ul class=\"pr-siteMenu__sub\"><li  class=\"pr-siteMenu__sub-item-wrap\"><a class='pr-siteMenu__sub-item ' href=\"https://www.plersch.de/produkt/baugruppen/\">Baugruppen</a></li><li  class=\"pr-siteMenu__sub-item-wrap\"><a class='pr-siteMenu__sub-item ' href=\"https://www.plersch.de/produkt/kantteile/\">Abkantteile</a></li><li  class=\"pr-siteMenu__sub-item-wrap\"><a class='pr-siteMenu__sub-item ' href=\"https://www.plersch.de/produkt/rohrlaserteile/\">Rohrlaserteile</a></li><li  class=\"pr-siteMenu__sub-item-wrap\"><a class='pr-siteMenu__sub-item ' href=\"https://www.plersch.de/produkt/stanzen/\">Stanzteile</a></li></ul></li><li data-js=\"menuPoint\" class=\"pr-siteMenu__item-wrap\"><a class='pr-siteMenu__item ' href=\"https://www.plersch.de/unternehmen/\">Unternehmen</a><ul class=\"pr-siteMenu__sub\"><li  class=\"pr-siteMenu__sub-item-wrap\"><a class='pr-siteMenu__sub-item ' href=\"https://www.plersch.de/unternehmen/geschichte/\">Geschichte</a></li><li  class=\"pr-siteMenu__sub-item-wrap\"><a class='pr-siteMenu__sub-item ' href=\"https://www.plersch.de/unternehmen/qualitaet-und-umwelt/\">Qualität und Umwelt</a></li><li  class=\"pr-siteMenu__sub-item-wrap\"><a class='pr-siteMenu__sub-item ' href=\"https://www.plersch.de/unternehmen/ansprechpartner/\">Ansprechpartner</a></li></ul></li><li data-js=\"menuPoint\" class=\"pr-siteMenu__item-wrap\"><a class='pr-siteMenu__item ' href=\"https://www.plersch.de/karriere/\">Karriere</a><ul class=\"pr-siteMenu__sub\"><li  class=\"pr-siteMenu__sub-item-wrap\"><a class='pr-siteMenu__sub-item ' href=\"https://www.plersch.de/karriere/offene-stellen/\">Offene Stellen</a></li><li  class=\"pr-siteMenu__sub-item-wrap\"><a class='pr-siteMenu__sub-item ' href=\"https://www.plersch.de/karriere/ausbildung/\">Ausbildung</a></li></ul></li></ul></div></header><div class=\"pr-breadcrumbs\"><div class=\"pr-breadcrumbs__wrap\"><span class=\"pr-breadcrumbs__prefix\">Sie befinden sich hier:</span>            <ul class=\"pr-breadcrumbs__level pr-breadcrumbs__level_1\">                <li class=\"pr-breadcrumbs__level-anchor-wrap\"><a class=\"pr-breadcrumbs__level-anchor\">Startseite</a>                </li>            </ul></div></div><section class=\"pr-splash\"><div class=\"pr-splash__background-image pr-splash__background-image_mobile\" style=\"background-image: url(https://www.plersch.de/wp-content/uploads/2018/07/0016-600x204.jpg)\"></div><div class=\"pr-splash__background-image pr-splash__background-image_desktop\" style=\"background-image: url(https://www.plersch.de/wp-content/uploads/2018/07/0016-1920x652.jpg)\"></div><div class=\"pr-splash__wrap\"><div class=\"pr-splash__content\"><i class=\"pr-splash__content-background\"></i><div class=\"pr-splash__content-wrap\"><h1 class=\"pr-splash__content-headline\">Start</h1><span class=\"pr-splash__content-subline\">Herzlich Willkommen </span><a href=\"http://www.plersch.de/unternehmen/\" class=\"pr-splash__content-cta\">Mehr erfahren</a></div></div><i class=\"pr-splash__videotrigger\" data-js=\"videotrigger\">Imagefilm ansehen</i><div class=\"pr-splash__video\" data-js=\"videotarget\"><div class=\"pr-splash__video-wrap\"><div class=\"pr-splash__video-videowrap\"><iframe data-placeholder-image=\"https://www.plersch.de/wp-content/uploads/complianz/placeholders/youtubefbxxbbPsgOQ-hqdefault.jpg\" class=\" cmplz-placeholder-element  cmplz-iframe cmplz-iframe-styles cmplz-video cmplz-hidden \" data-src-cmplz=\"https://www.youtube-nocookie.com/embed/fbxxbbPsgOQ?rel=0\"  src=\"https://www.plersch.de/wp-content/plugins/complianz-gdpr/core/assets/video/youtube-placeholder.mp4?cmplz=1\"  frameborder=\"0\" allow=\"autoplay; encrypted-media\" allowfullscreen></iframe></div></div></div></div></section><main class=\"pr-siteContent\" >         <div class=\"pr-siteContent__wrap \">        <div class=\"pr-siteContent__layout-wrap\">            <section class=\"pr-siteContent__layout pr-siteContent__layout_single\">        <div class=\"pr-cgCopy\"><div class=\"pr-cgCopy__wrap\"><h3 class=\"pr-cgCopy__subheading\">Robert Plersch Edelstahltechnik GmbH</h3><p  class=\"pr-cgCopy__paragraph\">Wir sind ein mittelständisches Familienunternehmen in der sechsten Generation und einer der leistungsfähigsten Systempartner der Blechfertigung in Süddeutschland. Die Verarbeitung von Stahl, Edelstahl und Aluminium ist unser Spezialgebiet. Etwa 100 Mitarbeiter stellen täglich ihre Vielseitigkeit unter Beweis. Zur Verfügung steht eine Produktionsfläche von ca. 8.000 m² und über 3.000 m² überdachtes Lager.</p><p  class=\"pr-cgCopy__paragraph\">Unser leistungsfähiger Maschinenpark, vom Laserschneiden über die CNC-Kanttechnik bis zum Schweißen und Oberflächenfinish, ist nur ein Teil des Erfolgs. Die effiziente Kombination von Hightech und handwerklicher Erfahrung ist die solide Basis für die Produktion von Komponenten oder Baugruppen für unterschiedlichste Branchen. Die tägliche Praxis zeigt uns, dass die größte Flexibilität nach wie vor vom Menschen ausgehen muss. „Geht nicht – gibt‘s nicht“ wird von unseren Mitarbeitern gelebt und umgesetzt.</p></div></div></section><section class=\"pr-siteContent__layout pr-siteContent__layout_double pr-siteContent__layout_double_symm\"><div class=\"pr-siteContent__layout-element\">        <div class=\"pr-cgCombobox\"><div class=\"pr-cgCombobox__wrap\"><div class=\"pr-cgCombobox__imagewrap\" style=\"background-image:url(https://www.plersch.de/wp-content/uploads/2018/07/Produkt_Ausbildung_bearbeitet_2-600x454.jpg)\"><img src=\"https://www.plersch.de/wp-content/uploads/2018/07/Produkt_Ausbildung_bearbeitet_2.jpg\" alt=\"Produkt Ausbildung Bearbeitet 2\" class=\"pr-cgCombobox__image\"></div><div class=\"pr-cgCombobox__contentwrap\"><span class=\"pr-cgCombobox__headline\">Ausbildung</span><span class=\"pr-cgCombobox__subline\">Bewirb Dich jetzt!!!</span><a target=\"\" href=\"http://plersch.de/karriere/ausbildung/\" class=\"pr-cgCombobox__cta\">Mehr erfahren</a></div></div></div><div class=\"pr-cgCombobox\"><div class=\"pr-cgCombobox__wrap\"><div class=\"pr-cgCombobox__imagewrap\" style=\"background-image:url(https://www.plersch.de/wp-content/uploads/2018/04/AdobeStock_157524050-600x400.jpeg)\"><img src=\"https://www.plersch.de/wp-content/uploads/2018/04/AdobeStock_157524050.jpeg\" alt=\"Finished Product From Laser Cutting Machine\" class=\"pr-cgCombobox__image\"></div><div class=\"pr-cgCombobox__contentwrap\"><span class=\"pr-cgCombobox__headline\">Baugruppen-Fertigung</span><span class=\"pr-cgCombobox__subline\">Alles aus einer Hand!!!</span><a target=\"\" href=\"http://plersch.de/produkt/baugruppen/\" class=\"pr-cgCombobox__cta\">Mehr erfahren</a></div></div></div></div><div class=\"pr-siteContent__layout-element\">        <div class=\"pr-cgCombobox\"><div class=\"pr-cgCombobox__wrap\"><div class=\"pr-cgCombobox__imagewrap\" style=\"background-image:url(https://www.plersch.de/wp-content/uploads/2018/04/AdobeStock_171007783-600x353.jpeg)\"><img src=\"https://www.plersch.de/wp-content/uploads/2018/04/AdobeStock_171007783.jpeg\" alt=\"High Precision CNC Laser Welding Metal Sheet\" class=\"pr-cgCombobox__image\"></div><div class=\"pr-cgCombobox__contentwrap\"><span class=\"pr-cgCombobox__headline\">Lohnfertigung</span><span class=\"pr-cgCombobox__subline\">High-Tech in allen Bereichen!!!</span><a target=\"\" href=\"http://plersch.de/leistungen/\" class=\"pr-cgCombobox__cta\">Mehr erfahren</a></div></div></div><div class=\"pr-cgCombobox\"><div class=\"pr-cgCombobox__wrap\"><div class=\"pr-cgCombobox__imagewrap\" style=\"background-image:url(https://www.plersch.de/wp-content/uploads/2018/04/AdobeStock_61985161-600x400.jpeg)\"><img src=\"https://www.plersch.de/wp-content/uploads/2018/04/AdobeStock_61985161.jpeg\" alt=\"Businesswoman Fill The Form\" class=\"pr-cgCombobox__image\"></div><div class=\"pr-cgCombobox__contentwrap\"><span class=\"pr-cgCombobox__headline\">Individuelle Anfrage</span><span class=\"pr-cgCombobox__subline\">Kontaktieren Sie uns jetzt!!!</span><a target=\"\" href=\"http://plersch.de/kontakt/\" class=\"pr-cgCombobox__cta\">Mehr erfahren</a></div></div></div></div></section>        </div>    </div></main><aside class=\"pr-fastContact\"><div class=\"pr-fastContact__wrap\"><a href=\"tel:+49833279060\" class=\"pr-fastContact__item pr-fastContact__item_call\"><span class=\"pr-fastContact__item-icon\"></span><span class=\"pr-fastContact__item-label\">+49 8332 7906 -0</span></a><a href=\"/kontakt\" class=\"pr-fastContact__item pr-fastContact__item_request\"><span class=\"pr-fastContact__item-icon\"></span><span class=\"pr-fastContact__item-label\">Anfrage stellen</span></a></div></aside><footer class=\"pr-siteFooter\"><div class=\"pr-siteFooter__wrap\"><a href=\"#\" data-js=\"toTop\" data-options=\"{'timing':500}\" class=\"pr-siteFooter__toTop\"><i class=\"fa fa-chevron-up\"></i></a></div><div class=\"pr-siteFooter__wrap\"><section class=\"pr-siteFooter__block pr-infoBlock pr-infoBlock_contact\"><div class=\"pr-infoBlock__content\"><p  class=\"pr-infoBlock__content-paragraph\">Robert Plersch<br />Edelstahltechnik GmbH</p><p  class=\"pr-infoBlock__content-paragraph\">Kemptener Straße 3<br />87749 Hawangen<br />+49 8332 7906 -0<br />info@plersch.de</p></div></section><section class=\"pr-siteFooter__block pr-infoBlock pr-infoBlock_nav\"><nav><ul id=\"menu-footer-block-1\" class=\"pr-infoBlock__navigation\"><li class=\"pr-infoBlock__navigation-item-wrap\"><a class='pr-infoBlock__navigation-item pr-infoBlock__heading ' href=\"https://www.plersch.de/leistungen/\">Leistungen</a></li><li class=\"pr-infoBlock__navigation-item-wrap\"><a class='pr-infoBlock__navigation-item pr-infoBlock__heading ' href=\"https://www.plersch.de/unternehmen/\">Unternehmen</a></li><li class=\"pr-infoBlock__navigation-item-wrap\"><a class='pr-infoBlock__navigation-item pr-infoBlock__heading ' href=\"https://www.plersch.de/karriere/\">Karriere</a></li><li class=\"pr-infoBlock__navigation-item-wrap\"><a class='pr-infoBlock__navigation-item pr-infoBlock__heading ' href=\"https://www.plersch.de/cookie-policy-eu/\">Cookie policy (EU)</a></li></ul></nav></section><section class=\"pr-siteFooter__block pr-infoBlock pr-infoBlock_nav\"><nav><ul id=\"menu-footer-block-2\" class=\"pr-infoBlock__navigation\"><li class=\"pr-infoBlock__navigation-item-wrap\"><a class='pr-infoBlock__navigation-item pr-infoBlock__heading ' href=\"https://www.plersch.de/produkte/\">Produkte</a><ul class=\"pr-infoBlock__navigation-sub\"><li class=\"pr-infoBlock__navigation-sub-item-wrap\"><a class='pr-infoBlock__navigation-sub-item ' href=\"https://www.plersch.de/produkt/stanzen/\">Stanzteile</a></li><li class=\"pr-infoBlock__navigation-sub-item-wrap\"><a class='pr-infoBlock__navigation-sub-item ' href=\"https://www.plersch.de/produkt/rohrlaserteile/\">Rohrlaserteile</a></li><li class=\"pr-infoBlock__navigation-sub-item-wrap\"><a class='pr-infoBlock__navigation-sub-item ' href=\"https://www.plersch.de/produkt/kantteile/\">Abkantteile</a></li><li class=\"pr-infoBlock__navigation-sub-item-wrap\"><a class='pr-infoBlock__navigation-sub-item ' href=\"https://www.plersch.de/produkt/baugruppen/\">Baugruppen</a></li></ul></li></ul></nav></section><section class=\"pr-siteFooter__block pr-infoBlock pr-infoBlock_nav\"><nav><ul id=\"menu-footer-block-3\" class=\"pr-infoBlock__navigation\"><li class=\"pr-infoBlock__navigation-item-wrap\"><a class='pr-infoBlock__navigation-item pr-infoBlock__heading ' href=\"https://www.plersch.de/kontakt/\">Kontakt</a></li></ul></nav></section><section class=\"pr-siteFooter__block pr-infoBlock pr-infoBlock_nav\"><nav><ul id=\"menu-footer-block-4\" class=\"pr-infoBlock__navigation\"><li class=\"pr-infoBlock__navigation-item-wrap\"><a class='pr-infoBlock__navigation-item pr-infoBlock__heading ' href=\"https://www.plersch.de/impressum/\">Impressum</a></li><li class=\"pr-infoBlock__navigation-item-wrap\"><a class='pr-infoBlock__navigation-item pr-infoBlock__heading ' href=\"https://www.plersch.de/datenschutz/\">Datenschutz</a></li><li class=\"pr-infoBlock__navigation-item-wrap\"><a class='pr-infoBlock__navigation-item pr-infoBlock__heading ' href=\"https://www.plersch.de/agb/\">AGB</a></li></ul></nav></section></div><div class=\"pr-siteFooter__footnote\"><div class=\"pr-siteFooter__footnote-social-icons\"><a target=\"_blank\" href=\"https://de.linkedin.com/company/robert-plersch-edelstahltechnik\" class=\"pr-siteFooter__footnote-social-icon pr-siteFooter__footnote-social-icon_linkedin\"></a><a target=\"_blank\" href=\"https://www.xing.com/companies/robertplerschedelstahltechnikgmbh\" class=\"pr-siteFooter__footnote-social-icon pr-siteFooter__footnote-social-icon_xing\"></a><a target=\"_blank\" href=\"https://www.youtube.com/channel/UCwRcQU343OedBjZnqZzQ-tQ\" class=\"pr-siteFooter__footnote-social-icon pr-siteFooter__footnote-social-icon_youtube\"></a><a target=\"_blank\" href=\"https://www.kununu.com/de/robert-plersch-edelstahltechnik\" class=\"pr-siteFooter__footnote-social-icon pr-siteFooter__footnote-social-icon_kununu\"></a></div><span class=\"pr-siteFooter__footnote-text\">© Plersch Edelstahltechnik GmbH 2021</span></div></footer><script type='text/javascript' src='https://www.plersch.de/wp-content/themes/plersch/js/main.js'></script><script type='text/javascript' src='https://www.plersch.de/wp-content/themes/plersch/js/flickity.pkgd.min.js'></script><script type='text/javascript' src='https://www.plersch.de/wp-content/plugins/complianz-gdpr/core/assets/js/cookieconsent.min.js?ver=3.2.3'></script><script type='text/javascript'>/* <![CDATA[ */var complianz = {\"static\":\"\",\"set_cookies\":[],\"banner_version\":\"16\",\"version\":\"3.2.3\",\"a_b_testing\":\"\",\"do_not_track\":\"\",\"consenttype\":\"optin\",\"region\":\"eu\",\"geoip\":\"\",\"categories\":\"<label><input checked disabled type=\\\"checkbox\\\" id=\\\"cmplz_functional\\\" style=\\\"display: none;\\\"><label for=\\\"cmplz_functional\\\" class=\\\"cc-check\\\"><svg width=\\\"16px\\\" height=\\\"16px\\\" viewBox=\\\"0 0 18 18\\\"> <path d=\\\"M1,9 L1,3.5 C1,2 2,1 3.5,1 L14.5,1 C16,1 17,2 17,3.5 L17,14.5 C17,16 16,17 14.5,17 L3.5,17 C2,17 1,16 1,14.5 L1,9 Z\\\"><\\/path> <polyline points=\\\"1 9 7 14 15 4\\\"><\\/polyline><\\/svg><\\/label><span class=\\\"cc-category\\\" style=\\\"color:#fff\\\">Funktionale Cookies<\\/span><\\/label><label><input type=\\\"checkbox\\\" id=\\\"cmplz_stats\\\" style=\\\"display: none;\\\"><label for=\\\"cmplz_stats\\\" class=\\\"cc-check\\\"><svg width=\\\"16px\\\" height=\\\"16px\\\" viewBox=\\\"0 0 18 18\\\"> <path d=\\\"M1,9 L1,3.5 C1,2 2,1 3.5,1 L14.5,1 C16,1 17,2 17,3.5 L17,14.5 C17,16 16,17 14.5,17 L3.5,17 C2,17 1,16 1,14.5 L1,9 Z\\\"><\\/path> <polyline points=\\\"1 9 7 14 15 4\\\"><\\/polyline><\\/svg><\\/label><span class=\\\"cc-category\\\" style=\\\"color:#fff\\\">Statistiken<\\/span><\\/label><label><input type=\\\"checkbox\\\" id=\\\"cmplz_all\\\" style=\\\"display: none;\\\"><label for=\\\"cmplz_all\\\" class=\\\"cc-check\\\"><svg width=\\\"16px\\\" height=\\\"16px\\\" viewBox=\\\"0 0 18 18\\\"> <path d=\\\"M1,9 L1,3.5 C1,2 2,1 3.5,1 L14.5,1 C16,1 17,2 17,3.5 L17,14.5 C17,16 16,17 14.5,17 L3.5,17 C2,17 1,16 1,14.5 L1,9 Z\\\"><\\/path> <polyline points=\\\"1 9 7 14 15 4\\\"><\\/polyline><\\/svg><\\/label><span class=\\\"cc-category\\\" style=\\\"color:#fff\\\">Marketing<\\/span><\\/label>\",\"position\":\"bottom\",\"title\":\"Consent\",\"theme\":\"edgeless\",\"use_categories\":\"1\",\"accept\":\"Alle Cookies\",\"revoke\":\"Einstellungen anzeigen\",\"dismiss\":\"Nur funktionsf\\u00e4hig\",\"dismiss_on_scroll\":\"\",\"dismiss_on_timeout\":\"\",\"dismiss_timeout\":\"10\",\"popup_background_color\":\"#af2a12\",\"popup_text_color\":\"#fff\",\"button_background_color\":\"#fff\",\"button_text_color\":\"#af2a12\",\"border_color\":\"\",\"use_custom_cookie_css\":\"\",\"custom_css\":\".cc-window\",\"save_preferences\":\"Einstellungen speichern\",\"readmore_optin\":\"Weiterlesen\",\"accept_informational\":\"Akzeptieren\",\"message_optout\":\"Wir verwenden Cookies, um unsere Website und unseren Service zu optimieren.\",\"message_optin\":\"Wir verwenden Cookies, um unsere Website und unseren Service zu optimieren.\",\"readmore_optout\":\"Cookie Policy (US)\",\"readmore_privacy\":\"Datenschutzerkl\\u00e4rung\",\"view_preferences\":\"Einstellungen anzeigen\",\"hide_revoke\":\"\",\"soft_cookiewall\":\"\",\"type\":\"categories\",\"layout\":\"categories-layout\",\"cookie_expiry\":\"365\",\"readmore_url\":{\"eu\":\"\\/cookie-policy-eu-2\"},\"privacy_link\":\"\",\"nonce\":\"336b7aa96b\",\"url\":\"https:\\/\\/www.plersch.de\\/wp-admin\\/admin-ajax.php\",\"current_policy_id\":\"20\",\"placeholdertext\":\"Hier \\u201eKlicken\\u201d, um Cookies zu akzeptieren und diesen Inhalt zu aktivieren\"};/* ]]> */</script><script type='text/javascript' src='https://www.plersch.de/wp-content/plugins/complianz-gdpr/core/assets/js/cookieconfig.min.js?ver=3.2.3'></script><script type='text/javascript' src='https://www.plersch.de/wp-includes/js/wp-embed.min.js?ver=4.9.16'></script>                <script type=\"text/plain\" class=\"cmplz-script cmplz-stats cmplz-stats\">                    (function (i, s, o, g, r, a, m) {    i['GoogleAnalyticsObject'] = r;    i[r] = i[r] || function () {        (i[r].q = i[r].q || []).push(arguments)    }, i[r].l = 1 * new Date();    a = s.createElement(o),        m = s.getElementsByTagName(o)[0];    a.async = 1;    a.src = g;    m.parentNode.insertBefore(a, m)})(window, document, 'script', 'https://www.google-analytics.com/analytics.js', 'ga');ga('create', 'sdfafqf', 'auto');ga('send', 'pageview', {    });                </script>                        <script class=\"cmplz-native\">                function complianz_enable_cookies() {                    console.log(\"enabling cookies\");                                    }            </script>            </body></html>\n"
     ]
    }
   ],
   "source": [
    "print(old_html)"
   ]
  },
  {
   "cell_type": "code",
   "execution_count": null,
   "id": "471b32ec",
   "metadata": {},
   "outputs": [],
   "source": []
  },
  {
   "cell_type": "code",
   "execution_count": null,
   "id": "13b80a8c",
   "metadata": {},
   "outputs": [],
   "source": []
  },
  {
   "cell_type": "code",
   "execution_count": 116,
   "id": "054f83e0",
   "metadata": {},
   "outputs": [
    {
     "name": "stdout",
     "output_type": "stream",
     "text": [
      "b'<html class=\"no-js\" lang=\"\">\\n  <head><link rel=\"shortcut icon\" type=\"image/x-icon\" href=\"https://www'\n"
     ]
    }
   ],
   "source": [
    "from lxml import etree\n",
    "from lxml import html\n",
    "\n",
    "f = html.fromstring(old_html)\n",
    "\n",
    "# for r in f.xpath('//r'):\n",
    "#     r.tail = 'DELETED' + r.tail if r.tail else 'DELETED'\n",
    "\n",
    "etree.strip_elements(f, 'meta', with_tail=True)\n",
    "\n",
    "print(etree.tostring(f,pretty_print=True)[:100])"
   ]
  },
  {
   "cell_type": "code",
   "execution_count": null,
   "id": "55878ed6",
   "metadata": {},
   "outputs": [],
   "source": []
  },
  {
   "cell_type": "code",
   "execution_count": null,
   "id": "cee3143a",
   "metadata": {},
   "outputs": [],
   "source": []
  },
  {
   "cell_type": "code",
   "execution_count": 102,
   "id": "2853699e",
   "metadata": {},
   "outputs": [
    {
     "ename": "TypeError",
     "evalue": "Type 'NoneType' cannot be serialized.",
     "output_type": "error",
     "traceback": [
      "\u001b[0;31m---------------------------------------------------------------------------\u001b[0m",
      "\u001b[0;31mTypeError\u001b[0m                                 Traceback (most recent call last)",
      "\u001b[0;32m<ipython-input-102-208faabcc80b>\u001b[0m in \u001b[0;36m<module>\u001b[0;34m\u001b[0m\n\u001b[1;32m      3\u001b[0m \u001b[0mparser\u001b[0m \u001b[0;34m=\u001b[0m \u001b[0metree\u001b[0m\u001b[0;34m.\u001b[0m\u001b[0mXMLParser\u001b[0m\u001b[0;34m(\u001b[0m\u001b[0mns_clean\u001b[0m\u001b[0;34m=\u001b[0m\u001b[0;32mTrue\u001b[0m\u001b[0;34m,\u001b[0m \u001b[0mrecover\u001b[0m\u001b[0;34m=\u001b[0m\u001b[0;32mTrue\u001b[0m\u001b[0;34m,\u001b[0m \u001b[0mencoding\u001b[0m\u001b[0;34m=\u001b[0m\u001b[0;34m'utf-8'\u001b[0m\u001b[0;34m)\u001b[0m\u001b[0;34m\u001b[0m\u001b[0;34m\u001b[0m\u001b[0m\n\u001b[1;32m      4\u001b[0m \u001b[0mparsed_xml\u001b[0m \u001b[0;34m=\u001b[0m \u001b[0metree\u001b[0m\u001b[0;34m.\u001b[0m\u001b[0mfromstring\u001b[0m\u001b[0;34m(\u001b[0m\u001b[0mstring\u001b[0m\u001b[0;34m.\u001b[0m\u001b[0mencode\u001b[0m\u001b[0;34m(\u001b[0m\u001b[0;34m'utf-8'\u001b[0m\u001b[0;34m)\u001b[0m\u001b[0;34m,\u001b[0m \u001b[0mparser\u001b[0m\u001b[0;34m=\u001b[0m\u001b[0mparser\u001b[0m\u001b[0;34m)\u001b[0m\u001b[0;34m\u001b[0m\u001b[0;34m\u001b[0m\u001b[0m\n\u001b[0;32m----> 5\u001b[0;31m \u001b[0mstring\u001b[0m \u001b[0;34m=\u001b[0m \u001b[0metree\u001b[0m\u001b[0;34m.\u001b[0m\u001b[0mtostring\u001b[0m\u001b[0;34m(\u001b[0m\u001b[0mparsed_xml\u001b[0m\u001b[0;34m)\u001b[0m\u001b[0;34m\u001b[0m\u001b[0;34m\u001b[0m\u001b[0m\n\u001b[0m\u001b[1;32m      6\u001b[0m \u001b[0mstring\u001b[0m \u001b[0;34m=\u001b[0m \u001b[0mstring\u001b[0m\u001b[0;34m.\u001b[0m\u001b[0mdecode\u001b[0m\u001b[0;34m(\u001b[0m\u001b[0;34m\"utf-8\"\u001b[0m\u001b[0;34m)\u001b[0m\u001b[0;34m\u001b[0m\u001b[0;34m\u001b[0m\u001b[0m\n",
      "\u001b[0;32msrc/lxml/etree.pyx\u001b[0m in \u001b[0;36mlxml.etree.tostring\u001b[0;34m()\u001b[0m\n",
      "\u001b[0;31mTypeError\u001b[0m: Type 'NoneType' cannot be serialized."
     ]
    }
   ],
   "source": [
    "string = old_html\n",
    "\n",
    "parser = etree.XMLParser(ns_clean=True, recover=True, encoding='utf-8')\n",
    "parsed_xml = etree.fromstring(string.encode('utf-8'), parser=parser)\n",
    "string = etree.tostring(parsed_xml)\n",
    "string = string.decode(\"utf-8\")"
   ]
  },
  {
   "cell_type": "code",
   "execution_count": null,
   "id": "2418dd58",
   "metadata": {},
   "outputs": [],
   "source": []
  },
  {
   "cell_type": "code",
   "execution_count": null,
   "id": "ac8f6f64",
   "metadata": {},
   "outputs": [],
   "source": []
  },
  {
   "cell_type": "markdown",
   "id": "1774a6e9",
   "metadata": {},
   "source": [
    "## Clean HTML"
   ]
  },
  {
   "cell_type": "markdown",
   "id": "1f220303",
   "metadata": {},
   "source": [
    "### lxml"
   ]
  },
  {
   "cell_type": "code",
   "execution_count": 84,
   "id": "2e621d56",
   "metadata": {},
   "outputs": [],
   "source": [
    "from lxml.html.clean import Cleaner\n",
    "from lxml import html, etree\n",
    "\n",
    "\n",
    "def clean_html_boilerplate(row):\n",
    "    \"\"\" Cleans boilerplate HTML tags from HTML.\"\"\"\n",
    "    \n",
    "    string = row.html\n",
    "    url = row.url\n",
    "    \n",
    "    cleaner = Cleaner(page_structure=False, meta=True, style=True, kill_tags=[\"img\"])\n",
    "    clean = string\n",
    "    \n",
    "    try:\n",
    "        clean = cleaner.clean_html(string)\n",
    "    except:\n",
    "        try:\n",
    "            parser = etree.XMLParser(ns_clean=True, recover=True, encoding='utf-8')\n",
    "            parsed_xml = etree.fromstring(string.encode('utf-8'), parser=parser)\n",
    "            string = etree.tostring(parsed_xml)\n",
    "            string = string.decode(\"utf-8\")\n",
    "            clean = cleaner.clean_html(string)\n",
    "        except:\n",
    "            print(f\"Website '{url}' couldn't be cleaned.\")\n",
    "    \n",
    "    clean = clean.replace(\"\\n\", \"\")\n",
    "    clean = clean.replace(\"\\r\", \"\")\n",
    "    clean = clean.replace(\"\\t\", \"\")\n",
    "    \n",
    "    return clean"
   ]
  },
  {
   "cell_type": "code",
   "execution_count": null,
   "id": "2e06a9ed",
   "metadata": {},
   "outputs": [],
   "source": []
  },
  {
   "cell_type": "code",
   "execution_count": 47,
   "id": "a90c1adb",
   "metadata": {},
   "outputs": [
    {
     "name": "stdout",
     "output_type": "stream",
     "text": [
      "CPU times: user 3min 22s, sys: 350 ms, total: 3min 22s\n",
      "Wall time: 3min 22s\n"
     ]
    }
   ],
   "source": [
    "%%time\n",
    "train[\"html\"] = train.apply(lambda row: clean_html_boilerplate(row), axis=1)"
   ]
  },
  {
   "cell_type": "code",
   "execution_count": 48,
   "id": "8866bcc7",
   "metadata": {},
   "outputs": [
    {
     "name": "stdout",
     "output_type": "stream",
     "text": [
      "38466.64927477841\n"
     ]
    }
   ],
   "source": [
    "html_length = train.apply(lambda row: len(row[\"html\"]), axis=1)\n",
    "print(np.mean(html_length))"
   ]
  },
  {
   "cell_type": "code",
   "execution_count": 56,
   "id": "da4f319e",
   "metadata": {},
   "outputs": [
    {
     "data": {
      "text/plain": [
       "-0.6769056318508253"
      ]
     },
     "execution_count": 56,
     "metadata": {},
     "output_type": "execute_result"
    }
   ],
   "source": [
    "a = 119055\n",
    "b = 38466\n",
    "\n",
    "b/a-1"
   ]
  },
  {
   "cell_type": "code",
   "execution_count": 57,
   "id": "230e2036",
   "metadata": {},
   "outputs": [
    {
     "data": {
      "text/plain": [
       "0.8666666666666667"
      ]
     },
     "execution_count": 57,
     "metadata": {},
     "output_type": "execute_result"
    }
   ],
   "source": [
    "26 / 30"
   ]
  },
  {
   "cell_type": "code",
   "execution_count": 7,
   "id": "4ecd57f5",
   "metadata": {},
   "outputs": [
    {
     "data": {
      "text/plain": [
       "(27263, 13341)"
      ]
     },
     "execution_count": 7,
     "metadata": {},
     "output_type": "execute_result"
    }
   ],
   "source": [
    "cleaned_html = clean_html_boilerplate(old_html)\n",
    "len(old_html), len(cleaned_html)"
   ]
  },
  {
   "cell_type": "markdown",
   "id": "5b0fa1b1",
   "metadata": {},
   "source": [
    "### VERWORFEN: Tidylib (Python Wrapper)"
   ]
  },
  {
   "cell_type": "code",
   "execution_count": 30,
   "id": "221dae07",
   "metadata": {},
   "outputs": [],
   "source": [
    "from tidylib import Tidy\n",
    "tidy = Tidy()\n",
    "document, errors = tidy.tidy_document(cleaned_html, options={'alt-text': 'baz'})\n",
    "document = document.replace(\"\\n\", \"\")\n",
    "document = document.replace(\"\\r\", \"\")\n",
    "document = document.replace(\"\\t\", \"\")"
   ]
  },
  {
   "cell_type": "markdown",
   "id": "598be906",
   "metadata": {},
   "source": [
    "## real tests"
   ]
  },
  {
   "cell_type": "code",
   "execution_count": 15,
   "id": "2d620bb3",
   "metadata": {},
   "outputs": [],
   "source": [
    "cleaned_html = clean_html_boilerplate(old_html)"
   ]
  },
  {
   "cell_type": "code",
   "execution_count": 16,
   "id": "a3a129f7",
   "metadata": {},
   "outputs": [
    {
     "data": {
      "text/plain": [
       "(27263, 13341)"
      ]
     },
     "execution_count": 16,
     "metadata": {},
     "output_type": "execute_result"
    }
   ],
   "source": [
    "len(old_html), len(cleaned_html)"
   ]
  },
  {
   "cell_type": "code",
   "execution_count": 106,
   "id": "31638f57",
   "metadata": {},
   "outputs": [],
   "source": [
    "with open(\"../app/old/test.html\", \"r\") as f:\n",
    "    testhtml = f.read()\n",
    "    \n",
    "    \n",
    "html_doc = html.fromstring(soup_str)\n",
    "html_doc_s = etree.tostring(html_doc, method=\"xml\").decode(\"utf-8\") "
   ]
  },
  {
   "cell_type": "code",
   "execution_count": 113,
   "id": "8f45e925",
   "metadata": {},
   "outputs": [
    {
     "name": "stdout",
     "output_type": "stream",
     "text": [
      "<html class=\"no-js\" lang=\"\">\n",
      " <head>\n",
      "  <title>\n",
      "   Start | Plersch Edelstahltechnik GmbH\n",
      "  </title>\n",
      " </head>\n",
      " <body class=\"home page-template-default page page-id-2\">\n",
      "  <aside class=\"pr-metaMenu\">\n",
      "   <nav>\n",
      "    <ul class=\"pr-metaMenu__wrap\" id=\"menu-meta-menue-kleingedrucktes-header\">\n",
      "     <li class=\"pr-metaMenu__item-wrap\">\n",
      "      <a class=\"pr-metaMenu__item\" href=\"https://www.plersch.de/impressum/\">\n",
      "       Impressum\n",
      "      </a>\n",
      "     </li>\n",
      "     <li class=\"pr-metaMenu__item-wrap\">\n",
      "      <a class=\"pr-metaMenu__item\" href=\"https://www.plersch.de/kontakt/\">\n",
      "       Kontakt\n",
      "      </a>\n",
      "     </li>\n",
      "     <li class=\"pr-metaMenu__item-wrap\">\n",
      "      <a class=\"pr-metaMenu__item\" href=\"https://www.plersch.de/datenschutz/\">\n",
      "       Datenschutz\n",
      "      </a>\n",
      "     </li>\n",
      "     <li class=\"pr-metaMenu__item-wrap\">\n",
      "      <a class=\"pr-metaMenu__item\" href=\"https://www.plersch.de/agb/\">\n",
      "       AGB\n",
      "      </a>\n",
      "     </li>\n",
      "    </ul>\n",
      "   </nav>\n",
      "  </aside>\n",
      "  <header class=\"pr-siteHead\">\n",
      "   <div class=\"pr-siteHead__wrap\">\n",
      "   \n"
     ]
    }
   ],
   "source": [
    "print(html_doc_s[:1000])"
   ]
  },
  {
   "cell_type": "code",
   "execution_count": 99,
   "id": "ae915046",
   "metadata": {},
   "outputs": [],
   "source": [
    "from bs4 import BeautifulSoup\n",
    "\n",
    "soup = BeautifulSoup(cleaned_html)\n",
    "soup_str = soup.prettify()\n",
    "with open(\"../app/old/etest.html\", \"w+\") as f:\n",
    "    f.write(soup_str)"
   ]
  },
  {
   "cell_type": "code",
   "execution_count": 100,
   "id": "55f9e415",
   "metadata": {},
   "outputs": [
    {
     "name": "stdout",
     "output_type": "stream",
     "text": [
      "16658\n",
      "<html class=\"no-js\" lang=\"\">\n",
      " <head>\n",
      "  <title>\n",
      "   Start | Plersch Edelstahltechnik GmbH\n",
      "  </title>\n",
      " </head>\n",
      " <body class=\"home page-template-default page page-id-2\">\n",
      "  <aside class=\"pr-metaMenu\">\n",
      "   <nav>\n",
      "    <ul class=\"pr-metaMenu__wrap\" id=\"menu-meta-menue-kleingedrucktes-header\">\n",
      "     <li class=\"pr-metaMenu__item-wrap\">\n",
      "      <a class=\"pr-metaMenu__item\" href=\"https://www.plersch.de/impressum/\">\n",
      "       Impressum\n",
      "      </a>\n",
      "     </li>\n",
      "     <li class=\"pr-metaMenu__item-wrap\">\n",
      "      <a class=\"pr-metaMenu__item\" href=\"https://www.plersch.de/kontakt/\">\n",
      "       Kontakt\n",
      "      </a>\n",
      "     </li>\n",
      "     <li class=\"pr-metaMenu__item-wrap\">\n",
      "      <a class=\"pr-metaMenu__item\" href=\"https://www.plersch.de/datenschutz/\">\n",
      "       Datenschutz\n",
      "      </a>\n",
      "     </li>\n",
      "     <li class=\"pr-metaMenu__item-wrap\">\n",
      "      <a class=\"pr-metaMenu__item\" href=\"https://www.plersch.de/agb/\">\n",
      "       AGB\n",
      "      </a>\n",
      "     </li>\n",
      "    </ul>\n",
      "   </nav>\n",
      "  </aside>\n",
      "  <header class=\"pr-siteHead\">\n",
      "   <div class=\"pr-siteHead__wrap\">\n",
      "   \n"
     ]
    }
   ],
   "source": [
    "from lxml.html import html_to_xhtml\n",
    "from lxml import etree\n",
    "\n",
    "html_doc = html.fromstring(soup_str)\n",
    "html_doc_s = etree.tostring(html_doc).decode(\"utf-8\") \n",
    "print(len(html_doc_s))\n",
    "print(html_doc_s[:1000])\n",
    "\n",
    "with open(\"../app/old/etest.html\", \"w+\") as f:\n",
    "    f.write(html_doc_s)"
   ]
  },
  {
   "cell_type": "code",
   "execution_count": 101,
   "id": "5cb57407",
   "metadata": {},
   "outputs": [
    {
     "name": "stdout",
     "output_type": "stream",
     "text": [
      "18620\n",
      "<html:html xmlns:html=\"http://www.w3.org/1999/xhtml\" class=\"no-js\" lang=\"\">\n",
      " <html:head>\n",
      "  <html:title>\n",
      "   Start | Plersch Edelstahltechnik GmbH\n",
      "  </html:title>\n",
      " </html:head>\n",
      " <html:body class=\"home page-template-default page page-id-2\">\n",
      "  <html:aside class=\"pr-metaMenu\">\n",
      "   <html:nav>\n",
      "    <html:ul class=\"pr-metaMenu__wrap\" id=\"menu-meta-menue-kleingedrucktes-header\">\n",
      "     <html:li class=\"pr-metaMenu__item-wrap\">\n",
      "      <html:a class=\"pr-metaMenu__item\" href=\"https://www.plersch.de/impressum/\">\n",
      "       Impressum\n",
      "      </html:a>\n",
      "     </html:li>\n",
      "     <html:li class=\"pr-metaMenu__item-wrap\">\n",
      "      <html:a class=\"pr-metaMenu__item\" href=\"https://www.plersch.de/kontakt/\">\n",
      "       Kontakt\n",
      "      </html:a>\n",
      "     </html:li>\n",
      "     <html:li class=\"pr-metaMenu__item-wrap\">\n",
      "      <html:a class=\"pr-metaMenu__item\" href=\"https://www.plersch.de/datenschutz/\">\n",
      "       Datenschutz\n",
      "      </html:a>\n",
      "     </html:li>\n",
      "     <html:li class=\"pr-metaMenu__item-wrap\">\n",
      "      <html:a class=\"pr-metaMenu__item\" href=\"https:\n"
     ]
    }
   ],
   "source": [
    "html_to_xhtml(html_doc)\n",
    "\n",
    "html_doc_s = etree.tostring(html_doc).decode(\"utf-8\") \n",
    "print(len(html_doc_s))\n",
    "print(html_doc_s[:1000])\n",
    "\n",
    "with open(\"../app/old/etest.xhtml\", \"w+\") as f:\n",
    "    f.write(html_doc_s)"
   ]
  },
  {
   "cell_type": "code",
   "execution_count": null,
   "id": "483c6ee9",
   "metadata": {},
   "outputs": [],
   "source": []
  },
  {
   "cell_type": "code",
   "execution_count": null,
   "id": "5a7ab1ff",
   "metadata": {},
   "outputs": [],
   "source": []
  },
  {
   "cell_type": "code",
   "execution_count": 9,
   "id": "2a7be250",
   "metadata": {
    "collapsed": true
   },
   "outputs": [
    {
     "name": "stderr",
     "output_type": "stream",
     "text": [
      "/Users/jan/anaconda3/lib/python3.7/site-packages/ipykernel_launcher.py:1: SettingWithCopyWarning: \n",
      "A value is trying to be set on a copy of a slice from a DataFrame.\n",
      "Try using .loc[row_indexer,col_indexer] = value instead\n",
      "\n",
      "See the caveats in the documentation: https://pandas.pydata.org/pandas-docs/stable/user_guide/indexing.html#returning-a-view-versus-a-copy\n",
      "  \"\"\"Entry point for launching an IPython kernel.\n"
     ]
    }
   ],
   "source": [
    "train2[\"html\"] = train2.apply(lambda row: clean_html_boilerplate(row[\"html\"]), axis=1)"
   ]
  },
  {
   "cell_type": "code",
   "execution_count": 10,
   "id": "833b4375",
   "metadata": {},
   "outputs": [
    {
     "data": {
      "text/html": [
       "<div>\n",
       "<style scoped>\n",
       "    .dataframe tbody tr th:only-of-type {\n",
       "        vertical-align: middle;\n",
       "    }\n",
       "\n",
       "    .dataframe tbody tr th {\n",
       "        vertical-align: top;\n",
       "    }\n",
       "\n",
       "    .dataframe thead th {\n",
       "        text-align: right;\n",
       "    }\n",
       "</style>\n",
       "<table border=\"1\" class=\"dataframe\">\n",
       "  <thead>\n",
       "    <tr style=\"text-align: right;\">\n",
       "      <th></th>\n",
       "      <th>url</th>\n",
       "      <th>industry</th>\n",
       "      <th>industry_label</th>\n",
       "      <th>group</th>\n",
       "      <th>group_representative</th>\n",
       "      <th>html</th>\n",
       "      <th>text</th>\n",
       "      <th>source</th>\n",
       "      <th>country</th>\n",
       "      <th>group_representative_label</th>\n",
       "    </tr>\n",
       "  </thead>\n",
       "  <tbody>\n",
       "    <tr>\n",
       "      <th>0</th>\n",
       "      <td>http://www.weldmont.de</td>\n",
       "      <td>56</td>\n",
       "      <td>Mining &amp; Metals</td>\n",
       "      <td>man</td>\n",
       "      <td>55</td>\n",
       "      <td>&lt;html&gt;    &lt;head&gt;                              ...</td>\n",
       "      <td>Weldmont\\n\\nHU\\nDE\\nEN\\nSK\\nHU\\nDE\\nEN\\nSK\\n\\n...</td>\n",
       "      <td>xing</td>\n",
       "      <td>DE</td>\n",
       "      <td>Apparel &amp; Fashion</td>\n",
       "    </tr>\n",
       "    <tr>\n",
       "      <th>1</th>\n",
       "      <td>http://www.rvs.at</td>\n",
       "      <td>41</td>\n",
       "      <td>Banking</td>\n",
       "      <td>fin</td>\n",
       "      <td>43</td>\n",
       "      <td>&lt;html lang=\"de\"&gt;&lt;head&gt;            &lt;title&gt;Raiff...</td>\n",
       "      <td>Raiffeisenverband Salzburg Privatkunden\\n\\nSki...</td>\n",
       "      <td>xing</td>\n",
       "      <td>DE</td>\n",
       "      <td>Higher Education</td>\n",
       "    </tr>\n",
       "    <tr>\n",
       "      <th>2</th>\n",
       "      <td>http://www.unicon.at</td>\n",
       "      <td>11</td>\n",
       "      <td>Management Consulting</td>\n",
       "      <td>corp, consulting</td>\n",
       "      <td>11</td>\n",
       "      <td>&lt;html lang=\"de\"&gt;&lt;head&gt;&lt;title&gt;Unternehmensberat...</td>\n",
       "      <td>Unternehmensberatung, Coaching &amp; Seminare | UN...</td>\n",
       "      <td>linkedin</td>\n",
       "      <td>DE</td>\n",
       "      <td>Motion Pictures and Film</td>\n",
       "    </tr>\n",
       "  </tbody>\n",
       "</table>\n",
       "</div>"
      ],
      "text/plain": [
       "                      url  industry         industry_label             group  \\\n",
       "0  http://www.weldmont.de        56        Mining & Metals               man   \n",
       "1       http://www.rvs.at        41                Banking               fin   \n",
       "2    http://www.unicon.at        11  Management Consulting  corp, consulting   \n",
       "\n",
       "   group_representative                                               html  \\\n",
       "0                    55  <html>    <head>                              ...   \n",
       "1                    43  <html lang=\"de\"><head>            <title>Raiff...   \n",
       "2                    11  <html lang=\"de\"><head><title>Unternehmensberat...   \n",
       "\n",
       "                                                text    source country  \\\n",
       "0  Weldmont\\n\\nHU\\nDE\\nEN\\nSK\\nHU\\nDE\\nEN\\nSK\\n\\n...      xing      DE   \n",
       "1  Raiffeisenverband Salzburg Privatkunden\\n\\nSki...      xing      DE   \n",
       "2  Unternehmensberatung, Coaching & Seminare | UN...  linkedin      DE   \n",
       "\n",
       "  group_representative_label  \n",
       "0          Apparel & Fashion  \n",
       "1           Higher Education  \n",
       "2   Motion Pictures and Film  "
      ]
     },
     "execution_count": 10,
     "metadata": {},
     "output_type": "execute_result"
    }
   ],
   "source": [
    "train.head(3)"
   ]
  },
  {
   "cell_type": "code",
   "execution_count": null,
   "id": "eca49690",
   "metadata": {},
   "outputs": [],
   "source": []
  },
  {
   "cell_type": "code",
   "execution_count": null,
   "id": "ef6f53f7",
   "metadata": {},
   "outputs": [],
   "source": []
  },
  {
   "cell_type": "code",
   "execution_count": 44,
   "id": "0881f6ba",
   "metadata": {},
   "outputs": [
    {
     "name": "stdout",
     "output_type": "stream",
     "text": [
      "Hospitality\n",
      "Logistics and Supply Chain\n",
      "Management Consulting\n",
      "Renewables & Environment\n"
     ]
    }
   ],
   "source": [
    "gr = sorted(list(train.group_representative_label.unique()))\n",
    "i = sorted(list(train.industry_label.unique()))\n",
    "\n",
    "for element in gr:\n",
    "    if element in i:\n",
    "        print(element)"
   ]
  },
  {
   "cell_type": "code",
   "execution_count": 102,
   "id": "05702ad2",
   "metadata": {},
   "outputs": [
    {
     "data": {
      "text/plain": [
       "['Apparel & Fashion',\n",
       " 'Business Supplies and Equipment',\n",
       " 'Civic & Social Organization',\n",
       " 'Cosmetics',\n",
       " 'Education Management',\n",
       " 'Higher Education',\n",
       " 'Hospitality',\n",
       " 'Investment Banking',\n",
       " 'Law Practice',\n",
       " 'Logistics and Supply Chain',\n",
       " 'Management Consulting',\n",
       " 'Maritime',\n",
       " 'Media Production',\n",
       " 'Motion Pictures and Film',\n",
       " 'Museums and Institutions',\n",
       " 'Package/Freight Delivery',\n",
       " 'Photography',\n",
       " 'Renewables & Environment',\n",
       " 'Research',\n",
       " 'Wireless',\n",
       " 'Writing and Editing']"
      ]
     },
     "execution_count": 102,
     "metadata": {},
     "output_type": "execute_result"
    }
   ],
   "source": [
    "gr"
   ]
  },
  {
   "cell_type": "code",
   "execution_count": 11,
   "id": "4074b7d6",
   "metadata": {},
   "outputs": [
    {
     "data": {
      "text/html": [
       "<div>\n",
       "<style scoped>\n",
       "    .dataframe tbody tr th:only-of-type {\n",
       "        vertical-align: middle;\n",
       "    }\n",
       "\n",
       "    .dataframe tbody tr th {\n",
       "        vertical-align: top;\n",
       "    }\n",
       "\n",
       "    .dataframe thead th {\n",
       "        text-align: right;\n",
       "    }\n",
       "</style>\n",
       "<table border=\"1\" class=\"dataframe\">\n",
       "  <thead>\n",
       "    <tr style=\"text-align: right;\">\n",
       "      <th></th>\n",
       "      <th>url</th>\n",
       "      <th>industry</th>\n",
       "      <th>industry_label</th>\n",
       "      <th>group</th>\n",
       "      <th>group_representative</th>\n",
       "      <th>html</th>\n",
       "      <th>text</th>\n",
       "      <th>source</th>\n",
       "      <th>country</th>\n",
       "      <th>group_representative_label</th>\n",
       "    </tr>\n",
       "  </thead>\n",
       "  <tbody>\n",
       "    <tr>\n",
       "      <th>0</th>\n",
       "      <td>http://www.weldmont.de</td>\n",
       "      <td>56</td>\n",
       "      <td>Mining &amp; Metals</td>\n",
       "      <td>man</td>\n",
       "      <td>55</td>\n",
       "      <td>&lt;html&gt;    &lt;head&gt;                              ...</td>\n",
       "      <td>Weldmont\\n\\nHU\\nDE\\nEN\\nSK\\nHU\\nDE\\nEN\\nSK\\n\\n...</td>\n",
       "      <td>xing</td>\n",
       "      <td>DE</td>\n",
       "      <td>Apparel &amp; Fashion</td>\n",
       "    </tr>\n",
       "    <tr>\n",
       "      <th>1</th>\n",
       "      <td>http://www.rvs.at</td>\n",
       "      <td>41</td>\n",
       "      <td>Banking</td>\n",
       "      <td>fin</td>\n",
       "      <td>43</td>\n",
       "      <td>&lt;html lang=\"de\"&gt;&lt;head&gt;            &lt;title&gt;Raiff...</td>\n",
       "      <td>Raiffeisenverband Salzburg Privatkunden\\n\\nSki...</td>\n",
       "      <td>xing</td>\n",
       "      <td>DE</td>\n",
       "      <td>Higher Education</td>\n",
       "    </tr>\n",
       "    <tr>\n",
       "      <th>2</th>\n",
       "      <td>http://www.unicon.at</td>\n",
       "      <td>11</td>\n",
       "      <td>Management Consulting</td>\n",
       "      <td>corp, consulting</td>\n",
       "      <td>11</td>\n",
       "      <td>&lt;html lang=\"de\"&gt;&lt;head&gt;&lt;title&gt;Unternehmensberat...</td>\n",
       "      <td>Unternehmensberatung, Coaching &amp; Seminare | UN...</td>\n",
       "      <td>linkedin</td>\n",
       "      <td>DE</td>\n",
       "      <td>Motion Pictures and Film</td>\n",
       "    </tr>\n",
       "  </tbody>\n",
       "</table>\n",
       "</div>"
      ],
      "text/plain": [
       "                      url  industry         industry_label             group  \\\n",
       "0  http://www.weldmont.de        56        Mining & Metals               man   \n",
       "1       http://www.rvs.at        41                Banking               fin   \n",
       "2    http://www.unicon.at        11  Management Consulting  corp, consulting   \n",
       "\n",
       "   group_representative                                               html  \\\n",
       "0                    55  <html>    <head>                              ...   \n",
       "1                    43  <html lang=\"de\"><head>            <title>Raiff...   \n",
       "2                    11  <html lang=\"de\"><head><title>Unternehmensberat...   \n",
       "\n",
       "                                                text    source country  \\\n",
       "0  Weldmont\\n\\nHU\\nDE\\nEN\\nSK\\nHU\\nDE\\nEN\\nSK\\n\\n...      xing      DE   \n",
       "1  Raiffeisenverband Salzburg Privatkunden\\n\\nSki...      xing      DE   \n",
       "2  Unternehmensberatung, Coaching & Seminare | UN...  linkedin      DE   \n",
       "\n",
       "  group_representative_label  \n",
       "0          Apparel & Fashion  \n",
       "1           Higher Education  \n",
       "2   Motion Pictures and Film  "
      ]
     },
     "execution_count": 11,
     "metadata": {},
     "output_type": "execute_result"
    }
   ],
   "source": [
    "train2.head(3)"
   ]
  },
  {
   "cell_type": "code",
   "execution_count": 14,
   "id": "f95fecf8",
   "metadata": {},
   "outputs": [],
   "source": [
    "with open(\"../app/old/test.html\", \"r\") as f:\n",
    "    old_html = f.read()"
   ]
  },
  {
   "cell_type": "code",
   "execution_count": 15,
   "id": "1ad4ef89",
   "metadata": {},
   "outputs": [
    {
     "data": {
      "text/plain": [
       "'<!DOCTYPE html><html>    <head>        <!-- Global site tag (gtag.js) - Google Analytics -->        '"
      ]
     },
     "execution_count": 15,
     "metadata": {},
     "output_type": "execute_result"
    }
   ],
   "source": [
    "old_html[:100]"
   ]
  },
  {
   "cell_type": "code",
   "execution_count": 17,
   "id": "02684937",
   "metadata": {},
   "outputs": [],
   "source": [
    "cleaned_html = clean_html_boilerplate(old_html)"
   ]
  },
  {
   "cell_type": "code",
   "execution_count": 18,
   "id": "94da58ef",
   "metadata": {},
   "outputs": [
    {
     "data": {
      "text/plain": [
       "'<html>    <head>    '"
      ]
     },
     "execution_count": 18,
     "metadata": {},
     "output_type": "execute_result"
    }
   ],
   "source": [
    "cleaned_html[:20]"
   ]
  },
  {
   "cell_type": "code",
   "execution_count": 19,
   "id": "4db9be36",
   "metadata": {},
   "outputs": [
    {
     "data": {
      "text/plain": [
       "'      </body></html>'"
      ]
     },
     "execution_count": 19,
     "metadata": {},
     "output_type": "execute_result"
    }
   ],
   "source": [
    "cleaned_html[-20:]"
   ]
  },
  {
   "cell_type": "code",
   "execution_count": 20,
   "id": "d89a4134",
   "metadata": {},
   "outputs": [
    {
     "data": {
      "text/plain": [
       "['a',\n",
       " 'body',\n",
       " 'br',\n",
       " 'div',\n",
       " 'h1',\n",
       " 'h2',\n",
       " 'head',\n",
       " 'html',\n",
       " 'i',\n",
       " 'li',\n",
       " 'p',\n",
       " 'span',\n",
       " 'svg',\n",
       " 'title',\n",
       " 'ul']"
      ]
     },
     "execution_count": 20,
     "metadata": {},
     "output_type": "execute_result"
    }
   ],
   "source": [
    "from lxml import etree\n",
    "from lxml import html\n",
    "import numpy as np\n",
    "\n",
    "html_file = html.fromstring(cleaned_html)\n",
    "\n",
    "tags = [element.tag for element in html_file.iter()]\n",
    "list(np.unique(tags))"
   ]
  },
  {
   "cell_type": "code",
   "execution_count": 21,
   "id": "2e9e683f",
   "metadata": {},
   "outputs": [
    {
     "name": "stdout",
     "output_type": "stream",
     "text": [
      "html\n",
      "head\n",
      "title\n",
      "body\n",
      "div\n",
      "div\n",
      "div\n",
      "div\n",
      "div\n",
      "div\n",
      "div\n",
      "a\n",
      "div\n",
      "div\n",
      "div\n",
      "i\n",
      "i\n",
      "div\n",
      "div\n",
      "div\n",
      "svg\n",
      "div\n",
      "a\n",
      "div\n",
      "a\n",
      "div\n",
      "a\n",
      "div\n",
      "a\n",
      "div\n",
      "div\n",
      "a\n",
      "svg\n",
      "div\n",
      "a\n",
      "svg\n",
      "div\n",
      "a\n",
      "svg\n",
      "div\n",
      "a\n",
      "svg\n",
      "div\n",
      "div\n",
      "div\n",
      "div\n",
      "div\n",
      "a\n",
      "svg\n",
      "div\n",
      "a\n",
      "svg\n",
      "div\n",
      "a\n",
      "svg\n",
      "div\n",
      "a\n",
      "svg\n",
      "div\n",
      "div\n",
      "svg\n",
      "div\n",
      "a\n",
      "div\n",
      "a\n",
      "div\n",
      "a\n",
      "div\n",
      "a\n",
      "div\n",
      "ul\n",
      "li\n",
      "a\n",
      "li\n",
      "a\n",
      "div\n",
      "div\n",
      "div\n",
      "a\n",
      "div\n",
      "div\n",
      "div\n",
      "div\n",
      "h1\n",
      "h2\n",
      "div\n",
      "svg\n",
      "div\n",
      "p\n",
      "div\n",
      "a\n",
      "div\n",
      "div\n",
      "div\n",
      "div\n",
      "h1\n",
      "h2\n",
      "div\n",
      "svg\n",
      "div\n",
      "p\n",
      "div\n",
      "div\n",
      "div\n",
      "div\n",
      "div\n",
      "div\n",
      "span\n",
      "br\n",
      "br\n",
      "br\n",
      "div\n",
      "span\n",
      "br\n",
      "br\n",
      "br\n",
      "div\n",
      "div\n",
      "div\n",
      "ul\n",
      "li\n",
      "a\n",
      "li\n",
      "a\n",
      "li\n",
      "a\n",
      "li\n",
      "a\n",
      "li\n",
      "a\n",
      "li\n",
      "a\n",
      "div\n",
      "div\n",
      "div\n",
      "ul\n",
      "li\n",
      "a\n",
      "li\n",
      "a\n",
      "li\n",
      "a\n",
      "li\n",
      "a\n",
      "li\n",
      "a\n",
      "div\n",
      "div\n",
      "div\n",
      "div\n",
      "ul\n",
      "li\n",
      "a\n",
      "li\n",
      "a\n",
      "div\n",
      "div\n",
      "div\n",
      "a\n",
      "svg\n",
      "div\n",
      "a\n",
      "svg\n",
      "div\n",
      "a\n",
      "svg\n",
      "div\n",
      "a\n",
      "svg\n",
      "div\n",
      "a\n",
      "div\n",
      "a\n"
     ]
    }
   ],
   "source": [
    "# If you want to visit all of the descendants\n",
    "for element in html_file.iter():\n",
    "    print(element.tag)\n",
    "    \n",
    "    \n",
    "# Or, if you want to have a list of all the descendents\n",
    "all_elements = list(html_file.iter())\n",
    "#print([element.tag for element in all_elements])"
   ]
  },
  {
   "cell_type": "code",
   "execution_count": null,
   "id": "b5af46b0",
   "metadata": {},
   "outputs": [],
   "source": []
  },
  {
   "cell_type": "code",
   "execution_count": null,
   "id": "124b6a76",
   "metadata": {},
   "outputs": [],
   "source": []
  },
  {
   "cell_type": "code",
   "execution_count": null,
   "id": "e1243d13",
   "metadata": {},
   "outputs": [],
   "source": []
  },
  {
   "cell_type": "code",
   "execution_count": null,
   "id": "473c5fcd",
   "metadata": {},
   "outputs": [],
   "source": []
  }
 ],
 "metadata": {
  "kernelspec": {
   "display_name": "Python 3",
   "language": "python",
   "name": "python3"
  },
  "language_info": {
   "codemirror_mode": {
    "name": "ipython",
    "version": 3
   },
   "file_extension": ".py",
   "mimetype": "text/x-python",
   "name": "python",
   "nbconvert_exporter": "python",
   "pygments_lexer": "ipython3",
   "version": "3.9.4"
  }
 },
 "nbformat": 4,
 "nbformat_minor": 5
}
