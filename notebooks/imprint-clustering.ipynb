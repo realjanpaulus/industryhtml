{
 "cells": [
  {
   "cell_type": "markdown",
   "id": "5a244b2d",
   "metadata": {},
   "source": [
    "# Imprint Clustering\n",
    "\n",
    "#### Welche Infos habe ich?\n",
    "\n",
    "- `html`: `\"<html><body><p>Impressum</p><p>snapADDY GmbH</p></body></html>\"`\n",
    "- `lines`: `['Impressum', 'snapADDY GmbH']`\n",
    "- `labels`: `[0, 1]`\n",
    "- (`predictions`: `[{0: 0.8436440825462341, 1: 0.15635591745376587}, {0: 0.219468355178833, 1: 0.780531644821167}, ...]`)\n",
    "- (mit etwas Umgestaltung auch die URL)\n",
    "\n",
    "#### Hinweise\n",
    "\n",
    "- `imprint_chunker/featurize.py`: Wie wurden Features erstellt?\n",
    "- `complex_string_parser/cluster.py`: Wie wurden hier Cluster gebaut?\n",
    "- Stack Overflow: https://stackoverflow.com/questions/11513484/1d-number-array-clustering\n",
    "\n",
    "#### TODOS\n",
    "\n",
    "- \"low hanging fruit\": einfach nur den ersten, zweiten, n-ten Block nehmen?\n",
    "- simpleren Data Builder bauen, der 0er Labels vorher raushaut\n",
    "- ...\n",
    "\n",
    "#### Ideen für Features\n",
    "\n",
    "- [x] Position der Gruppe als Feature: je weiter oben, desto eher \"main\" Block? Daten geben Hinweis darauf, vllt das als eine Art Verteilung modellieren\n",
    "- [ ] Größe der Gruppe als Feature? Scheint nicht unbedingt aussagekräftig zu sein\n",
    "- [ ] Dichte der Gruppe als Feature? Wie das machen?\n",
    "- [ ] Wahrscheinlichkeiten von Predictions von CLF als Feature: Wie verwenden?\n",
    "- [ ] url als feature: kommt sie oder substring in \"cluster\" vor?\n",
    "- [ ] TODO: position als feature"
   ]
  },
  {
   "cell_type": "code",
   "execution_count": 260,
   "id": "217034cb",
   "metadata": {},
   "outputs": [],
   "source": [
    "import difflib\n",
    "\n",
    "import json\n",
    "import matplotlib.pyplot as plt\n",
    "import numpy as np\n",
    "import pandas as pd\n",
    "\n",
    "from scipy.cluster.hierarchy import dendrogram\n",
    "from sklearn.cluster import AgglomerativeClustering, DBSCAN, KMeans\n",
    "from sklearn.metrics import accuracy_score\n",
    "from sklearn.model_selection import train_test_split\n",
    "from sklearn.svm import LinearSVC\n",
    "from sklearn.neighbors import KNeighborsClassifier\n",
    "from sklearn.preprocessing import LabelEncoder\n",
    "from xgboost import XGBClassifier\n",
    "from sklearn.tree import DecisionTreeClassifier\n",
    "from sklearn.dummy import DummyClassifier\n",
    "\n",
    "import tldextract\n",
    "\n",
    "# snapaddy\n",
    "from imprint_chunker import featurize\n",
    "import tokenizer\n",
    "from regex_preprocessor import RegexPreprocessed, regex_preprocessor"
   ]
  },
  {
   "cell_type": "markdown",
   "id": "f332980d",
   "metadata": {},
   "source": [
    "## Load dataset"
   ]
  },
  {
   "cell_type": "code",
   "execution_count": 261,
   "id": "6bd902f6",
   "metadata": {},
   "outputs": [
    {
     "name": "stdout",
     "output_type": "stream",
     "text": [
      "CPU times: user 2.55 s, sys: 1.2 s, total: 3.75 s\n",
      "Wall time: 4.07 s\n"
     ]
    }
   ],
   "source": [
    "%%time\n",
    "with open(\"imprints.json\", \"r\") as f:\n",
    "    testcases = json.load(f)"
   ]
  },
  {
   "cell_type": "code",
   "execution_count": 262,
   "id": "744ba901",
   "metadata": {},
   "outputs": [],
   "source": [
    "def get_data(testcases):\n",
    "    \"\"\" Get label and lines information from testcases json. \n",
    "        Removes testcases without labels.\n",
    "    \"\"\"\n",
    "    testcases_labels_lines = {}\n",
    "    \n",
    "    c = 0\n",
    "\n",
    "    for testcase in testcases:\n",
    "        indices = []\n",
    "        labels = []\n",
    "        lines = []\n",
    "        groups = []\n",
    "        classes = []\n",
    "    \n",
    "        if \"annotationLabels\" in testcase[\"description\"]:            \n",
    "            lastline = None\n",
    "            groupindex = -1\n",
    "            last_block_id = None\n",
    "            \n",
    "            for line in testcase[\"description\"][\"annotationLabels\"]:\n",
    "                if \"blockId\" in line:\n",
    "                    if line[\"blockId\"] is not None:\n",
    "                        block_id = 1\n",
    "                        \n",
    "                        if line[\"isSecondary\"]:\n",
    "                            classes.append(\"secondary\")\n",
    "                        elif line[\"isMisleading\"]:\n",
    "                            classes.append(\"misleading\")\n",
    "                        else:\n",
    "                            classes.append(\"main\")\n",
    "                    else:\n",
    "                        block_id = 0\n",
    "                        classes.append(\"other\")\n",
    "                    \n",
    "                    \n",
    "                    if block_id != last_block_id:\n",
    "                        groupindex += 1\n",
    "                    last_block_id = block_id\n",
    "                    \n",
    "                    indices.append(line[\"lineIndex\"])\n",
    "                    labels.append(block_id)\n",
    "                    lines.append(line[\"text\"])\n",
    "                    groups.append(groupindex)\n",
    "                    \n",
    "                    \n",
    "        \n",
    "        if labels:\n",
    "            testcases_labels_lines[str(c)] = {\"indices\": indices, \n",
    "                                              \"labels\": labels,\n",
    "                                              \"lines\": lines, \n",
    "                                              \"groups\": groups, \n",
    "                                              \"classes\": classes}\n",
    "            c += 1\n",
    "\n",
    "    return testcases_labels_lines\n",
    "\n",
    "def get_df(d):\n",
    "    \"\"\" Get DataFrame of all testcases.\n",
    "    \"\"\"\n",
    "    tmp_df = None\n",
    "    for k, v in d.items():\n",
    "        df = pd.DataFrame(v)\n",
    "        df[\"relative_indices\"] = df.apply(lambda row: (row.indices+1)/(max(df.indices)+1), axis=1)\n",
    "        if tmp_df is None:\n",
    "            tmp_df = df\n",
    "        else:\n",
    "            tmp_df = tmp_df.append(df)\n",
    "            \n",
    "    return tmp_df.reset_index()"
   ]
  },
  {
   "cell_type": "code",
   "execution_count": 263,
   "id": "bd66ad9d",
   "metadata": {},
   "outputs": [
    {
     "name": "stdout",
     "output_type": "stream",
     "text": [
      "CPU times: user 153 ms, sys: 0 ns, total: 153 ms\n",
      "Wall time: 152 ms\n"
     ]
    }
   ],
   "source": [
    "%%time\n",
    "testcases_labels_lines = get_data(testcases)"
   ]
  },
  {
   "cell_type": "code",
   "execution_count": 264,
   "id": "a4564ead",
   "metadata": {},
   "outputs": [
    {
     "name": "stdout",
     "output_type": "stream",
     "text": [
      "CPU times: user 1min, sys: 0 ns, total: 1min\n",
      "Wall time: 1min\n"
     ]
    }
   ],
   "source": [
    "%%time\n",
    "### build dfs ###\n",
    "\n",
    "full_df = get_df(testcases_labels_lines)\n",
    "short_df = full_df[full_df.classes != \"other\"]\n",
    "\n",
    "def rename_blocks(s):\n",
    "    if s != \"main\":\n",
    "        s = \"not_main\"\n",
    "    return s\n",
    "bi_df = short_df.copy()\n",
    "bi_df[\"classes\"] = bi_df.apply(lambda row: rename_blocks(row.classes), axis=1)"
   ]
  },
  {
   "cell_type": "code",
   "execution_count": 265,
   "id": "84131119",
   "metadata": {},
   "outputs": [
    {
     "data": {
      "text/html": [
       "<div>\n",
       "<style scoped>\n",
       "    .dataframe tbody tr th:only-of-type {\n",
       "        vertical-align: middle;\n",
       "    }\n",
       "\n",
       "    .dataframe tbody tr th {\n",
       "        vertical-align: top;\n",
       "    }\n",
       "\n",
       "    .dataframe thead th {\n",
       "        text-align: right;\n",
       "    }\n",
       "</style>\n",
       "<table border=\"1\" class=\"dataframe\">\n",
       "  <thead>\n",
       "    <tr style=\"text-align: right;\">\n",
       "      <th></th>\n",
       "      <th>index</th>\n",
       "      <th>indices</th>\n",
       "      <th>labels</th>\n",
       "      <th>lines</th>\n",
       "      <th>groups</th>\n",
       "      <th>classes</th>\n",
       "      <th>relative_indices</th>\n",
       "    </tr>\n",
       "  </thead>\n",
       "  <tbody>\n",
       "    <tr>\n",
       "      <th>183</th>\n",
       "      <td>183</td>\n",
       "      <td>183</td>\n",
       "      <td>1</td>\n",
       "      <td>bluechip Computer AG</td>\n",
       "      <td>1</td>\n",
       "      <td>main</td>\n",
       "      <td>0.689139</td>\n",
       "    </tr>\n",
       "  </tbody>\n",
       "</table>\n",
       "</div>"
      ],
      "text/plain": [
       "     index  indices  labels                 lines  groups classes  \\\n",
       "183    183      183       1  bluechip Computer AG       1    main   \n",
       "\n",
       "     relative_indices  \n",
       "183          0.689139  "
      ]
     },
     "execution_count": 265,
     "metadata": {},
     "output_type": "execute_result"
    }
   ],
   "source": [
    "bi_df.head(1)"
   ]
  },
  {
   "cell_type": "markdown",
   "id": "82501ded",
   "metadata": {},
   "source": [
    "## Low hanging fruit attempt"
   ]
  },
  {
   "cell_type": "code",
   "execution_count": 475,
   "id": "d1340f90",
   "metadata": {},
   "outputs": [],
   "source": [
    "def grouping(lines, labels):\n",
    "    \"\"\" Groups lines by labels.\"\"\"\n",
    "    groups = []\n",
    "    \n",
    "    groupindex = None\n",
    "    last_group_id = None\n",
    "    for idx, (line, label) in enumerate(zip(lines, labels)):\n",
    "        if last_group_id is None:\n",
    "            groupindex = 0\n",
    "            last_group_id = label\n",
    "        else:\n",
    "            if label != last_group_id:\n",
    "                groupindex += 1\n",
    "            last_group_id = label\n",
    "            \n",
    "        groups.append(groupindex)\n",
    "        \n",
    "    return groups"
   ]
  },
  {
   "cell_type": "code",
   "execution_count": 476,
   "id": "0ee14fbf",
   "metadata": {},
   "outputs": [
    {
     "data": {
      "text/plain": [
       "{'a': 0, 'b': 0, 'c': 1, 'd': 2, 'e': 2, 'f': 3, 'g': 3}"
      ]
     },
     "execution_count": 476,
     "metadata": {},
     "output_type": "execute_result"
    }
   ],
   "source": [
    "dict(zip(lines, grouping(lines, labels)))"
   ]
  },
  {
   "cell_type": "code",
   "execution_count": null,
   "id": "6ec67f49",
   "metadata": {},
   "outputs": [],
   "source": []
  },
  {
   "cell_type": "code",
   "execution_count": null,
   "id": "b3b8e259",
   "metadata": {},
   "outputs": [],
   "source": []
  },
  {
   "cell_type": "code",
   "execution_count": 287,
   "id": "397368c0",
   "metadata": {},
   "outputs": [
    {
     "name": "stdout",
     "output_type": "stream",
     "text": [
      "CPU times: user 1min 14s, sys: 23.6 ms, total: 1min 14s\n",
      "Wall time: 1min 14s\n"
     ]
    }
   ],
   "source": [
    "%%time\n",
    "df = bi_df.copy()\n",
    "\n",
    "all_naive_scores = {}\n",
    "\n",
    "for group_n in range(0,20):\n",
    "    naive_score = []\n",
    "    for idx, row in bi_df.iterrows():\n",
    "        if row.groups == group_n:\n",
    "            if row.classes == \"main\":\n",
    "                naive_score.append(1)\n",
    "            else:\n",
    "                naive_score.append(0)\n",
    "    if naive_score:\n",
    "        all_naive_scores[group_n] = np.mean(naive_score)\n",
    "    else:\n",
    "        all_naive_scores[group_n] = 0"
   ]
  },
  {
   "cell_type": "code",
   "execution_count": 323,
   "id": "e97030ad",
   "metadata": {},
   "outputs": [
    {
     "data": {
      "image/png": "[encoded data removed]",
      "text/plain": [
       "<Figure size 600x400 with 1 Axes>"
      ]
     },
     "metadata": {
      "needs_background": "light"
     },
     "output_type": "display_data"
    }
   ],
   "source": [
    "fig = plt.figure(dpi=100)\n",
    "pd.DataFrame.from_dict(all_naive_scores, orient=\"index\", columns=[\"score\"]).plot(\n",
    "    title=\"Position of 'main' blocks within a page \\n(only blocks with contact informations considered)\",\n",
    "    xticks=range(0,20),\n",
    "    yticks=np.arange(0,1.05,0.05),\n",
    "    xlabel=\"Group\",\n",
    "    ylabel=\"Score\",\n",
    "    legend=False,\n",
    "    ax = plt.gca()\n",
    ")\n",
    "fig.savefig(\"main_blocks_distribution.png\", transparent=False, facecolor=\"white\")\n",
    "plt.show()"
   ]
  },
  {
   "cell_type": "code",
   "execution_count": null,
   "id": "ee4dd797",
   "metadata": {},
   "outputs": [],
   "source": []
  },
  {
   "cell_type": "code",
   "execution_count": null,
   "id": "4bf2ee97",
   "metadata": {},
   "outputs": [],
   "source": []
  },
  {
   "cell_type": "markdown",
   "id": "cf43c1ef",
   "metadata": {},
   "source": [
    "## Vectorizing"
   ]
  },
  {
   "cell_type": "code",
   "execution_count": 266,
   "id": "61f372aa",
   "metadata": {},
   "outputs": [],
   "source": [
    "def get_feature_mtx2(lines, tokenized_lines, **kwargs):\n",
    "    \"\"\" TODO \"\"\"\n",
    "    \n",
    "    # prepare feature collection, run regex_preprocessor\n",
    "    mtx = []\n",
    "    feature_names = []\n",
    "    regex_result = regex_preprocessor.process(lines, keep_line_count=True)\n",
    "\n",
    "    ### multi-dimensional features ###\n",
    "    mtx.extend(featurize.embedding_feature(lines))\n",
    "    feature_names.append(\"embedding_feature\")\n",
    "    \n",
    "    mtx.extend(featurize.regex_feature(lines, regex_result[\"occurrences\"]))\n",
    "    feature_names.append(\"regex_feature\")\n",
    "    \n",
    "    mtx.extend(featurize.list_based_feature(tokenized_lines, regex_result))\n",
    "    feature_names.append(\"list_based_feature\")\n",
    "\n",
    "    ### 1-dimensional features ###\n",
    "    mtx.append(featurize.number_of_tokens_feature(tokenized_lines))\n",
    "    feature_names.append(\"number_of_tokens\")\n",
    "    \n",
    "    mtx.append(featurize.number_of_chars_feature(lines))\n",
    "    feature_names.append(\"number_of_chars\")\n",
    "    \n",
    "    mtx.append(featurize.median_token_len_feature(tokenized_lines))\n",
    "    feature_names.append(\"median_token_len\")\n",
    "    \n",
    "    #mtx.append(featurize.linenumber_feature(lines))\n",
    "    #feature_names.append(\"linenumber\")\n",
    "    \n",
    "    for k, v in kwargs.items(): \n",
    "        feature_names.append(k)\n",
    "        mtx.append([v])\n",
    "    \n",
    "    # return list of list of features\n",
    "    return mtx, feature_names\n",
    "\n",
    "def relative_linenumber_feature():\n",
    "    return ..."
   ]
  },
  {
   "cell_type": "code",
   "execution_count": 267,
   "id": "38745aa9",
   "metadata": {},
   "outputs": [],
   "source": [
    "def extract_features(data):\n",
    "    X = []\n",
    "\n",
    "    for _, instance in data.iterrows():\n",
    "        text = instance.lines\n",
    "        lines = tokenizer.get_lines(text, keep_line_count=True)\n",
    "        tokens = tokenizer.get_words(text, keep_line_count=True)\n",
    "\n",
    "        # get feature matrix\n",
    "        feature_mtx, feature_names = get_feature_mtx2(lines, \n",
    "                                                      tokens, \n",
    "                                                      relative_indices=instance.relative_indices)\n",
    "        feature_count = len(feature_mtx)\n",
    "\n",
    "        # transpose feature matrix\n",
    "        feature_mtx = list(map(list, zip(*feature_mtx)))\n",
    "\n",
    "        X.extend(feature_mtx)\n",
    "    \n",
    "    y = data.classes\n",
    "    \n",
    "    return np.array(X, dtype=np.float32), np.array(y), feature_names"
   ]
  },
  {
   "cell_type": "code",
   "execution_count": 268,
   "id": "6f650500",
   "metadata": {},
   "outputs": [
    {
     "name": "stdout",
     "output_type": "stream",
     "text": [
      "CPU times: user 15min 19s, sys: 4.73 s, total: 15min 24s\n",
      "Wall time: 5min 42s\n"
     ]
    }
   ],
   "source": [
    "%%time\n",
    "df = full_df.copy()\n",
    "#df = short_df.copy()\n",
    "#df = bi_df.copy()\n",
    "train, test = train_test_split(df, test_size=0.2, random_state=42)\n",
    "X_train, y_train, feature_names = extract_features(train)\n",
    "X_test, y_test, _ = extract_features(test)"
   ]
  },
  {
   "cell_type": "code",
   "execution_count": 269,
   "id": "490b5d45",
   "metadata": {},
   "outputs": [
    {
     "data": {
      "text/plain": [
       "(267900, 267900)"
      ]
     },
     "execution_count": 269,
     "metadata": {},
     "output_type": "execute_result"
    }
   ],
   "source": [
    "len(X_train), len(train.classes)"
   ]
  },
  {
   "cell_type": "markdown",
   "id": "354d987d",
   "metadata": {},
   "source": [
    "## Training"
   ]
  },
  {
   "cell_type": "code",
   "execution_count": 270,
   "id": "a02daa89",
   "metadata": {},
   "outputs": [
    {
     "name": "stderr",
     "output_type": "stream",
     "text": [
      "/home/jpaulus/miniconda3/envs/data3.9/lib/python3.9/site-packages/sklearn/svm/_base.py:985: ConvergenceWarning: Liblinear failed to converge, increase the number of iterations.\n",
      "  warnings.warn(\"Liblinear failed to converge, increase \"\n"
     ]
    },
    {
     "name": "stdout",
     "output_type": "stream",
     "text": [
      "CPU times: user 13min 34s, sys: 771 ms, total: 13min 35s\n",
      "Wall time: 13min 34s\n"
     ]
    },
    {
     "data": {
      "text/plain": [
       "0.8797927615862399"
      ]
     },
     "execution_count": 270,
     "metadata": {},
     "output_type": "execute_result"
    }
   ],
   "source": [
    "%%time\n",
    "clf = LinearSVC()\n",
    "#clf = DummyClassifier()\n",
    "clf.fit(X_train, y_train)\n",
    "pred = clf.predict(X_test)\n",
    "score = accuracy_score(pred, y_test)\n",
    "score"
   ]
  },
  {
   "cell_type": "code",
   "execution_count": 271,
   "id": "f488c5af",
   "metadata": {},
   "outputs": [
    {
     "name": "stdout",
     "output_type": "stream",
     "text": [
      "CPU times: user 133 ms, sys: 0 ns, total: 133 ms\n",
      "Wall time: 130 ms\n"
     ]
    },
    {
     "data": {
      "text/plain": [
       "0.8680273530817009"
      ]
     },
     "execution_count": 271,
     "metadata": {},
     "output_type": "execute_result"
    }
   ],
   "source": [
    "%%time\n",
    "clf = DummyClassifier()\n",
    "clf.fit(X_train, y_train)\n",
    "pred = clf.predict(X_test)\n",
    "score = accuracy_score(pred, y_test)\n",
    "score"
   ]
  },
  {
   "cell_type": "code",
   "execution_count": 272,
   "id": "31c4fb32",
   "metadata": {},
   "outputs": [
    {
     "name": "stdout",
     "output_type": "stream",
     "text": [
      "CPU times: user 3min 33s, sys: 0 ns, total: 3min 33s\n",
      "Wall time: 3min 33s\n"
     ]
    },
    {
     "data": {
      "text/plain": [
       "0.8585164835164835"
      ]
     },
     "execution_count": 272,
     "metadata": {},
     "output_type": "execute_result"
    }
   ],
   "source": [
    "%%time\n",
    "clf = DecisionTreeClassifier()\n",
    "clf.fit(X_train, y_train)\n",
    "pred = clf.predict(X_test)\n",
    "score = accuracy_score(pred, y_test)\n",
    "score"
   ]
  },
  {
   "cell_type": "code",
   "execution_count": 273,
   "id": "6be3bfd9",
   "metadata": {},
   "outputs": [
    {
     "data": {
      "text/plain": [
       "{'embedding_feature': 0.001503071218453315,\n",
       " 'regex_feature': 0.0012545769679202443,\n",
       " 'list_based_feature': 0.0016094552358553494,\n",
       " 'number_of_tokens': 0.001280103259569003,\n",
       " 'number_of_chars': 0.0012366422493360902,\n",
       " 'median_token_len': 0.0014697072057908342,\n",
       " 'relative_indices': 0.0016660255793937927}"
      ]
     },
     "execution_count": 273,
     "metadata": {},
     "output_type": "execute_result"
    }
   ],
   "source": [
    "dict(zip(feature_names, clf.feature_importances_))"
   ]
  },
  {
   "cell_type": "code",
   "execution_count": 274,
   "id": "814bc778",
   "metadata": {},
   "outputs": [
    {
     "name": "stdout",
     "output_type": "stream",
     "text": [
      "CPU times: user 1h 9min 42s, sys: 1.11 s, total: 1h 9min 43s\n",
      "Wall time: 11min 39s\n"
     ]
    },
    {
     "data": {
      "text/plain": [
       "0.9089375298614429"
      ]
     },
     "execution_count": 274,
     "metadata": {},
     "output_type": "execute_result"
    }
   ],
   "source": [
    "%%time\n",
    "clf = XGBClassifier(use_label_encoder=False, eval_metric=\"logloss\")\n",
    "y_train_encoded = LabelEncoder().fit_transform(y_train)\n",
    "y_test_encoded = LabelEncoder().fit_transform(y_test)\n",
    "clf.fit(X_train, y_train_encoded)\n",
    "pred = clf.predict(X_test)\n",
    "score = accuracy_score(pred, y_test_encoded)\n",
    "score"
   ]
  },
  {
   "cell_type": "code",
   "execution_count": 275,
   "id": "da48bb6e",
   "metadata": {},
   "outputs": [
    {
     "data": {
      "text/plain": [
       "{'embedding_feature': 0.0010970044,\n",
       " 'regex_feature': 0.0025507407,\n",
       " 'list_based_feature': 0.0055626323,\n",
       " 'number_of_tokens': 0.0016366497,\n",
       " 'number_of_chars': 0.0019836244,\n",
       " 'median_token_len': 0.0020008166,\n",
       " 'relative_indices': 0.004240238}"
      ]
     },
     "execution_count": 275,
     "metadata": {},
     "output_type": "execute_result"
    }
   ],
   "source": [
    "dict(zip(feature_names, clf.feature_importances_))"
   ]
  },
  {
   "cell_type": "code",
   "execution_count": null,
   "id": "a3fe560c",
   "metadata": {},
   "outputs": [],
   "source": []
  },
  {
   "cell_type": "code",
   "execution_count": null,
   "id": "be9a49ac",
   "metadata": {},
   "outputs": [],
   "source": []
  }
 ],
 "metadata": {
  "kernelspec": {
   "display_name": "Python 3",
   "language": "python",
   "name": "python3"
  },
  "language_info": {
   "codemirror_mode": {
    "name": "ipython",
    "version": 3
   },
   "file_extension": ".py",
   "mimetype": "text/x-python",
   "name": "python",
   "nbconvert_exporter": "python",
   "pygments_lexer": "ipython3",
   "version": "3.9.5"
  }
 },
 "nbformat": 4,
 "nbformat_minor": 5
}
