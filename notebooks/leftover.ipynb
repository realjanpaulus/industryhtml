{
 "cells": [
  {
   "cell_type": "markdown",
   "metadata": {},
   "source": [
    "#  Leftover"
   ]
  },
  {
   "cell_type": "markdown",
   "metadata": {},
   "source": [
    "## IDEEN\n",
    "\n",
    "\n",
    "### HTML Klassifizierung\n",
    "\n",
    "\n",
    "- Text zusammenfassen und dann klassifizieren? Dafür auch HTML-Tags verwenden?\n",
    "- ~~HTML Struktur verwenden, um vorher **Boilerplate Content** von Main Content zu entfernen:~~\n",
    "    - ~~Plain Text ist sehr noisy (viel unnötiges drin)~~\n",
    "    - ICH: gemacht mit CLEAN HTML, aber ohne explizites Boilerplate Content Removal\n",
    "- Bestimmten Wörtern/Tags höhere Gewichtungen geben\n",
    "    - Anchor Text (= klickbarer Text in einem Hyperlink)\n",
    "        - alleine zu wenig Inhalt (QI, S. 12)\n",
    "        - umliegende Wörter interessant! (QI, S. 12)\n",
    "        - auch für Nachbar-Seiten-Ansatz\n",
    "    - Title, Headers (QI, S. 12)\n",
    "        - auch für Nachbar-Seiten-Ansatz\n",
    "    - Keywords für Branchen\n",
    "        ```python3  \n",
    "        Class_1_keywords = ['Office', 'School', 'phone', 'Technology', 'Electronics', 'Cell', 'Business', 'Education', 'Classroom']\n",
    "        \n",
    "        Class_2_keywords = ['Restaurant', 'Hospitality', 'Tub', 'Drain', 'Pool', 'Filtration', 'Floor', 'Restroom', 'Consumer', 'Care', 'Bags', 'Disposables']\n",
    "        \n",
    "        Class_3_keywords = ['Pull', 'Lifts', 'Pneumatic', 'Emergency', 'Finishing', 'Hydraulic', 'Lockout', 'Towers', 'Drywall', 'Tools', 'Packaging', 'Measure', 'Tag ']\n",
    "        ```\n",
    "- NER mit **Tags** als weitere Tokens\n",
    "- Features von \"Nachbarseiten\" verwenden\n",
    "    - Hilfreich, da mehr Infos als \"nur\" Startseite\n",
    "    - Fragen: \n",
    "        - Was sind Nachbarseiten, wie definieren?\n",
    "            - Webgraph Webseiten?\n",
    "            - Weitere Seiten des Unternehmens?\n",
    "        - Wie viele Nachbarseiten?\n",
    "        - Wieviel von den Nachbarseiten verwenden?\n",
    "            - Ganze Seite?\n",
    "            - text, title, heading, Metadaten?\n",
    "    \n",
    "- *Weiteres*:\n",
    "    - Flat classification oder Hierarchical classification?\n",
    "        - Flat: parallele Klassen\n",
    "        - Hierarchical: hierarchische Klassen, bauen aufeinander auf\n",
    "    - Nur nach bestimmten Keywords filtern? (das geht jedoch mehr Richtung PLAIN-Textclassification)\n",
    "    - \"implicit links\": Seiten, die beide bei Suche von **Suchmaschine** erschienen sind und auf die beide der User geklickt hat (QI, S. 12) &rarr; nicht wirklich realisierbar"
   ]
  },
  {
   "cell_type": "markdown",
   "metadata": {},
   "source": [
    "## Paper / Repos\n",
    "\n",
    "- **Boilerplate Removal using a Neural Sequence Labeling Model** (2020): https://arxiv.org/pdf/2004.14294.pdf\n",
    "    - Verbesserung von **Web2Text** &rarr; basiert nicht auf teuren, handgemachten Feature Engineering\n",
    "    - <u>Hypothese</u>: \"Our hypothesis is that the **order** of text blocks in a web page **encodes important information** about their type, i.e. content or boilerplate, as the placement is determined by the authoring style\"\n",
    "- **Web2Text: Deep Structured Boilerplate Removal** (2018): https://arxiv.org/pdf/1801.02607.pdf\n",
    "- **Mozillas readability**: https://github.com/mozilla/readability\n",
    "- **Webpage Classification based on Compound of Using HTML Features & URLFeatures and Features of Sibling Pages** (2010): https://www.researchgate.net/publication/220419545_Webpage_Classification_based_on_Compound_of_Using_HTML_Features_URL_Features_and_Features_of_Sibling_Pages\n",
    "    - TODO\n",
    "- **Web Page Classification: Features and Algorithms** (2009): https://www.cs.ucf.edu/~dcm/Teaching/COT4810-Fall%202012/Literature/WebPageClassification.pdf\n",
    "    - S. 7: Using On-Page Features\n",
    "        - GOLUB, ARDO (2005): title, headings, metadata, main text\n",
    "    - TODO"
   ]
  },
  {
   "cell_type": "markdown",
   "metadata": {},
   "source": [
    "### Datensatzaufbereitung\n",
    "\n",
    "- Übersetzung der Websites in einheitliche Sprache (z.b. Englisch)\n",
    "- Andere Klassenlabels?\n",
    "    - Erst allgemeinere Klassen und dann in diesen Klassen feiner klassifizieren?\n",
    "        - Von: https://towardsdatascience.com/industrial-classification-of-websites-by-machine-learning-with-hands-on-python-3761b1b530f1\n",
    "            - Technology, Office, & Education products website (Class_1)\n",
    "            - Consumer products website (Class_2)\n",
    "            - Industrial Tools and Hardware products website (Class_3)\n",
    "    - seltene Klassenlables wegwerfen?"
   ]
  },
  {
   "cell_type": "markdown",
   "metadata": {},
   "source": [
    "## Tests\n",
    "\n",
    "- Evaluation metric: **F1 Scores**\n",
    "- TF-IDF Vectorizer\n",
    "    - kein lowercase\n",
    "    - stop words werden entfernt\n",
    "    - keine max features\n",
    "- Top $n$ classes = most frequent classes\n",
    "- CLEAN HTML auch für Test Set (ansonsten unglaublich schlechte Accuracy und etwas sinnlos)\n",
    "\n",
    "\n",
    "#### Label: `group_representatives`\n",
    "\n",
    "| Experiment | KNN F1 (Precision) | LSVM F1 (Precision) |\n",
    "| ---------- |:-----:| ----:|\n",
    "| Plain Text (all samples) | **0.4295** (0.4774) | **0.6874** (0.7178) |\n",
    "| Plain HTML (all samples) | **0.1474** (0.1954) | **0.5109** (0.6139) |\n",
    "| | | |\n",
    "| Plain Text ([DE] all samples) | **0.5224** (0.5563) | **0.7209** (0.7476) |\n",
    "| Plain HTML ([DE] all samples) | **0.1515** (0.1915) | **0.5194** (0.6232) |\n",
    "| Plain Text ([DE, EN] all samples) | **0.472** (0.5258) | **0.7012** (0.7262) |\n",
    "| Plain HTML ([DE, EN] all samples) | **0.1466** (0.197) | **0.5166** (0.6211) |\n",
    "| | | |\n",
    "| Plain Text (all samples) (Top 10 classes) | **0.2059** (0.203) | **0.3024** (0.2721) |\n",
    "| Plain HTML (all samples) (Top 10 classes) | **0.0943** (0.0995) | **0.2376** (0.2323) |\n",
    "| Plain Text ([DE] all samples) (Top 10 classes) | **0.2212** (0.2036) | **0.3006** (0.2687) |\n",
    "| Plain HTML ([DE] all samples) (Top 10 classes) | **0.089** (0.0912) | **0.2231** (0.2164) |\n",
    "| | | |\n",
    "| Clean HTML (all samples)  | **0.0612** (0.0912) | **0.5086** (0.6424) |\n",
    "| Clean HTML ([DE] all samples)  | **0.0624** (0.0806) | **0.5579** (0.6607) |\n",
    "| Clean HTML ([DE, EN] all samples)  | **0.065** (0.088) | **0.5354** (0.645) |\n",
    "\n",
    "#### Label: `industry`\n",
    "\n",
    "| Experiment | KNN F1 (Precision) | LSVM F1 (Precision) |\n",
    "| ---------- |:-----:| ----:|\n",
    "| Plain Text (all samples)  | **0.3788** (0.4416) | **0.6218** (0.6423) |\n",
    "| Plain HTML (all samples)  | **0.1295** (0.1933) | **0.4589** (0.537) |\n",
    "| | | |\n",
    "| Plain Text ([DE] all samples)  | **0.4592** (0.5016) | **0.6446** (0.6591) |\n",
    "| Plain HTML ([DE] all samples)  | **0.1285** (0.1949) | **0.4574** (0.5382) |"
   ]
  },
  {
   "cell_type": "markdown",
   "metadata": {},
   "source": [
    "## Some informations about the dataset"
   ]
  },
  {
   "cell_type": "code",
   "execution_count": 1,
   "metadata": {
    "collapsed": true
   },
   "outputs": [
    {
     "name": "stdout",
     "output_type": "stream",
     "text": [
      "Most frequent countries:\n",
      "\n"
     ]
    },
    {
     "ename": "NameError",
     "evalue": "name 'train' is not defined",
     "output_type": "error",
     "traceback": [
      "\u001b[0;31m---------------------------------------------------------------------------\u001b[0m",
      "\u001b[0;31mNameError\u001b[0m                                 Traceback (most recent call last)",
      "\u001b[0;32m<ipython-input-1-8153326865cf>\u001b[0m in \u001b[0;36m<module>\u001b[0;34m\u001b[0m\n\u001b[1;32m      1\u001b[0m \u001b[0mprint\u001b[0m\u001b[0;34m(\u001b[0m\u001b[0;34m\"Most frequent countries:\\n\"\u001b[0m\u001b[0;34m)\u001b[0m\u001b[0;34m\u001b[0m\u001b[0;34m\u001b[0m\u001b[0m\n\u001b[0;32m----> 2\u001b[0;31m \u001b[0mtrain\u001b[0m\u001b[0;34m.\u001b[0m\u001b[0mcountry\u001b[0m\u001b[0;34m.\u001b[0m\u001b[0mvalue_counts\u001b[0m\u001b[0;34m(\u001b[0m\u001b[0;34m)\u001b[0m\u001b[0;34m.\u001b[0m\u001b[0mhead\u001b[0m\u001b[0;34m(\u001b[0m\u001b[0;36m5\u001b[0m\u001b[0;34m)\u001b[0m\u001b[0;34m\u001b[0m\u001b[0;34m\u001b[0m\u001b[0m\n\u001b[0m",
      "\u001b[0;31mNameError\u001b[0m: name 'train' is not defined"
     ]
    }
   ],
   "source": [
    "print(\"Most frequent countries:\\n\")\n",
    "train.country.value_counts().head(5)"
   ]
  },
  {
   "cell_type": "code",
   "execution_count": null,
   "metadata": {},
   "outputs": [],
   "source": [
    "text_percentage = train.apply(lambda row: len(row.text)/len(row.html), axis=1)\n",
    "\n",
    "print(f\"Average/mean share of actual/plain text of HTML: {np.round(np.mean(text_percentage), decimals=2)*100}%\")"
   ]
  },
  {
   "cell_type": "code",
   "execution_count": null,
   "metadata": {},
   "outputs": [],
   "source": [
    "unique_classes = list(np.unique(train[CLASS_NAMES]))\n",
    "\n",
    "print(f\"{CLASS_NAMES} ({len(unique_classes)}): \\n\")\n",
    "for idx, i in enumerate(unique_classes):\n",
    "    print(str(idx+1)+\". \"+str(i), end=\"\\t\")"
   ]
  },
  {
   "cell_type": "markdown",
   "metadata": {},
   "source": [
    "## SUBSAMPLING\n",
    "\n",
    "- Only specific language (e.g. \"DE\")\n",
    "- Only $n$ samples (e.g. 1000)\n",
    "- Stratified sampling by industry col"
   ]
  },
  {
   "cell_type": "code",
   "execution_count": null,
   "metadata": {},
   "outputs": [],
   "source": [
    "if SUBSAMPLING:\n",
    "    if USED_LANG[0] != \"ALL\":\n",
    "        train = train[train.country.isin(USED_LANG)]\n",
    "    if N_SAMPLES < train.shape[0]:\n",
    "        max_samples = N_SAMPLES\n",
    "    else:\n",
    "        max_samples = train.shape[0]\n",
    "    train = train.sample(n=max_samples, weights=CLASS_COL, random_state=1).reset_index(drop=True)\n",
    "    \n",
    "    \n",
    "unique_sampled_classes = len(train[CLASS_COL].unique())\n",
    "print(\"Count of classes (sampled train):\", unique_sampled_classes)\n",
    "print(\"Equal to original train?\", unique_sampled_classes == len(unique_classes))\n",
    "train.shape"
   ]
  },
  {
   "cell_type": "markdown",
   "metadata": {},
   "source": [
    "## USE TOP N LABELS\n",
    "\n",
    "- only use top n classes"
   ]
  },
  {
   "cell_type": "code",
   "execution_count": null,
   "metadata": {},
   "outputs": [],
   "source": [
    "if USE_TOP_LABELS:\n",
    "    top_n_classes = train[CLASS_COL].value_counts()[:TOP_N_LABELS].keys()\n",
    "    train = train[train[CLASS_COL].isin(top_n_classes)]\n",
    "    \n",
    "    unique_classes = list(np.unique(train[CLASS_NAMES]))\n",
    "\n",
    "    print(f\"{CLASS_NAMES} ({len(unique_classes)}): \\n\")\n",
    "    for idx, i in enumerate(unique_classes):\n",
    "        print(str(idx+1)+\". \"+str(i), end=\"\\t\")\n",
    "else:\n",
    "    print(\"Using all labels.\")"
   ]
  },
  {
   "cell_type": "markdown",
   "metadata": {},
   "source": [
    "# Data preprocessing (vectorizing, dimension reducing etc.)\n",
    "\n",
    "- ignore terms with a document frequency > MAX_DOCUMENT_FREQUENCY (`max_df` in TF-IDF)"
   ]
  },
  {
   "cell_type": "code",
   "execution_count": null,
   "metadata": {},
   "outputs": [],
   "source": [
    "%%time\n",
    "\n",
    "train_labels = train[CLASS_COL].values\n",
    "unique_train_labels = list(np.unique(train[CLASS_COL]))\n",
    "print(\"Count of unique classes in train set:\", len(unique_train_labels))\n",
    "print(\"Count of unique languages in train set:\", len(np.unique(train[\"country\"].values)))"
   ]
  },
  {
   "cell_type": "markdown",
   "metadata": {},
   "source": [
    "### Remove tokens with POS-Tagging"
   ]
  },
  {
   "cell_type": "code",
   "execution_count": null,
   "metadata": {},
   "outputs": [],
   "source": [
    "%%time\n",
    "\n",
    "if POS_TAGGING:\n",
    "    train_text = remove_pos(train, pos_tags=POS_TAGS)\n",
    "else:\n",
    "    train_text = train[TEXT_COL]\n",
    "    print(\"No POS TAGS are removed.\\n\")"
   ]
  },
  {
   "cell_type": "code",
   "execution_count": null,
   "metadata": {},
   "outputs": [],
   "source": [
    "%%time\n",
    "test = pd.read_csv(TEST_PATH_CSV)\n",
    "\n",
    "if SUBSAMPLING:\n",
    "    if USED_LANG[0] != \"ALL\":\n",
    "        test = test[test.country.isin(USED_LANG)]\n",
    "    test = test.sample(n=test.shape[0], weights=CLASS_COL, random_state=1).reset_index(drop=True)\n",
    "    \n",
    "\n",
    "test_vector = vectorizer.transform(test[TEXT_COL].values)\n",
    "test_labels = test[CLASS_COL].values"
   ]
  },
  {
   "cell_type": "markdown",
   "metadata": {},
   "source": [
    "# K-Nearest Neighbors"
   ]
  },
  {
   "cell_type": "code",
   "execution_count": null,
   "metadata": {},
   "outputs": [],
   "source": [
    "%%time\n",
    "print(\"K-Nearest Neighbors CLF\", \"\\n-------------------------\")\n",
    "# training\n",
    "clf = KNeighborsClassifier()\n",
    "clf.fit(train_vector, train_labels)\n",
    "\n",
    "# prediction\n",
    "train_preds = clf.predict(test_vector)\n",
    "\n",
    "# evaluation\n",
    "precision = precision_score(test_labels, train_preds, average=\"macro\", zero_division=0)\n",
    "recall = recall_score(test_labels, train_preds, average=\"macro\", zero_division=0)\n",
    "f1 = f1_score(test_labels, train_preds, average=\"macro\", zero_division=0)\n",
    "clf1_f1 = np.round(f1, decimals=4)\n",
    "clf1_precision = np.round(precision, decimals=4)\n",
    "\n",
    "print(np.round(precision, decimals=4), \"\\tPrecision\")\n",
    "print(np.round(recall, decimals=4), \"\\tRecall\")\n",
    "print(np.round(f1, decimals=4), \"\\tF1\")\n",
    "print()\n",
    "\n",
    "clf_report = classification_report(test_labels, \n",
    "                                   train_preds, \n",
    "                                   target_names = np.unique(test[CLASS_NAMES]), \n",
    "                                   zero_division = 0)"
   ]
  },
  {
   "cell_type": "code",
   "execution_count": null,
   "metadata": {},
   "outputs": [],
   "source": [
    "result = \"| \"\n",
    "\n",
    "if TEXT_COL == \"text\":\n",
    "    result += \"Plain Text\"\n",
    "else:\n",
    "    result += \"HTML\"\n",
    "    \n",
    "result += \" (\"\n",
    "    \n",
    "if SUBSAMPLING:\n",
    "    result += \"[\" + \", \".join(USED_LANG) + \"]\"\n",
    "    if N_SAMPLES < train.shape[0]:\n",
    "        result += f\" {N_SAMPLES} samples\"\n",
    "    else:\n",
    "        result += \" all samples\"\n",
    "else:\n",
    "    result += \"all samples\"\n",
    "    \n",
    "result += \") \"\n",
    "\n",
    "if USE_TOP_LABELS:\n",
    "    result += f\"(Top {TOP_N_LABELS} classes)\"\n",
    "        \n",
    "result += f\" | **{clf1_f1}** ({clf1_precision}) | **{clf2_f1}** ({clf2_precision}) |\"\n",
    "print(CLASS_COL)\n",
    "print()\n",
    "print(result)"
   ]
  },
  {
   "cell_type": "markdown",
   "metadata": {},
   "source": [
    "### About us"
   ]
  },
  {
   "cell_type": "code",
   "execution_count": 1,
   "metadata": {},
   "outputs": [
    {
     "ename": "NameError",
     "evalue": "name 'train' is not defined",
     "output_type": "error",
     "traceback": [
      "\u001b[0;31m---------------------------------------------------------------------------\u001b[0m",
      "\u001b[0;31mNameError\u001b[0m                                 Traceback (most recent call last)",
      "\u001b[0;32m<ipython-input-1-01b64160d87c>\u001b[0m in \u001b[0;36m<module>\u001b[0;34m\u001b[0m\n\u001b[1;32m     10\u001b[0m               'title=\"uebe\"']\n\u001b[1;32m     11\u001b[0m \u001b[0mabout_html\u001b[0m \u001b[0;34m=\u001b[0m \u001b[0;34m[\u001b[0m\u001b[0;34m\"us.htm\"\u001b[0m\u001b[0;34m]\u001b[0m\u001b[0;34m\u001b[0m\u001b[0;34m\u001b[0m\u001b[0m\n\u001b[0;32m---> 12\u001b[0;31m \u001b[0;32mfor\u001b[0m \u001b[0midx\u001b[0m\u001b[0;34m,\u001b[0m \u001b[0mrow\u001b[0m \u001b[0;32min\u001b[0m \u001b[0mtrain\u001b[0m\u001b[0;34m.\u001b[0m\u001b[0miterrows\u001b[0m\u001b[0;34m(\u001b[0m\u001b[0;34m)\u001b[0m\u001b[0;34m:\u001b[0m\u001b[0;34m\u001b[0m\u001b[0;34m\u001b[0m\u001b[0m\n\u001b[0m\u001b[1;32m     13\u001b[0m     \u001b[0;32mfor\u001b[0m \u001b[0melement\u001b[0m \u001b[0;32min\u001b[0m \u001b[0mabout_html\u001b[0m\u001b[0;34m:\u001b[0m\u001b[0;34m\u001b[0m\u001b[0;34m\u001b[0m\u001b[0m\n\u001b[1;32m     14\u001b[0m         \u001b[0;32mif\u001b[0m \u001b[0melement\u001b[0m \u001b[0;32min\u001b[0m \u001b[0mrow\u001b[0m\u001b[0;34m[\u001b[0m\u001b[0;34m\"html\"\u001b[0m\u001b[0;34m]\u001b[0m\u001b[0;34m.\u001b[0m\u001b[0mlower\u001b[0m\u001b[0;34m(\u001b[0m\u001b[0;34m)\u001b[0m\u001b[0;34m:\u001b[0m\u001b[0;34m\u001b[0m\u001b[0;34m\u001b[0m\u001b[0m\n",
      "\u001b[0;31mNameError\u001b[0m: name 'train' is not defined"
     ]
    }
   ],
   "source": [
    "### about us html seiten ###\n",
    "\n",
    "indices = []\n",
    "about_html = [\"ueber-uns.htm\", \n",
    "              \"about.htm\", \n",
    "              \"team.htm\", \n",
    "              \"us.htm\", \n",
    "              'title=\"abo\"', \n",
    "              'title=\"tea\"', \n",
    "              'title=\"uebe\"']\n",
    "about_html = [\"us.htm\"]\n",
    "for idx, row in train.iterrows():\n",
    "    for element in about_html:\n",
    "        if element in row[\"html\"].lower():\n",
    "            indices.append(idx)\n",
    "            \n",
    "indices = list(set(indices))\n",
    "\n",
    "for idx in indices:\n",
    "    about_idx = train.iloc[idx].html.find(\"ueber-uns.html\")\n",
    "    print(train.iloc[idx].html[about_idx-50:about_idx + 50])\n",
    "    #print(train.iloc[idx].html)"
   ]
  },
  {
   "cell_type": "code",
   "execution_count": null,
   "metadata": {},
   "outputs": [],
   "source": []
  }
 ],
 "metadata": {
  "kernelspec": {
   "display_name": "Python 3",
   "language": "python",
   "name": "python3"
  },
  "language_info": {
   "codemirror_mode": {
    "name": "ipython",
    "version": 3
   },
   "file_extension": ".py",
   "mimetype": "text/x-python",
   "name": "python",
   "nbconvert_exporter": "python",
   "pygments_lexer": "ipython3",
   "version": "3.7.7"
  }
 },
 "nbformat": 4,
 "nbformat_minor": 5
}
