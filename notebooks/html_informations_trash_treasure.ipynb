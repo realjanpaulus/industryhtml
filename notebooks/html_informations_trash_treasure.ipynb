{
 "cells": [
  {
   "cell_type": "markdown",
   "metadata": {},
   "source": [
    "# HTML Informations: Trash or treasure?\n",
    "\n",
    "## Übersicht\n",
    "\n",
    "[1. Grundidee](#1)<br>\n",
    "[2. Forschungsstand (HASHEMI, 2020)](#2)<br>\n",
    "[3. Ansätze](#3)<br>\n",
    "[4. Pipeline](#4)<br>"
   ]
  },
  {
   "cell_type": "markdown",
   "metadata": {},
   "source": [
    "## 1. Grundidee <a class=\"anchor\" id=\"1\"/>\n",
    "\n",
    "- <u>Aktuell</u>: Textklassifizierung von Industries (multi-class)\n",
    "- Aktuelle Trainingsgrundlage (plain text + title aus MetaDaten (wenn vorhanden)):\n",
    "    ```python3\n",
    "    'Home\\n\\nMenü\\n\\n\\nShop\\nHome\\nProdukte\\nOur Story\\nReferenzen\\nTechnologie\\nDokumente\\nKontakt\\nFAQ\\nBlog\\n\\n\\nTelefon: +49 (0)9805 933 43 50\\n\\nMenü\\n\\n\\nShop\\nHome\\nProdukte\\nOur Story\\nReferenzen\\nTechnologie\\nDokumente\\nKontakt\\nFAQ\\nBlog\\n\\n\\nEst.\\n\\n2010\\n\\nActive Balancing\\n\\nGeben Sie sich bei Ihrem Stromspeicher nicht mit weniger zufrieden:\\nHoher Wirkungsgrad und längere Lebensdauer\\nerreichen Sie mit unsereR Active Balancing Technologie...'\n",
    "    ```\n",
    "- **Fragestellung**: HTML Informationen nützlich für Klassifizierung von Industries?\n",
    "    - <u>These</u>: Viele (potentiell) nützliche Informationen fallen weg\n",
    "    - <u>Neue Trainingsgrundlage</u>: Plain Text + **HTML Informationen**\n",
    "    - Was verwenden?\n",
    "        - primär strukturelles Markup\n",
    "        - keine visuellen Informationen/Ansätze\n",
    "    - Fragestellungen: \n",
    "        - <u>Welche</u> Informationen sind relevant? \n",
    "        - Was ist <u>Boilerplate</u>? \n",
    "        - Was hilft <u>nicht</u> bei der Klassifizierung?\n",
    "        - Welche <u>Evalutionsmetriken</u> hilfreich?\n",
    "- HTML Seite:\n",
    "\n",
    "<div>\n",
    "   <img src=\"img/html_page.PNG\" width=\"600\">\n",
    "</div>\n",
    "  "
   ]
  },
  {
   "cell_type": "markdown",
   "metadata": {},
   "source": [
    "## 2. Forschungsstand (HASHEMI, 2020) <a class=\"anchor\" id=\"2\"/>\n",
    "\n",
    "1. **Metadaten** und **kontextuelle Informationen**, die die Terme umgeben, werden bei der Klassifizierung von Textinhalten meist ignoriert\n",
    "2. die **Struktur und Verteilung von Text in HTML-Tags und Hyperlinks** wurde bei der Klassifikation von Textinhalten noch nicht ausreichend untersucht\n",
    "3. die Messung der **Effektivität von Features** bei der Unterscheidung zwischen Webseiten-Klassen oder die Messung des Beitrags jedes Features zur Klassifizierungsgenauigkeit ist eine bedeutende Forschungslücke\n",
    "\n",
    "<div>\n",
    "   <img src=\"img/research_state.PNG\" width=\"600\">\n",
    "</div>"
   ]
  },
  {
   "cell_type": "markdown",
   "metadata": {},
   "source": [
    "## 3. Ansätze <a class=\"anchor\" id=\"3\"/>\n",
    "\n",
    "#### 3.1. Informationen aus `<meta>`-Elementen verwenden\n",
    "\n",
    "- Welche?\n",
    "    - `keywords`, `description`\n",
    "    - eigentlich auch `title`, ist jedoch schon im Plain Text\n",
    "- Warum?\n",
    "    - reich an Informationen\n",
    "    - kurz und knapp\n",
    "- Wie?\n",
    "    - Plain Text + Plain Text von `<meta>`-Elementen\n",
    "    - (*Clean HTML + Plain Text von `<meta>`-Elementen*)\n",
    "\n",
    "#### 3.2. Nur ausgewählte Inhalte von HTML-Elemente beibehalten\n",
    "\n",
    "- Welche?\n",
    "    - `<title>`\n",
    "    - `<h1>`, `<h2>`, `<h3>`\n",
    "    - `<b>`, `<strong>`, `<em>`, `<i>`\n",
    "    - `<p>`\n",
    "    - `<a>`\n",
    "    - `<li>`\n",
    "- Warum?\n",
    "    - informationstragende Elemente\n",
    "    - nach:\n",
    "        - ÖZEL 2011: \"A web page classification system based on a genetic algorithm using tagged-terms as features\"\n",
    "        - LEE 2015: \"Web page classification based on a simplified swarm optimization.\"\n",
    "        - **These**: \"\\[...\\] Beobachtungen zeigen, dass die meisten der wichtigen domänenspezifischen Begriffe unter diesen Tags erscheinen \\[...\\]\"\n",
    "- Wie?\n",
    "    - Plain Text ohne Textinhalte aus anderen Elementen\n",
    "    - Plain Text + die Textinhalte aus den anderen Elementen\n",
    "    - (*Clean HTML ohne Textinhalte aus anderen Elementen*)\n",
    "\n",
    "#### 3.3. Anchor Text und Nachbarn hervorheben\n",
    "\n",
    "- Welche?\n",
    "    - Anchor Text (= klickbarer Text in einem Hyperlink) und Nachbarn extrahieren\n",
    "    - About Webseiten?\n",
    "- Warum?\n",
    "    - mehr Features, mehr Informationen?\n",
    "- Wie?\n",
    "    - Plain Text Startseite + Plain Text Nachbarseite\n",
    "- Offene Fragen: \n",
    "    - Was sind Nachbarseiten, wie definieren?\n",
    "        - Webgraph Webseiten?\n",
    "        - Weitere Seiten des Unternehmens?\n",
    "    - Wie viele Nachbarseiten?\n",
    "    - Wieviel von den Nachbarseiten verwenden?\n",
    "        - Ganze Seite?\n",
    "        - text, title, heading, Metadaten?\n",
    "        \n",
    "#### 3.4. Weitere Ideen\n",
    "\n",
    "- NER zusammen mit anderen Ansätzen verwenden\n",
    "- *Keywords für Branchen mit einbeziehen &rarr; schwierig aufgrund der Multilingualität*\n",
    "- *Probability Ansätze verwenden*\n",
    "- *RNN's?*"
   ]
  },
  {
   "cell_type": "markdown",
   "metadata": {},
   "source": [
    "## 4. Pipeline <a class=\"anchor\" id=\"4\"/>\n",
    "\n",
    "`group_representative_label` hinzufügen<br>\n",
    "&nbsp;&nbsp;  &dArr;<br>\n",
    "`<meta>` Elemente extrahieren und als eigene Column<br>\n",
    "&nbsp;&nbsp;  &dArr;<br>\n",
    "`chtml` (= clean html) Column erstellen (ohne Boilerplate HTML, ohne Meta Informationen)<br>\n",
    "&nbsp;&nbsp;  &dArr;<br>\n",
    "Plain Text mit HTML Informationen anreichern<br>\n",
    "&nbsp;&nbsp;  &dArr;<br>\n",
    "Train-Test-Split<br>\n",
    "&nbsp;&nbsp;  &dArr;<br>\n",
    "Vektorisierung von `train` mit TF-IDF<br>\n",
    "&nbsp;&nbsp;  &dArr;<br>\n",
    "Klassifizierung<br>\n",
    "&nbsp;&nbsp;  &dArr;<br>\n",
    "Evaluation"
   ]
  },
  {
   "cell_type": "code",
   "execution_count": null,
   "metadata": {},
   "outputs": [],
   "source": []
  }
 ],
 "metadata": {
  "kernelspec": {
   "display_name": "Python 3",
   "language": "python",
   "name": "python3"
  },
  "language_info": {
   "codemirror_mode": {
    "name": "ipython",
    "version": 3
   },
   "file_extension": ".py",
   "mimetype": "text/x-python",
   "name": "python",
   "nbconvert_exporter": "python",
   "pygments_lexer": "ipython3",
   "version": "3.7.7"
  }
 },
 "nbformat": 4,
 "nbformat_minor": 4
}
