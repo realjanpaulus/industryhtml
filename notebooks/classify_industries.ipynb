{
 "cells": [
  {
   "cell_type": "markdown",
   "metadata": {},
   "source": [
    "# Classify Industries with HTML information"
   ]
  },
  {
   "cell_type": "code",
   "execution_count": 1,
   "metadata": {},
   "outputs": [],
   "source": [
    "import matplotlib.pyplot as plt\n",
    "import numpy as np\n",
    "import pandas as pd\n",
    "import seaborn as sns\n",
    "\n",
    "# sklearn classification\n",
    "from sklearn.linear_model import SGDClassifier\n",
    "from sklearn.svm import LinearSVC\n",
    "\n",
    "# sklearn general\n",
    "from sklearn.feature_extraction.text import CountVectorizer, TfidfTransformer, TfidfVectorizer\n",
    "from sklearn.metrics import (confusion_matrix, \n",
    "                             classification_report, \n",
    "                             f1_score, \n",
    "                             precision_score,\n",
    "                             recall_score)\n",
    "from sklearn.pipeline import Pipeline\n",
    "from sklearn.preprocessing import LabelEncoder\n",
    "\n",
    "\n",
    "from stop_words import get_stop_words\n",
    "import ujson as json\n",
    "\n",
    "\n",
    "import sys\n",
    "import os\n",
    "\n",
    "module_path = os.path.abspath(os.path.join('..'))\n",
    "if module_path not in sys.path:\n",
    "    sys.path.append(module_path)\n",
    "\n",
    "from app.utils import (clean_boilerplate, \n",
    "                       clean_string,\n",
    "                       clean_website, \n",
    "                       detect_XML, \n",
    "                       extract_meta_informations,\n",
    "                       reduce_whitespace,\n",
    "                       remove_special_characters,\n",
    "                       remove_tags, \n",
    "                       tokenizing_html, \n",
    "                       trim_html)"
   ]
  },
  {
   "cell_type": "code",
   "execution_count": 2,
   "metadata": {
    "collapsed": true
   },
   "outputs": [
    {
     "ename": "FileNotFoundError",
     "evalue": "[Errno 2] File ../data/ctrain.csv does not exist: '../data/ctrain.csv'",
     "output_type": "error",
     "traceback": [
      "\u001b[0;31m---------------------------------------------------------------------------\u001b[0m",
      "\u001b[0;31mFileNotFoundError\u001b[0m                         Traceback (most recent call last)",
      "\u001b[0;32m<timed exec>\u001b[0m in \u001b[0;36m<module>\u001b[0;34m\u001b[0m\n",
      "\u001b[0;32m~/anaconda3/lib/python3.7/site-packages/pandas/io/parsers.py\u001b[0m in \u001b[0;36mparser_f\u001b[0;34m(filepath_or_buffer, sep, delimiter, header, names, index_col, usecols, squeeze, prefix, mangle_dupe_cols, dtype, engine, converters, true_values, false_values, skipinitialspace, skiprows, skipfooter, nrows, na_values, keep_default_na, na_filter, verbose, skip_blank_lines, parse_dates, infer_datetime_format, keep_date_col, date_parser, dayfirst, cache_dates, iterator, chunksize, compression, thousands, decimal, lineterminator, quotechar, quoting, doublequote, escapechar, comment, encoding, dialect, error_bad_lines, warn_bad_lines, delim_whitespace, low_memory, memory_map, float_precision)\u001b[0m\n\u001b[1;32m    674\u001b[0m         )\n\u001b[1;32m    675\u001b[0m \u001b[0;34m\u001b[0m\u001b[0m\n\u001b[0;32m--> 676\u001b[0;31m         \u001b[0;32mreturn\u001b[0m \u001b[0m_read\u001b[0m\u001b[0;34m(\u001b[0m\u001b[0mfilepath_or_buffer\u001b[0m\u001b[0;34m,\u001b[0m \u001b[0mkwds\u001b[0m\u001b[0;34m)\u001b[0m\u001b[0;34m\u001b[0m\u001b[0;34m\u001b[0m\u001b[0m\n\u001b[0m\u001b[1;32m    677\u001b[0m \u001b[0;34m\u001b[0m\u001b[0m\n\u001b[1;32m    678\u001b[0m     \u001b[0mparser_f\u001b[0m\u001b[0;34m.\u001b[0m\u001b[0m__name__\u001b[0m \u001b[0;34m=\u001b[0m \u001b[0mname\u001b[0m\u001b[0;34m\u001b[0m\u001b[0;34m\u001b[0m\u001b[0m\n",
      "\u001b[0;32m~/anaconda3/lib/python3.7/site-packages/pandas/io/parsers.py\u001b[0m in \u001b[0;36m_read\u001b[0;34m(filepath_or_buffer, kwds)\u001b[0m\n\u001b[1;32m    446\u001b[0m \u001b[0;34m\u001b[0m\u001b[0m\n\u001b[1;32m    447\u001b[0m     \u001b[0;31m# Create the parser.\u001b[0m\u001b[0;34m\u001b[0m\u001b[0;34m\u001b[0m\u001b[0;34m\u001b[0m\u001b[0m\n\u001b[0;32m--> 448\u001b[0;31m     \u001b[0mparser\u001b[0m \u001b[0;34m=\u001b[0m \u001b[0mTextFileReader\u001b[0m\u001b[0;34m(\u001b[0m\u001b[0mfp_or_buf\u001b[0m\u001b[0;34m,\u001b[0m \u001b[0;34m**\u001b[0m\u001b[0mkwds\u001b[0m\u001b[0;34m)\u001b[0m\u001b[0;34m\u001b[0m\u001b[0;34m\u001b[0m\u001b[0m\n\u001b[0m\u001b[1;32m    449\u001b[0m \u001b[0;34m\u001b[0m\u001b[0m\n\u001b[1;32m    450\u001b[0m     \u001b[0;32mif\u001b[0m \u001b[0mchunksize\u001b[0m \u001b[0;32mor\u001b[0m \u001b[0miterator\u001b[0m\u001b[0;34m:\u001b[0m\u001b[0;34m\u001b[0m\u001b[0;34m\u001b[0m\u001b[0m\n",
      "\u001b[0;32m~/anaconda3/lib/python3.7/site-packages/pandas/io/parsers.py\u001b[0m in \u001b[0;36m__init__\u001b[0;34m(self, f, engine, **kwds)\u001b[0m\n\u001b[1;32m    878\u001b[0m             \u001b[0mself\u001b[0m\u001b[0;34m.\u001b[0m\u001b[0moptions\u001b[0m\u001b[0;34m[\u001b[0m\u001b[0;34m\"has_index_names\"\u001b[0m\u001b[0;34m]\u001b[0m \u001b[0;34m=\u001b[0m \u001b[0mkwds\u001b[0m\u001b[0;34m[\u001b[0m\u001b[0;34m\"has_index_names\"\u001b[0m\u001b[0;34m]\u001b[0m\u001b[0;34m\u001b[0m\u001b[0;34m\u001b[0m\u001b[0m\n\u001b[1;32m    879\u001b[0m \u001b[0;34m\u001b[0m\u001b[0m\n\u001b[0;32m--> 880\u001b[0;31m         \u001b[0mself\u001b[0m\u001b[0;34m.\u001b[0m\u001b[0m_make_engine\u001b[0m\u001b[0;34m(\u001b[0m\u001b[0mself\u001b[0m\u001b[0;34m.\u001b[0m\u001b[0mengine\u001b[0m\u001b[0;34m)\u001b[0m\u001b[0;34m\u001b[0m\u001b[0;34m\u001b[0m\u001b[0m\n\u001b[0m\u001b[1;32m    881\u001b[0m \u001b[0;34m\u001b[0m\u001b[0m\n\u001b[1;32m    882\u001b[0m     \u001b[0;32mdef\u001b[0m \u001b[0mclose\u001b[0m\u001b[0;34m(\u001b[0m\u001b[0mself\u001b[0m\u001b[0;34m)\u001b[0m\u001b[0;34m:\u001b[0m\u001b[0;34m\u001b[0m\u001b[0;34m\u001b[0m\u001b[0m\n",
      "\u001b[0;32m~/anaconda3/lib/python3.7/site-packages/pandas/io/parsers.py\u001b[0m in \u001b[0;36m_make_engine\u001b[0;34m(self, engine)\u001b[0m\n\u001b[1;32m   1112\u001b[0m     \u001b[0;32mdef\u001b[0m \u001b[0m_make_engine\u001b[0m\u001b[0;34m(\u001b[0m\u001b[0mself\u001b[0m\u001b[0;34m,\u001b[0m \u001b[0mengine\u001b[0m\u001b[0;34m=\u001b[0m\u001b[0;34m\"c\"\u001b[0m\u001b[0;34m)\u001b[0m\u001b[0;34m:\u001b[0m\u001b[0;34m\u001b[0m\u001b[0;34m\u001b[0m\u001b[0m\n\u001b[1;32m   1113\u001b[0m         \u001b[0;32mif\u001b[0m \u001b[0mengine\u001b[0m \u001b[0;34m==\u001b[0m \u001b[0;34m\"c\"\u001b[0m\u001b[0;34m:\u001b[0m\u001b[0;34m\u001b[0m\u001b[0;34m\u001b[0m\u001b[0m\n\u001b[0;32m-> 1114\u001b[0;31m             \u001b[0mself\u001b[0m\u001b[0;34m.\u001b[0m\u001b[0m_engine\u001b[0m \u001b[0;34m=\u001b[0m \u001b[0mCParserWrapper\u001b[0m\u001b[0;34m(\u001b[0m\u001b[0mself\u001b[0m\u001b[0;34m.\u001b[0m\u001b[0mf\u001b[0m\u001b[0;34m,\u001b[0m \u001b[0;34m**\u001b[0m\u001b[0mself\u001b[0m\u001b[0;34m.\u001b[0m\u001b[0moptions\u001b[0m\u001b[0;34m)\u001b[0m\u001b[0;34m\u001b[0m\u001b[0;34m\u001b[0m\u001b[0m\n\u001b[0m\u001b[1;32m   1115\u001b[0m         \u001b[0;32melse\u001b[0m\u001b[0;34m:\u001b[0m\u001b[0;34m\u001b[0m\u001b[0;34m\u001b[0m\u001b[0m\n\u001b[1;32m   1116\u001b[0m             \u001b[0;32mif\u001b[0m \u001b[0mengine\u001b[0m \u001b[0;34m==\u001b[0m \u001b[0;34m\"python\"\u001b[0m\u001b[0;34m:\u001b[0m\u001b[0;34m\u001b[0m\u001b[0;34m\u001b[0m\u001b[0m\n",
      "\u001b[0;32m~/anaconda3/lib/python3.7/site-packages/pandas/io/parsers.py\u001b[0m in \u001b[0;36m__init__\u001b[0;34m(self, src, **kwds)\u001b[0m\n\u001b[1;32m   1889\u001b[0m         \u001b[0mkwds\u001b[0m\u001b[0;34m[\u001b[0m\u001b[0;34m\"usecols\"\u001b[0m\u001b[0;34m]\u001b[0m \u001b[0;34m=\u001b[0m \u001b[0mself\u001b[0m\u001b[0;34m.\u001b[0m\u001b[0musecols\u001b[0m\u001b[0;34m\u001b[0m\u001b[0;34m\u001b[0m\u001b[0m\n\u001b[1;32m   1890\u001b[0m \u001b[0;34m\u001b[0m\u001b[0m\n\u001b[0;32m-> 1891\u001b[0;31m         \u001b[0mself\u001b[0m\u001b[0;34m.\u001b[0m\u001b[0m_reader\u001b[0m \u001b[0;34m=\u001b[0m \u001b[0mparsers\u001b[0m\u001b[0;34m.\u001b[0m\u001b[0mTextReader\u001b[0m\u001b[0;34m(\u001b[0m\u001b[0msrc\u001b[0m\u001b[0;34m,\u001b[0m \u001b[0;34m**\u001b[0m\u001b[0mkwds\u001b[0m\u001b[0;34m)\u001b[0m\u001b[0;34m\u001b[0m\u001b[0;34m\u001b[0m\u001b[0m\n\u001b[0m\u001b[1;32m   1892\u001b[0m         \u001b[0mself\u001b[0m\u001b[0;34m.\u001b[0m\u001b[0munnamed_cols\u001b[0m \u001b[0;34m=\u001b[0m \u001b[0mself\u001b[0m\u001b[0;34m.\u001b[0m\u001b[0m_reader\u001b[0m\u001b[0;34m.\u001b[0m\u001b[0munnamed_cols\u001b[0m\u001b[0;34m\u001b[0m\u001b[0;34m\u001b[0m\u001b[0m\n\u001b[1;32m   1893\u001b[0m \u001b[0;34m\u001b[0m\u001b[0m\n",
      "\u001b[0;32mpandas/_libs/parsers.pyx\u001b[0m in \u001b[0;36mpandas._libs.parsers.TextReader.__cinit__\u001b[0;34m()\u001b[0m\n",
      "\u001b[0;32mpandas/_libs/parsers.pyx\u001b[0m in \u001b[0;36mpandas._libs.parsers.TextReader._setup_parser_source\u001b[0;34m()\u001b[0m\n",
      "\u001b[0;31mFileNotFoundError\u001b[0m: [Errno 2] File ../data/ctrain.csv does not exist: '../data/ctrain.csv'"
     ]
    }
   ],
   "source": [
    "%%time\n",
    "train = pd.read_csv(\"../data/ctrain.csv\", nrows=10000)\n",
    "train = train.fillna(\"\")\n",
    "train.head(1)"
   ]
  },
  {
   "cell_type": "code",
   "execution_count": 41,
   "metadata": {
    "collapsed": true
   },
   "outputs": [
    {
     "name": "stdout",
     "output_type": "stream",
     "text": [
      "LSVM CLF \n",
      "-------------------------\n",
      "0.6048 \tPrecision\n",
      "0.358 \tRecall\n",
      "0.4111 \tF1\n",
      "\n",
      "CPU times: user 2.72 s, sys: 28.9 ms, total: 2.75 s\n",
      "Wall time: 2.75 s\n"
     ]
    }
   ],
   "source": [
    "%%time\n",
    "\n",
    "TEXT_COL = \"text\"\n",
    "CLASS_COL = \"group_representative\"\n",
    "\n",
    "train_text = train[TEXT_COL] + train[\"meta\"]\n",
    "train_labels = train[CLASS_COL].values\n",
    "\n",
    "vectorizer = CountVectorizer(max_df=MAX_DOCUMENT_FREQUENCY,\n",
    "                             lowercase=LOWERCASE,\n",
    "                             max_features=MAX_FEATURES,\n",
    "                             ngram_range=NGRAM_RANGE,\n",
    "                             stop_words=STOP_WORDS,\n",
    "                            tokenizer=tokenizing_html)\n",
    "transformer = TfidfTransformer()\n",
    "\n",
    "vector = vectorizer.fit_transform(train_text)\n",
    "train_vector = transformer.fit_transform(vector)\n",
    "\n",
    "\n",
    "test = pd.read_csv(TEST_PATH_CSV)\n",
    "    \n",
    "test_vector = vectorizer.transform(test[TEXT_COL].values)\n",
    "test_vector = transformer.transform(test_vector)\n",
    "test_labels = test[CLASS_COL].values\n",
    "\n",
    "\n",
    "print(\"LSVM CLF\", \"\\n-------------------------\")\n",
    "# training\n",
    "clf = LinearSVC()\n",
    "clf.fit(train_vector, train_labels)\n",
    "\n",
    "# prediction\n",
    "train_preds = clf.predict(test_vector)\n",
    "\n",
    "# evaluation\n",
    "precision = precision_score(test_labels, train_preds, average=\"macro\", zero_division=0)\n",
    "recall = recall_score(test_labels, train_preds, average=\"macro\", zero_division=0)\n",
    "f1 = f1_score(test_labels, train_preds, average=\"macro\", zero_division=0)\n",
    "clf2_f1 = np.round(f1, decimals=4)\n",
    "clf2_precision = np.round(precision, decimals=4)\n",
    "\n",
    "print(np.round(precision, decimals=4), \"\\tPrecision\")\n",
    "print(np.round(recall, decimals=4), \"\\tRecall\")\n",
    "print(np.round(f1, decimals=4), \"\\tF1\")\n",
    "print()\n",
    "\n",
    "clf2_report = classification_report(test_labels, \n",
    "                                   train_preds, \n",
    "                                   target_names = np.unique(test[CLASS_NAMES]),\n",
    "                                   zero_division = 0)"
   ]
  },
  {
   "cell_type": "code",
   "execution_count": 40,
   "metadata": {},
   "outputs": [
    {
     "data": {
      "text/plain": [
       "'Für Unternehmen, Agenturen und Entwickler » Online Marketing Beratung & Optimierung: SEO, Social-Media, Online-Werbung, Webentwicklung ➥ Alle Infos hier!'"
      ]
     },
     "execution_count": 40,
     "metadata": {},
     "output_type": "execute_result"
    }
   ],
   "source": [
    "train.meta.iloc[1]"
   ]
  },
  {
   "cell_type": "code",
   "execution_count": 39,
   "metadata": {
    "collapsed": true
   },
   "outputs": [
    {
     "data": {
      "text/plain": [
       "'STENLE ⇗ Online Marketing für Unternehmen und Agenturen\\n\\nHome\\nWeb Analytics\\n\\nBran\\xadchen\\xadum\\xadfeld – Analyse\\nSEO Ran\\xadking\\xadana\\xadlyse\\nOffpage-SEO Analyse\\nWett\\xadbe\\xadwerber Analyse\\n\\n\\nOnline Marketing\\nWeb-Entwicklung\\nRund um SEO\\nSTENLE GmbH\\nKontakt\\n\\n\\nOnline-Mar\\xadke\\xadting\\nOptimierung\\n\\nOnline Mar\\xadke\\xadting Beratung\\n\\nOnline\\xadmarkt-For\\xadschung\\n\\nWeb-Ent\\xadwick\\xadlungen\\n\\nHilfe bei\\n\\nKun\\xadden\\xadzu\\xadfie\\xadden\\xadheit\\n\\nWarum mit STENLE?\\n\\nHilfe bei\\n\\nKun\\xadden\\xadzu\\xadfie\\xadden\\xadheit\\n\\nWarum mit STENLE?\\n\\nKun\\xadden\\xadser\\xadvice\\n\\n★★★★★ 4,82 von 5\\n\\nSorgfalt\\n\\n★★★★★ 5,00 von 5\\n\\nZusatz\\xadleis\\xadtungen\\n\\n★★★★★ 5,00 von 5\\n\\nFle\\xadxi\\xadbi\\xadlität\\n\\n★★★★★ 5,00 von 5\\n\\nErrei\\xadchen Sie Ihre Ziele mit  STENLE\\n\\nSebas\\xadtian Dietz\\n\\nImmer wieder sprechen Inter\\xades\\xadsenten in unseren Erst\\xadge\\xadsprä\\xadchen von einem Gefühl der Ori\\xaden\\xadtie\\xadrungs\\xadlo\\xadsig\\xadkeit bei der Auswahl des rich\\xadtigen Partners im Online Mar\\xadke\\xadting, weil Leis\\xadtungen und Maß\\xadnahmen für Unter\\xadnehmen oft nicht sichtbar sind.\\n\\nGrößte Unzu\\xadfrie\\xadden\\xadheit entsteht den Berichten zufolge, wenn Erfolge ver\\xadspro\\xadchen jedoch nicht ein\\xadge\\xadhalten werden konnten.\\n\\nVor allem wenn nicht genau nach\\xadweisbar ist, wie es dazu kam und was aus diesen Erkennt\\xadnissen heraus in Zukunft besser gemacht werden kann.\\n\\nWeil wir Ihren Ver\\xadtrau\\xadens\\xadvor\\xadschuss zu schätzen wissen steht unsere Arbeit stets auf diesen vier Grund\\xadpfei\\xadlern, um Ihre Gefühle der Unsi\\xadcher\\xadheit so gut wie möglich zu vermeiden!\\n\\nMehr über uns erfahren\\n\\n\\n» Trans\\xadpa\\xadrent\\n\\nIn allen Arbeits\\xadschritten werden für Sie detail\\xadlierte Berichte und Pro\\xadto\\xadkolle ange\\xadfer\\xadtigt. So kennen Sie stets den Stand der Umset\\xadzung und können Ihre Res\\xadsourcen genau planen.\\n\\nIn regel\\xadmä\\xadßigen Stra\\xadte\\xadgie\\xadge\\xadsprä\\xadchen bespre\\xadchen wir die umge\\xadsetzten Maß\\xadnahmen, deren Erfolge und Aus\\xadwir\\xadkungen in Ihrem Unter\\xadnehmen. Gemeinsam ent\\xadwi\\xadckeln wir auf Basis unserer fach\\xadli\\xadchen Rat\\xadschläge und Ihren Praxis-Erfah\\xad\\xadrungen konkrete Umsetzungsschritte.\\n\\n» Prag\\xadma\\xadtisch\\n\\nDie Ren\\xadta\\xadbi\\xadlität der Online Mar\\xadke\\xadting Maß\\xadnahmen steht im Vor\\xadder\\xadgrund. Damit sich Ihre Inves\\xadti\\xadtionen wirklich aus\\xadzahlen werden Ent\\xadschei\\xaddungen auf der Basis einer für Sie nach\\xadvoll\\xadzieh\\xadbaren Stra\\xadtegie getroffen sowie fort\\xadlau\\xadfend in Ihren Aus\\xadwir\\xadkungen geprüft und verbessert.\\n\\n» Inno\\xadvativ\\n\\nEs gibt wohl keinen so dyna\\xadmisch sich ver\\xadän\\xaddernden Markt wie den des Online Mar\\xadke\\xadtings. Daher sind wir gezwungen stets die neuesten Mög\\xadlich\\xadkeiten zu nutzen und für Sie zum Einsatz zu bringen.\\n\\n» Nach\\xadhaltig\\n\\nGerade aus diesem Grund haben wir uns auf die Online Markt\\xader\\xadschlie\\xadßungs\\xadstra\\xadtegie spe\\xadzia\\xadli\\xadsiert!!! Denn erst durch die stetige Aus\\xadwer\\xadtung der Kun\\xadden\\xadströme, des Nut\\xadzer\\xadver\\xadhal\\xadtens und der Wett\\xadbe\\xadwerbs\\xadak\\xadti\\xadvi\\xadtäten, kann ein belast\\xadbares Fun\\xadda\\xadment für Ihren nach\\xadhal\\xadtigen Erfolg im Mar\\xadke\\xadting gelegt werden.\\n\\nSebas\\xadtian Dietz\\n\\nNeben der best\\xadmög\\xadli\\xadchen Erfül\\xadlung des Unter\\xadneh\\xadmens\\xadge\\xadgen\\xadstandes ist Vertrieb die Haupt\\xadauf\\xadgabe jedes gewinn\\xadori\\xaden\\xadtierten Unter\\xadneh\\xadmens. Kern jeder Mar\\xad\\xadke\\xad\\xadting- oder Ver\\xadtriebs\\xadak\\xadti\\xadvität ist die Bekannt\\xadma\\xadchung der Angebote für poten\\xadzi\\xadelle Kunden in Ver\\xadbin\\xaddung mit der Über\\xadzeu\\xadgung für Ihre Produkte oder Dienstleistungen.\\n\\nFür mit\\xadtel\\xadstän\\xaddi\\xadsche Unter\\xadnehmen ist aktives Online\\xadmar\\xadke\\xadting beson\\xadders wichtig. Häufig befinden sich diese in Branchen mit starkem Wett\\xadbe\\xadwerb. Dann wird es ent\\xadschei\\xaddend, direkten Kon\\xadkur\\xadrenten zuvorzukommen.\\n\\nPoten\\xadzi\\xadelle Kunden ver\\xadhalten sich bei ihrer Infor\\xadma\\xadti\\xadons\\xadbe\\xadschaf\\xadfung auf der Suche nach Lösungen jeg\\xadli\\xadcher Art anders als früher. Die Google Such\\xadma\\xadschine ist der erste Hand\\xadgriff geworden.\\n\\nIhre Online-Reich\\xad\\xadweite, also die Zahl poten\\xadzi\\xadeller Kunden, die Sie und Ihre Angebote kennen, ist immens wichtig geworden. Leads, so der Begriff für poten\\xadzi\\xadelle Kunden die bereits Wert\\xadschät\\xadzung für Ihr Unter\\xadnehmen auf\\xadbringen, sind massiv für Ihren Ver\\xadtriebs\\xader\\xadfolg notwendig.\\n\\nDer gezielte Einsatz digi\\xadtaler Wer\\xadbe\\xadmittel wie Website, Such\\xadma\\xadschi\\xadnen\\xadmar\\xadke\\xadting, Adver\\xadti\\xadsing (Ads / bezahlte Besucher), Social Media, e‑Mail-Mar\\xad\\xadke\\xad\\xadting, Banner Werbung und viele weitere Instru\\xadmente ermög\\xadlicht es Ihnen sich einen deut\\xadli\\xadchen Vorteil gegen\\xadüber Ihrem Wett\\xadbe\\xadwerb zu erarbeiten.\\n\\nMachen Sie jedoch nicht den Fehler, sich auf einen der Kanäle des Mar\\xadke\\xadtings zu ver\\xadlassen! Denn nur der ideale Mar\\xad\\xadke\\xad\\xadting-Mix aus Netz\\xadwerken, hoch\\xadwer\\xadtigen klas\\xadsi\\xadschen Wer\\xadbe\\xadmit\\xadteln wie Druck (z.B. Ver\\xadkaufs\\xadmappen oder Wer\\xadbe\\xadbro\\xadschüren), Print (z.B. Fach\\xadzeit\\xadschriften, die für Ihre Ziel\\xadkunden relevant sind) und Direkt\\xadver\\xadtrieb über klas\\xadsi\\xadsche Ver\\xadtreter sichern Ihnen nach\\xadhal\\xadtige Erfolge.\\n\\nOnline\\xadmar\\xadke\\xadting unter\\xadstützt mit seinen Werk\\xadzeugen alle diese klas\\xadsi\\xadschen Werbe- und Ver\\xadtriebs\\xadme\\xadthoden und ver\\xadbes\\xadsert Ihren Nutzen.\\n\\nSebas\\xadtian Dietz\\n\\nBeim Online Mar\\xadke\\xadting  dreht sich alles um die Sicht\\xadbar\\xadkeit Ihres Unter\\xadneh\\xadmens, Ihrer Produkte und Ihrer Dienst\\xadleis\\xadtungen im Internet.\\n\\nSicht\\xadbar\\xadkeit  gepaart mit  Über\\xadzeu\\xadgungs\\xadkraft  und offen\\xadsicht\\xadlich guten Ange\\xadboten, gestützt durch positive Bewer\\xadtungen sowie Rezen\\xadsionen, erhöhen Ihre Absatz\\xadzahlen und Umsätze deutlich. Auch bei der Mit\\xadar\\xadbei\\xadter\\xadge\\xadwin\\xadnung, dem Image\\xadaufbau und zur Absatz\\xadstei\\xadge\\xadrung unter Ihren Stamm\\xadkunden hilft Ihnen OnlineMarketing.\\n\\nDie wich\\xadtigsten Fragen sind:\\n\\ncontact_support\\n\\n\\nWird Ihr Unter\\xadnehmen mit Ihren Ange\\xadboten auf den ersten Plätzen der Such\\xadergeb\\xadnisse – Ranking angezeigt?\\n\\ncontact_support\\n\\n\\nSind Sie zu den rich\\xadtigen Such\\xadbe\\xadgriffen – Keywords  sichtbar?\\n\\ncontact_support\\n\\n\\nWelche Such\\xadbe\\xadgriffe – Keywords sind für Sie relevant?\\n\\ncontact_support\\n\\n\\nAuf welchen Portalen und in welchen sozialen Medien ist Ihre Ziel\\xadgruppe häufig unterwegs?\\n\\nDiese ele\\xadmen\\xadtaren Fragen beant\\xadwortet eine aus\\xadführ\\xadliche Analyse und Defi\\xadni\\xadtion der soge\\xadnannten Customer Journey  – dem Weg den Kunden in Ihrer Branche nehmen, um eine Kauf\\xadent\\xadschei\\xaddung zu treffen.\\n\\nAnhand der gewonnen Daten posi\\xadtio\\xadnieren  Sie Ihre gezielt  auf Relevanz opti\\xadmierten Inhalte  überall dort, wo sich Ihre poten\\xadzi\\xadellen und rele\\xadvanten  Kunden auf\\xadhalten. Das können Portale, Platt\\xadformen, Netz\\xadwerke oder andere Web\\xadseiten sein.\\n\\nMit gezielten Infor\\xadma\\xadtionen und Anzei\\xadgen\\xadkam\\xadpa\\xadgnen, bei\\xadspiels\\xadweise in Google Ads (Adwords) oder Facebook Ads stellen Sie Ihre Sicht\\xadbar\\xadkeit bei Ihrer Ziel\\xadgruppe sicher.\\n\\nAchten Sie bei der Erstel\\xadlung und Opti\\xadmie\\xadrung Ihrer Website beson\\xadders auf folgende Punkte, um die Search Engine – den Google Algo\\xadrithmus zu nutzen:\\n\\ndone\\n\\n\\nLadezeit Ihrer Website\\n\\ndone\\n\\n\\nSEO Struktur\\n\\ndone\\n\\n\\ngezielte Keyword Strategie\\n\\ndone\\n\\n\\noptimale Nut\\xadzer\\xadfüh\\xadrung / Usability\\n\\ndone\\n\\n\\naus\\xadführ\\xadli\\xadches DSGVO kon\\xadformes Tracking\\n\\ndone\\n\\n\\nRespon\\xadsi\\xadvität – adap\\xadtives Anzeigen auf jedem Engerät (Mobil und Desktop)\\n\\nAlle diese Maß\\xadnahmen zielen neben einer breiten und rele\\xadvanten Sicht\\xadbar\\xadkeit auf eine beson\\xadders hohe Con\\xadver\\xadsion – Umwand\\xadlung von Besucher zu Lead, also Inter\\xades\\xadsenten ab.\\n\\nSebas\\xadtian Dietz\\n\\nDamit Sie einen struk\\xadtu\\xadrieren Über\\xadblick über die übliche Vor\\xadge\\xadhens\\xadweise eines Online-Mar\\xad\\xadke\\xad\\xadting-Pro\\xad\\xad\\xadjektes erhalten, stellen wir Ihnen die sechs Schritte hier chro\\xadnoli\\xadgisch dar.\\n\\n1. Online Marktforschung\\n\\nggf. mit einer SEO IST Analyse\\n\\n2. Fest\\xadle\\xadgung des Marketing-Konzepts\\n\\nDefi\\xadni\\xadtion der Customer Journey\\nKeyword- und Content-Strategie\\nOffpage- Ver\\xadlin\\xadkungs\\xadstra\\xadtegie\\nSocial Media Strategie\\nSEA Stra\\xadtegie\\n\\n\\n3. Beginn der Umsetzung\\n\\nErstellen oder Opti\\xadmieren der Website / des Online-Shops\\nEin\\xadrichten aus\\xadführ\\xadli\\xadches Tracking und Ein\\xadrich\\xadtung Web-Controlling\\n\\n\\n4. Ausbau der Intensions-Relevanz\\n\\nErstel\\xadlung der ersten Inhalte für Website und Vernetzung\\nPosi\\xadtio\\xadnie\\xadrung der Inhalte in Portalen und Netzwerken\\n\\n\\n5. Schalten von Werbe-Kampagnen\\n\\nOnline-Kam\\xad\\xadpa\\xad\\xadgnen zur Stei\\xadge\\xadrung der Mar\\xadken\\xadbe\\xadkannt\\xadheit sowie gezielte Dienst\\xad\\xadlei\\xad\\xadtungs- und Produkt-Angebote\\nSEA Kam\\xadpa\\xadgnen in Google-Suche & \\xa0auf Portalen\\nSozial-Media-Kam\\xad\\xadpa\\xad\\xadgnen\\n\\n\\n6. Web-Con\\xad\\xadtrol\\xad\\xadling\\n\\nPer\\xadma\\xadnentes Web-Con\\xad\\xadtrol\\xad\\xadling mit gezielter Erwei\\xadte\\xadrung um hoch\\xadwer\\xadtige und rele\\xadvante Inhalte.\\n\\nSebas\\xadtian Dietz\\n\\nEs ist möglich Teil\\xadbe\\xadreiche der Beratung über För\\xadder\\xadpro\\xadgramme aus dem Spektrum der Digi\\xadta\\xadli\\xadsie\\xadrungs\\xadför\\xadde\\xadrung, der Unter\\xadneh\\xadmens\\xadbe\\xadra\\xadtung und der Imple\\xadmen\\xadtie\\xadrung digi\\xadtaler Geschäfts\\xadpro\\xadzesse nutzbar zu machen.\\n\\nFür eine gezielte Auswahl sprechen Sie uns an. In Koope\\xadra\\xadtion mit einem spe\\xadzia\\xadli\\xadsierten För\\xadder\\xadmit\\xadtel\\xadbe\\xadrater finden wir die optimale Lösung.\\n\\nOnline Mar\\xadke\\xadting Opti\\xadmie\\xadrung\\n\\n〉〉 Für Unternehmen\\n\\n〉〉 Für Agenturen\\n\\n〉〉 Für Entwickler\\n\\n〉〉 Online Mar\\xadke\\xadting &  SEO Events\\n\\nOnline Mar\\xadke\\xadting Fall\\xadbei\\xadspiele – Das errei\\xadchen wir gemeinsam\\n\\nOnline Mar\\xadke\\xadting | Dortmund\\nHIRTES » Anwälte für Arbeitsrecht\\n\\nJens Hasch – Agentur Hasch &  Hasch Dortmund\\n\\n\\nEs ist immer ein Risiko für eine Agentur externe Partner in Pro\\xadjekten ein\\xadzu\\xadsetzen. Neben den nach\\xadweis\\xadbaren Erfolgen, die für unsere Kunden immer sehr wichtig sind und an denen wir gemessen werden, hat mir beson\\xadders die Ver\\xadläss\\xadlich\\xadkeit und offenen Kom\\xadmu\\xadni\\xadka\\xadtion von Sebas\\xadtian Dietz und Steffen Lehmann gefallen. Ich hatte nie das Gefühl über eine Maßnahme nicht invol\\xadviert zu sein. Über alle Themen können wir offen und ziel\\xadori\\xaden\\xadtiert beraten und finden immer einen Weg, von dem alle profitieren.\\n\\nKanzlei HIRTES ist seit 2003 auf dem Gebiet des Arbeits\\xadrechts tätig und auf die Abwehr von Kün\\xaddi\\xadgungen, Aus\\xadhan\\xaddeln von Abfin\\xaddungen, Reaktion bei einer Abmah\\xadnung, Durch\\xadset\\xadzung von Lohn‑, Gehalts- und sons\\xadtigen Zah\\xadlungs\\xadan\\xadsprü\\xadchen spe\\xadzia\\xadli\\xadsiert. Des Weiteren fällt die Ent\\xadfris\\xadtung von befris\\xadteten Arbeits\\xadver\\xadträgen sowie Beratung und Gestal\\xadtung von Auf\\xadhe\\xadbungs\\xadver\\xadträgen in den Leis\\xadtungs\\xadbe\\xadreich der Kanzlei.\\n\\nOnline Mar\\xadke\\xadting Dortmund – Kurzübersicht\\n\\nPro\\xadjekt\\xadpartner\\n\\nHIRTES Anwälte für Arbeits\\xadrecht Dortmund, Agentur Hasch & \\xa0Hasch\\n\\n\\nHer\\xadaus\\xadfor\\xadde\\xadrung\\n\\nAufbau einer zen\\xadtralen online Präsenz für mehrere Stand\\xadorte in einer sehr kon\\xadkur\\xadrenz\\xadstarken Branche\\n\\n\\nLeis\\xadtungen\\n\\nWeb Ana\\xadly\\xadtics\\nWebsite-Erstel\\xad\\xad\\xadlung\\nContent-Ent\\xad\\xad\\xad\\xad\\xadwick\\xad\\xad\\xadlung\\nSEA-Con\\xad\\xad\\xadtrol\\xad\\xad\\xadling\\nWebsite Wartung\\n\\n\\nKun\\xadden\\xader\\xadfolg\\n\\nüber 20 Anrufe/ Monat\\nüber 15 Kontaktanfragen/ Monat\\nTop Position für Keyword „Anwalt Arbeits\\xadrecht Dortmund“\\n\\n\\nZeitraum\\n\\nseit 2019\\n\\n\\nOnline Mar\\xadke\\xadting Dortmund – Aus\\xadführ\\xadliche Projektbeschreibung\\n\\nPro\\xadjekt\\xadan\\xadlass\\n\\nKanzlei HIRTES war bis dato nur in Bochum tätig und plante einen neuen Standort in Dortmund zu eröffnen. Um die Markt\\xader\\xadschlie\\xadßung des neuen Stand\\xadorts in Dortmund zu fördern, ent\\xadwi\\xadckelten wir gemeinsam mit einer Part\\xadner\\xadagentur ein umfas\\xadsendes online Mar\\xadke\\xadting Konzept. Denn die Kanzlei sollte schon vor der eigent\\xadli\\xadchen Stand\\xadort\\xaderöff\\xadnung in Dortmund digital präsent sein. Unsere Aufgabe bestand also darin, die Sicht\\xadbar\\xadkeit für spe\\xadzi\\xadelle Ange\\xadbots\\xadbe\\xadgriffe sicher\\xadzu\\xadstellen und unter die Top-Posi\\xad\\xad\\xadtionen in den orga\\xadni\\xadschen Such\\xadergeb\\xadnissen in Dortmund zu gelangen.\\n\\nPro\\xadblem\\xadstel\\xadlung\\n\\nDie bereits SEO-opti\\xad\\xad\\xadmierte Website der Kanzlei stand in den lokalen Such\\xadergeb\\xadnissen bereits auf einer guten Position. Ver\\xadweil\\xaddauer und Con\\xadver\\xadsion waren eben\\xadfalls zufrie\\xadden\\xadstel\\xadlend. Um dies eben\\xadfalls für den Standort Dortmund zu errei\\xadchen, ist eine kon\\xadti\\xadnu\\xadier\\xadliche Abstim\\xadmung und Koor\\xaddi\\xadna\\xadtion mit den bereits bestehenden Inhalten notwendig.\\n\\nSo wurde das Projekt Kanzlei HIRTES zu einem vollen Erfolg\\n\\nSEO IST Analyse\\n\\nIn einer aus\\xadführ\\xadli\\xadchen Analyse des Ist\\xadzu\\xadstandes wurden alle Schwä\\xadchen und Stärken des bis\\xadhe\\xadrigen Online und offline Mar\\xadke\\xadting sowie des Ver\\xadtriebs auf\\xadge\\xaddeckt und konkrete Lösungen erar\\xadbeitet. Von der Aus\\xadwer\\xadtung der tech\\xadni\\xadschen Struktur und des Rankings der Website, bis zu einer Nut\\xadzer\\xadfluss\\xadana\\xadlyse zur Iden\\xadti\\xadfi\\xadka\\xadtion der Abbruch\\xadpunkte, ergaben sich deut\\xadliche Optimierungspotenziale.\\n\\nOnline Markt\\xadfor\\xadschung\\n\\nUm in der zukünf\\xadtigen Mar\\xad\\xad\\xadke\\xad\\xad\\xadting- und Ver\\xadtriebs\\xadar\\xadbeit gezielt vorgehen zu können fand eine Defi\\xadni\\xadtion der Customer Journey statt. In dieser wird das kom\\xadplette Such\\xadver\\xadhalten und Klick\\xadver\\xadhalten der Ziel\\xadkunden ana\\xadly\\xadsiert und genau vor\\xadbe\\xadrei\\xadtete Erfor\\xadder\\xadnisse in Form eines Las\\xadten\\xadheftes auf\\xadge\\xadstellt. Ebenso werden Kun\\xadden\\xadgruppen mit Ihren Moti\\xadva\\xadtionen und domi\\xadnanten Kauf\\xadmo\\xadtiven defi\\xadniert, soge\\xadnannte Personas. In einer Wett\\xadbe\\xadwer\\xadber\\xadana\\xadlyse werden die best prac\\xadtices der Branche aus\\xadge\\xadwertet und in die Planung aufgenommen.\\n\\nOnline Markt\\xader\\xadschlie\\xadßungs\\xadstra\\xadtegie\\n\\nAus allen diesen und vielen weiteren Daten\\xader\\xadhe\\xadbungen und Inter\\xadpre\\xadta\\xadtionen entstand eine umfas\\xadsende online Markt\\xader\\xadschlie\\xadßungs\\xadstra\\xadtegie, in der alle nötigen online Maß\\xadnahmen und deren konkrete Aus\\xadfüh\\xadrung auf\\xadge\\xadlistet waren.\\n\\nWebsite Relaunch\\n\\nAuf der Basis des Las\\xadten\\xadheftes aus der online Markt\\xader\\xadschlie\\xadßungs\\xadstra\\xadtegie entstand eine opti\\xadmierte Website, welche das Ranking und Nut\\xadzer\\xadfüh\\xadrung mit dem Ziel von maxi\\xadmalen Anfra\\xadge\\xadzahlen ver\\xadbes\\xadserte. Ein Umfas\\xadsendes Tracking auf der Website ermög\\xadlicht das exakte Auslesen der Rankings und des Nut\\xadzer\\xadver\\xadhal\\xadtens auf der Website, um per\\xadma\\xadnent Opti\\xadmie\\xadrungen vor\\xadnehmen zu können.\\n\\nContent-Ent\\xad\\xad\\xad\\xad\\xadwick\\xad\\xad\\xadlung\\n\\nFür stetige Aktua\\xadli\\xadsie\\xadrungen und eine opti\\xadmierte Position in den Such\\xadergeb\\xadnissen, erwei\\xadtern wir die Website von HIRTES kon\\xadti\\xadnu\\xadier\\xadlich mit neuen Texten, sowie gra\\xadfi\\xadschen Dar\\xadstel\\xadlungen, wie Bildern und Videos.\\n\\nLokale Sicht\\xadbar\\xadkeit\\n\\nDurch eine umfas\\xadsende Erwei\\xadte\\xadrung und regel\\xadmä\\xadßige Befül\\xadlung des Google My-Busi\\xad\\xad\\xadnes\\xads\\xade\\xadin\\xad\\xad\\xadtrages mit aus\\xadführ\\xadli\\xadchen Leis\\xad\\xad\\xadtungs- und Pro\\xaddukt\\xaddar\\xadstel\\xadlungen mit Foto und Text entsteht eine hohe lokale Sicht\\xadbar\\xadkeit für die Branche und Angebote der Rechts\\xadan\\xadwälte HIRTES.\\n\\nSEA-Con\\xad\\xad\\xadtrol\\xad\\xad\\xadling\\n\\nUm die Reich\\xadweite der Website zu steigern, kann diese zusätz\\xadliche mit online Wer\\xadbe\\xadkam\\xadpa\\xadgnen beworben werden. Im Rahmen des SEA-Con\\xad\\xad\\xadtrol\\xad\\xad\\xadlings ver\\xadwalten und opti\\xadmieren wir alle SEA-Kam\\xad\\xad\\xadpa\\xad\\xad\\xadgnen von den Rechts\\xadan\\xadwälten HIRTES und fassen die monat\\xadli\\xadchen Ergeb\\xadnisse der Kampagne in einem Kunden-Report zusammen, um ihm die kom\\xadplette Trans\\xadpa\\xadrenz zu bieten.\\n\\nWartung\\n\\nDie monat\\xadliche tech\\xadni\\xadsche Wartung der Website unseres Kunden, stellt sicher, dass diese immer ver\\xadfügbar, funk\\xadtional und aktuell ist.\\n\\nWeb Ana\\xadly\\xadtics\\n\\nDurch Web-Ana\\xad\\xad\\xadly\\xad\\xad\\xadtics Reports kon\\xadtrol\\xadlieren wir für indi\\xadvi\\xaddu\\xadelle Zyklen, welche rele\\xadvanten Ranking-Faktoren sich im Umfeld der Website geändert haben und sprechen dem\\xadentspre\\xadchend konkrete Hand\\xadlungs\\xademp\\xadfeh\\xadlungen aus. Um die beste Website Plat\\xadzie\\xadrung zu errei\\xadchen, führen wir diese Maßnahme bei der Kanzlei monat\\xadlich durch.\\n\\nResul\\xadtate\\n\\nKanzlei HIRTES befindet sich bei der Eingabe rele\\xadvanter Keywords, wie z.B. Anwalt Arbeits\\xadrecht, nun sowohl in Bochum, als auch Dortmund in den Top Posi\\xadtionen der Google Such\\xadergeb\\xadnissen. Monat\\xadlich erhält die Kanzlei über 35 qua\\xadli\\xadfi\\xadzierte Anfragen über die Website, via Anruf oder E‑Mail. Im Ver\\xadgleich zur Aus\\xadgangs\\xadsi\\xadtua\\xadtion ist dies eine Ver\\xadviel\\xadfa\\xadchung und somit ein voller Erfolg!\\n\\nAlle Refe\\xadrenzen &  Fallbeispiele\\n\\n\\nSTENLE Refe\\xadrenzen  &  Fallbeispiele\\n\\nRefe\\xadrenzen &  Fallbeispiele\\n\\n\\nOnline Mar\\xadke\\xadting\\nGreiz\\n\\nRefe\\xadrenzen &  Fallbeispiele\\n\\n\\nOnline Mar\\xadke\\xadting Sprockhövel\\n\\nRefe\\xadrenzen &  Fallbeispiele\\n\\n\\nOnline Mar\\xadke\\xadting Krefeld\\n\\nRefe\\xadrenzen &  Fallbeispiele\\n\\n\\nOnline Mar\\xadke\\xadting Dortmund\\n\\nRefe\\xadrenzen &  Fallbeispiele\\n\\n\\nOnline Mar\\xadke\\xadting Essen\\n\\nRefe\\xadrenzen &  Fallbeispiele\\n\\n\\nOnline Mar\\xadke\\xadting Bochum\\n\\nSTENLE Online-Mar\\xadke\\xadting\\n\\n〉〉 Für Unternehmen ✓\\n〉〉 Für Agenturen ✓\\n〉〉 Für Entwickler ✓\\nMehr zu uns erfahren\\n\\n\\nUnsere Leis\\xadtungen sind speziell für diese Bereiche konzipiert:\\n\\nadd_shopping_cart\\n\\n\\nFür den Onlinehandel\\n\\nlocal_dining\\n\\n\\nFür Gas\\xadtro\\xadnomie &  Veranstalter\\n\\nsupervisor_account\\n\\n\\nFür Berater &  Dienstleister\\n\\nstore\\n\\n\\nFür lokale Händler &  Hersteller\\n\\nJetzt Experten sprechen!\\n\\nWas können wir für Sie tun?\\n\\n» Rufen Sie uns spontan und ohne große Vor\\xadbe\\xadrei\\xadtung an. Ganz unver\\xadbind\\xadlich bespre\\xadchen wir Ihre Themen und schauen, ob wir zuein\\xadander passen! «\\n\\nJetzt anfragen\\n\\n\\nOnline Mar\\xadke\\xadting – Nutzen Sie diese Maßnahmen\\n\\nFör\\xadder\\xadfähig\\n\\n\\nOnline Mark\\xadt\\xader\\xad\\xadschlie\\xad\\xadßungs-Stra\\xad\\xadtegie\\n\\nDamit Sie Ihre Inves\\xadti\\xadtionen gezielt ein\\xadsetzten können\\nFör\\xadder\\xadfähig\\n\\n\\nSEO\\n\\nDamit Ihre über\\xadzeu\\xadgenden Inhalte nach\\xadhaltig sichtbar werden\\nFör\\xadder\\xadfähig\\n\\n\\nSEA\\n\\nDamit Sie sofort Erfolge spüren und gezielt sichtbar werden\\nFör\\xadder\\xadfähig\\n\\n\\nWeb Ana\\xadly\\xadtics / Web Controlling\\n\\nDamit Ihr Online Mar\\xadke\\xadting immer erfolg\\xadrei\\xadcher und ren\\xadta\\xadbler wird\\nFör\\xadder\\xadfähig\\n\\n\\nWeb-Ent\\xad\\xad\\xadwick\\xad\\xadlung\\n\\nDamit SEO möglich wird und Sie Ihre Kunden ideal abholen\\nFör\\xadder\\xadfähig\\n\\n\\nSocial-Media Mar\\xadke\\xadting\\n\\nDamit Sie Ihre Kunden nicht nur bei gezielten Such\\xadan\\xadfragen erreichen\\nFör\\xadder\\xadfähig\\n\\n\\nOffPage Opti\\xadmie\\xadrung\\n\\nDamit Sie Ihre Ziel\\xadkunden an allen Anknüp\\xadfungs\\xadpunkten erreichen\\nFör\\xadder\\xadfähig\\n\\n\\nCon\\xadver\\xadsion Optimierung\\n\\nDamit Sie so geringe Online Mar\\xadke\\xadting Kosten wie möglich verzeichnen\\n\\n\\nRund um SEO\\n\\nIn Rund-um-SEO geben unsere Spe\\xadzia\\xadlisten leicht ver\\xadständ\\xadlich Hin\\xadter\\xadgrund\\xadin\\xadfor\\xadma\\xadtionen, zeigen welche Syn\\xader\\xadgie\\xadef\\xadfekte im Online-Mar\\xad\\xadke\\xad\\xadting möglich sind und wie Sie diese für sich nutzen können.\\n\\nRund um SEO\\n\\n\\nJetzt Ihre Anfrage stellen:\\n\\nBitte lasse dieses Feld leer.\\nIch stimme zu, dass meine Angaben aus dem Kon\\xadtakt\\xadfor\\xadmular zur Beant\\xadwor\\xadtung meiner Anfrage erhoben und ver\\xadar\\xadbeitet werden. Die Daten werden nach abge\\xadschlos\\xadsener Bear\\xadbei\\xadtung Ihrer Anfrage gelöscht. Hinweis: Sie können Ihre Ein\\xadwil\\xadli\\xadgung jeder\\xadzeit für die Zukunft per E‑Mail an info(at)stenle.de wider\\xadrufen. Detail\\xadlierte Infor\\xadma\\xadtionen zum Umgang mit Nut\\xadzer\\xaddaten finden Sie in unserer Daten\\xadschutz\\xader\\xadklä\\xadrung.*\\n\\n\\nOnlinemarkt-Forschung\\n\\nErhalten Sie das notwendige Wissensfundament, um Ihr Unternehmen erfolgreich in dem Gefüge aus Ihren Zielgruppen und Ihrem Wettbewerb zu platzieren.\\n\\nOnline-Marketing Beratung\\n\\nGemeinsam entwickeln wir eine, auf Ihre unternehmerische IST-Situation zugeschnittene, wirkungsbezogene Online-Marketing Strategie.\\n\\nWeb-Entwicklungen\\n\\nWir verwirklichen ein Ihre Werte wiederspiegelndes Webauftreten - authentisch, aussagekräftig und einzigartig.\\n\\nExperten sprechen\\n\\nSie möchten ein Web-Projekt mit uns verwirklichen? Melden Sie sich einfach spontan bei uns!\\n\\nHome\\nSTENLE GmbH\\nRund um SEO\\nSitemap\\nImpressum\\nDaten\\xadschutz\\n\\n\\n©  STENLE – Online Marketing\\n\\nMenüFür Unternehmen, Agenturen und Entwickler » Online Marketing Beratung & Optimierung: SEO, Social-Media, Online-Werbung, Webentwicklung ➥ Alle Infos hier!Für Unternehmen, Agenturen und Entwickler » Online Marketing Beratung & Optimierung: SEO, Social-Media, Online-Werbung, Webentwicklung ➥ Alle Infos hier!Für Unternehmen, Agenturen und Entwickler » Online Marketing Beratung & Optimierung: SEO, Social-Media, Online-Werbung, Webentwicklung ➥ Alle Infos hier!'"
      ]
     },
     "execution_count": 39,
     "metadata": {},
     "output_type": "execute_result"
    }
   ],
   "source": [
    "train_text[1]"
   ]
  },
  {
   "cell_type": "markdown",
   "metadata": {},
   "source": [
    "- plain: 0.3994 F1\n",
    "- html: 0.2784 \tF1\n",
    "- plain + meta: 0.4111 \tF1\n",
    "- plain + 2 * meta: 0.4063 \tF1\n",
    "- html + meta: 0.2784 \tF1"
   ]
  },
  {
   "cell_type": "code",
   "execution_count": null,
   "metadata": {},
   "outputs": [],
   "source": []
  },
  {
   "cell_type": "code",
   "execution_count": null,
   "metadata": {},
   "outputs": [],
   "source": []
  },
  {
   "cell_type": "code",
   "execution_count": null,
   "metadata": {},
   "outputs": [],
   "source": []
  },
  {
   "cell_type": "code",
   "execution_count": null,
   "metadata": {},
   "outputs": [],
   "source": []
  },
  {
   "cell_type": "code",
   "execution_count": null,
   "metadata": {},
   "outputs": [],
   "source": []
  },
  {
   "cell_type": "code",
   "execution_count": null,
   "metadata": {},
   "outputs": [],
   "source": []
  },
  {
   "cell_type": "code",
   "execution_count": null,
   "metadata": {},
   "outputs": [],
   "source": []
  },
  {
   "cell_type": "code",
   "execution_count": null,
   "metadata": {},
   "outputs": [],
   "source": []
  },
  {
   "cell_type": "markdown",
   "metadata": {},
   "source": []
  },
  {
   "cell_type": "markdown",
   "metadata": {},
   "source": [
    "## Tests\n",
    "\n",
    "- Evaluation metric: **F1 Scores**\n",
    "- TF-IDF Vectorizer\n",
    "    - kein lowercase\n",
    "    - stop words werden entfernt\n",
    "    - keine max features\n",
    "- Top $n$ classes = most frequent classes\n",
    "- CLEAN HTML auch für Test Set (ansonsten unglaublich schlechte Accuracy und etwas sinnlos)\n",
    "\n",
    "\n",
    "#### Label: `group_representatives`\n",
    "\n",
    "| Experiment | SGD F1 (Precision) | LSVM F1 (Precision) |\n",
    "| ---------- |:-----:| ----:|\n",
    "| HTML (10000 features) | **0.5292** (0.5962) | **0.5493** (0.6371) |\n",
    "| HTML (kept stop words) (10000 features) | **0.5268** (0.5845) | **0.5473** (0.6439) |\n",
    "| HTML (10000 features) ((1, 3) ngrams) | **0.4035** (0.463) | **0.4188** (0.5345) |\n",
    "| HTML (10000 features) ((2, 2) ngrams) | **0.2442** (0.2787) | **0.252** (0.3146) |\n",
    "| ---------- |-----| ----|\n",
    "| *ALL LANGS* HTML (kept stop words) (10000 features) | **0.5781** (0.6464) | **0.6406** (0.7024) |\n",
    "| ---------- |-----| ----|\n",
    "| Plain Text (kept stop words) (10000 features) (10000 rows) | **0.5841** (0.6301) | **0.5778** (0.6257) |\n",
    "| Plain Text + Meta (kept stop words) (10000 features) (10000 rows) | **0.5832** (0.6197) | **0.5826** (0.6279) |"
   ]
  },
  {
   "cell_type": "markdown",
   "metadata": {},
   "source": [
    "## Paths"
   ]
  },
  {
   "cell_type": "code",
   "execution_count": 2,
   "metadata": {},
   "outputs": [],
   "source": [
    "DATA_DIR_PATH = \"../data/\"\n",
    "LANG = \"\"\n",
    "ROWS = \"_10000\"\n",
    "\n",
    "INDUSTRIES_PATH_CSV = DATA_DIR_PATH + \"industries.csv\"\n",
    "TRAIN_PATH_CSV = DATA_DIR_PATH + \"train\" + LANG + ROWS + \".csv\"\n",
    "TEST_PATH_CSV = DATA_DIR_PATH + \"test\" + LANG + ROWS +\".csv\""
   ]
  },
  {
   "cell_type": "markdown",
   "metadata": {},
   "source": [
    "## Load train csv"
   ]
  },
  {
   "cell_type": "code",
   "execution_count": 3,
   "metadata": {},
   "outputs": [
    {
     "name": "stdout",
     "output_type": "stream",
     "text": [
      "CPU times: user 1.55 s, sys: 421 ms, total: 1.97 s\n",
      "Wall time: 1.97 s\n"
     ]
    }
   ],
   "source": [
    "%%time\n",
    "train = pd.read_csv(TRAIN_PATH_CSV)\n",
    "train = train.fillna(\"\")"
   ]
  },
  {
   "cell_type": "code",
   "execution_count": 4,
   "metadata": {},
   "outputs": [
    {
     "data": {
      "text/html": [
       "<div>\n",
       "<style scoped>\n",
       "    .dataframe tbody tr th:only-of-type {\n",
       "        vertical-align: middle;\n",
       "    }\n",
       "\n",
       "    .dataframe tbody tr th {\n",
       "        vertical-align: top;\n",
       "    }\n",
       "\n",
       "    .dataframe thead th {\n",
       "        text-align: right;\n",
       "    }\n",
       "</style>\n",
       "<table border=\"1\" class=\"dataframe\">\n",
       "  <thead>\n",
       "    <tr style=\"text-align: right;\">\n",
       "      <th></th>\n",
       "      <th>url</th>\n",
       "      <th>industry</th>\n",
       "      <th>industry_label</th>\n",
       "      <th>group</th>\n",
       "      <th>group_representative</th>\n",
       "      <th>html</th>\n",
       "      <th>text</th>\n",
       "      <th>source</th>\n",
       "      <th>country</th>\n",
       "      <th>group_representative_label</th>\n",
       "      <th>meta</th>\n",
       "    </tr>\n",
       "  </thead>\n",
       "  <tbody>\n",
       "    <tr>\n",
       "      <th>0</th>\n",
       "      <td>http://www.autarctech.de</td>\n",
       "      <td>144</td>\n",
       "      <td>Renewables &amp; Environment</td>\n",
       "      <td>gov, man, org</td>\n",
       "      <td>144</td>\n",
       "      <td>&lt;html&gt;    &lt;head&gt;                              ...</td>\n",
       "      <td>Home\\n\\nMenü\\n\\n\\nShop\\nHome\\nProdukte\\nOur St...</td>\n",
       "      <td>xing</td>\n",
       "      <td>DE</td>\n",
       "      <td>Renewables &amp; Environment</td>\n",
       "      <td>Effizenz bei der Stromspeicherung in Batterien...</td>\n",
       "    </tr>\n",
       "  </tbody>\n",
       "</table>\n",
       "</div>"
      ],
      "text/plain": [
       "                        url  industry            industry_label  \\\n",
       "0  http://www.autarctech.de       144  Renewables & Environment   \n",
       "\n",
       "           group  group_representative  \\\n",
       "0  gov, man, org                   144   \n",
       "\n",
       "                                                html  \\\n",
       "0  <html>    <head>                              ...   \n",
       "\n",
       "                                                text source country  \\\n",
       "0  Home\\n\\nMenü\\n\\n\\nShop\\nHome\\nProdukte\\nOur St...   xing      DE   \n",
       "\n",
       "  group_representative_label  \\\n",
       "0   Renewables & Environment   \n",
       "\n",
       "                                                meta  \n",
       "0  Effizenz bei der Stromspeicherung in Batterien...  "
      ]
     },
     "execution_count": 4,
     "metadata": {},
     "output_type": "execute_result"
    }
   ],
   "source": [
    "train.head(1)"
   ]
  },
  {
   "cell_type": "code",
   "execution_count": 5,
   "metadata": {},
   "outputs": [
    {
     "data": {
      "text/plain": [
       "(8000, 11)"
      ]
     },
     "execution_count": 5,
     "metadata": {},
     "output_type": "execute_result"
    }
   ],
   "source": [
    "train.shape"
   ]
  },
  {
   "cell_type": "markdown",
   "metadata": {},
   "source": [
    "## Hyperparameters"
   ]
  },
  {
   "cell_type": "code",
   "execution_count": 6,
   "metadata": {},
   "outputs": [],
   "source": [
    "# \"text\" or \"html\"\n",
    "TEXT_COL = \"text\"\n",
    "\n",
    "# \"group_representative\", \"group_representative_label\", \"industry\", \"industry_label\" or \"group\"\n",
    "CLASS_COL = \"group_representative\"\n",
    "CLASS_NAMES = \"group_representative_label\"\n",
    "\n",
    "MAX_DOCUMENT_FREQUENCY = 1.\n",
    "MAX_FEATURES = 10000\n",
    "NGRAM_RANGE = (1,1)\n",
    "LOWERCASE = False\n",
    "#STOP_WORDS = get_stop_words(\"de\")\n",
    "STOP_WORDS = None\n",
    "\n",
    "TAG_LIST = ['a', 'b', 'em', 'h1', 'h2', 'h3', 'i', 'li', 'p', 'strong', 'title']"
   ]
  },
  {
   "cell_type": "markdown",
   "metadata": {},
   "source": [
    "## Add Meta-Tag information to plain text"
   ]
  },
  {
   "cell_type": "code",
   "execution_count": 7,
   "metadata": {},
   "outputs": [],
   "source": [
    "train[\"text\"] = train[\"text\"] + train[\"meta\"]"
   ]
  },
  {
   "cell_type": "markdown",
   "metadata": {},
   "source": [
    "## Trim HTML"
   ]
  },
  {
   "cell_type": "code",
   "execution_count": 8,
   "metadata": {},
   "outputs": [],
   "source": [
    "train2 = train.head(10)"
   ]
  },
  {
   "cell_type": "code",
   "execution_count": 10,
   "metadata": {},
   "outputs": [
    {
     "name": "stdout",
     "output_type": "stream",
     "text": [
      "CPU times: user 1e+03 ns, sys: 1 µs, total: 2 µs\n",
      "Wall time: 4.53 µs\n"
     ]
    }
   ],
   "source": [
    "%%time\n",
    "#train[\"html\"] = train[\"html\"].apply(lambda x: trim_html(x, tag_list = TAG_LIST, tagless_output_string=True))"
   ]
  },
  {
   "cell_type": "markdown",
   "metadata": {},
   "source": [
    "### Vectorizing text"
   ]
  },
  {
   "cell_type": "code",
   "execution_count": 54,
   "metadata": {},
   "outputs": [
    {
     "name": "stdout",
     "output_type": "stream",
     "text": [
      "CPU times: user 8.46 s, sys: 63.5 ms, total: 8.52 s\n",
      "Wall time: 8.51 s\n"
     ]
    }
   ],
   "source": [
    "%%time\n",
    "\n",
    "train_text = train[TEXT_COL]\n",
    "train_labels = train[CLASS_COL].values\n",
    "\n",
    "vectorizer = CountVectorizer(max_df=MAX_DOCUMENT_FREQUENCY,\n",
    "                             lowercase=LOWERCASE,\n",
    "                             max_features=MAX_FEATURES,\n",
    "                             ngram_range=NGRAM_RANGE,\n",
    "                             stop_words=STOP_WORDS,\n",
    "                            tokenizer=tokenizing_html)\n",
    "transformer = TfidfTransformer()\n",
    "\n",
    "vector = vectorizer.fit_transform(train_text)\n",
    "train_vector = transformer.fit_transform(vector)"
   ]
  },
  {
   "cell_type": "markdown",
   "metadata": {},
   "source": [
    "# Test Dataset"
   ]
  },
  {
   "cell_type": "code",
   "execution_count": 55,
   "metadata": {},
   "outputs": [
    {
     "name": "stdout",
     "output_type": "stream",
     "text": [
      "CPU times: user 2.18 s, sys: 28.6 ms, total: 2.21 s\n",
      "Wall time: 2.21 s\n"
     ]
    }
   ],
   "source": [
    "%%time\n",
    "test = pd.read_csv(TEST_PATH_CSV)\n",
    "    \n",
    "test_vector = vectorizer.transform(test[TEXT_COL].values)\n",
    "test_vector = transformer.transform(test_vector)\n",
    "test_labels = test[CLASS_COL].values"
   ]
  },
  {
   "cell_type": "markdown",
   "metadata": {},
   "source": [
    "# SGD"
   ]
  },
  {
   "cell_type": "code",
   "execution_count": 56,
   "metadata": {},
   "outputs": [
    {
     "name": "stdout",
     "output_type": "stream",
     "text": [
      "SGD CLF \n",
      "-------------------------\n",
      "0.6301 \tPrecision\n",
      "0.5634 \tRecall\n",
      "0.5841 \tF1\n",
      "\n",
      "CPU times: user 1.09 s, sys: 0 ns, total: 1.09 s\n",
      "Wall time: 1.08 s\n"
     ]
    }
   ],
   "source": [
    "%%time\n",
    "print(\"SGD CLF\", \"\\n-------------------------\")\n",
    "# training\n",
    "clf = SGDClassifier()\n",
    "clf.fit(train_vector, train_labels)\n",
    "\n",
    "# prediction\n",
    "train_preds = clf.predict(test_vector)\n",
    "\n",
    "# evaluation\n",
    "precision = precision_score(test_labels, train_preds, average=\"macro\", zero_division=0)\n",
    "recall = recall_score(test_labels, train_preds, average=\"macro\", zero_division=0)\n",
    "f1 = f1_score(test_labels, train_preds, average=\"macro\", zero_division=0)\n",
    "clf1_f1 = np.round(f1, decimals=4)\n",
    "clf1_precision = np.round(precision, decimals=4)\n",
    "\n",
    "print(np.round(precision, decimals=4), \"\\tPrecision\")\n",
    "print(np.round(recall, decimals=4), \"\\tRecall\")\n",
    "print(np.round(f1, decimals=4), \"\\tF1\")\n",
    "print()\n",
    "\n",
    "clf1_report = classification_report(test_labels, \n",
    "                                   train_preds, \n",
    "                                   target_names = np.unique(test[CLASS_NAMES]), \n",
    "                                   zero_division = 0)"
   ]
  },
  {
   "cell_type": "markdown",
   "metadata": {},
   "source": [
    "# LSVM"
   ]
  },
  {
   "cell_type": "code",
   "execution_count": 57,
   "metadata": {},
   "outputs": [
    {
     "name": "stdout",
     "output_type": "stream",
     "text": [
      "LSVM CLF \n",
      "-------------------------\n",
      "0.6257 \tPrecision\n",
      "0.5523 \tRecall\n",
      "0.5778 \tF1\n",
      "\n",
      "CPU times: user 2.44 s, sys: 8.03 ms, total: 2.45 s\n",
      "Wall time: 2.44 s\n"
     ]
    }
   ],
   "source": [
    "%%time\n",
    "print(\"LSVM CLF\", \"\\n-------------------------\")\n",
    "# training\n",
    "clf = LinearSVC()\n",
    "clf.fit(train_vector, train_labels)\n",
    "\n",
    "# prediction\n",
    "train_preds = clf.predict(test_vector)\n",
    "\n",
    "# evaluation\n",
    "precision = precision_score(test_labels, train_preds, average=\"macro\", zero_division=0)\n",
    "recall = recall_score(test_labels, train_preds, average=\"macro\", zero_division=0)\n",
    "f1 = f1_score(test_labels, train_preds, average=\"macro\", zero_division=0)\n",
    "clf2_f1 = np.round(f1, decimals=4)\n",
    "clf2_precision = np.round(precision, decimals=4)\n",
    "\n",
    "print(np.round(precision, decimals=4), \"\\tPrecision\")\n",
    "print(np.round(recall, decimals=4), \"\\tRecall\")\n",
    "print(np.round(f1, decimals=4), \"\\tF1\")\n",
    "print()\n",
    "\n",
    "clf2_report = classification_report(test_labels, \n",
    "                                   train_preds, \n",
    "                                   target_names = np.unique(test[CLASS_NAMES]),\n",
    "                                   zero_division = 0)"
   ]
  },
  {
   "cell_type": "markdown",
   "metadata": {},
   "source": [
    "## Summary: Classification Results"
   ]
  },
  {
   "cell_type": "code",
   "execution_count": 58,
   "metadata": {},
   "outputs": [
    {
     "name": "stdout",
     "output_type": "stream",
     "text": [
      "group_representative\n",
      "\n",
      "| Plain Text (kept stop words) (10000 features) (10000 rows) | **0.5841** (0.6301) | **0.5778** (0.6257) |\n"
     ]
    }
   ],
   "source": [
    "result = \"| \"\n",
    "\n",
    "if TEXT_COL == \"text\":\n",
    "    result += \"Plain Text\"\n",
    "else:\n",
    "    result += \"HTML\"\n",
    "    \n",
    "if STOP_WORDS is None:\n",
    "    result += \" (kept stop words)\"\n",
    "    \n",
    "if MAX_FEATURES is None:\n",
    "    result += \" (all features)\"\n",
    "else:\n",
    "    result += f\" ({MAX_FEATURES} features)\"\n",
    "    \n",
    "if NGRAM_RANGE != (1,1):\n",
    "    result += f\" ({NGRAM_RANGE} ngrams)\"\n",
    "    \n",
    "if ROWS:\n",
    "    result += f\" ({ROWS[1:]} rows)\"\n",
    "    \n",
    "            \n",
    "result += f\" | **{clf1_f1}** ({clf1_precision}) | **{clf2_f1}** ({clf2_precision}) |\"\n",
    "print(CLASS_COL)\n",
    "print()\n",
    "print(result)"
   ]
  },
  {
   "cell_type": "markdown",
   "metadata": {},
   "source": [
    "# Confusion Matrix"
   ]
  },
  {
   "cell_type": "markdown",
   "metadata": {},
   "source": [
    "TODO: label und text names und so; allg. änderungen von oben hier ergänzen"
   ]
  },
  {
   "cell_type": "code",
   "execution_count": null,
   "metadata": {},
   "outputs": [],
   "source": [
    "NORMALIZE_CM = True\n",
    "INDUSTRY_TRESHOLD = 250\n",
    "PLT_SCALING_FACTOR = 0.8"
   ]
  },
  {
   "cell_type": "code",
   "execution_count": null,
   "metadata": {},
   "outputs": [],
   "source": [
    "%matplotlib inline\n",
    "%config InlineBackend.figure_format = 'svg'\n",
    "\n",
    "filtered_train = train.groupby(CLASS_COL).filter(lambda x: len(x)>INDUSTRY_TRESHOLD)\n",
    "remaining_industries = filtered_train[CLASS_NAMES].drop_duplicates().tolist()\n",
    "\n",
    "\n",
    "cnf_matrix = confusion_matrix(test_labels, train_preds)\n",
    "\n",
    "classes = train[CLASS_COL].drop_duplicates().tolist()\n",
    "\n",
    "cnf_df = pd.DataFrame(cnf_matrix, index=classes, columns=classes)\n",
    "cnf_df = cnf_df[remaining_industries]\n",
    "cnf_df = cnf_df.loc[remaining_industries]"
   ]
  },
  {
   "cell_type": "code",
   "execution_count": null,
   "metadata": {},
   "outputs": [],
   "source": [
    "plt.figure(figsize=(10*PLT_SCALING_FACTOR, 8*PLT_SCALING_FACTOR))\n",
    "\n",
    "if NORMALIZE_CM:\n",
    "    normalized_cnf_df = cnf_df.astype('float') / cnf_df.sum(axis=1)[:, np.newaxis]\n",
    "    sns.heatmap(normalized_cnf_df, annot=True, cmap=sns.color_palette(\"Blues\"), fmt='.2f')\n",
    "else:\n",
    "    sns.heatmap(cnf_df, annot=True, cmap=sns.color_palette(\"Blues\"), fmt='g')\n",
    "plt.tight_layout()"
   ]
  },
  {
   "cell_type": "code",
   "execution_count": null,
   "metadata": {},
   "outputs": [],
   "source": []
  }
 ],
 "metadata": {
  "kernelspec": {
   "display_name": "Python 3",
   "language": "python",
   "name": "python3"
  },
  "language_info": {
   "codemirror_mode": {
    "name": "ipython",
    "version": 3
   },
   "file_extension": ".py",
   "mimetype": "text/x-python",
   "name": "python",
   "nbconvert_exporter": "python",
   "pygments_lexer": "ipython3",
   "version": "3.7.7"
  }
 },
 "nbformat": 4,
 "nbformat_minor": 4
}
