{
 "cells": [
  {
   "cell_type": "markdown",
   "metadata": {},
   "source": [
    "# Classify Industries with HTML information"
   ]
  },
  {
   "cell_type": "code",
   "execution_count": 1,
   "metadata": {},
   "outputs": [
    {
     "name": "stdout",
     "output_type": "stream",
     "text": [
      "Loading of Sequence Tagger Model failed!\n"
     ]
    }
   ],
   "source": [
    "import matplotlib.pyplot as plt\n",
    "import numpy as np\n",
    "import pandas as pd\n",
    "import seaborn as sns\n",
    "\n",
    "# sklearn classification\n",
    "from sklearn.linear_model import SGDClassifier\n",
    "from sklearn.svm import LinearSVC\n",
    "\n",
    "# sklearn general\n",
    "from sklearn.feature_extraction.text import CountVectorizer, TfidfTransformer, TfidfVectorizer\n",
    "from sklearn.metrics import (confusion_matrix, \n",
    "                             classification_report, \n",
    "                             f1_score, \n",
    "                             precision_score,\n",
    "                             recall_score)\n",
    "from sklearn.pipeline import Pipeline\n",
    "from sklearn.preprocessing import LabelEncoder\n",
    "\n",
    "\n",
    "from stop_words import get_stop_words\n",
    "import ujson as json\n",
    "\n",
    "\n",
    "import sys\n",
    "import os\n",
    "\n",
    "module_path = os.path.abspath(os.path.join('..'))\n",
    "if module_path not in sys.path:\n",
    "    sys.path.append(module_path)\n",
    "\n",
    "from app.utils import (clean_boilerplate, \n",
    "                       clean_string,\n",
    "                       clean_website, \n",
    "                       detect_XML, \n",
    "                       extract_tagtexts,\n",
    "                       extract_tree,\n",
    "                       extract_meta_informations,\n",
    "                       reduce_whitespace,\n",
    "                       remove_special_characters,\n",
    "                       remove_tags)"
   ]
  },
  {
   "cell_type": "code",
   "execution_count": 2,
   "metadata": {},
   "outputs": [
    {
     "name": "stdout",
     "output_type": "stream",
     "text": [
      "CPU times: user 33.2 ms, sys: 7.69 ms, total: 40.9 ms\n",
      "Wall time: 44.4 ms\n"
     ]
    },
    {
     "data": {
      "text/html": [
       "<div>\n",
       "<style scoped>\n",
       "    .dataframe tbody tr th:only-of-type {\n",
       "        vertical-align: middle;\n",
       "    }\n",
       "\n",
       "    .dataframe tbody tr th {\n",
       "        vertical-align: top;\n",
       "    }\n",
       "\n",
       "    .dataframe thead th {\n",
       "        text-align: right;\n",
       "    }\n",
       "</style>\n",
       "<table border=\"1\" class=\"dataframe\">\n",
       "  <thead>\n",
       "    <tr style=\"text-align: right;\">\n",
       "      <th></th>\n",
       "      <th>url</th>\n",
       "      <th>group_representative</th>\n",
       "      <th>group_representative_label</th>\n",
       "      <th>text</th>\n",
       "      <th>chtml</th>\n",
       "      <th>&lt;meta&gt;_title</th>\n",
       "      <th>&lt;meta&gt;_keywords</th>\n",
       "      <th>&lt;meta&gt;_description</th>\n",
       "      <th>&lt;title&gt;</th>\n",
       "      <th>&lt;h1&gt;</th>\n",
       "      <th>...</th>\n",
       "      <th>&lt;h5&gt;</th>\n",
       "      <th>&lt;h6&gt;</th>\n",
       "      <th>&lt;b&gt;</th>\n",
       "      <th>&lt;strong&gt;</th>\n",
       "      <th>&lt;em&gt;</th>\n",
       "      <th>&lt;i&gt;</th>\n",
       "      <th>&lt;p&gt;</th>\n",
       "      <th>&lt;a&gt;</th>\n",
       "      <th>&lt;li&gt;</th>\n",
       "      <th>country</th>\n",
       "    </tr>\n",
       "  </thead>\n",
       "  <tbody>\n",
       "    <tr>\n",
       "      <th>0</th>\n",
       "      <td>http://12-18.com</td>\n",
       "      <td>30</td>\n",
       "      <td>Leisure, Travel &amp; Tourism</td>\n",
       "      <td>\\n\\nInvestment Management.\\n\\nEin glückliches ...</td>\n",
       "      <td>&lt;html&gt;\\n&lt;head&gt;\\n\\t&lt;title&gt;12.18. Investment Man...</td>\n",
       "      <td>12.18. Investment Management - ANDERS. AUS PRI...</td>\n",
       "      <td>12 18, 1218 Investment, 12 18 Invest, lim, lin...</td>\n",
       "      <td>Ein glückliches Investment ist das Resultat ha...</td>\n",
       "      <td>12.18. Investment Management - ANDERS. AUS PRI...</td>\n",
       "      <td></td>\n",
       "      <td>...</td>\n",
       "      <td>Fleesensee Resort  |  Hotel Stadt HamburgAlte...</td>\n",
       "      <td></td>\n",
       "      <td></td>\n",
       "      <td></td>\n",
       "      <td></td>\n",
       "      <td>Wir nehmen den Datenschutz nach EU-DSGVO erns...</td>\n",
       "      <td>12.18. Investment Management GmbHKönigsallee ...</td>\n",
       "      <td>Aktuelles Fleesensee Resort Kontakt Studie \"F...</td>\n",
       "      <td>Aktuelles Investment Management Hotel Collecti...</td>\n",
       "      <td>DE</td>\n",
       "    </tr>\n",
       "  </tbody>\n",
       "</table>\n",
       "<p>1 rows × 23 columns</p>\n",
       "</div>"
      ],
      "text/plain": [
       "                url  group_representative group_representative_label  \\\n",
       "0  http://12-18.com                    30  Leisure, Travel & Tourism   \n",
       "\n",
       "                                                text  \\\n",
       "0  \\n\\nInvestment Management.\\n\\nEin glückliches ...   \n",
       "\n",
       "                                               chtml  \\\n",
       "0  <html>\\n<head>\\n\\t<title>12.18. Investment Man...   \n",
       "\n",
       "                                        <meta>_title  \\\n",
       "0  12.18. Investment Management - ANDERS. AUS PRI...   \n",
       "\n",
       "                                     <meta>_keywords  \\\n",
       "0  12 18, 1218 Investment, 12 18 Invest, lim, lin...   \n",
       "\n",
       "                                  <meta>_description  \\\n",
       "0  Ein glückliches Investment ist das Resultat ha...   \n",
       "\n",
       "                                             <title> <h1>  ...  \\\n",
       "0  12.18. Investment Management - ANDERS. AUS PRI...       ...   \n",
       "\n",
       "                                                <h5> <h6> <b> <strong> <em>  \\\n",
       "0   Fleesensee Resort  |  Hotel Stadt HamburgAlte...                          \n",
       "\n",
       "                                                 <i>  \\\n",
       "0   Wir nehmen den Datenschutz nach EU-DSGVO erns...   \n",
       "\n",
       "                                                 <p>  \\\n",
       "0  12.18. Investment Management GmbHKönigsallee ...   \n",
       "\n",
       "                                                 <a>  \\\n",
       "0   Aktuelles Fleesensee Resort Kontakt Studie \"F...   \n",
       "\n",
       "                                                <li> country  \n",
       "0  Aktuelles Investment Management Hotel Collecti...      DE  \n",
       "\n",
       "[1 rows x 23 columns]"
      ]
     },
     "execution_count": 2,
     "metadata": {},
     "output_type": "execute_result"
    }
   ],
   "source": [
    "%%time\n",
    "train = pd.read_csv(\"../data/ctrain.csv\", lineterminator=\"\\n\", nrows=100).fillna(\"\")\n",
    "#train = train.fillna(\"\")\n",
    "train.head(1)"
   ]
  },
  {
   "cell_type": "code",
   "execution_count": 3,
   "metadata": {},
   "outputs": [
    {
     "data": {
      "text/plain": [
       "(100, 23)"
      ]
     },
     "execution_count": 3,
     "metadata": {},
     "output_type": "execute_result"
    }
   ],
   "source": [
    "train.shape"
   ]
  },
  {
   "cell_type": "code",
   "execution_count": 12,
   "metadata": {},
   "outputs": [],
   "source": [
    "def cleans(string):\n",
    "    string = string.replace(\"\\n\", \"\")\n",
    "    string = string.replace(\"\\r\", \"\")\n",
    "    string = string.replace(\"\\t\", \"\")\n",
    "    return string"
   ]
  },
  {
   "cell_type": "code",
   "execution_count": 20,
   "metadata": {},
   "outputs": [],
   "source": [
    "chtml = train.iloc[21].chtml"
   ]
  },
  {
   "cell_type": "code",
   "execution_count": 17,
   "metadata": {},
   "outputs": [
    {
     "name": "stdout",
     "output_type": "stream",
     "text": [
      "0 -5\n",
      "2 -14\n",
      "7 -274\n",
      "9 -2\n",
      "11 -193\n",
      "21 -1909\n",
      "31 -766\n",
      "37 -3273\n",
      "38 -32\n",
      "39 -146\n",
      "43 -247\n",
      "45 -84\n",
      "48 -53\n",
      "51 -4\n",
      "61 -99\n",
      "62 -328\n",
      "63 -366\n",
      "65 -2306\n",
      "75 -905\n",
      "82 -2\n",
      "97 -72\n"
     ]
    }
   ],
   "source": [
    "for idx, row in train.iterrows():\n",
    "    allt = extract_tagtexts(row.chtml, \"p\", no_inner=False)\n",
    "    innert = extract_tagtexts(row.chtml, \"p\", no_inner=True)\n",
    "    if len(cleans(allt)) - len(cleans(innert)) < 0:\n",
    "        print(idx, len(cleans(allt)) - len(cleans(innert)))"
   ]
  },
  {
   "cell_type": "code",
   "execution_count": 5,
   "metadata": {},
   "outputs": [
    {
     "data": {
      "text/plain": [
       "'hallo wie gehts'"
      ]
     },
     "execution_count": 5,
     "metadata": {},
     "output_type": "execute_result"
    }
   ],
   "source": [
    "from lxml.html import soupparser\n",
    "c = \"<xml><div>hallo<div>wie gehts</div></div></xml>\"\n",
    "extract_tagtexts(c, \"div\", no_inner=True)"
   ]
  },
  {
   "cell_type": "code",
   "execution_count": 49,
   "metadata": {
    "collapsed": true
   },
   "outputs": [
    {
     "ename": "UnicodeEncodeError",
     "evalue": "'ascii' codec can't encode character '\\u0308' in position 228: ordinal not in range(128)",
     "output_type": "error",
     "traceback": [
      "\u001b[0;31m---------------------------------------------------------------------------\u001b[0m",
      "\u001b[0;31mUnicodeEncodeError\u001b[0m                        Traceback (most recent call last)",
      "\u001b[0;32m<ipython-input-49-e1eb4e86785d>\u001b[0m in \u001b[0;36m<module>\u001b[0;34m\u001b[0m\n\u001b[1;32m      1\u001b[0m \u001b[0;32mfrom\u001b[0m \u001b[0mlxml\u001b[0m \u001b[0;32mimport\u001b[0m \u001b[0mhtml\u001b[0m\u001b[0;34m,\u001b[0m \u001b[0metree\u001b[0m\u001b[0;34m\u001b[0m\u001b[0;34m\u001b[0m\u001b[0m\n\u001b[1;32m      2\u001b[0m \u001b[0;34m\u001b[0m\u001b[0m\n\u001b[0;32m----> 3\u001b[0;31m \u001b[0metree\u001b[0m\u001b[0;34m.\u001b[0m\u001b[0mtostring\u001b[0m\u001b[0;34m(\u001b[0m\u001b[0mextract_tree\u001b[0m\u001b[0;34m(\u001b[0m\u001b[0mchtml\u001b[0m\u001b[0;34m,\u001b[0m \u001b[0;34m\"xml\"\u001b[0m\u001b[0;34m)\u001b[0m\u001b[0;34m,\u001b[0m \u001b[0mmethod\u001b[0m\u001b[0;34m=\u001b[0m\u001b[0;34m\"text\"\u001b[0m\u001b[0;34m)\u001b[0m\u001b[0;34m\u001b[0m\u001b[0;34m\u001b[0m\u001b[0m\n\u001b[0m",
      "\u001b[0;32msrc/lxml/etree.pyx\u001b[0m in \u001b[0;36mlxml.etree.tostring\u001b[0;34m()\u001b[0m\n",
      "\u001b[0;32msrc/lxml/serializer.pxi\u001b[0m in \u001b[0;36mlxml.etree._tostring\u001b[0;34m()\u001b[0m\n",
      "\u001b[0;32msrc/lxml/serializer.pxi\u001b[0m in \u001b[0;36mlxml.etree._textToString\u001b[0;34m()\u001b[0m\n",
      "\u001b[0;31mUnicodeEncodeError\u001b[0m: 'ascii' codec can't encode character '\\u0308' in position 228: ordinal not in range(128)"
     ]
    }
   ],
   "source": [
    "from lxml import html, etree\n",
    "\n",
    "etree.tostring(extract_tree(chtml, \"xml\"), method=\"text\")"
   ]
  },
  {
   "cell_type": "code",
   "execution_count": 62,
   "metadata": {},
   "outputs": [
    {
     "data": {
      "text/plain": [
       "'wie gehts hallowie gehts'"
      ]
     },
     "execution_count": 62,
     "metadata": {},
     "output_type": "execute_result"
    }
   ],
   "source": [
    "divs = extract_tagtexts(c, \"div\")\n",
    "cleans(divs)"
   ]
  },
  {
   "cell_type": "code",
   "execution_count": 29,
   "metadata": {},
   "outputs": [
    {
     "data": {
      "text/plain": [
       "226955"
      ]
     },
     "execution_count": 29,
     "metadata": {},
     "output_type": "execute_result"
    }
   ],
   "source": [
    "len(cleans(divs))"
   ]
  },
  {
   "cell_type": "code",
   "execution_count": 41,
   "metadata": {
    "collapsed": true
   },
   "outputs": [
    {
     "data": {
      "text/plain": [
       "'Investment Management.Ein glückliches Investment ist das Resultat harter Arbeit und eherner Prinzipien. Wir von 12.18. Investment Management bieten unseren Kunden beides – ganz gleich, ob Sie Investor, Verkäufer oder Käufer einer Immobilie sind.Investment Management.Hospitality Management.Die 12.18. Hospitality Management GmbH dient der Sicherstellung des strategischen Erfolges der unternehmenseigenen Hotels durch Positionierung, Kommunikation, Verkauf und Nachhaltigkeit.Hospitality Management.Private Investments.Unser Sale-and-Lease-Back-Konzept mit 12.18.-Standard kombiniert die Vorteile einer attraktiven Kapitalanlage zur Vermögenssicherung für Generationen mit den Vorzügen der eigenen Ferienimmobilie.Private Investments.Hotel Collection.Wir sind stolz auf das, was wir bisher geleistet haben. Und es erfüllt uns mit Neugier, welche spannenden Herausforderungen die Zukunft für uns bereithält. Willkommen in unserer Hotelkollektion.Hotel Collection.Wer wir sind und was wir tun.INVESTMENT MANAGEMENT.Ob Investment, Development oder Private Investments bei 12.18. Investment Management profitieren Sie von allen Geschäftsbereichen aus einer Hand. Wir investieren in Hotel- und Touristikimmobilien der Extraklasse. Dabei legen wir größten Wert auf ein vertrauensvolles und partnerschaftliches Miteinander. Wir entwickeln mit viel Liebe zum Detail nachhaltige Hotel- und Touristikimmobilien und geben jedem Konzept das gewisse Etwas, immer unter Berücksichtigung der größten baulichen, ästhetischen und funktionalen Standards in jeder Projektphase. Wir betreiben Private Investments mit einem Höchstmaß an Zuverlässigkeit und Verantwortung, denn als Betreiber unserer eigenen Objekte wissen wir worauf es wirklich ankommt.mehr Über 12.18. Investment Management »Hospitality Management.Unser 12.18. Hospitality Management-Team mit Sitz in Düsseldorf vereint Spitzenkräfte aus der Grandhotellerie, die in zahlreichen renommierten Häusern tätig waren. Unser Know-How, vor allem in den Bereichen Operation, F&B, Service, Training, Quality Management, Sales & Marketing sind das Fundament unserer Arbeit, das wir ständig zielführend weiter ausbauen. Neben den Objekten der 12.18.-Gruppe stellt die Hospitality Management-Division ihre Services auch externen Hoteleigentümern und -Betreibern auf Anfrage zur Verfügung.mehr Über 12.18. Hospitality Management »VERMÖGENSMANAGEMENT.Das 12.18. Vermögensmanagement-Team ist ein vertrauensvoller Partner für private Kapitalanleger, die in eine unserer hochwertigen Ferienimmobilien investieren möchten und begleitet diese beim gesamten Kaufprozess. Dank unserer professionellen Managements kann sich der Eigentümer gleichzeitig auf laufende Erträge und seinen Urlaub freuen. Verwaltung, Vermarktung, Instandhaltung und Wartung übernehmen wir.mehr Über 12.18. VermögensManagement »Und was unternehmen wir heute?Ein glückliches Investment ist das Resultat harter Arbeit und eherner Prinzipien. Wir von 12.18. Investment Management bieten unseren Kunden beides – ganz gleich, ob Sie Investor, Verkäufer oder Käufer einer Immobilie sind.Wir sind Experten für hochklassige Investments im Bereich Hotel- und Ferienimmobilien. Ausgewiesene Spezialisten für die Bereiche Investment, Development und Private Investments aus einer Hand. Wir verfügen über umfangreiche Erfahrung in der Hotellerie. Deshalb sind wir in der Lage, Immobilien bei Bedarf auch selbst zu betreiben und bei jedem Investment jederzeit betreiberunabhängig zu agieren.Wir glauben an das Besondere. Entwickeln das Besondere. Und realisieren das Besondere. Als eigentümergeführtes Unternehmen verfügen wir über genügend Branchenkenntnisse, um die Ziele, die wir uns selbst stecken, zu erreichen. Wir reüssieren in einem Markt, der nie leicht war und nie leicht sein wird.Wir sind spezialisiert auf renditestarke Objekte mit großem Entwicklungspotential in den besten Lagen Deutschlands und Europas.Unser Leistungsspektrum reicht vom Ankauf und der Konzeption über die Finanzierung und die Revitalisierung bis zum Betrieb und Vertrieb. Wir glauben an das, was wir tun. Und wir tun das, woran wir glauben. Dabei vereinen wir Ökonomie und Ökologie, Wirtschaftlichkeit und Wachstum, feste Grundsätze und die Freiheit individueller Entfaltung zu einem schlüssigen Gesamtkonzept, das dem Anspruch unserer Kunden ebenso gerecht wird wie unserem eigenen.Manifest.Die Strukturunseres Unternehmens.Das etwas andere Investment.12.18. Investment Management konzipiert hochwertige Hotel- und Touristikimmobilieninvestments für institutionelle und private Anleger. Dabei legen wir größten Wert auf ein vertrauensvolles, partnerschaftliches Miteinander und gewinnbringende Rahmenbedingungen für alle Projektbeteiligten. Seien es Joint Ventures im Rahmen von Projektentwicklungen und Refurbishments oder sei es die direkte bzw. indirekte Anlagemöglichkeit für Endinvestoren: Bei 12.18. Investment Management gibt es keine Investments von der Stange, sondern den besonderen Gegebenheiten der Objektlage sowie den speziellen Bedürfnissen späterer Nutzer angepasste Konzepte.Das etwas andere DEVELOPMENT.Wir entwickeln ökonomisch und ökologisch nachhaltige Hotel- und Touristikimmobilien in den besten Lagen Deutschlands und Europas. Uns treibt die Liebe zum Detail, das gewisse Extra sowie die Berücksichtigung höchster baulicher, ästhetischer und funktionaler Standards in jeder Projektphase. Im Geschäftsbereich Development arbeitet 12.18. Investment Management eng mit der Mediinvest Development GmbH zusammen. Gemeinsam mit diesem auf die Entwicklung und Vermarktung hochwertiger Hotel- und Touristikimmobilien spezialisierten Unternehmen bilden wir ein schlagkräftiges Team, das unsere Vision vom besonderen Freizeiterlebnis für anspruchsvolle Kunden wahr werden lässt.Das etwas andere Management.Wir betreiben professionelle Private Investments mit einem Höchstmaß an Zuverlässigkeit und Verantwortung. Das liegt unter anderem daran, dass wir Objekte auch selbst betreiben. Somit wissen wir ganz genau, was ein Investor oder Entwickler alles beachten muss, damit der spätere Betreiber langfristigen Erfolg hat. Unser Angebot reicht vom Asset Management über die Entwicklung von Investmentstrategien, die Risikoprüfung, das Portfoliomanagement und die Betriebsführung bis hin zum Transaktionsmanagement.Wertschöpfungs-kette.Wir bilden die gesamte Wertschöpfungskette professionell ab - von der Standortbesichtigung über die Wirtschaftlichkeitsberechnung, die Projektplanung, die Projektausführung, die Finanzierung, die Konzeptionierung, den Betrieb und die Veräußerung bis hin zum Management.Anders. Aus Prinzip.Unternehmens-Geschichte.Gegründet im Jahr 2006 als Lindner Investment Management GmbH, nahm das Unternehmen 2013 mit der Beteiligung von Kai Richter seinen heutigen Geschäftsbetrieb auf und erwarb das Hotels und Sportresort Fleesensee. Es folgten weitere Investitionen auf Ibiza und Teneriffa sowie in Mecklenburg-Vorpommern.Die Entwicklung des Unternehmens verlief seit seiner Gründung nachhaltig und kontinuierlich. So entstand aus einem Betrieb mit 5 Mitarbeitern nach und nach ein florierendes Unternehmen, das heute mehr als 50 Mitarbeiter beschäftigt und seinen Wachstumskurs nachhaltig fortsetzt.Im August 2016 erfolgte die Umbenennung von LIM in 12.18. Investment Management. Parallel dazu fand der Umzug in den Kö-Bogen auf der Königsallee im Düsseldorfer Stadtzentrum statt. Somit sind die Weichen für weitere Entwicklungsschritte gestellt.Zahlen, Daten, Fakten.61Mitarbeiter arbeiten bei 12.18. Investment Management.In den Hotel- und Freizeitimmobilien von 12.18. Investment Management sind zur Zeit rund1.981Mitarbeiter tätig.Zurzeit betreibt unser Unternehmen Hotel- und Freizeitimmobilien mit insgesamt5.068Betten.Wenn man die Grundstücksflächen all unserer Investments addiert, kommt man auf eine Gesamtgröße von7.111.588 m²Das Gesamtvolumen unserer Investments in Hotel- und Freizeitimmobilien beträgt über485 Mio€Die Anzahl der von uns und unseren Gästen registrierten einzigartigen Sonnenuntergänge betrug608,5 *allein in 2020.*Die Stelle hinter dem Komma ergibt sich aus der Uneinigkeit eines Ehepaars aus Potsdam in Bezug auf den Sonnenuntergang auf Ibiza am 08.08.2020. Sie meinte, der Sonnenuntergang an diesem Tag sei vergleichsweise durchschnittlich gewesen. Er hingegen meinte, er sei exorbitant schön gewesen.Anders. Aus Prinzip.«Kai Richter.Mitgründer der 12.18. INVESTMENT MANAGEMENT.„ANDERS. AUS PRINZIP.\" HEISST, GROSSARTIGE VISIONEN IN EINE NOCH GROSSARTIGERE REALITÄT ZU VERWANDELN.Kai Richter wurde 1967 in Dortmund geboren und verstarb am 7. April 2020 nach kurzer und schwerer Erkrankung. Mit seinem Tod endet eine rund 30-jährige Karriere in der Immobilien- und Tourismusbranche. Neben seinem 2004 gegründeten Unternehmen Mediinvest führte Kai Richter seit 2013 gemeinsam mit Jörg Lindner die 12.18. Investment Management GmbH zum Erfolg. Seine visionären Ideen, seine Zielstrebigkeit sowie sein Enthusiasmus haben maßgeblich zum Wachstum des Unternehmens beigetragen - und werden allen Beschäftigten der 12.18. Unternehmensgruppe weiterhin ein Vorbild sein.Mehr über Kai Richter »»Jörg Lindner.GESCHÄFTSFÜHRENDER GESELLSCHAFTER BEI 12.18. INVESTMENT MANAGEMENT.„ANDERS. AUS PRINZIP.\" HEISST, SCHNELLER ZU DENKEN UND SCHNELLER ZU HANDELN.Jörg Lindner verfügt über mehr als 30 Jahre Erfahrung in den Bereichen Projektentwicklung, Finanzierung und Management von Wohn-, Büro-, Einzelhandels- und Hotelimmobilien. Er ist geschäftsführender Gesellschafter der Lindner Unternehmensgruppe und der älteste von fünf Söhnen des Unternehmensgründers und Architekten Otto Lindner, die das Familienunternehmen in den verschiedenen Geschäftsbereichen gemeinsam führen. Der studierte Diplom-Kaufmann, ausgebildete Berufspilot und leidenschaftliche Sportler ist verheiratet und stolzer Vater von fünf Kindern.Unternehmer.Aus Prinzip.Unser Unternehmen ist eng mit zwei Persönlichkeiten verbunden: Jörg Lindner und Kai Richter, den beiden geschäftsführenden Gesellschaftern unseres familiengeführten Betriebes.12.18. Investment Management versteht sich als Summe herausragender Einzelpersönlichkeiten, die ein gemeinsamer Weg und ein gemeinsames Ziel fest zusammenschweißt.Mit all dem Wissen, all der Erfahrung, all der Neugier, all dem Ehrgeiz und all den anderen Tugenden, die uns auszeichnen und die uns motivieren, immer wieder herausragende Ergebnisse für unsere Partner, Kunden und natürlich auch für uns selbst zu erzielen.WIR SIND, WER WIR SIND.DAS TEAM VON 12.18. Investment MANAGEMENT.DAS TEAM VON 12.18. Hospitality Management.DAS TEAM VON 12.18. VermögensMANAGEMENT.Awards.Anders. Aus Prinzip.Aktuelles.Pressekontakt.Herr John F. GoetzeDirector of Communication, PR & Marketing12.18. Investment Management GmbHKönigsallee 2bD-40212 DüsseldorfTel.: +49-211-5 8080 7-31Fax: +49-211-5 8080 711E-Mail: j.goetze@12-18.comFrau Larissa Maier-LauthPR Manager12.18. Investment Management GmbHKönigsallee 2bD-40212 DüsseldorfTel.: +49-211-5 8080 7-383Mobil: +49 151 10323910Fax: +49-211-5 8080 711E-Mail: l.maier-lauth@12-18.comAktuelle Meldungen.13.04.2021Carlos Fritz übernimmt Funktion als General Manager des 7Pines Resort Ibiza.|Die 12.18. Unternehmensgruppe freut sich, die Beförderung von Carlos Fritz zum General Manager des 7Pines Resort Ibiza bekanntzugeben. Der 36-jährige übernimmt ab sofort die Position von Markus Lück, der das strategische ...Weiterlesen »30.03.202112.18. Unternehmensgruppe veräußert Alten Gasthof auf Sylt.|Die 12.18. Unternehmensgruppe trennt sich von ihrem Sylter Restaurant „Alter Gasthof“ in List. Über den Kaufpreis wurde Stillschweigen vereinbart. Der neue Eigentümer plant, den Gastraum in ein Ferienapartment ...Weiterlesen »11.03.2021Golfvergnügen für die gesamte Familie im neuen BEECH Resort Fleesensee .|Gelegen im Herzen der Mecklenburgischen Seenplatte, öffnet das neue BEECH Resort Fleesensee ab Frühling 2021 seine Pforten für Gäste. Mit modernem Design, vielfältigen Gastronomiekonzepten und einem umfangreichen ...Weiterlesen ».Alle Meldungen »Alle Meldungen »Downloads.Studien.Im Rahmen der repräsentativen Studie \"Medical Spa\" wurden 1.050 Personen nach ihrer Meinung zum Thema Medical Spa befragt. Hier können Sie die Studie herunterladen.Studie \"Medical SPa\" DownloadenKurzfassung Studie \"Medical Spa\"Unsere repräsentative Studie ist nicht nur für Käufer von Ferienimmobilien von höchstem Interesse. Auf 59 Seiten informieren wir Sie auf einer Grundlage von 1020 Befragten, worauf es bei der Wahl einer geeigneten Ferienimmobilie ankommt. Hier können Sie die Studie herunterladen.Studie \"Ferienimmobilien\" DownloadenKurzfassung Studie \"Ferienimmobilien\"Logo.Das Unternehmenslogo sowie die Logos unserer Projekte können Sie hier herunterladen.12.18.Fleesensee ResortSCHLOSSSCHLOSS FleesenseeSCHLOSS Roxburghe7Pines KempinskiMaremüritzBiggeseeHotel Stadt HamburgAlter Gasthof SyltPM.Unsere aktuellen Pressemitteilungen finden Sie hier. Sollten Sie weitere Informationen zu 12.18. Investment Management benötigen, wenden Sie sich bitte direkt an Frau Larissa Maier-Lauth, PR Manager.Fragen?Antworten.12.18. Investment Management liebt den Dialog. Egal, welches Anliegen Sie haben – wir antworten prompt und professionell. Für Anfragen von Medienvertretern steht Ihnen unser direkter Pressekontakt im Bereich Aktuelles zur Verfügung.Wir nehmen den Datenschutz nach EU-DSGVO ernst und geben Ihre Daten nicht an Dritte weiter. Dieses Formular sendet und validiert Ihre eingegebenen Daten per SSL. Anschließend erhalten Sie und der zuständige Sachbearbeiter eine Kopie Ihrer Anfrage via E-Mail. Weitere Hinweise zur Erhebung, Speicherung und Schutz Ihrer Daten erhalten Sie in unseren Datenschutzbestimmungen.*Pflichtfeld**Pflichtfeld bei persönlichem BeratungsterminIch bin Investor und wünsche einen persönlichen Beratungstermin.Ich bin Verkäufer einer touristischen Destination und wünsche einen persönlichen Beratungstermin. Bitte beachten Sie hierzu auch unsere Hinweise für Verkäufer. (link)Ich interessiere mich für den Kauf einer Ferienimmobilie und wünsche einen persönlichen Beratungstermin.Ich wünsche weitere Informationen zu einem bestimmten Projekt:Ich habe ein anderes Anliegen:Ich habe die Datenschutzbestimmungen  gelesen und stimme diesen zu.*Ich bestelle den Newsletter von 12.18. Investment Management.Vielen Dank für Ihre Nachricht. Wir werden Ihr Anliegen prüfen und uns entsprechend bei Ihnen Melden.HomeProjekteUnternehmerAktuellesAnkaufsprofilkarriereKontaktNewsletterImpressumDatenschutzDE  /  ENInvestment ManagementHospitality ManagementVermögensmanagementHotel CollectionDE  /  ENHotel CollectionVermögensmanagementHospitality ManagementInvestment ManagementKontaktKarriereAnkaufsprofilAktuellesUnternehmerUnternehmenHomeHomeUnternehmenUnternehmerAktuellesAnkaufsprofilKarriereKontaktDE  /  ENInvestment ManagementHospitality ManagementVermögensmanagementHotel CollectionBitte prüfen Sie Ihre Internetverbindung.SicherheitswarnungDer Support für Internet Explorer (IE) wurde zum 12.01.2016 seitens Microsoft eingestellt. Zu Ihrer eigenen Sicherheit wechseln Sie bitte auf einen aktuellen Browser:fiCMS unterstützt seit 01.01.2021 die veralteten Protokolle des IE nicht mehr. Bitte beachten Sie, dass die Funktionalität dieser Webseite daher eingeschränkt sein könnte.aHR0cHM6Ly8xMi0xOC5jb20vZGVzaWducy9hbGwvY29uc2VudC9nYS5qcw==aHR0cHM6Ly9tYXBzLmdvb2dsZWFwaXMuY29tL21hcHMvYXBpL2pzP2NhbGxiYWNrPXVpRWxlbWVudHNNYXAma2V5PUFJemFTeUF2SnZnTEhvaFhzM0xBWmlDOGg4Z3Z0VklfM0U5eVM1VQ==Um unsere Webseite für Sie optimal zu gestalten und fortlaufend verbessern zu können, verwenden wir Cookies und Scripte von Drittanbietern. Sie können alle Cookies akzeptieren, oder Ihre Cookies selbstverwalten und nötige Einstellungen vornehmen. Mehr Informationen finden Sie in unseren Datenschutzbestimmungen.EinstellungenNotwendigAnalyseNur NotwendigeDatenschutzbestimmungen'"
      ]
     },
     "execution_count": 41,
     "metadata": {},
     "output_type": "execute_result"
    }
   ],
   "source": [
    "cleans(train.iloc[0].text)"
   ]
  },
  {
   "cell_type": "code",
   "execution_count": 39,
   "metadata": {},
   "outputs": [
    {
     "data": {
      "text/plain": [
       "'12.18. Investment Management - ANDERS. AUS PRINZIP.        Investment Management.Ein glückliches Investment ist das Resultat harter Arbeit und eherner Prinzipien. Wir von 12.18. Investment Management bieten unseren Kunden beides – ganz gleich, ob Sie Investor, Verkäufer oder Käufer einer Immobilie sind.Investment Management.Hospitality Management.Die 12.18. Hospitality Management GmbH dient der Sicherstellung des strategischen Erfolges der unternehmenseigenen Hotels durch Positionierung, Kommunikation, Verkauf und Nachhaltigkeit.Hospitality Management.Private Investments.Unser Sale-and-Lease-Back-Konzept mit 12.18.-Standard kombiniert die Vorteile einer attraktiven Kapitalanlage zur Vermögenssicherung für Generationen mit den Vorzügen der eigenen Ferienimmobilie.Private Investments.Hotel Collection.Wir sind stolz auf das, was wir bisher geleistet haben. Und es erfüllt uns mit Neugier, welche spannenden Herausforderungen die Zukunft für uns bereithält. Willkommen in unserer Hotelkollektion.Hotel Collection.                                                                                                                                                                                                                                                                                                                Wer wir sind und was wir tun.                                                                                                                                                                                                                                                                                                                                                                                                                                INVESTMENT MANAGEMENT.                                                Ob Investment, Development oder Private Investments bei 12.18. Investment Management profitieren Sie von allen Geschäftsbereichen aus einer Hand. Wir investieren in Hotel- und Touristikimmobilien der Extraklasse. Dabei legen wir größten Wert auf ein vertrauensvolles und partnerschaftliches Miteinander. Wir entwickeln mit viel Liebe zum Detail nachhaltige Hotel- und Touristikimmobilien und geben jedem Konzept das gewisse Etwas, immer unter Berücksichtigung der größten baulichen, ästhetischen und funktionalen Standards in jeder Projektphase. Wir betreiben Private Investments mit einem Höchstmaß an Zuverlässigkeit und Verantwortung, denn als Betreiber unserer eigenen Objekte wissen wir worauf es wirklich ankommt.                                                    mehr Über 12.18. Investment Management »                                                                                                                                                                                                                                                                                                                                                                                            Hospitality Management.                                                Unser 12.18. Hospitality Management-Team mit Sitz in Düsseldorf vereint Spitzenkräfte aus der Grandhotellerie, die in zahlreichen renommierten Häusern tätig waren. Unser Know-How, vor allem in den Bereichen Operation, F&B, Service, Training, Quality Management, Sales & Marketing sind das Fundament unserer Arbeit, das wir ständig zielführend weiter ausbauen. Neben den Objekten der 12.18.-Gruppe stellt die Hospitality Management-Division ihre Services auch externen Hoteleigentümern und -Betreibern auf Anfrage zur Verfügung.                        mehr Über 12.18. Hospitality Management »                                                                                                                                                                                                                                                                                                                                            VERMÖGENSMANAGEMENT.                                                Das 12.18. Vermögensmanagement-Team ist ein vertrauensvoller Partner für private Kapitalanleger, die in eine unserer hochwertigen Ferienimmobilien investieren möchten und begleitet diese beim gesamten Kaufprozess. Dank unserer professionellen Managements kann sich der Eigentümer gleichzeitig auf laufende Erträge und seinen Urlaub freuen. Verwaltung, Vermarktung, Instandhaltung und Wartung übernehmen wir.                        mehr Über 12.18. VermögensManagement »                                                                                                                                                                                                                                                                                                                                                                                                                                                                                                                                                                                                                                                                                                                                                                                                                                              Und was unternehmen wir heute?                                                                                                                                                                                                                                                                                                                                                                                                                                                                                Ein glückliches Investment ist das Resultat harter Arbeit und eherner Prinzipien. Wir von 12.18. Investment Management bieten unseren Kunden beides – ganz gleich, ob Sie Investor, Verkäufer oder Käufer einer Immobilie sind.Wir sind Experten für hochklassige Investments im Bereich Hotel- und Ferienimmobilien. Ausgewiesene Spezialisten für die Bereiche Investment, Development und Private Investments aus einer Hand. Wir verfügen über umfangreiche Erfahrung in der Hotellerie. Deshalb sind wir in der Lage, Immobilien bei Bedarf auch selbst zu betreiben und bei jedem Investment jederzeit betreiberunabhängig zu agieren.                                                                                                                                                                                                                                                                                                                                                                                                                                                                                                Wir glauben an das Besondere. Entwickeln das Besondere. Und realisieren das Besondere. Als eigentümergeführtes Unternehmen verfügen wir über genügend Branchenkenntnisse, um die Ziele, die wir uns selbst stecken, zu erreichen. Wir reüssieren in einem Markt, der nie leicht war und nie leicht sein wird.Wir sind spezialisiert auf renditestarke Objekte mit großem Entwicklungspotential in den besten Lagen Deutschlands und Europas.                                                                                                                                                                                                                                                                                                                                                                                                                    Unser Leistungsspektrum reicht vom Ankauf und der Konzeption über die Finanzierung und die Revitalisierung bis zum Betrieb und Vertrieb. Wir glauben an das, was wir tun. Und wir tun das, woran wir glauben. Dabei vereinen wir Ökonomie und Ökologie, Wirtschaftlichkeit und Wachstum, feste Grundsätze und die Freiheit individueller Entfaltung zu einem schlüssigen Gesamtkonzept, das dem Anspruch unserer Kunden ebenso gerecht wird wie unserem eigenen.                                                                                                                                                                                                                                                                                                                                                                                      Manifest.                                                                                                                                                                                                                                                                                                                                                            Die Strukturunseres Unternehmens.                                                                                                                                                                                                                                                                                                                                                                                                                                Das etwas andere Investment.                                                12.18. Investment Management konzipiert hochwertige Hotel- und Touristikimmobilieninvestments für institutionelle und private Anleger. Dabei legen wir größten Wert auf ein vertrauensvolles, partnerschaftliches Miteinander und gewinnbringende Rahmenbedingungen für alle Projektbeteiligten. Seien es Joint Ventures im Rahmen von Projektentwicklungen und Refurbishments oder sei es die direkte bzw. indirekte Anlagemöglichkeit für Endinvestoren: Bei 12.18. Investment Management gibt es keine Investments von der Stange, sondern den besonderen Gegebenheiten der Objektlage sowie den speziellen Bedürfnissen späterer Nutzer angepasste Konzepte.                                                                                                                                                                                                                                                                                                                                                                Das etwas andere DEVELOPMENT.                                                Wir entwickeln ökonomisch und ökologisch nachhaltige Hotel- und Touristikimmobilien in den besten Lagen Deutschlands und Europas. Uns treibt die Liebe zum Detail, das gewisse Extra sowie die Berücksichtigung höchster baulicher, ästhetischer und funktionaler Standards in jeder Projektphase. Im Geschäftsbereich Development arbeitet 12.18. Investment Management eng mit der Mediinvest Development GmbH zusammen. Gemeinsam mit diesem auf die Entwicklung und Vermarktung hochwertiger Hotel- und Touristikimmobilien spezialisierten Unternehmen bilden wir ein schlagkräftiges Team, das unsere Vision vom besonderen Freizeiterlebnis für anspruchsvolle Kunden wahr werden lässt.                                                                                                                                                                                                                                                                                                                                                                    Das etwas andere Management.                                                Wir betreiben professionelle Private Investments mit einem Höchstmaß an Zuverlässigkeit und Verantwortung. Das liegt unter anderem daran, dass wir Objekte auch selbst betreiben. Somit wissen wir ganz genau, was ein Investor oder Entwickler alles beachten muss, damit der spätere Betreiber langfristigen Erfolg hat. Unser Angebot reicht vom Asset Management über die Entwicklung von Investmentstrategien, die Risikoprüfung, das Portfoliomanagement und die Betriebsführung bis hin zum Transaktionsmanagement.                                                                                                                                                                                                                                                                                                                                                                                                                                                                                        Wertschöpfungs-kette.                    Wir bilden die gesamte Wertschöpfungskette professionell ab - von der Standortbesichtigung über die Wirtschaftlichkeitsberechnung, die Projektplanung, die Projektausführung, die Finanzierung, die Konzeptionierung, den Betrieb und die Veräußerung bis hin zum Management.                                                                                                                                                                                                                                                                                                                                                                                                                Anders. Aus Prinzip.                                  Unternehmens-Geschichte.                                                                                                                                                                                                                                                                                                                                                                                                                                                                                Gegründet im Jahr 2006 als Lindner Investment Management GmbH, nahm das Unternehmen 2013 mit der Beteiligung von Kai Richter seinen heutigen Geschäftsbetrieb auf und erwarb das Hotels und Sportresort Fleesensee. Es folgten weitere Investitionen auf Ibiza und Teneriffa sowie in Mecklenburg-Vorpommern.                                                                                                                                                                                                                                                                                                                                                                                                                                                                                                Die Entwicklung des Unternehmens verlief seit seiner Gründung nachhaltig und kontinuierlich. So entstand aus einem Betrieb mit 5 Mitarbeitern nach und nach ein florierendes Unternehmen, das heute mehr als 50 Mitarbeiter beschäftigt und seinen Wachstumskurs nachhaltig fortsetzt.                                                                                                                                                                                                                                                                                                                                                                                                                    Im August 2016 erfolgte die Umbenennung von LIM in 12.18. Investment Management. Parallel dazu fand der Umzug in den Kö-Bogen auf der Königsallee im Düsseldorfer Stadtzentrum statt. Somit sind die Weichen für weitere Entwicklungsschritte gestellt.                                                                                                                                                                                                Zahlen, Daten, Fakten.                                                                                                                61                        Mitarbeiter arbeiten bei 12.18. Investment Management.                                                                                    In den Hotel- und Freizeitimmobilien von 12.18. Investment Management sind zur Zeit rund                        1.981                        Mitarbeiter tätig.                                                                                                        Zurzeit betreibt unser Unternehmen Hotel- und Freizeitimmobilien mit insgesamt                        5.068                        Betten.                                                                                    Wenn man die Grundstücksflächen all unserer Investments addiert, kommt man auf eine Gesamtgröße von                        7.111.588 m2                                                                                                        Das Gesamtvolumen unserer Investments in Hotel- und Freizeitimmobilien beträgt über                        485 Mio€                                                                                    Die Anzahl der von uns und unseren Gästen registrierten einzigartigen Sonnenuntergänge betrug                        608,5 *                        allein in 2020.                                                                                    *Die Stelle hinter dem Komma ergibt sich aus der Uneinigkeit eines Ehepaars aus Potsdam in Bezug auf den Sonnenuntergang auf Ibiza am 08.08.2020. Sie meinte, der Sonnenuntergang an diesem Tag sei vergleichsweise durchschnittlich gewesen. Er hingegen meinte, er sei exorbitant schön gewesen.                                                                                    Anders. Aus Prinzip.                                                                  «                                                    Kai Richter.Mitgründer der 12.18. INVESTMENT MANAGEMENT.„ANDERS. AUS PRINZIP.\" HEISST, GROSSARTIGE VISIONEN IN EINE NOCH GROSSARTIGERE REALITÄT ZU VERWANDELN.Kai Richter wurde 1967 in Dortmund geboren und verstarb am 7. April 2020 nach kurzer und schwerer Erkrankung. Mit seinem Tod endet eine rund 30-jährige Karriere in der Immobilien- und Tourismusbranche. Neben seinem 2004 gegründeten Unternehmen Mediinvest führte Kai Richter seit 2013 gemeinsam mit Jörg Lindner die 12.18. Investment Management GmbH zum Erfolg. Seine visionären Ideen, seine Zielstrebigkeit sowie sein Enthusiasmus haben maßgeblich zum Wachstum des Unternehmens beigetragen - und werden allen Beschäftigten der 12.18. Unternehmensgruppe weiterhin ein Vorbild sein.Mehr über Kai Richter »                                                                                                                                                                                »                                                                                                                                                                                Jörg Lindner.                                        GESCHÄFTSFÜHRENDER GESELLSCHAFTER BEI 12.18. INVESTMENT MANAGEMENT.                                                                                                                „ANDERS. AUS PRINZIP.\" HEISST, SCHNELLER ZU DENKEN UND SCHNELLER ZU HANDELN.                                        Jörg Lindner verfügt über mehr als 30 Jahre Erfahrung in den Bereichen Projektentwicklung, Finanzierung und Management von Wohn-, Büro-, Einzelhandels- und Hotelimmobilien. Er ist geschäftsführender Gesellschafter der Lindner Unternehmensgruppe und der älteste von fünf Söhnen des Unternehmensgründers und Architekten Otto Lindner, die das Familienunternehmen in den verschiedenen Geschäftsbereichen gemeinsam führen. Der studierte Diplom-Kaufmann, ausgebildete Berufspilot und leidenschaftliche Sportler ist verheiratet und stolzer Vater von fünf Kindern.                                                                                                                                                                                                                                                                                                                                                                                                                                                          Unternehmer.Aus Prinzip.                                                                                                                                                                                                                                                                                                                                                                                                                                                                                Unser Unternehmen ist eng mit zwei Persönlichkeiten verbunden: Jörg Lindner und Kai Richter, den beiden geschäftsführenden Gesellschaftern unseres familiengeführten Betriebes.                                                                                                                                                                                                                                                                                                                                                                                                                                                                                                12.18. Investment Management versteht sich als Summe herausragender Einzelpersönlichkeiten, die ein gemeinsamer Weg und ein gemeinsames Ziel fest zusammenschweißt.                                                                                                                                                                                                                                                                                                                                                                                                                    Mit all dem Wissen, all der Erfahrung, all der Neugier, all dem Ehrgeiz und all den anderen Tugenden, die uns auszeichnen und die uns motivieren, immer wieder herausragende Ergebnisse für unsere Partner, Kunden und natürlich auch für uns selbst zu erzielen.                                                                                                                                                                              WIR SIND, WER WIR SIND.DAS TEAM VON 12.18. Investment MANAGEMENT.                                                                                                                                                                                                                    DAS TEAM VON 12.18. Hospitality Management.                                                                                                                                                                                                                    DAS TEAM VON 12.18. VermögensMANAGEMENT.                                                                                                                                                                                                                                            Awards.                                                                                                                                                                                                                                                                                                                                                                                                                                                                                                                                                                                                                                                                                                                                                                                                                                                                                                                                                      Anders. Aus Prinzip.                                                  Aktuelles.                                                                                                                                                        Pressekontakt.Herr John F. GoetzeDirector of Communication, PR & Marketing12.18. Investment Management GmbHKönigsallee 2bD-40212 DüsseldorfTel.: +49-211-5 8080 7-31Fax: +49-211-5 8080 711E-Mail: j.goetze@12-18.comFrau Larissa Maier-LauthPR Manager12.18. Investment Management GmbHKönigsallee 2bD-40212 DüsseldorfTel.: +49-211-5 8080 7-383Mobil: +49 151 10323910Fax: +49-211-5 8080 711E-Mail: l.maier-lauth@12-18.comAktuelle Meldungen.            13.04.2021                                    Carlos Fritz übernimmt Funktion als General Manager des 7Pines Resort Ibiza.                     |                     Die 12.18. Unternehmensgruppe freut sich, die Beförderung von Carlos Fritz zum General Manager des 7Pines Resort Ibiza bekanntzugeben. Der 36-jährige übernimmt ab sofort die Position von Markus Lück, der das strategische ...                                                    Weiterlesen »30.03.2021                                    12.18. Unternehmensgruppe veräußert Alten Gasthof auf Sylt.                     |                     Die 12.18. Unternehmensgruppe trennt sich von ihrem Sylter Restaurant „Alter Gasthof“ in List. Über den Kaufpreis wurde Stillschweigen vereinbart. Der neue Eigentümer plant, den Gastraum in ein Ferienapartment ...                                                    Weiterlesen »11.03.2021                                    Golfvergnügen für die gesamte Familie im neuen BEECH Resort Fleesensee .                     |                     Gelegen im Herzen der Mecklenburgischen Seenplatte, öffnet das neue BEECH Resort Fleesensee ab Frühling 2021 seine Pforten für Gäste. Mit modernem Design, vielfältigen Gastronomiekonzepten und einem umfangreichen ...                                                    Weiterlesen »                                                                                    .            Alle Meldungen »                          Alle Meldungen »        Downloads.Studien.Im Rahmen der repräsentativen Studie \"Medical Spa\" wurden 1.050 Personen nach ihrer Meinung zum Thema Medical Spa befragt. Hier können Sie die Studie herunterladen.Studie \"Medical SPa\" DownloadenKurzfassung Studie \"Medical Spa\"Unsere repräsentative Studie ist nicht nur für Käufer von Ferienimmobilien von höchstem Interesse. Auf 59 Seiten informieren wir Sie auf einer Grundlage von 1020 Befragten, worauf es bei der Wahl einer geeigneten Ferienimmobilie ankommt. Hier können Sie die Studie herunterladen.Studie \"Ferienimmobilien\" DownloadenKurzfassung Studie \"Ferienimmobilien\"Logo.Das Unternehmenslogo sowie die Logos unserer Projekte können Sie hier herunterladen.12.18.Fleesensee ResortSCHLOSSSCHLOSS FleesenseeSCHLOSS Roxburghe7Pines KempinskiMaremüritzBiggeseeHotel Stadt HamburgAlter Gasthof SyltPM.Unsere aktuellen Pressemitteilungen finden Sie hier. Sollten Sie weitere Informationen zu 12.18. Investment Management benötigen, wenden Sie sich bitte direkt an Frau Larissa Maier-Lauth, PR Manager.  Fragen?Antworten.12.18. Investment Management liebt den Dialog. Egal, welches Anliegen Sie haben – wir antworten prompt und professionell. Für Anfragen von Medienvertretern steht Ihnen unser direkter Pressekontakt im Bereich Aktuelles zur Verfügung.Wir nehmen den Datenschutz nach EU-DSGVO ernst und geben Ihre Daten nicht an Dritte weiter. Dieses Formular sendet und validiert Ihre eingegebenen Daten per SSL. Anschließend erhalten Sie und der zuständige Sachbearbeiter eine Kopie Ihrer Anfrage via E-Mail. Weitere Hinweise zur Erhebung, Speicherung und Schutz Ihrer Daten erhalten Sie in unseren Datenschutzbestimmungen.*Pflichtfeld**Pflichtfeld bei persönlichem BeratungsterminIch bin Investor und wünsche einen persönlichen Beratungstermin.Ich bin Verkäufer einer touristischen Destination und wünsche einen persönlichen Beratungstermin. Bitte beachten Sie hierzu auch unsere Hinweise für Verkäufer. (link)Ich interessiere mich für den Kauf einer Ferienimmobilie und wünsche einen persönlichen Beratungstermin.Ich wünsche weitere Informationen zu einem bestimmten Projekt:Ich habe ein anderes Anliegen:Ich habe die Datenschutzbestimmungen gelesen und stimme diesen zu.*Ich bestelle den Newsletter von 12.18. Investment Management.Vielen Dank für Ihre Nachricht. Wir werden Ihr Anliegen prüfen und uns entsprechend bei Ihnen Melden.                                                                                                                                                                                                                            HomeProjekteUnternehmerAktuellesAnkaufsprofilkarriereKontaktNewsletterImpressumDatenschutzDE / EN                        Investment ManagementHospitality ManagementVermögensmanagementHotel Collection     DE / EN              Hotel CollectionVermögensmanagementHospitality ManagementInvestment Management                                                    KontaktKarriereAnkaufsprofilAktuellesUnternehmerUnternehmenHome                                        Home              Unternehmen              Unternehmer              Aktuelles              Ankaufsprofil              Karriere              Kontakt                        DE / EN                                    Investment Management            Hospitality Management            Vermögensmanagement            Hotel Collection                          Bitte prüfen Sie Ihre Internetverbindung.SicherheitswarnungDer Support für Internet Explorer (IE) wurde zum 12.01.2016 seitens Microsoft eingestellt. Zu Ihrer eigenen Sicherheit wechseln Sie bitte auf einen aktuellen Browser:fiCMS unterstützt seit 01.01.2021 die veralteten Protokolle des IE nicht mehr. Bitte beachten Sie, dass die Funktionalität dieser Webseite daher eingeschränkt sein könnte.aHR0cHM6Ly8xMi0xOC5jb20vZGVzaWducy9hbGwvY29uc2VudC9nYS5qcw==aHR0cHM6Ly9tYXBzLmdvb2dsZWFwaXMuY29tL21hcHMvYXBpL2pzP2NhbGxiYWNrPXVpRWxlbWVudHNNYXAma2V5PUFJemFTeUF2SnZnTEhvaFhzM0xBWmlDOGg4Z3Z0VklfM0U5eVM1VQ==Um unsere Webseite für Sie optimal zu gestalten und fortlaufend verbessern zu können, verwenden wir Cookies und Scripte von Drittanbietern. Sie können alle Cookies akzeptieren, oder Ihre Cookies selbstverwalten und nötige Einstellungen vornehmen. Mehr Informationen finden Sie in unseren Datenschutzbestimmungen.  EinstellungenNotwendigAnalyseNur NotwendigeDatenschutzbestimmungen    '"
      ]
     },
     "execution_count": 39,
     "metadata": {},
     "output_type": "execute_result"
    }
   ],
   "source": [
    "import lxml.html\n",
    "document = lxml.html.document_fromstring(chtml)\n",
    "# internally does: etree.XPath(\"string()\")(document)\n",
    "cleans(document.text_content())"
   ]
  },
  {
   "cell_type": "code",
   "execution_count": null,
   "metadata": {},
   "outputs": [],
   "source": []
  },
  {
   "cell_type": "code",
   "execution_count": null,
   "metadata": {},
   "outputs": [],
   "source": []
  },
  {
   "cell_type": "code",
   "execution_count": 30,
   "metadata": {},
   "outputs": [
    {
     "data": {
      "text/html": [
       "<div>\n",
       "<style scoped>\n",
       "    .dataframe tbody tr th:only-of-type {\n",
       "        vertical-align: middle;\n",
       "    }\n",
       "\n",
       "    .dataframe tbody tr th {\n",
       "        vertical-align: top;\n",
       "    }\n",
       "\n",
       "    .dataframe thead th {\n",
       "        text-align: right;\n",
       "    }\n",
       "</style>\n",
       "<table border=\"1\" class=\"dataframe\">\n",
       "  <thead>\n",
       "    <tr style=\"text-align: right;\">\n",
       "      <th></th>\n",
       "      <th>url</th>\n",
       "      <th>group_representative</th>\n",
       "      <th>group_representative_label</th>\n",
       "      <th>text</th>\n",
       "      <th>chtml</th>\n",
       "      <th>&lt;meta&gt;_title</th>\n",
       "      <th>&lt;meta&gt;_keywords</th>\n",
       "      <th>&lt;meta&gt;_description</th>\n",
       "      <th>&lt;title&gt;</th>\n",
       "      <th>&lt;h1&gt;</th>\n",
       "      <th>...</th>\n",
       "      <th>&lt;h5&gt;</th>\n",
       "      <th>&lt;h6&gt;</th>\n",
       "      <th>&lt;b&gt;</th>\n",
       "      <th>&lt;strong&gt;</th>\n",
       "      <th>&lt;em&gt;</th>\n",
       "      <th>&lt;i&gt;</th>\n",
       "      <th>&lt;p&gt;</th>\n",
       "      <th>&lt;a&gt;</th>\n",
       "      <th>&lt;li&gt;</th>\n",
       "      <th>country</th>\n",
       "    </tr>\n",
       "  </thead>\n",
       "  <tbody>\n",
       "    <tr>\n",
       "      <th>0</th>\n",
       "      <td>http://12-18.com</td>\n",
       "      <td>30</td>\n",
       "      <td>Leisure, Travel &amp; Tourism</td>\n",
       "      <td>\\n\\nInvestment Management.\\n\\nEin glückliches ...</td>\n",
       "      <td>&lt;html&gt;\\n&lt;head&gt;\\n\\t&lt;title&gt;12.18. Investment Man...</td>\n",
       "      <td>12.18. Investment Management - ANDERS. AUS PRI...</td>\n",
       "      <td>12 18, 1218 Investment, 12 18 Invest, lim, lin...</td>\n",
       "      <td>Ein glückliches Investment ist das Resultat ha...</td>\n",
       "      <td>12.18. Investment Management - ANDERS. AUS PRI...</td>\n",
       "      <td></td>\n",
       "      <td>...</td>\n",
       "      <td>Biggesee Investment Management  |  Herr John ...</td>\n",
       "      <td></td>\n",
       "      <td></td>\n",
       "      <td></td>\n",
       "      <td></td>\n",
       "      <td>Wir nehmen den Datenschutz nach EU-DSGVO erns...</td>\n",
       "      <td>12.18. Investment Management GmbHKönigsallee ...</td>\n",
       "      <td>Projekte Biggesee karriere Investment Managem...</td>\n",
       "      <td>Aktuelles Projekte Home Hospitality Management...</td>\n",
       "      <td>DE</td>\n",
       "    </tr>\n",
       "  </tbody>\n",
       "</table>\n",
       "<p>1 rows × 23 columns</p>\n",
       "</div>"
      ],
      "text/plain": [
       "                url  group_representative group_representative_label  \\\n",
       "0  http://12-18.com                    30  Leisure, Travel & Tourism   \n",
       "\n",
       "                                                text  \\\n",
       "0  \\n\\nInvestment Management.\\n\\nEin glückliches ...   \n",
       "\n",
       "                                               chtml  \\\n",
       "0  <html>\\n<head>\\n\\t<title>12.18. Investment Man...   \n",
       "\n",
       "                                        <meta>_title  \\\n",
       "0  12.18. Investment Management - ANDERS. AUS PRI...   \n",
       "\n",
       "                                     <meta>_keywords  \\\n",
       "0  12 18, 1218 Investment, 12 18 Invest, lim, lin...   \n",
       "\n",
       "                                  <meta>_description  \\\n",
       "0  Ein glückliches Investment ist das Resultat ha...   \n",
       "\n",
       "                                             <title> <h1>  ...  \\\n",
       "0  12.18. Investment Management - ANDERS. AUS PRI...       ...   \n",
       "\n",
       "                                                <h5> <h6> <b> <strong> <em>  \\\n",
       "0   Biggesee Investment Management  |  Herr John ...                          \n",
       "\n",
       "                                                 <i>  \\\n",
       "0   Wir nehmen den Datenschutz nach EU-DSGVO erns...   \n",
       "\n",
       "                                                 <p>  \\\n",
       "0  12.18. Investment Management GmbHKönigsallee ...   \n",
       "\n",
       "                                                 <a>  \\\n",
       "0   Projekte Biggesee karriere Investment Managem...   \n",
       "\n",
       "                                                <li> country  \n",
       "0  Aktuelles Projekte Home Hospitality Management...      DE  \n",
       "\n",
       "[1 rows x 23 columns]"
      ]
     },
     "execution_count": 30,
     "metadata": {},
     "output_type": "execute_result"
    }
   ],
   "source": [
    "d = train[train[\"<di>\"] != \"\"]\n",
    "d.head(1)"
   ]
  },
  {
   "cell_type": "code",
   "execution_count": 31,
   "metadata": {},
   "outputs": [
    {
     "data": {
      "text/plain": [
       "29225"
      ]
     },
     "execution_count": 31,
     "metadata": {},
     "output_type": "execute_result"
    }
   ],
   "source": [
    "len(d[\"<a>\"].value_counts())"
   ]
  },
  {
   "cell_type": "code",
   "execution_count": 26,
   "metadata": {},
   "outputs": [
    {
     "data": {
      "text/plain": [
       "Index(['url', 'group_representative', 'group_representative_label', 'text',\n",
       "       'chtml', '<meta>_title', '<meta>_keywords', '<meta>_description',\n",
       "       '<title>', '<h1>', '<h2>', '<h3>', '<h4>', '<h5>', '<h6>', '<b>',\n",
       "       '<strong>', '<em>', '<i>', '<p>', '<a>', '<li>', 'country'],\n",
       "      dtype='object')"
      ]
     },
     "execution_count": 26,
     "metadata": {},
     "output_type": "execute_result"
    }
   ],
   "source": [
    "train.columns"
   ]
  },
  {
   "cell_type": "code",
   "execution_count": 31,
   "metadata": {},
   "outputs": [
    {
     "data": {
      "text/html": [
       "<div>\n",
       "<style scoped>\n",
       "    .dataframe tbody tr th:only-of-type {\n",
       "        vertical-align: middle;\n",
       "    }\n",
       "\n",
       "    .dataframe tbody tr th {\n",
       "        vertical-align: top;\n",
       "    }\n",
       "\n",
       "    .dataframe thead th {\n",
       "        text-align: right;\n",
       "    }\n",
       "</style>\n",
       "<table border=\"1\" class=\"dataframe\">\n",
       "  <thead>\n",
       "    <tr style=\"text-align: right;\">\n",
       "      <th></th>\n",
       "      <th>url</th>\n",
       "      <th>group_representative</th>\n",
       "      <th>group_representative_label</th>\n",
       "      <th>text</th>\n",
       "      <th>chtml</th>\n",
       "      <th>&lt;meta&gt;_title</th>\n",
       "      <th>&lt;meta&gt;_keywords</th>\n",
       "      <th>&lt;meta&gt;_description</th>\n",
       "      <th>&lt;title&gt;</th>\n",
       "      <th>&lt;h1&gt;</th>\n",
       "      <th>...</th>\n",
       "      <th>&lt;h5&gt;</th>\n",
       "      <th>&lt;h6&gt;</th>\n",
       "      <th>&lt;b&gt;</th>\n",
       "      <th>&lt;strong&gt;</th>\n",
       "      <th>&lt;em&gt;</th>\n",
       "      <th>&lt;i&gt;</th>\n",
       "      <th>&lt;p&gt;</th>\n",
       "      <th>&lt;a&gt;</th>\n",
       "      <th>&lt;li&gt;</th>\n",
       "      <th>country</th>\n",
       "    </tr>\n",
       "  </thead>\n",
       "  <tbody>\n",
       "    <tr>\n",
       "      <th>0</th>\n",
       "      <td>http://12-18.com</td>\n",
       "      <td>30</td>\n",
       "      <td>Leisure, Travel &amp; Tourism</td>\n",
       "      <td>\\n\\nInvestment Management.\\n\\nEin glückliches ...</td>\n",
       "      <td>&lt;html&gt;\\n&lt;head&gt;\\n\\t&lt;title&gt;12.18. Investment Man...</td>\n",
       "      <td>12.18. Investment Management - ANDERS. AUS PRI...</td>\n",
       "      <td>12 18, 1218 Investment, 12 18 Invest, lim, lin...</td>\n",
       "      <td>Ein glückliches Investment ist das Resultat ha...</td>\n",
       "      <td>12.18. Investment Management - ANDERS. AUS PRI...</td>\n",
       "      <td></td>\n",
       "      <td>...</td>\n",
       "      <td>Fleesensee Resort  |  Hotel Stadt HamburgAlte...</td>\n",
       "      <td></td>\n",
       "      <td></td>\n",
       "      <td></td>\n",
       "      <td></td>\n",
       "      <td>Wir nehmen den Datenschutz nach EU-DSGVO erns...</td>\n",
       "      <td>12.18. Investment Management GmbHKönigsallee ...</td>\n",
       "      <td>Aktuelles Fleesensee Resort Kontakt Studie \"F...</td>\n",
       "      <td>Aktuelles Investment Management Hotel Collecti...</td>\n",
       "      <td>DE</td>\n",
       "    </tr>\n",
       "  </tbody>\n",
       "</table>\n",
       "<p>1 rows × 23 columns</p>\n",
       "</div>"
      ],
      "text/plain": [
       "                url  group_representative group_representative_label  \\\n",
       "0  http://12-18.com                    30  Leisure, Travel & Tourism   \n",
       "\n",
       "                                                text  \\\n",
       "0  \\n\\nInvestment Management.\\n\\nEin glückliches ...   \n",
       "\n",
       "                                               chtml  \\\n",
       "0  <html>\\n<head>\\n\\t<title>12.18. Investment Man...   \n",
       "\n",
       "                                        <meta>_title  \\\n",
       "0  12.18. Investment Management - ANDERS. AUS PRI...   \n",
       "\n",
       "                                     <meta>_keywords  \\\n",
       "0  12 18, 1218 Investment, 12 18 Invest, lim, lin...   \n",
       "\n",
       "                                  <meta>_description  \\\n",
       "0  Ein glückliches Investment ist das Resultat ha...   \n",
       "\n",
       "                                             <title> <h1>  ...  \\\n",
       "0  12.18. Investment Management - ANDERS. AUS PRI...       ...   \n",
       "\n",
       "                                                <h5> <h6> <b> <strong> <em>  \\\n",
       "0   Fleesensee Resort  |  Hotel Stadt HamburgAlte...                          \n",
       "\n",
       "                                                 <i>  \\\n",
       "0   Wir nehmen den Datenschutz nach EU-DSGVO erns...   \n",
       "\n",
       "                                                 <p>  \\\n",
       "0  12.18. Investment Management GmbHKönigsallee ...   \n",
       "\n",
       "                                                 <a>  \\\n",
       "0   Aktuelles Fleesensee Resort Kontakt Studie \"F...   \n",
       "\n",
       "                                                <li> country  \n",
       "0  Aktuelles Investment Management Hotel Collecti...      DE  \n",
       "\n",
       "[1 rows x 23 columns]"
      ]
     },
     "execution_count": 31,
     "metadata": {},
     "output_type": "execute_result"
    }
   ],
   "source": [
    "train = pd.read_csv(\"../data/ctrain.csv\", lineterminator='\\n').fillna(\"\")\n",
    "train.head(1)"
   ]
  },
  {
   "cell_type": "code",
   "execution_count": 6,
   "metadata": {},
   "outputs": [
    {
     "data": {
      "text/plain": [
       "Index(['url', 'group_representative', 'group_representative_label', 'text',\n",
       "       'chtml', '<meta>_title', '<meta>_keywords', '<meta>_description',\n",
       "       '<title>', '<h1>', '<h2>', '<h3>', '<h4>', '<h5>', '<h6>', '<b>',\n",
       "       '<strong>', '<em>', '<i>', '<p>', '<a>', '<li>', 'country'],\n",
       "      dtype='object')"
      ]
     },
     "execution_count": 6,
     "metadata": {},
     "output_type": "execute_result"
    }
   ],
   "source": [
    "train.columns"
   ]
  },
  {
   "cell_type": "code",
   "execution_count": 33,
   "metadata": {},
   "outputs": [],
   "source": [
    "train2 = train.head()"
   ]
  },
  {
   "cell_type": "code",
   "execution_count": 46,
   "metadata": {
    "collapsed": true
   },
   "outputs": [
    {
     "name": "stdout",
     "output_type": "stream",
     "text": [
      "Requirement already satisfied: flair in /Users/jan/anaconda3/envs/industry/lib/python3.8/site-packages (0.8.0.post1)\n",
      "Requirement already satisfied: tqdm>=4.26.0 in /Users/jan/anaconda3/envs/industry/lib/python3.8/site-packages (from flair) (4.61.0)\n",
      "Requirement already satisfied: transformers>=4.0.0 in /Users/jan/anaconda3/envs/industry/lib/python3.8/site-packages (from flair) (4.6.1)\n",
      "Requirement already satisfied: sentencepiece==0.1.95 in /Users/jan/anaconda3/envs/industry/lib/python3.8/site-packages (from flair) (0.1.95)\n",
      "Requirement already satisfied: huggingface-hub in /Users/jan/anaconda3/envs/industry/lib/python3.8/site-packages (from flair) (0.0.8)\n",
      "Requirement already satisfied: ftfy in /Users/jan/anaconda3/envs/industry/lib/python3.8/site-packages (from flair) (6.0.3)\n",
      "Requirement already satisfied: lxml in /Users/jan/anaconda3/envs/industry/lib/python3.8/site-packages (from flair) (4.6.3)\n",
      "Requirement already satisfied: gensim<=3.8.3,>=3.4.0 in /Users/jan/anaconda3/envs/industry/lib/python3.8/site-packages (from flair) (3.8.3)\n",
      "Requirement already satisfied: tabulate in /Users/jan/anaconda3/envs/industry/lib/python3.8/site-packages (from flair) (0.8.9)\n",
      "Requirement already satisfied: sqlitedict>=1.6.0 in /Users/jan/anaconda3/envs/industry/lib/python3.8/site-packages (from flair) (1.7.0)\n",
      "Requirement already satisfied: python-dateutil>=2.6.1 in /Users/jan/anaconda3/envs/industry/lib/python3.8/site-packages (from flair) (2.8.1)\n",
      "Requirement already satisfied: deprecated>=1.2.4 in /Users/jan/anaconda3/envs/industry/lib/python3.8/site-packages (from flair) (1.2.12)\n",
      "Requirement already satisfied: konoha<5.0.0,>=4.0.0 in /Users/jan/anaconda3/envs/industry/lib/python3.8/site-packages (from flair) (4.6.5)\n",
      "Requirement already satisfied: regex in /Users/jan/anaconda3/envs/industry/lib/python3.8/site-packages (from flair) (2021.4.4)\n",
      "Requirement already satisfied: segtok>=1.5.7 in /Users/jan/anaconda3/envs/industry/lib/python3.8/site-packages (from flair) (1.5.10)\n",
      "Requirement already satisfied: matplotlib>=2.2.3 in /Users/jan/anaconda3/envs/industry/lib/python3.8/site-packages (from flair) (3.4.2)\n",
      "Requirement already satisfied: langdetect in /Users/jan/anaconda3/envs/industry/lib/python3.8/site-packages (from flair) (1.0.8)\n",
      "Requirement already satisfied: gdown==3.12.2 in /Users/jan/anaconda3/envs/industry/lib/python3.8/site-packages (from flair) (3.12.2)\n",
      "Requirement already satisfied: hyperopt>=0.1.1 in /Users/jan/anaconda3/envs/industry/lib/python3.8/site-packages (from flair) (0.2.5)\n",
      "Requirement already satisfied: bpemb>=0.3.2 in /Users/jan/anaconda3/envs/industry/lib/python3.8/site-packages (from flair) (0.3.3)\n",
      "Requirement already satisfied: janome in /Users/jan/anaconda3/envs/industry/lib/python3.8/site-packages (from flair) (0.4.1)\n",
      "Requirement already satisfied: scikit-learn>=0.21.3 in /Users/jan/anaconda3/envs/industry/lib/python3.8/site-packages (from flair) (0.24.1)\n",
      "Requirement already satisfied: torch<=1.7.1,>=1.5.0 in /Users/jan/anaconda3/envs/industry/lib/python3.8/site-packages (from flair) (1.7.1)\n",
      "Requirement already satisfied: mpld3==0.3 in /Users/jan/anaconda3/envs/industry/lib/python3.8/site-packages (from flair) (0.3)\n",
      "Requirement already satisfied: numpy<1.20.0 in /Users/jan/anaconda3/envs/industry/lib/python3.8/site-packages (from flair) (1.19.2)\n",
      "Requirement already satisfied: requests[socks] in /Users/jan/anaconda3/envs/industry/lib/python3.8/site-packages (from gdown==3.12.2->flair) (2.25.1)\n",
      "Requirement already satisfied: filelock in /Users/jan/anaconda3/envs/industry/lib/python3.8/site-packages (from gdown==3.12.2->flair) (3.0.12)\n",
      "Requirement already satisfied: six in /Users/jan/anaconda3/envs/industry/lib/python3.8/site-packages (from gdown==3.12.2->flair) (1.15.0)\n",
      "Requirement already satisfied: wrapt<2,>=1.10 in /Users/jan/anaconda3/envs/industry/lib/python3.8/site-packages (from deprecated>=1.2.4->flair) (1.12.1)\n",
      "Requirement already satisfied: smart-open>=1.8.1 in /Users/jan/anaconda3/envs/industry/lib/python3.8/site-packages (from gensim<=3.8.3,>=3.4.0->flair) (5.1.0)\n",
      "Requirement already satisfied: scipy>=0.18.1 in /Users/jan/anaconda3/envs/industry/lib/python3.8/site-packages (from gensim<=3.8.3,>=3.4.0->flair) (1.6.2)\n",
      "Requirement already satisfied: future in /Users/jan/anaconda3/envs/industry/lib/python3.8/site-packages (from hyperopt>=0.1.1->flair) (0.18.2)\n",
      "Requirement already satisfied: cloudpickle in /Users/jan/anaconda3/envs/industry/lib/python3.8/site-packages (from hyperopt>=0.1.1->flair) (1.6.0)\n",
      "Requirement already satisfied: networkx>=2.2 in /Users/jan/anaconda3/envs/industry/lib/python3.8/site-packages (from hyperopt>=0.1.1->flair) (2.5.1)\n",
      "Requirement already satisfied: importlib-metadata<4.0.0,>=3.7.0 in /Users/jan/anaconda3/envs/industry/lib/python3.8/site-packages (from konoha<5.0.0,>=4.0.0->flair) (3.10.1)\n",
      "Requirement already satisfied: overrides<4.0.0,>=3.0.0 in /Users/jan/anaconda3/envs/industry/lib/python3.8/site-packages (from konoha<5.0.0,>=4.0.0->flair) (3.1.0)\n",
      "Requirement already satisfied: zipp>=0.5 in /Users/jan/anaconda3/envs/industry/lib/python3.8/site-packages (from importlib-metadata<4.0.0,>=3.7.0->konoha<5.0.0,>=4.0.0->flair) (3.4.1)\n",
      "Requirement already satisfied: cycler>=0.10 in /Users/jan/anaconda3/envs/industry/lib/python3.8/site-packages (from matplotlib>=2.2.3->flair) (0.10.0)\n",
      "Requirement already satisfied: pyparsing>=2.2.1 in /Users/jan/anaconda3/envs/industry/lib/python3.8/site-packages (from matplotlib>=2.2.3->flair) (2.4.7)\n",
      "Requirement already satisfied: kiwisolver>=1.0.1 in /Users/jan/anaconda3/envs/industry/lib/python3.8/site-packages (from matplotlib>=2.2.3->flair) (1.3.1)\n",
      "Requirement already satisfied: pillow>=6.2.0 in /Users/jan/anaconda3/envs/industry/lib/python3.8/site-packages (from matplotlib>=2.2.3->flair) (8.2.0)\n",
      "Requirement already satisfied: decorator<5,>=4.3 in /Users/jan/anaconda3/envs/industry/lib/python3.8/site-packages (from networkx>=2.2->hyperopt>=0.1.1->flair) (4.4.2)\n",
      "Requirement already satisfied: certifi>=2017.4.17 in /Users/jan/anaconda3/envs/industry/lib/python3.8/site-packages (from requests[socks]->gdown==3.12.2->flair) (2020.12.5)\n",
      "Requirement already satisfied: chardet<5,>=3.0.2 in /Users/jan/anaconda3/envs/industry/lib/python3.8/site-packages (from requests[socks]->gdown==3.12.2->flair) (4.0.0)\n",
      "Requirement already satisfied: idna<3,>=2.5 in /Users/jan/anaconda3/envs/industry/lib/python3.8/site-packages (from requests[socks]->gdown==3.12.2->flair) (2.10)\n",
      "Requirement already satisfied: urllib3<1.27,>=1.21.1 in /Users/jan/anaconda3/envs/industry/lib/python3.8/site-packages (from requests[socks]->gdown==3.12.2->flair) (1.26.5)\n",
      "Requirement already satisfied: threadpoolctl>=2.0.0 in /Users/jan/anaconda3/envs/industry/lib/python3.8/site-packages (from scikit-learn>=0.21.3->flair) (2.1.0)\n",
      "Requirement already satisfied: joblib>=0.11 in /Users/jan/anaconda3/envs/industry/lib/python3.8/site-packages (from scikit-learn>=0.21.3->flair) (1.0.1)\n",
      "Requirement already satisfied: typing-extensions in /Users/jan/anaconda3/envs/industry/lib/python3.8/site-packages (from torch<=1.7.1,>=1.5.0->flair) (3.7.4.3)\n",
      "Requirement already satisfied: packaging in /Users/jan/anaconda3/envs/industry/lib/python3.8/site-packages (from transformers>=4.0.0->flair) (20.9)\n",
      "Requirement already satisfied: sacremoses in /Users/jan/anaconda3/envs/industry/lib/python3.8/site-packages (from transformers>=4.0.0->flair) (0.0.45)\n",
      "Requirement already satisfied: tokenizers<0.11,>=0.10.1 in /Users/jan/anaconda3/envs/industry/lib/python3.8/site-packages (from transformers>=4.0.0->flair) (0.10.3)\n",
      "Requirement already satisfied: wcwidth in /Users/jan/anaconda3/envs/industry/lib/python3.8/site-packages (from ftfy->flair) (0.2.5)\n",
      "Requirement already satisfied: PySocks!=1.5.7,>=1.5.6 in /Users/jan/anaconda3/envs/industry/lib/python3.8/site-packages (from requests[socks]->gdown==3.12.2->flair) (1.7.1)\n",
      "Requirement already satisfied: click in /Users/jan/anaconda3/envs/industry/lib/python3.8/site-packages (from sacremoses->transformers>=4.0.0->flair) (7.1.2)\n"
     ]
    }
   ],
   "source": [
    "!pip install flair --upgrade"
   ]
  },
  {
   "cell_type": "code",
   "execution_count": null,
   "metadata": {},
   "outputs": [],
   "source": []
  },
  {
   "cell_type": "code",
   "execution_count": null,
   "metadata": {},
   "outputs": [],
   "source": []
  },
  {
   "cell_type": "code",
   "execution_count": 28,
   "metadata": {},
   "outputs": [
    {
     "data": {
      "text/plain": [
       "262125"
      ]
     },
     "execution_count": 28,
     "metadata": {},
     "output_type": "execute_result"
    }
   ],
   "source": [
    "from itertools import combinations\n",
    "import itertools\n",
    "\n",
    "d1 = {\n",
    "        \"plain_text\": 1,\n",
    "        \"a_text\": 1,\n",
    "        \"b_text\": 1,\n",
    "        \"em_text\": 1,\n",
    "        \"h1_text\": 1,\n",
    "        \"h2_text\": 1,\n",
    "        \"h3_text\": 1,\n",
    "        \"h4_text\": 1,\n",
    "        \"h5_text\": 1,\n",
    "        \"h6_text\": 1,\n",
    "        \"i_text\": 1,\n",
    "        \"li_text\": 1,\n",
    "        \"meta_description_text\": 1,\n",
    "        \"meta_keywords_text\": 1,\n",
    "        \"meta_title_text\": 1,\n",
    "        \"p_text\": 1,\n",
    "        \"strong_text\": 1,\n",
    "        \"title_text\": 1,\n",
    "    }\n",
    "\n",
    "all_combinations = []\n",
    "for r in range(2, len(d1.keys()) + 1):\n",
    "\n",
    "    combinations_object = itertools.combinations(d1.keys(), r)\n",
    "    combinations_list = list(combinations_object)\n",
    "    all_combinations += combinations_list\n",
    "\n",
    "len(all_combinations)"
   ]
  },
  {
   "cell_type": "code",
   "execution_count": null,
   "metadata": {},
   "outputs": [],
   "source": []
  },
  {
   "cell_type": "code",
   "execution_count": null,
   "metadata": {},
   "outputs": [],
   "source": []
  },
  {
   "cell_type": "code",
   "execution_count": 41,
   "metadata": {
    "collapsed": true
   },
   "outputs": [
    {
     "name": "stdout",
     "output_type": "stream",
     "text": [
      "LSVM CLF \n",
      "-------------------------\n",
      "0.6048 \tPrecision\n",
      "0.358 \tRecall\n",
      "0.4111 \tF1\n",
      "\n",
      "CPU times: user 2.72 s, sys: 28.9 ms, total: 2.75 s\n",
      "Wall time: 2.75 s\n"
     ]
    }
   ],
   "source": [
    "%%time\n",
    "\n",
    "TEXT_COL = \"text\"\n",
    "CLASS_COL = \"group_representative\"\n",
    "\n",
    "train_text = train[TEXT_COL] + train[\"meta\"]\n",
    "train_labels = train[CLASS_COL].values\n",
    "\n",
    "vectorizer = CountVectorizer(max_df=MAX_DOCUMENT_FREQUENCY,\n",
    "                             lowercase=LOWERCASE,\n",
    "                             max_features=MAX_FEATURES,\n",
    "                             ngram_range=NGRAM_RANGE,\n",
    "                             stop_words=STOP_WORDS,\n",
    "                            tokenizer=tokenizing_html)\n",
    "transformer = TfidfTransformer()\n",
    "\n",
    "vector = vectorizer.fit_transform(train_text)\n",
    "train_vector = transformer.fit_transform(vector)\n",
    "\n",
    "\n",
    "test = pd.read_csv(TEST_PATH_CSV)\n",
    "    \n",
    "test_vector = vectorizer.transform(test[TEXT_COL].values)\n",
    "test_vector = transformer.transform(test_vector)\n",
    "test_labels = test[CLASS_COL].values\n",
    "\n",
    "\n",
    "print(\"LSVM CLF\", \"\\n-------------------------\")\n",
    "# training\n",
    "clf = LinearSVC()\n",
    "clf.fit(train_vector, train_labels)\n",
    "\n",
    "# prediction\n",
    "train_preds = clf.predict(test_vector)\n",
    "\n",
    "# evaluation\n",
    "precision = precision_score(test_labels, train_preds, average=\"macro\", zero_division=0)\n",
    "recall = recall_score(test_labels, train_preds, average=\"macro\", zero_division=0)\n",
    "f1 = f1_score(test_labels, train_preds, average=\"macro\", zero_division=0)\n",
    "clf2_f1 = np.round(f1, decimals=4)\n",
    "clf2_precision = np.round(precision, decimals=4)\n",
    "\n",
    "print(np.round(precision, decimals=4), \"\\tPrecision\")\n",
    "print(np.round(recall, decimals=4), \"\\tRecall\")\n",
    "print(np.round(f1, decimals=4), \"\\tF1\")\n",
    "print()\n",
    "\n",
    "clf2_report = classification_report(test_labels, \n",
    "                                   train_preds, \n",
    "                                   target_names = np.unique(test[CLASS_NAMES]),\n",
    "                                   zero_division = 0)"
   ]
  },
  {
   "cell_type": "code",
   "execution_count": 40,
   "metadata": {},
   "outputs": [
    {
     "data": {
      "text/plain": [
       "'Für Unternehmen, Agenturen und Entwickler » Online Marketing Beratung & Optimierung: SEO, Social-Media, Online-Werbung, Webentwicklung ➥ Alle Infos hier!'"
      ]
     },
     "execution_count": 40,
     "metadata": {},
     "output_type": "execute_result"
    }
   ],
   "source": [
    "train.meta.iloc[1]"
   ]
  },
  {
   "cell_type": "code",
   "execution_count": 39,
   "metadata": {
    "collapsed": true
   },
   "outputs": [
    {
     "data": {
      "text/plain": [
       "'STENLE ⇗ Online Marketing für Unternehmen und Agenturen\\n\\nHome\\nWeb Analytics\\n\\nBran\\xadchen\\xadum\\xadfeld – Analyse\\nSEO Ran\\xadking\\xadana\\xadlyse\\nOffpage-SEO Analyse\\nWett\\xadbe\\xadwerber Analyse\\n\\n\\nOnline Marketing\\nWeb-Entwicklung\\nRund um SEO\\nSTENLE GmbH\\nKontakt\\n\\n\\nOnline-Mar\\xadke\\xadting\\nOptimierung\\n\\nOnline Mar\\xadke\\xadting Beratung\\n\\nOnline\\xadmarkt-For\\xadschung\\n\\nWeb-Ent\\xadwick\\xadlungen\\n\\nHilfe bei\\n\\nKun\\xadden\\xadzu\\xadfie\\xadden\\xadheit\\n\\nWarum mit STENLE?\\n\\nHilfe bei\\n\\nKun\\xadden\\xadzu\\xadfie\\xadden\\xadheit\\n\\nWarum mit STENLE?\\n\\nKun\\xadden\\xadser\\xadvice\\n\\n★★★★★ 4,82 von 5\\n\\nSorgfalt\\n\\n★★★★★ 5,00 von 5\\n\\nZusatz\\xadleis\\xadtungen\\n\\n★★★★★ 5,00 von 5\\n\\nFle\\xadxi\\xadbi\\xadlität\\n\\n★★★★★ 5,00 von 5\\n\\nErrei\\xadchen Sie Ihre Ziele mit  STENLE\\n\\nSebas\\xadtian Dietz\\n\\nImmer wieder sprechen Inter\\xades\\xadsenten in unseren Erst\\xadge\\xadsprä\\xadchen von einem Gefühl der Ori\\xaden\\xadtie\\xadrungs\\xadlo\\xadsig\\xadkeit bei der Auswahl des rich\\xadtigen Partners im Online Mar\\xadke\\xadting, weil Leis\\xadtungen und Maß\\xadnahmen für Unter\\xadnehmen oft nicht sichtbar sind.\\n\\nGrößte Unzu\\xadfrie\\xadden\\xadheit entsteht den Berichten zufolge, wenn Erfolge ver\\xadspro\\xadchen jedoch nicht ein\\xadge\\xadhalten werden konnten.\\n\\nVor allem wenn nicht genau nach\\xadweisbar ist, wie es dazu kam und was aus diesen Erkennt\\xadnissen heraus in Zukunft besser gemacht werden kann.\\n\\nWeil wir Ihren Ver\\xadtrau\\xadens\\xadvor\\xadschuss zu schätzen wissen steht unsere Arbeit stets auf diesen vier Grund\\xadpfei\\xadlern, um Ihre Gefühle der Unsi\\xadcher\\xadheit so gut wie möglich zu vermeiden!\\n\\nMehr über uns erfahren\\n\\n\\n» Trans\\xadpa\\xadrent\\n\\nIn allen Arbeits\\xadschritten werden für Sie detail\\xadlierte Berichte und Pro\\xadto\\xadkolle ange\\xadfer\\xadtigt. So kennen Sie stets den Stand der Umset\\xadzung und können Ihre Res\\xadsourcen genau planen.\\n\\nIn regel\\xadmä\\xadßigen Stra\\xadte\\xadgie\\xadge\\xadsprä\\xadchen bespre\\xadchen wir die umge\\xadsetzten Maß\\xadnahmen, deren Erfolge und Aus\\xadwir\\xadkungen in Ihrem Unter\\xadnehmen. Gemeinsam ent\\xadwi\\xadckeln wir auf Basis unserer fach\\xadli\\xadchen Rat\\xadschläge und Ihren Praxis-Erfah\\xad\\xadrungen konkrete Umsetzungsschritte.\\n\\n» Prag\\xadma\\xadtisch\\n\\nDie Ren\\xadta\\xadbi\\xadlität der Online Mar\\xadke\\xadting Maß\\xadnahmen steht im Vor\\xadder\\xadgrund. Damit sich Ihre Inves\\xadti\\xadtionen wirklich aus\\xadzahlen werden Ent\\xadschei\\xaddungen auf der Basis einer für Sie nach\\xadvoll\\xadzieh\\xadbaren Stra\\xadtegie getroffen sowie fort\\xadlau\\xadfend in Ihren Aus\\xadwir\\xadkungen geprüft und verbessert.\\n\\n» Inno\\xadvativ\\n\\nEs gibt wohl keinen so dyna\\xadmisch sich ver\\xadän\\xaddernden Markt wie den des Online Mar\\xadke\\xadtings. Daher sind wir gezwungen stets die neuesten Mög\\xadlich\\xadkeiten zu nutzen und für Sie zum Einsatz zu bringen.\\n\\n» Nach\\xadhaltig\\n\\nGerade aus diesem Grund haben wir uns auf die Online Markt\\xader\\xadschlie\\xadßungs\\xadstra\\xadtegie spe\\xadzia\\xadli\\xadsiert!!! Denn erst durch die stetige Aus\\xadwer\\xadtung der Kun\\xadden\\xadströme, des Nut\\xadzer\\xadver\\xadhal\\xadtens und der Wett\\xadbe\\xadwerbs\\xadak\\xadti\\xadvi\\xadtäten, kann ein belast\\xadbares Fun\\xadda\\xadment für Ihren nach\\xadhal\\xadtigen Erfolg im Mar\\xadke\\xadting gelegt werden.\\n\\nSebas\\xadtian Dietz\\n\\nNeben der best\\xadmög\\xadli\\xadchen Erfül\\xadlung des Unter\\xadneh\\xadmens\\xadge\\xadgen\\xadstandes ist Vertrieb die Haupt\\xadauf\\xadgabe jedes gewinn\\xadori\\xaden\\xadtierten Unter\\xadneh\\xadmens. Kern jeder Mar\\xad\\xadke\\xad\\xadting- oder Ver\\xadtriebs\\xadak\\xadti\\xadvität ist die Bekannt\\xadma\\xadchung der Angebote für poten\\xadzi\\xadelle Kunden in Ver\\xadbin\\xaddung mit der Über\\xadzeu\\xadgung für Ihre Produkte oder Dienstleistungen.\\n\\nFür mit\\xadtel\\xadstän\\xaddi\\xadsche Unter\\xadnehmen ist aktives Online\\xadmar\\xadke\\xadting beson\\xadders wichtig. Häufig befinden sich diese in Branchen mit starkem Wett\\xadbe\\xadwerb. Dann wird es ent\\xadschei\\xaddend, direkten Kon\\xadkur\\xadrenten zuvorzukommen.\\n\\nPoten\\xadzi\\xadelle Kunden ver\\xadhalten sich bei ihrer Infor\\xadma\\xadti\\xadons\\xadbe\\xadschaf\\xadfung auf der Suche nach Lösungen jeg\\xadli\\xadcher Art anders als früher. Die Google Such\\xadma\\xadschine ist der erste Hand\\xadgriff geworden.\\n\\nIhre Online-Reich\\xad\\xadweite, also die Zahl poten\\xadzi\\xadeller Kunden, die Sie und Ihre Angebote kennen, ist immens wichtig geworden. Leads, so der Begriff für poten\\xadzi\\xadelle Kunden die bereits Wert\\xadschät\\xadzung für Ihr Unter\\xadnehmen auf\\xadbringen, sind massiv für Ihren Ver\\xadtriebs\\xader\\xadfolg notwendig.\\n\\nDer gezielte Einsatz digi\\xadtaler Wer\\xadbe\\xadmittel wie Website, Such\\xadma\\xadschi\\xadnen\\xadmar\\xadke\\xadting, Adver\\xadti\\xadsing (Ads / bezahlte Besucher), Social Media, e‑Mail-Mar\\xad\\xadke\\xad\\xadting, Banner Werbung und viele weitere Instru\\xadmente ermög\\xadlicht es Ihnen sich einen deut\\xadli\\xadchen Vorteil gegen\\xadüber Ihrem Wett\\xadbe\\xadwerb zu erarbeiten.\\n\\nMachen Sie jedoch nicht den Fehler, sich auf einen der Kanäle des Mar\\xadke\\xadtings zu ver\\xadlassen! Denn nur der ideale Mar\\xad\\xadke\\xad\\xadting-Mix aus Netz\\xadwerken, hoch\\xadwer\\xadtigen klas\\xadsi\\xadschen Wer\\xadbe\\xadmit\\xadteln wie Druck (z.B. Ver\\xadkaufs\\xadmappen oder Wer\\xadbe\\xadbro\\xadschüren), Print (z.B. Fach\\xadzeit\\xadschriften, die für Ihre Ziel\\xadkunden relevant sind) und Direkt\\xadver\\xadtrieb über klas\\xadsi\\xadsche Ver\\xadtreter sichern Ihnen nach\\xadhal\\xadtige Erfolge.\\n\\nOnline\\xadmar\\xadke\\xadting unter\\xadstützt mit seinen Werk\\xadzeugen alle diese klas\\xadsi\\xadschen Werbe- und Ver\\xadtriebs\\xadme\\xadthoden und ver\\xadbes\\xadsert Ihren Nutzen.\\n\\nSebas\\xadtian Dietz\\n\\nBeim Online Mar\\xadke\\xadting  dreht sich alles um die Sicht\\xadbar\\xadkeit Ihres Unter\\xadneh\\xadmens, Ihrer Produkte und Ihrer Dienst\\xadleis\\xadtungen im Internet.\\n\\nSicht\\xadbar\\xadkeit  gepaart mit  Über\\xadzeu\\xadgungs\\xadkraft  und offen\\xadsicht\\xadlich guten Ange\\xadboten, gestützt durch positive Bewer\\xadtungen sowie Rezen\\xadsionen, erhöhen Ihre Absatz\\xadzahlen und Umsätze deutlich. Auch bei der Mit\\xadar\\xadbei\\xadter\\xadge\\xadwin\\xadnung, dem Image\\xadaufbau und zur Absatz\\xadstei\\xadge\\xadrung unter Ihren Stamm\\xadkunden hilft Ihnen OnlineMarketing.\\n\\nDie wich\\xadtigsten Fragen sind:\\n\\ncontact_support\\n\\n\\nWird Ihr Unter\\xadnehmen mit Ihren Ange\\xadboten auf den ersten Plätzen der Such\\xadergeb\\xadnisse – Ranking angezeigt?\\n\\ncontact_support\\n\\n\\nSind Sie zu den rich\\xadtigen Such\\xadbe\\xadgriffen – Keywords  sichtbar?\\n\\ncontact_support\\n\\n\\nWelche Such\\xadbe\\xadgriffe – Keywords sind für Sie relevant?\\n\\ncontact_support\\n\\n\\nAuf welchen Portalen und in welchen sozialen Medien ist Ihre Ziel\\xadgruppe häufig unterwegs?\\n\\nDiese ele\\xadmen\\xadtaren Fragen beant\\xadwortet eine aus\\xadführ\\xadliche Analyse und Defi\\xadni\\xadtion der soge\\xadnannten Customer Journey  – dem Weg den Kunden in Ihrer Branche nehmen, um eine Kauf\\xadent\\xadschei\\xaddung zu treffen.\\n\\nAnhand der gewonnen Daten posi\\xadtio\\xadnieren  Sie Ihre gezielt  auf Relevanz opti\\xadmierten Inhalte  überall dort, wo sich Ihre poten\\xadzi\\xadellen und rele\\xadvanten  Kunden auf\\xadhalten. Das können Portale, Platt\\xadformen, Netz\\xadwerke oder andere Web\\xadseiten sein.\\n\\nMit gezielten Infor\\xadma\\xadtionen und Anzei\\xadgen\\xadkam\\xadpa\\xadgnen, bei\\xadspiels\\xadweise in Google Ads (Adwords) oder Facebook Ads stellen Sie Ihre Sicht\\xadbar\\xadkeit bei Ihrer Ziel\\xadgruppe sicher.\\n\\nAchten Sie bei der Erstel\\xadlung und Opti\\xadmie\\xadrung Ihrer Website beson\\xadders auf folgende Punkte, um die Search Engine – den Google Algo\\xadrithmus zu nutzen:\\n\\ndone\\n\\n\\nLadezeit Ihrer Website\\n\\ndone\\n\\n\\nSEO Struktur\\n\\ndone\\n\\n\\ngezielte Keyword Strategie\\n\\ndone\\n\\n\\noptimale Nut\\xadzer\\xadfüh\\xadrung / Usability\\n\\ndone\\n\\n\\naus\\xadführ\\xadli\\xadches DSGVO kon\\xadformes Tracking\\n\\ndone\\n\\n\\nRespon\\xadsi\\xadvität – adap\\xadtives Anzeigen auf jedem Engerät (Mobil und Desktop)\\n\\nAlle diese Maß\\xadnahmen zielen neben einer breiten und rele\\xadvanten Sicht\\xadbar\\xadkeit auf eine beson\\xadders hohe Con\\xadver\\xadsion – Umwand\\xadlung von Besucher zu Lead, also Inter\\xades\\xadsenten ab.\\n\\nSebas\\xadtian Dietz\\n\\nDamit Sie einen struk\\xadtu\\xadrieren Über\\xadblick über die übliche Vor\\xadge\\xadhens\\xadweise eines Online-Mar\\xad\\xadke\\xad\\xadting-Pro\\xad\\xad\\xadjektes erhalten, stellen wir Ihnen die sechs Schritte hier chro\\xadnoli\\xadgisch dar.\\n\\n1. Online Marktforschung\\n\\nggf. mit einer SEO IST Analyse\\n\\n2. Fest\\xadle\\xadgung des Marketing-Konzepts\\n\\nDefi\\xadni\\xadtion der Customer Journey\\nKeyword- und Content-Strategie\\nOffpage- Ver\\xadlin\\xadkungs\\xadstra\\xadtegie\\nSocial Media Strategie\\nSEA Stra\\xadtegie\\n\\n\\n3. Beginn der Umsetzung\\n\\nErstellen oder Opti\\xadmieren der Website / des Online-Shops\\nEin\\xadrichten aus\\xadführ\\xadli\\xadches Tracking und Ein\\xadrich\\xadtung Web-Controlling\\n\\n\\n4. Ausbau der Intensions-Relevanz\\n\\nErstel\\xadlung der ersten Inhalte für Website und Vernetzung\\nPosi\\xadtio\\xadnie\\xadrung der Inhalte in Portalen und Netzwerken\\n\\n\\n5. Schalten von Werbe-Kampagnen\\n\\nOnline-Kam\\xad\\xadpa\\xad\\xadgnen zur Stei\\xadge\\xadrung der Mar\\xadken\\xadbe\\xadkannt\\xadheit sowie gezielte Dienst\\xad\\xadlei\\xad\\xadtungs- und Produkt-Angebote\\nSEA Kam\\xadpa\\xadgnen in Google-Suche & \\xa0auf Portalen\\nSozial-Media-Kam\\xad\\xadpa\\xad\\xadgnen\\n\\n\\n6. Web-Con\\xad\\xadtrol\\xad\\xadling\\n\\nPer\\xadma\\xadnentes Web-Con\\xad\\xadtrol\\xad\\xadling mit gezielter Erwei\\xadte\\xadrung um hoch\\xadwer\\xadtige und rele\\xadvante Inhalte.\\n\\nSebas\\xadtian Dietz\\n\\nEs ist möglich Teil\\xadbe\\xadreiche der Beratung über För\\xadder\\xadpro\\xadgramme aus dem Spektrum der Digi\\xadta\\xadli\\xadsie\\xadrungs\\xadför\\xadde\\xadrung, der Unter\\xadneh\\xadmens\\xadbe\\xadra\\xadtung und der Imple\\xadmen\\xadtie\\xadrung digi\\xadtaler Geschäfts\\xadpro\\xadzesse nutzbar zu machen.\\n\\nFür eine gezielte Auswahl sprechen Sie uns an. In Koope\\xadra\\xadtion mit einem spe\\xadzia\\xadli\\xadsierten För\\xadder\\xadmit\\xadtel\\xadbe\\xadrater finden wir die optimale Lösung.\\n\\nOnline Mar\\xadke\\xadting Opti\\xadmie\\xadrung\\n\\n〉〉 Für Unternehmen\\n\\n〉〉 Für Agenturen\\n\\n〉〉 Für Entwickler\\n\\n〉〉 Online Mar\\xadke\\xadting &  SEO Events\\n\\nOnline Mar\\xadke\\xadting Fall\\xadbei\\xadspiele – Das errei\\xadchen wir gemeinsam\\n\\nOnline Mar\\xadke\\xadting | Dortmund\\nHIRTES » Anwälte für Arbeitsrecht\\n\\nJens Hasch – Agentur Hasch &  Hasch Dortmund\\n\\n\\nEs ist immer ein Risiko für eine Agentur externe Partner in Pro\\xadjekten ein\\xadzu\\xadsetzen. Neben den nach\\xadweis\\xadbaren Erfolgen, die für unsere Kunden immer sehr wichtig sind und an denen wir gemessen werden, hat mir beson\\xadders die Ver\\xadläss\\xadlich\\xadkeit und offenen Kom\\xadmu\\xadni\\xadka\\xadtion von Sebas\\xadtian Dietz und Steffen Lehmann gefallen. Ich hatte nie das Gefühl über eine Maßnahme nicht invol\\xadviert zu sein. Über alle Themen können wir offen und ziel\\xadori\\xaden\\xadtiert beraten und finden immer einen Weg, von dem alle profitieren.\\n\\nKanzlei HIRTES ist seit 2003 auf dem Gebiet des Arbeits\\xadrechts tätig und auf die Abwehr von Kün\\xaddi\\xadgungen, Aus\\xadhan\\xaddeln von Abfin\\xaddungen, Reaktion bei einer Abmah\\xadnung, Durch\\xadset\\xadzung von Lohn‑, Gehalts- und sons\\xadtigen Zah\\xadlungs\\xadan\\xadsprü\\xadchen spe\\xadzia\\xadli\\xadsiert. Des Weiteren fällt die Ent\\xadfris\\xadtung von befris\\xadteten Arbeits\\xadver\\xadträgen sowie Beratung und Gestal\\xadtung von Auf\\xadhe\\xadbungs\\xadver\\xadträgen in den Leis\\xadtungs\\xadbe\\xadreich der Kanzlei.\\n\\nOnline Mar\\xadke\\xadting Dortmund – Kurzübersicht\\n\\nPro\\xadjekt\\xadpartner\\n\\nHIRTES Anwälte für Arbeits\\xadrecht Dortmund, Agentur Hasch & \\xa0Hasch\\n\\n\\nHer\\xadaus\\xadfor\\xadde\\xadrung\\n\\nAufbau einer zen\\xadtralen online Präsenz für mehrere Stand\\xadorte in einer sehr kon\\xadkur\\xadrenz\\xadstarken Branche\\n\\n\\nLeis\\xadtungen\\n\\nWeb Ana\\xadly\\xadtics\\nWebsite-Erstel\\xad\\xad\\xadlung\\nContent-Ent\\xad\\xad\\xad\\xad\\xadwick\\xad\\xad\\xadlung\\nSEA-Con\\xad\\xad\\xadtrol\\xad\\xad\\xadling\\nWebsite Wartung\\n\\n\\nKun\\xadden\\xader\\xadfolg\\n\\nüber 20 Anrufe/ Monat\\nüber 15 Kontaktanfragen/ Monat\\nTop Position für Keyword „Anwalt Arbeits\\xadrecht Dortmund“\\n\\n\\nZeitraum\\n\\nseit 2019\\n\\n\\nOnline Mar\\xadke\\xadting Dortmund – Aus\\xadführ\\xadliche Projektbeschreibung\\n\\nPro\\xadjekt\\xadan\\xadlass\\n\\nKanzlei HIRTES war bis dato nur in Bochum tätig und plante einen neuen Standort in Dortmund zu eröffnen. Um die Markt\\xader\\xadschlie\\xadßung des neuen Stand\\xadorts in Dortmund zu fördern, ent\\xadwi\\xadckelten wir gemeinsam mit einer Part\\xadner\\xadagentur ein umfas\\xadsendes online Mar\\xadke\\xadting Konzept. Denn die Kanzlei sollte schon vor der eigent\\xadli\\xadchen Stand\\xadort\\xaderöff\\xadnung in Dortmund digital präsent sein. Unsere Aufgabe bestand also darin, die Sicht\\xadbar\\xadkeit für spe\\xadzi\\xadelle Ange\\xadbots\\xadbe\\xadgriffe sicher\\xadzu\\xadstellen und unter die Top-Posi\\xad\\xad\\xadtionen in den orga\\xadni\\xadschen Such\\xadergeb\\xadnissen in Dortmund zu gelangen.\\n\\nPro\\xadblem\\xadstel\\xadlung\\n\\nDie bereits SEO-opti\\xad\\xad\\xadmierte Website der Kanzlei stand in den lokalen Such\\xadergeb\\xadnissen bereits auf einer guten Position. Ver\\xadweil\\xaddauer und Con\\xadver\\xadsion waren eben\\xadfalls zufrie\\xadden\\xadstel\\xadlend. Um dies eben\\xadfalls für den Standort Dortmund zu errei\\xadchen, ist eine kon\\xadti\\xadnu\\xadier\\xadliche Abstim\\xadmung und Koor\\xaddi\\xadna\\xadtion mit den bereits bestehenden Inhalten notwendig.\\n\\nSo wurde das Projekt Kanzlei HIRTES zu einem vollen Erfolg\\n\\nSEO IST Analyse\\n\\nIn einer aus\\xadführ\\xadli\\xadchen Analyse des Ist\\xadzu\\xadstandes wurden alle Schwä\\xadchen und Stärken des bis\\xadhe\\xadrigen Online und offline Mar\\xadke\\xadting sowie des Ver\\xadtriebs auf\\xadge\\xaddeckt und konkrete Lösungen erar\\xadbeitet. Von der Aus\\xadwer\\xadtung der tech\\xadni\\xadschen Struktur und des Rankings der Website, bis zu einer Nut\\xadzer\\xadfluss\\xadana\\xadlyse zur Iden\\xadti\\xadfi\\xadka\\xadtion der Abbruch\\xadpunkte, ergaben sich deut\\xadliche Optimierungspotenziale.\\n\\nOnline Markt\\xadfor\\xadschung\\n\\nUm in der zukünf\\xadtigen Mar\\xad\\xad\\xadke\\xad\\xad\\xadting- und Ver\\xadtriebs\\xadar\\xadbeit gezielt vorgehen zu können fand eine Defi\\xadni\\xadtion der Customer Journey statt. In dieser wird das kom\\xadplette Such\\xadver\\xadhalten und Klick\\xadver\\xadhalten der Ziel\\xadkunden ana\\xadly\\xadsiert und genau vor\\xadbe\\xadrei\\xadtete Erfor\\xadder\\xadnisse in Form eines Las\\xadten\\xadheftes auf\\xadge\\xadstellt. Ebenso werden Kun\\xadden\\xadgruppen mit Ihren Moti\\xadva\\xadtionen und domi\\xadnanten Kauf\\xadmo\\xadtiven defi\\xadniert, soge\\xadnannte Personas. In einer Wett\\xadbe\\xadwer\\xadber\\xadana\\xadlyse werden die best prac\\xadtices der Branche aus\\xadge\\xadwertet und in die Planung aufgenommen.\\n\\nOnline Markt\\xader\\xadschlie\\xadßungs\\xadstra\\xadtegie\\n\\nAus allen diesen und vielen weiteren Daten\\xader\\xadhe\\xadbungen und Inter\\xadpre\\xadta\\xadtionen entstand eine umfas\\xadsende online Markt\\xader\\xadschlie\\xadßungs\\xadstra\\xadtegie, in der alle nötigen online Maß\\xadnahmen und deren konkrete Aus\\xadfüh\\xadrung auf\\xadge\\xadlistet waren.\\n\\nWebsite Relaunch\\n\\nAuf der Basis des Las\\xadten\\xadheftes aus der online Markt\\xader\\xadschlie\\xadßungs\\xadstra\\xadtegie entstand eine opti\\xadmierte Website, welche das Ranking und Nut\\xadzer\\xadfüh\\xadrung mit dem Ziel von maxi\\xadmalen Anfra\\xadge\\xadzahlen ver\\xadbes\\xadserte. Ein Umfas\\xadsendes Tracking auf der Website ermög\\xadlicht das exakte Auslesen der Rankings und des Nut\\xadzer\\xadver\\xadhal\\xadtens auf der Website, um per\\xadma\\xadnent Opti\\xadmie\\xadrungen vor\\xadnehmen zu können.\\n\\nContent-Ent\\xad\\xad\\xad\\xad\\xadwick\\xad\\xad\\xadlung\\n\\nFür stetige Aktua\\xadli\\xadsie\\xadrungen und eine opti\\xadmierte Position in den Such\\xadergeb\\xadnissen, erwei\\xadtern wir die Website von HIRTES kon\\xadti\\xadnu\\xadier\\xadlich mit neuen Texten, sowie gra\\xadfi\\xadschen Dar\\xadstel\\xadlungen, wie Bildern und Videos.\\n\\nLokale Sicht\\xadbar\\xadkeit\\n\\nDurch eine umfas\\xadsende Erwei\\xadte\\xadrung und regel\\xadmä\\xadßige Befül\\xadlung des Google My-Busi\\xad\\xad\\xadnes\\xads\\xade\\xadin\\xad\\xad\\xadtrages mit aus\\xadführ\\xadli\\xadchen Leis\\xad\\xad\\xadtungs- und Pro\\xaddukt\\xaddar\\xadstel\\xadlungen mit Foto und Text entsteht eine hohe lokale Sicht\\xadbar\\xadkeit für die Branche und Angebote der Rechts\\xadan\\xadwälte HIRTES.\\n\\nSEA-Con\\xad\\xad\\xadtrol\\xad\\xad\\xadling\\n\\nUm die Reich\\xadweite der Website zu steigern, kann diese zusätz\\xadliche mit online Wer\\xadbe\\xadkam\\xadpa\\xadgnen beworben werden. Im Rahmen des SEA-Con\\xad\\xad\\xadtrol\\xad\\xad\\xadlings ver\\xadwalten und opti\\xadmieren wir alle SEA-Kam\\xad\\xad\\xadpa\\xad\\xad\\xadgnen von den Rechts\\xadan\\xadwälten HIRTES und fassen die monat\\xadli\\xadchen Ergeb\\xadnisse der Kampagne in einem Kunden-Report zusammen, um ihm die kom\\xadplette Trans\\xadpa\\xadrenz zu bieten.\\n\\nWartung\\n\\nDie monat\\xadliche tech\\xadni\\xadsche Wartung der Website unseres Kunden, stellt sicher, dass diese immer ver\\xadfügbar, funk\\xadtional und aktuell ist.\\n\\nWeb Ana\\xadly\\xadtics\\n\\nDurch Web-Ana\\xad\\xad\\xadly\\xad\\xad\\xadtics Reports kon\\xadtrol\\xadlieren wir für indi\\xadvi\\xaddu\\xadelle Zyklen, welche rele\\xadvanten Ranking-Faktoren sich im Umfeld der Website geändert haben und sprechen dem\\xadentspre\\xadchend konkrete Hand\\xadlungs\\xademp\\xadfeh\\xadlungen aus. Um die beste Website Plat\\xadzie\\xadrung zu errei\\xadchen, führen wir diese Maßnahme bei der Kanzlei monat\\xadlich durch.\\n\\nResul\\xadtate\\n\\nKanzlei HIRTES befindet sich bei der Eingabe rele\\xadvanter Keywords, wie z.B. Anwalt Arbeits\\xadrecht, nun sowohl in Bochum, als auch Dortmund in den Top Posi\\xadtionen der Google Such\\xadergeb\\xadnissen. Monat\\xadlich erhält die Kanzlei über 35 qua\\xadli\\xadfi\\xadzierte Anfragen über die Website, via Anruf oder E‑Mail. Im Ver\\xadgleich zur Aus\\xadgangs\\xadsi\\xadtua\\xadtion ist dies eine Ver\\xadviel\\xadfa\\xadchung und somit ein voller Erfolg!\\n\\nAlle Refe\\xadrenzen &  Fallbeispiele\\n\\n\\nSTENLE Refe\\xadrenzen  &  Fallbeispiele\\n\\nRefe\\xadrenzen &  Fallbeispiele\\n\\n\\nOnline Mar\\xadke\\xadting\\nGreiz\\n\\nRefe\\xadrenzen &  Fallbeispiele\\n\\n\\nOnline Mar\\xadke\\xadting Sprockhövel\\n\\nRefe\\xadrenzen &  Fallbeispiele\\n\\n\\nOnline Mar\\xadke\\xadting Krefeld\\n\\nRefe\\xadrenzen &  Fallbeispiele\\n\\n\\nOnline Mar\\xadke\\xadting Dortmund\\n\\nRefe\\xadrenzen &  Fallbeispiele\\n\\n\\nOnline Mar\\xadke\\xadting Essen\\n\\nRefe\\xadrenzen &  Fallbeispiele\\n\\n\\nOnline Mar\\xadke\\xadting Bochum\\n\\nSTENLE Online-Mar\\xadke\\xadting\\n\\n〉〉 Für Unternehmen ✓\\n〉〉 Für Agenturen ✓\\n〉〉 Für Entwickler ✓\\nMehr zu uns erfahren\\n\\n\\nUnsere Leis\\xadtungen sind speziell für diese Bereiche konzipiert:\\n\\nadd_shopping_cart\\n\\n\\nFür den Onlinehandel\\n\\nlocal_dining\\n\\n\\nFür Gas\\xadtro\\xadnomie &  Veranstalter\\n\\nsupervisor_account\\n\\n\\nFür Berater &  Dienstleister\\n\\nstore\\n\\n\\nFür lokale Händler &  Hersteller\\n\\nJetzt Experten sprechen!\\n\\nWas können wir für Sie tun?\\n\\n» Rufen Sie uns spontan und ohne große Vor\\xadbe\\xadrei\\xadtung an. Ganz unver\\xadbind\\xadlich bespre\\xadchen wir Ihre Themen und schauen, ob wir zuein\\xadander passen! «\\n\\nJetzt anfragen\\n\\n\\nOnline Mar\\xadke\\xadting – Nutzen Sie diese Maßnahmen\\n\\nFör\\xadder\\xadfähig\\n\\n\\nOnline Mark\\xadt\\xader\\xad\\xadschlie\\xad\\xadßungs-Stra\\xad\\xadtegie\\n\\nDamit Sie Ihre Inves\\xadti\\xadtionen gezielt ein\\xadsetzten können\\nFör\\xadder\\xadfähig\\n\\n\\nSEO\\n\\nDamit Ihre über\\xadzeu\\xadgenden Inhalte nach\\xadhaltig sichtbar werden\\nFör\\xadder\\xadfähig\\n\\n\\nSEA\\n\\nDamit Sie sofort Erfolge spüren und gezielt sichtbar werden\\nFör\\xadder\\xadfähig\\n\\n\\nWeb Ana\\xadly\\xadtics / Web Controlling\\n\\nDamit Ihr Online Mar\\xadke\\xadting immer erfolg\\xadrei\\xadcher und ren\\xadta\\xadbler wird\\nFör\\xadder\\xadfähig\\n\\n\\nWeb-Ent\\xad\\xad\\xadwick\\xad\\xadlung\\n\\nDamit SEO möglich wird und Sie Ihre Kunden ideal abholen\\nFör\\xadder\\xadfähig\\n\\n\\nSocial-Media Mar\\xadke\\xadting\\n\\nDamit Sie Ihre Kunden nicht nur bei gezielten Such\\xadan\\xadfragen erreichen\\nFör\\xadder\\xadfähig\\n\\n\\nOffPage Opti\\xadmie\\xadrung\\n\\nDamit Sie Ihre Ziel\\xadkunden an allen Anknüp\\xadfungs\\xadpunkten erreichen\\nFör\\xadder\\xadfähig\\n\\n\\nCon\\xadver\\xadsion Optimierung\\n\\nDamit Sie so geringe Online Mar\\xadke\\xadting Kosten wie möglich verzeichnen\\n\\n\\nRund um SEO\\n\\nIn Rund-um-SEO geben unsere Spe\\xadzia\\xadlisten leicht ver\\xadständ\\xadlich Hin\\xadter\\xadgrund\\xadin\\xadfor\\xadma\\xadtionen, zeigen welche Syn\\xader\\xadgie\\xadef\\xadfekte im Online-Mar\\xad\\xadke\\xad\\xadting möglich sind und wie Sie diese für sich nutzen können.\\n\\nRund um SEO\\n\\n\\nJetzt Ihre Anfrage stellen:\\n\\nBitte lasse dieses Feld leer.\\nIch stimme zu, dass meine Angaben aus dem Kon\\xadtakt\\xadfor\\xadmular zur Beant\\xadwor\\xadtung meiner Anfrage erhoben und ver\\xadar\\xadbeitet werden. Die Daten werden nach abge\\xadschlos\\xadsener Bear\\xadbei\\xadtung Ihrer Anfrage gelöscht. Hinweis: Sie können Ihre Ein\\xadwil\\xadli\\xadgung jeder\\xadzeit für die Zukunft per E‑Mail an info(at)stenle.de wider\\xadrufen. Detail\\xadlierte Infor\\xadma\\xadtionen zum Umgang mit Nut\\xadzer\\xaddaten finden Sie in unserer Daten\\xadschutz\\xader\\xadklä\\xadrung.*\\n\\n\\nOnlinemarkt-Forschung\\n\\nErhalten Sie das notwendige Wissensfundament, um Ihr Unternehmen erfolgreich in dem Gefüge aus Ihren Zielgruppen und Ihrem Wettbewerb zu platzieren.\\n\\nOnline-Marketing Beratung\\n\\nGemeinsam entwickeln wir eine, auf Ihre unternehmerische IST-Situation zugeschnittene, wirkungsbezogene Online-Marketing Strategie.\\n\\nWeb-Entwicklungen\\n\\nWir verwirklichen ein Ihre Werte wiederspiegelndes Webauftreten - authentisch, aussagekräftig und einzigartig.\\n\\nExperten sprechen\\n\\nSie möchten ein Web-Projekt mit uns verwirklichen? Melden Sie sich einfach spontan bei uns!\\n\\nHome\\nSTENLE GmbH\\nRund um SEO\\nSitemap\\nImpressum\\nDaten\\xadschutz\\n\\n\\n©  STENLE – Online Marketing\\n\\nMenüFür Unternehmen, Agenturen und Entwickler » Online Marketing Beratung & Optimierung: SEO, Social-Media, Online-Werbung, Webentwicklung ➥ Alle Infos hier!Für Unternehmen, Agenturen und Entwickler » Online Marketing Beratung & Optimierung: SEO, Social-Media, Online-Werbung, Webentwicklung ➥ Alle Infos hier!Für Unternehmen, Agenturen und Entwickler » Online Marketing Beratung & Optimierung: SEO, Social-Media, Online-Werbung, Webentwicklung ➥ Alle Infos hier!'"
      ]
     },
     "execution_count": 39,
     "metadata": {},
     "output_type": "execute_result"
    }
   ],
   "source": [
    "train_text[1]"
   ]
  },
  {
   "cell_type": "markdown",
   "metadata": {},
   "source": [
    "- plain: 0.3994 F1\n",
    "- html: 0.2784 \tF1\n",
    "- plain + meta: 0.4111 \tF1\n",
    "- plain + 2 * meta: 0.4063 \tF1\n",
    "- html + meta: 0.2784 \tF1"
   ]
  },
  {
   "cell_type": "code",
   "execution_count": null,
   "metadata": {},
   "outputs": [],
   "source": [
    "try:\n",
    "        if markup_type in [\"html\", \"xml\"]:\n",
    "            tree = extract_tree(string, markup_type)\n",
    "            select = CSSSelector(tags, translator=markup_type)\n",
    "        else:\n",
    "            try:\n",
    "                print(\"klappt\")\n",
    "                tree = extract_tree(string, \"html\")\n",
    "                select = CSSSelector(tags, translator=markup_type)\n",
    "            except:\n",
    "                tree = extract_tree(string, \"xml\")\n",
    "                select = CSSSelector(tags, translator=markup_type)\n",
    "                \n",
    "            \n",
    "            \n",
    "        results = [element.get('content') for element in select(tree)]\n",
    "        results = [x for x in results if x is not None]\n",
    "        return \" \".join(list(set(results)))\n",
    "    except:\n",
    "        return [\"\"]"
   ]
  },
  {
   "cell_type": "code",
   "execution_count": 2,
   "metadata": {},
   "outputs": [],
   "source": [
    "import re\n",
    "from typing import Dict, List, Optional, Tuple, Union\n",
    "from unicodedata import normalize\n",
    "\n",
    "import lxml\n",
    "from lxml.cssselect import CSSSelector\n",
    "from lxml.html.clean import Cleaner\n",
    "from lxml import html, etree\n",
    "import numpy as np\n",
    "import pandas as pd"
   ]
  },
  {
   "cell_type": "code",
   "execution_count": 70,
   "metadata": {},
   "outputs": [],
   "source": [
    "def extract_tree(string: str, markup_type: str) -> lxml.etree._Element:\n",
    "    \"\"\" Extracts tree from string.\n",
    "\n",
    "    Parameters\n",
    "    ----------\n",
    "    string : str\n",
    "        String which contains the HTML, XHTML or XML.\n",
    "    markup_type : str, default=None\n",
    "        Indicate the markup type ('xml' or another).\n",
    "\n",
    "    Returns\n",
    "    -------\n",
    "    tree : lxml.etree._Element\n",
    "        Extracted lxml.etree Element.\n",
    "    \"\"\"\n",
    "    # XML\n",
    "    if markup_type == \"xml\":\n",
    "        parser = etree.XMLParser(\n",
    "            encoding=\"utf-8\", ns_clean=True, recover=True, remove_comments=True\n",
    "        )\n",
    "        tree = etree.fromstring(string.encode(\"utf-8\"), parser=parser)\n",
    "    # HTML and XHTML\n",
    "    else:\n",
    "        parser = html.HTMLParser(encoding=\"utf-8\")\n",
    "        tree = html.fromstring(string.encode(\"utf-8\"), parser=parser)\n",
    "    return tree\n",
    "\n",
    "\n",
    "def extract_meta_informations(string: str, meta_type: str) -> list:\n",
    "    \"\"\" Extracts meta information from 'title'-, 'keyword'- and description'- \n",
    "        meta elements (by choice) and returns the content in a list.\n",
    "    \"\"\"\n",
    "    # title already in text\n",
    "    if meta_type == \"title\":\n",
    "        tags = ['meta[property=\"og:title\"]', 'meta[name=\"title\"]']\n",
    "    elif meta_type == \"keywords\":\n",
    "        tags = ['meta[property=\"og:keyword\"]', 'meta[name=\"keyword\"]']\n",
    "    elif meta_type == \"description\":\n",
    "        tags = ['meta[property=\"og:description\"]', 'meta[name=\"description\"]']\n",
    "    \n",
    "    else:\n",
    "        tags = ['meta[property=\"og:description\"]',\n",
    "                'meta[name=\"description\"]',\n",
    "                'meta[property=\"og:keyword\"]',\n",
    "                'meta[name=\"keyword\"]', \n",
    "                'meta[property=\"og:title\"]', \n",
    "                'meta[name=\"title\"]']\n",
    "\n",
    "    tags = \", \".join(tags)\n",
    "\n",
    "    \n",
    "    try:      \n",
    "        tree = extract_tree(string, \"html\")\n",
    "        select = CSSSelector(tags, translator=\"html\")\n",
    "    except:\n",
    "        tree = extract_tree(string, \"xml\")\n",
    "        select = CSSSelector(tags, translator=\"xml\")\n",
    "        \n",
    "    results = [element.get('content') for element in select(tree)]\n",
    "    results = [x for x in results if x is not None]\n",
    "    return \" \".join(list(set(results)))"
   ]
  },
  {
   "cell_type": "code",
   "execution_count": null,
   "metadata": {},
   "outputs": [],
   "source": []
  },
  {
   "cell_type": "code",
   "execution_count": 71,
   "metadata": {},
   "outputs": [],
   "source": [
    "def detect_XML(string: str) -> str:\n",
    "    \"\"\" Detect XML by XML declaration and returns a markup type string.\"\"\"\n",
    "    if string.startswith(\"<?xml\"):\n",
    "        return \"xml\"\n",
    "    else:\n",
    "        return \"html\""
   ]
  },
  {
   "cell_type": "code",
   "execution_count": 73,
   "metadata": {},
   "outputs": [
    {
     "name": "stdout",
     "output_type": "stream",
     "text": [
      "hier\n"
     ]
    },
    {
     "data": {
      "text/plain": [
       "''"
      ]
     },
     "execution_count": 73,
     "metadata": {},
     "output_type": "execute_result"
    }
   ],
   "source": [
    "import requests\n",
    "\n",
    "htmlf = requests.get(\"https://www.uni-wuerzburg.de/startseite/\").text\n",
    "extract_meta_informations(htmlf, \"keywords\")"
   ]
  },
  {
   "cell_type": "code",
   "execution_count": 27,
   "metadata": {},
   "outputs": [
    {
     "name": "stdout",
     "output_type": "stream",
     "text": [
      "<!DOCTYPE html>\n",
      "<html lang=\"de\" class=\"fontawesome-i2svg-pending\">\n",
      "<head>\n",
      "  <!-- 0007: production -->\n",
      "      <meta charset=\"utf-8\">\n",
      "    <title>Leads & Kontakte automatisch erfassen | snapADDY GmbH</title>\n",
      "    <base href=\"https://www.snapaddy.com/\">\n",
      "\n",
      "          <meta name=\"robots\" content=\"index,follow\">\n",
      "      <meta name=\"description\" content=\"snapADDY ist eine vertriebsunterstützende Software zur Recherche und Direktübernahme von B2B-Kontakten in CRM- und ERP-Systeme. Jetzt 14 Tage testen!\">\n",
      "      <meta name=\"generator\" content=\"Contao Open Source CMS\">\n",
      "    \n",
      "    <!-- Google Verification -->\n",
      "    <meta name=\"google-site-verification\" content=\"f1DkKYnmHR6JNaLX3-MexQNTDfXgrQ6p6kUKgLlbaX4\">\n",
      "    <meta name=\"google-site-verification\" content=\"7o3g9lt0dest7muyrG5zEda_iX8D0DsjKEJQwhzylU8\">\n",
      "\n",
      "    <meta name=\"viewport\" content=\"width=device-width, initial-scale=1.0, user-scalable=no\">\n",
      "                <link rel=\"alternate\" hreflang=\"de\" href=\"https://www.snapaddy.com/de/\">\n",
      "<link rel=\"alternate\" hreflang=\"en\" href=\"https://www.snapaddy.com/en/\">\n",
      "<link rel=\"alternate\" hreflang=\"es\" href=\"https://www.snapaddy.com/es/\">\n",
      "<link rel=\"alternate\" hreflang=\"fr\" href=\"https://www.snapaddy.com/fr/\">\n",
      "\n",
      "    <!-- Icons -->\n",
      "    <link rel=\"apple-touch-icon\" sizes=\"180x180\" href=\"/files/snapaddy/favicon/apple-touch-icon.png\">\n",
      "    <link rel=\"icon\" type=\"image/png\" sizes=\"32x32\" href=\"/files/snapaddy/favicon/favicon-32x32.png\">\n",
      "    <link rel=\"icon\" type=\"image/png\" sizes=\"16x16\" href=\"/files/snapaddy/favicon/favicon-16x16.png\">\n",
      "    <link rel=\"manifest\" href=\"/files/snapaddy/favicon/site.webmanifest\">\n",
      "    <link rel=\"mask-icon\" href=\"/files/snapaddy/favicon/safari-pinned-tab.svg\" color=\"#9da600\">\n",
      "    <link rel=\"shortcut icon\" href=\"/files/snapaddy/favicon/favicon.ico\">\n",
      "    <meta name=\"msapplication-TileColor\" content=\"#9da600\">\n",
      "    <meta name=\"msapplication-config\" content=\"/files/snapaddy/favicon/browserconfig.xml\">\n",
      "    <meta name=\"theme-color\" content=\"#ffffff\">\n",
      "\n",
      "    \n",
      "    <!-- Open Graph -->\n",
      "    <meta property=\"og:title\" content=\"Leads & Kontakte automatisch erfassen | snapADDY GmbH\" />\n",
      "    <meta property=\"og:description\" content=\"snapADDY ist eine vertriebsunterstützende Software zur Recherche und Direktübernahme von B2B-Kontakten in CRM- und ERP-Systeme. Jetzt 14 Tage testen!\" />\n",
      "    <meta property=\"og:url\" content=\"https://www.snapaddy.com/de/\" />\n",
      "    <meta property=\"og:image\" content=\"https://www.snapaddy.com/files/snapaddy/images/test.png\" />\n",
      "    <meta property=\"og:site_name\" content=\"snapADDY\" />\n",
      "\n",
      "    <!-- Twitter Card -->\n",
      "    <meta name=\"twitter:card\" content=\"summary\" />\n",
      "    <meta name=\"twitter:title\" content=\"Leads & Kontakte automatisch erfassen | snapADDY GmbH\" />\n",
      "    <meta name=\"twitter:description\" content=\"snapADDY ist eine vertriebsunterstützende Software zur Recherche und Direktübernahme von B2B-Kontakten in CRM- und ERP-Systeme. Jetzt 14 Tage testen!\" />\n",
      "    <meta name=\"twitter:image\" content=\"https://www.snapaddy.com/files/snapaddy/images/test.png\" />\n",
      "    <meta name=\"twitter:url\" content=\"https://www.snapaddy.com/de/\" />\n",
      "\n",
      "    <link rel=\"stylesheet\" href=\"/files/snapaddy/css/style.min.css?v=232165\n",
      "\">\n",
      "\n",
      "    <!-- DNS Prefetch -->\n",
      "          <link rel=\"dns-prefetch\" href=\"//www.xing-share.com\">\n",
      "          <link rel=\"dns-prefetch\" href=\"//widget.intercom.io\">\n",
      "          <link rel=\"dns-prefetch\" href=\"//nexus-websocket-a.intercom.io\">\n",
      "          <link rel=\"dns-prefetch\" href=\"//nexus-websocket-b.intercom.io\">\n",
      "          <link rel=\"dns-prefetch\" href=\"//js.intercomcdn.com\">\n",
      "          <link rel=\"dns-prefetch\" href=\"//api-iam.intercom.io\">\n",
      "          <link rel=\"dns-prefetch\" href=\"//syndication.twitter.com\">\n",
      "          <link rel=\"dns-prefetch\" href=\"//platform.twitter.com\">\n",
      "          <link rel=\"dns-prefetch\" href=\"//staticxx.facebook.com\">\n",
      "          <link rel=\"dns-prefetch\" href=\"//connect.facebook.net\">\n",
      "          <link rel=\"dns-prefetch\" href=\"//platform.linkedin.com\">\n",
      "    \n",
      "    <link rel=\"preload\" href=\"/files/snapaddy/fonts/lato-v14-latin-700.woff\" as=\"font\" crossorigin=\"anonymous\" />\n",
      "    <link rel=\"preload\" href=\"/files/snapaddy/fonts/lato-v14-latin-700.woff2\" as=\"font\" crossorigin=\"anonymous\" />\n",
      "    <link rel=\"preload\" href=\"/files/snapaddy/fonts/lato-v14-latin-regular.woff\" as=\"font\" crossorigin=\"anonymous\" />\n",
      "    <link rel=\"preload\" href=\"/files/snapaddy/fonts/lato-v14-latin-regular.woff2\" as=\"font\" crossorigin=\"anonymous\" />\n",
      "\n",
      "    <script defer src=\"/files/snapaddy/js/font-awesome.js?v=232165\n",
      "\"></script>\n",
      "\n",
      "\n",
      "    <!-- Grunticon\n",
      "    <script>\n",
      "      /* grunticon Stylesheet Loader | https://github.com/filamentgroup/grunticon | (c) 2012 Scott Jehl, Filament Group, Inc. | MIT license. */\n",
      "      window.grunticon=function(e){if(e&&3===e.length){var t=window,n=!(!t.document.createElementNS||!t.document.createElementNS(\"http://www.w3.org/2000/svg\",\"svg\").createSVGRect||!document.implementation.hasFeature(\"http://www.w3.org/TR/SVG11/feature#Image\",\"1.1\")||window.opera&&-1===navigator.userAgent.indexOf(\"Chrome\")),o=function(o){var r=t.document.createElement(\"link\"),a=t.document.getElementsByTagName(\"script\")[0];r.rel=\"stylesheet\",r.href=e[o&&n?0:o?1:2],a.parentNode.insertBefore(r,a)},r=new t.Image;r.onerror=function(){o(!1)},r.onload=function(){o(1===r.width&&1===r.height)},r.src=\"data:image/gif;base64,R0lGODlhAQABAIAAAAAAAP///ywAAAAAAQABAAACAUwAOw==\"}};\n",
      "      grunticon([\n",
      "        \"files/snapaddy/icons/grunticon/icons.data.svg.css\",\n",
      "        \"files/snapaddy/icons/grunticon/icons.data.png.css\",\n",
      "        \"files/snapaddy/icons/grunticon/icons.fallback.css\"\n",
      "      ]);\n",
      "    </script>\n",
      "    <noscript><link href=\"files/snapaddy/icons/grunticon/icons.fallback.css\" rel=\"stylesheet\"></noscript> -->\n",
      "    <link href=\"/files/snapaddy/icons/grunticon/icons.data.svg.css?v=232165\n",
      "\" rel=\"stylesheet\">\n",
      "\n",
      "    <!-- Cookie Consent by https://www.CookieConsent.com -->\n",
      "    <script type=\"text/javascript\" src=\"/files/snapaddy/js/cookie-consent.min.js\"></script>\n",
      "    <script type=\"text/javascript\">\n",
      "    document.addEventListener('DOMContentLoaded', function () {\n",
      "    co\n"
     ]
    }
   ],
   "source": [
    "print(html[:6000])"
   ]
  },
  {
   "cell_type": "code",
   "execution_count": null,
   "metadata": {},
   "outputs": [],
   "source": []
  },
  {
   "cell_type": "code",
   "execution_count": null,
   "metadata": {},
   "outputs": [],
   "source": []
  },
  {
   "cell_type": "code",
   "execution_count": null,
   "metadata": {},
   "outputs": [],
   "source": []
  },
  {
   "cell_type": "code",
   "execution_count": null,
   "metadata": {},
   "outputs": [],
   "source": []
  },
  {
   "cell_type": "markdown",
   "metadata": {},
   "source": []
  },
  {
   "cell_type": "markdown",
   "metadata": {},
   "source": [
    "## Tests\n",
    "\n",
    "- Evaluation metric: **F1 Scores**\n",
    "- TF-IDF Vectorizer\n",
    "    - kein lowercase\n",
    "    - stop words werden entfernt\n",
    "    - keine max features\n",
    "- Top $n$ classes = most frequent classes\n",
    "- CLEAN HTML auch für Test Set (ansonsten unglaublich schlechte Accuracy und etwas sinnlos)\n",
    "\n",
    "\n",
    "#### Label: `group_representatives`\n",
    "\n",
    "| Experiment | SGD F1 (Precision) | LSVM F1 (Precision) |\n",
    "| ---------- |:-----:| ----:|\n",
    "| HTML (10000 features) | **0.5292** (0.5962) | **0.5493** (0.6371) |\n",
    "| HTML (kept stop words) (10000 features) | **0.5268** (0.5845) | **0.5473** (0.6439) |\n",
    "| HTML (10000 features) ((1, 3) ngrams) | **0.4035** (0.463) | **0.4188** (0.5345) |\n",
    "| HTML (10000 features) ((2, 2) ngrams) | **0.2442** (0.2787) | **0.252** (0.3146) |\n",
    "| ---------- |-----| ----|\n",
    "| *ALL LANGS* HTML (kept stop words) (10000 features) | **0.5781** (0.6464) | **0.6406** (0.7024) |\n",
    "| ---------- |-----| ----|\n",
    "| Plain Text (kept stop words) (10000 features) (10000 rows) | **0.5841** (0.6301) | **0.5778** (0.6257) |\n",
    "| Plain Text + Meta (kept stop words) (10000 features) (10000 rows) | **0.5832** (0.6197) | **0.5826** (0.6279) |"
   ]
  },
  {
   "cell_type": "markdown",
   "metadata": {},
   "source": [
    "## Paths"
   ]
  },
  {
   "cell_type": "code",
   "execution_count": 2,
   "metadata": {},
   "outputs": [],
   "source": [
    "DATA_DIR_PATH = \"../data/\"\n",
    "LANG = \"\"\n",
    "ROWS = \"_10000\"\n",
    "\n",
    "INDUSTRIES_PATH_CSV = DATA_DIR_PATH + \"industries.csv\"\n",
    "TRAIN_PATH_CSV = DATA_DIR_PATH + \"train\" + LANG + ROWS + \".csv\"\n",
    "TEST_PATH_CSV = DATA_DIR_PATH + \"test\" + LANG + ROWS +\".csv\""
   ]
  },
  {
   "cell_type": "markdown",
   "metadata": {},
   "source": [
    "## Load train csv"
   ]
  },
  {
   "cell_type": "code",
   "execution_count": 3,
   "metadata": {},
   "outputs": [
    {
     "name": "stdout",
     "output_type": "stream",
     "text": [
      "CPU times: user 1.55 s, sys: 421 ms, total: 1.97 s\n",
      "Wall time: 1.97 s\n"
     ]
    }
   ],
   "source": [
    "%%time\n",
    "train = pd.read_csv(TRAIN_PATH_CSV)\n",
    "train = train.fillna(\"\")"
   ]
  },
  {
   "cell_type": "code",
   "execution_count": 4,
   "metadata": {},
   "outputs": [
    {
     "data": {
      "text/html": [
       "<div>\n",
       "<style scoped>\n",
       "    .dataframe tbody tr th:only-of-type {\n",
       "        vertical-align: middle;\n",
       "    }\n",
       "\n",
       "    .dataframe tbody tr th {\n",
       "        vertical-align: top;\n",
       "    }\n",
       "\n",
       "    .dataframe thead th {\n",
       "        text-align: right;\n",
       "    }\n",
       "</style>\n",
       "<table border=\"1\" class=\"dataframe\">\n",
       "  <thead>\n",
       "    <tr style=\"text-align: right;\">\n",
       "      <th></th>\n",
       "      <th>url</th>\n",
       "      <th>industry</th>\n",
       "      <th>industry_label</th>\n",
       "      <th>group</th>\n",
       "      <th>group_representative</th>\n",
       "      <th>html</th>\n",
       "      <th>text</th>\n",
       "      <th>source</th>\n",
       "      <th>country</th>\n",
       "      <th>group_representative_label</th>\n",
       "      <th>meta</th>\n",
       "    </tr>\n",
       "  </thead>\n",
       "  <tbody>\n",
       "    <tr>\n",
       "      <th>0</th>\n",
       "      <td>http://www.autarctech.de</td>\n",
       "      <td>144</td>\n",
       "      <td>Renewables &amp; Environment</td>\n",
       "      <td>gov, man, org</td>\n",
       "      <td>144</td>\n",
       "      <td>&lt;html&gt;    &lt;head&gt;                              ...</td>\n",
       "      <td>Home\\n\\nMenü\\n\\n\\nShop\\nHome\\nProdukte\\nOur St...</td>\n",
       "      <td>xing</td>\n",
       "      <td>DE</td>\n",
       "      <td>Renewables &amp; Environment</td>\n",
       "      <td>Effizenz bei der Stromspeicherung in Batterien...</td>\n",
       "    </tr>\n",
       "  </tbody>\n",
       "</table>\n",
       "</div>"
      ],
      "text/plain": [
       "                        url  industry            industry_label  \\\n",
       "0  http://www.autarctech.de       144  Renewables & Environment   \n",
       "\n",
       "           group  group_representative  \\\n",
       "0  gov, man, org                   144   \n",
       "\n",
       "                                                html  \\\n",
       "0  <html>    <head>                              ...   \n",
       "\n",
       "                                                text source country  \\\n",
       "0  Home\\n\\nMenü\\n\\n\\nShop\\nHome\\nProdukte\\nOur St...   xing      DE   \n",
       "\n",
       "  group_representative_label  \\\n",
       "0   Renewables & Environment   \n",
       "\n",
       "                                                meta  \n",
       "0  Effizenz bei der Stromspeicherung in Batterien...  "
      ]
     },
     "execution_count": 4,
     "metadata": {},
     "output_type": "execute_result"
    }
   ],
   "source": [
    "train.head(1)"
   ]
  },
  {
   "cell_type": "code",
   "execution_count": 5,
   "metadata": {},
   "outputs": [
    {
     "data": {
      "text/plain": [
       "(8000, 11)"
      ]
     },
     "execution_count": 5,
     "metadata": {},
     "output_type": "execute_result"
    }
   ],
   "source": [
    "train.shape"
   ]
  },
  {
   "cell_type": "markdown",
   "metadata": {},
   "source": [
    "## Hyperparameters"
   ]
  },
  {
   "cell_type": "code",
   "execution_count": 6,
   "metadata": {},
   "outputs": [],
   "source": [
    "# \"text\" or \"html\"\n",
    "TEXT_COL = \"text\"\n",
    "\n",
    "# \"group_representative\", \"group_representative_label\", \"industry\", \"industry_label\" or \"group\"\n",
    "CLASS_COL = \"group_representative\"\n",
    "CLASS_NAMES = \"group_representative_label\"\n",
    "\n",
    "MAX_DOCUMENT_FREQUENCY = 1.\n",
    "MAX_FEATURES = 10000\n",
    "NGRAM_RANGE = (1,1)\n",
    "LOWERCASE = False\n",
    "#STOP_WORDS = get_stop_words(\"de\")\n",
    "STOP_WORDS = None\n",
    "\n",
    "TAG_LIST = ['a', 'b', 'em', 'h1', 'h2', 'h3', 'i', 'li', 'p', 'strong', 'title']"
   ]
  },
  {
   "cell_type": "markdown",
   "metadata": {},
   "source": [
    "## Add Meta-Tag information to plain text"
   ]
  },
  {
   "cell_type": "code",
   "execution_count": 7,
   "metadata": {},
   "outputs": [],
   "source": [
    "train[\"text\"] = train[\"text\"] + train[\"meta\"]"
   ]
  },
  {
   "cell_type": "markdown",
   "metadata": {},
   "source": [
    "## Trim HTML"
   ]
  },
  {
   "cell_type": "code",
   "execution_count": 8,
   "metadata": {},
   "outputs": [],
   "source": [
    "train2 = train.head(10)"
   ]
  },
  {
   "cell_type": "code",
   "execution_count": 10,
   "metadata": {},
   "outputs": [
    {
     "name": "stdout",
     "output_type": "stream",
     "text": [
      "CPU times: user 1e+03 ns, sys: 1 µs, total: 2 µs\n",
      "Wall time: 4.53 µs\n"
     ]
    }
   ],
   "source": [
    "%%time\n",
    "#train[\"html\"] = train[\"html\"].apply(lambda x: trim_html(x, tag_list = TAG_LIST, tagless_output_string=True))"
   ]
  },
  {
   "cell_type": "markdown",
   "metadata": {},
   "source": [
    "### Vectorizing text"
   ]
  },
  {
   "cell_type": "code",
   "execution_count": 54,
   "metadata": {},
   "outputs": [
    {
     "name": "stdout",
     "output_type": "stream",
     "text": [
      "CPU times: user 8.46 s, sys: 63.5 ms, total: 8.52 s\n",
      "Wall time: 8.51 s\n"
     ]
    }
   ],
   "source": [
    "%%time\n",
    "\n",
    "train_text = train[TEXT_COL]\n",
    "train_labels = train[CLASS_COL].values\n",
    "\n",
    "vectorizer = CountVectorizer(max_df=MAX_DOCUMENT_FREQUENCY,\n",
    "                             lowercase=LOWERCASE,\n",
    "                             max_features=MAX_FEATURES,\n",
    "                             ngram_range=NGRAM_RANGE,\n",
    "                             stop_words=STOP_WORDS,\n",
    "                            tokenizer=tokenizing_html)\n",
    "transformer = TfidfTransformer()\n",
    "\n",
    "vector = vectorizer.fit_transform(train_text)\n",
    "train_vector = transformer.fit_transform(vector)"
   ]
  },
  {
   "cell_type": "markdown",
   "metadata": {},
   "source": [
    "# Test Dataset"
   ]
  },
  {
   "cell_type": "code",
   "execution_count": 55,
   "metadata": {},
   "outputs": [
    {
     "name": "stdout",
     "output_type": "stream",
     "text": [
      "CPU times: user 2.18 s, sys: 28.6 ms, total: 2.21 s\n",
      "Wall time: 2.21 s\n"
     ]
    }
   ],
   "source": [
    "%%time\n",
    "test = pd.read_csv(TEST_PATH_CSV)\n",
    "    \n",
    "test_vector = vectorizer.transform(test[TEXT_COL].values)\n",
    "test_vector = transformer.transform(test_vector)\n",
    "test_labels = test[CLASS_COL].values"
   ]
  },
  {
   "cell_type": "markdown",
   "metadata": {},
   "source": [
    "# SGD"
   ]
  },
  {
   "cell_type": "code",
   "execution_count": 56,
   "metadata": {},
   "outputs": [
    {
     "name": "stdout",
     "output_type": "stream",
     "text": [
      "SGD CLF \n",
      "-------------------------\n",
      "0.6301 \tPrecision\n",
      "0.5634 \tRecall\n",
      "0.5841 \tF1\n",
      "\n",
      "CPU times: user 1.09 s, sys: 0 ns, total: 1.09 s\n",
      "Wall time: 1.08 s\n"
     ]
    }
   ],
   "source": [
    "%%time\n",
    "print(\"SGD CLF\", \"\\n-------------------------\")\n",
    "# training\n",
    "clf = SGDClassifier()\n",
    "clf.fit(train_vector, train_labels)\n",
    "\n",
    "# prediction\n",
    "train_preds = clf.predict(test_vector)\n",
    "\n",
    "# evaluation\n",
    "precision = precision_score(test_labels, train_preds, average=\"macro\", zero_division=0)\n",
    "recall = recall_score(test_labels, train_preds, average=\"macro\", zero_division=0)\n",
    "f1 = f1_score(test_labels, train_preds, average=\"macro\", zero_division=0)\n",
    "clf1_f1 = np.round(f1, decimals=4)\n",
    "clf1_precision = np.round(precision, decimals=4)\n",
    "\n",
    "print(np.round(precision, decimals=4), \"\\tPrecision\")\n",
    "print(np.round(recall, decimals=4), \"\\tRecall\")\n",
    "print(np.round(f1, decimals=4), \"\\tF1\")\n",
    "print()\n",
    "\n",
    "clf1_report = classification_report(test_labels, \n",
    "                                   train_preds, \n",
    "                                   target_names = np.unique(test[CLASS_NAMES]), \n",
    "                                   zero_division = 0)"
   ]
  },
  {
   "cell_type": "markdown",
   "metadata": {},
   "source": [
    "# LSVM"
   ]
  },
  {
   "cell_type": "code",
   "execution_count": 57,
   "metadata": {},
   "outputs": [
    {
     "name": "stdout",
     "output_type": "stream",
     "text": [
      "LSVM CLF \n",
      "-------------------------\n",
      "0.6257 \tPrecision\n",
      "0.5523 \tRecall\n",
      "0.5778 \tF1\n",
      "\n",
      "CPU times: user 2.44 s, sys: 8.03 ms, total: 2.45 s\n",
      "Wall time: 2.44 s\n"
     ]
    }
   ],
   "source": [
    "%%time\n",
    "print(\"LSVM CLF\", \"\\n-------------------------\")\n",
    "# training\n",
    "clf = LinearSVC()\n",
    "clf.fit(train_vector, train_labels)\n",
    "\n",
    "# prediction\n",
    "train_preds = clf.predict(test_vector)\n",
    "\n",
    "# evaluation\n",
    "precision = precision_score(test_labels, train_preds, average=\"macro\", zero_division=0)\n",
    "recall = recall_score(test_labels, train_preds, average=\"macro\", zero_division=0)\n",
    "f1 = f1_score(test_labels, train_preds, average=\"macro\", zero_division=0)\n",
    "clf2_f1 = np.round(f1, decimals=4)\n",
    "clf2_precision = np.round(precision, decimals=4)\n",
    "\n",
    "print(np.round(precision, decimals=4), \"\\tPrecision\")\n",
    "print(np.round(recall, decimals=4), \"\\tRecall\")\n",
    "print(np.round(f1, decimals=4), \"\\tF1\")\n",
    "print()\n",
    "\n",
    "clf2_report = classification_report(test_labels, \n",
    "                                   train_preds, \n",
    "                                   target_names = np.unique(test[CLASS_NAMES]),\n",
    "                                   zero_division = 0)"
   ]
  },
  {
   "cell_type": "markdown",
   "metadata": {},
   "source": [
    "## Summary: Classification Results"
   ]
  },
  {
   "cell_type": "code",
   "execution_count": 58,
   "metadata": {},
   "outputs": [
    {
     "name": "stdout",
     "output_type": "stream",
     "text": [
      "group_representative\n",
      "\n",
      "| Plain Text (kept stop words) (10000 features) (10000 rows) | **0.5841** (0.6301) | **0.5778** (0.6257) |\n"
     ]
    }
   ],
   "source": [
    "result = \"| \"\n",
    "\n",
    "if TEXT_COL == \"text\":\n",
    "    result += \"Plain Text\"\n",
    "else:\n",
    "    result += \"HTML\"\n",
    "    \n",
    "if STOP_WORDS is None:\n",
    "    result += \" (kept stop words)\"\n",
    "    \n",
    "if MAX_FEATURES is None:\n",
    "    result += \" (all features)\"\n",
    "else:\n",
    "    result += f\" ({MAX_FEATURES} features)\"\n",
    "    \n",
    "if NGRAM_RANGE != (1,1):\n",
    "    result += f\" ({NGRAM_RANGE} ngrams)\"\n",
    "    \n",
    "if ROWS:\n",
    "    result += f\" ({ROWS[1:]} rows)\"\n",
    "    \n",
    "            \n",
    "result += f\" | **{clf1_f1}** ({clf1_precision}) | **{clf2_f1}** ({clf2_precision}) |\"\n",
    "print(CLASS_COL)\n",
    "print()\n",
    "print(result)"
   ]
  },
  {
   "cell_type": "markdown",
   "metadata": {},
   "source": [
    "# Confusion Matrix"
   ]
  },
  {
   "cell_type": "markdown",
   "metadata": {},
   "source": [
    "TODO: label und text names und so; allg. änderungen von oben hier ergänzen"
   ]
  },
  {
   "cell_type": "code",
   "execution_count": null,
   "metadata": {},
   "outputs": [],
   "source": [
    "NORMALIZE_CM = True\n",
    "INDUSTRY_TRESHOLD = 250\n",
    "PLT_SCALING_FACTOR = 0.8"
   ]
  },
  {
   "cell_type": "code",
   "execution_count": null,
   "metadata": {},
   "outputs": [],
   "source": [
    "%matplotlib inline\n",
    "%config InlineBackend.figure_format = 'svg'\n",
    "\n",
    "filtered_train = train.groupby(CLASS_COL).filter(lambda x: len(x)>INDUSTRY_TRESHOLD)\n",
    "remaining_industries = filtered_train[CLASS_NAMES].drop_duplicates().tolist()\n",
    "\n",
    "\n",
    "cnf_matrix = confusion_matrix(test_labels, train_preds)\n",
    "\n",
    "classes = train[CLASS_COL].drop_duplicates().tolist()\n",
    "\n",
    "cnf_df = pd.DataFrame(cnf_matrix, index=classes, columns=classes)\n",
    "cnf_df = cnf_df[remaining_industries]\n",
    "cnf_df = cnf_df.loc[remaining_industries]"
   ]
  },
  {
   "cell_type": "code",
   "execution_count": null,
   "metadata": {},
   "outputs": [],
   "source": [
    "plt.figure(figsize=(10*PLT_SCALING_FACTOR, 8*PLT_SCALING_FACTOR))\n",
    "\n",
    "if NORMALIZE_CM:\n",
    "    normalized_cnf_df = cnf_df.astype('float') / cnf_df.sum(axis=1)[:, np.newaxis]\n",
    "    sns.heatmap(normalized_cnf_df, annot=True, cmap=sns.color_palette(\"Blues\"), fmt='.2f')\n",
    "else:\n",
    "    sns.heatmap(cnf_df, annot=True, cmap=sns.color_palette(\"Blues\"), fmt='g')\n",
    "plt.tight_layout()"
   ]
  },
  {
   "cell_type": "code",
   "execution_count": null,
   "metadata": {},
   "outputs": [],
   "source": []
  }
 ],
 "metadata": {
  "kernelspec": {
   "display_name": "Python 3",
   "language": "python",
   "name": "python3"
  },
  "language_info": {
   "codemirror_mode": {
    "name": "ipython",
    "version": 3
   },
   "file_extension": ".py",
   "mimetype": "text/x-python",
   "name": "python",
   "nbconvert_exporter": "python",
   "pygments_lexer": "ipython3",
   "version": "3.7.7"
  }
 },
 "nbformat": 4,
 "nbformat_minor": 4
}
