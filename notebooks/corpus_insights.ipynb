{
 "cells": [
  {
   "cell_type": "markdown",
   "metadata": {},
   "source": [
    "# Corpus Insights"
   ]
  },
  {
   "cell_type": "code",
   "execution_count": 1,
   "metadata": {},
   "outputs": [],
   "source": [
    "import matplotlib.pyplot as plt\n",
    "import numpy as np\n",
    "import pandas as pd\n",
    "import seaborn as sns"
   ]
  },
  {
   "cell_type": "code",
   "execution_count": 2,
   "metadata": {},
   "outputs": [],
   "source": [
    "DATA_DIR_PATH = \"../data/\"\n",
    "CLEAN = \"c\"\n",
    "LANG = \"\"\n",
    "\n",
    "INDUSTRIES_PATH_CSV = DATA_DIR_PATH + \"industries.csv\"\n",
    "TRAIN_PATH_CSV = DATA_DIR_PATH + CLEAN + \"train\" + LANG + \".csv\"\n",
    "TEST_PATH_CSV = DATA_DIR_PATH + CLEAN + \"test\" + LANG + \".csv\""
   ]
  },
  {
   "cell_type": "code",
   "execution_count": 3,
   "metadata": {},
   "outputs": [
    {
     "name": "stdout",
     "output_type": "stream",
     "text": [
      "CPU times: user 6.97 s, sys: 1.02 s, total: 7.99 s\n",
      "Wall time: 7.99 s\n"
     ]
    },
    {
     "data": {
      "text/plain": [
       "(30292, 24)"
      ]
     },
     "execution_count": 3,
     "metadata": {},
     "output_type": "execute_result"
    }
   ],
   "source": [
    "%%time\n",
    "train = pd.read_csv(TRAIN_PATH_CSV, lineterminator='\\n').fillna(\"\")\n",
    "train.shape"
   ]
  },
  {
   "cell_type": "code",
   "execution_count": 4,
   "metadata": {},
   "outputs": [
    {
     "data": {
      "text/html": [
       "<div>\n",
       "<style scoped>\n",
       "    .dataframe tbody tr th:only-of-type {\n",
       "        vertical-align: middle;\n",
       "    }\n",
       "\n",
       "    .dataframe tbody tr th {\n",
       "        vertical-align: top;\n",
       "    }\n",
       "\n",
       "    .dataframe thead th {\n",
       "        text-align: right;\n",
       "    }\n",
       "</style>\n",
       "<table border=\"1\" class=\"dataframe\">\n",
       "  <thead>\n",
       "    <tr style=\"text-align: right;\">\n",
       "      <th></th>\n",
       "      <th>url</th>\n",
       "      <th>group_representative</th>\n",
       "      <th>group_representative_label</th>\n",
       "      <th>text</th>\n",
       "      <th>chtml</th>\n",
       "      <th>&lt;meta&gt;_title</th>\n",
       "      <th>&lt;meta&gt;_keywords</th>\n",
       "      <th>&lt;meta&gt;_description</th>\n",
       "      <th>&lt;title&gt;</th>\n",
       "      <th>&lt;h1&gt;</th>\n",
       "      <th>...</th>\n",
       "      <th>&lt;h6&gt;</th>\n",
       "      <th>&lt;b&gt;</th>\n",
       "      <th>&lt;strong&gt;</th>\n",
       "      <th>&lt;em&gt;</th>\n",
       "      <th>&lt;i&gt;</th>\n",
       "      <th>&lt;p&gt;</th>\n",
       "      <th>&lt;a&gt;</th>\n",
       "      <th>&lt;li&gt;</th>\n",
       "      <th>&lt;div&gt;</th>\n",
       "      <th>country</th>\n",
       "    </tr>\n",
       "  </thead>\n",
       "  <tbody>\n",
       "    <tr>\n",
       "      <th>0</th>\n",
       "      <td>http://12-18.com</td>\n",
       "      <td>30</td>\n",
       "      <td>Leisure, Travel &amp; Tourism</td>\n",
       "      <td>\\n\\nInvestment Management.\\n\\nEin glückliches ...</td>\n",
       "      <td>&lt;html&gt;\\n&lt;head&gt;\\n\\t&lt;title&gt;12.18. Investment Man...</td>\n",
       "      <td>12.18. Investment Management - ANDERS. AUS PRI...</td>\n",
       "      <td>12 18, 1218 Investment, 12 18 Invest, lim, lin...</td>\n",
       "      <td>Ein glückliches Investment ist das Resultat ha...</td>\n",
       "      <td>12.18. Investment Management - ANDERS. AUS PRI...</td>\n",
       "      <td></td>\n",
       "      <td>...</td>\n",
       "      <td></td>\n",
       "      <td></td>\n",
       "      <td></td>\n",
       "      <td></td>\n",
       "      <td>Wir nehmen den Datenschutz nach EU-DSGVO erns...</td>\n",
       "      <td>12.18. Investment Management GmbHKönigsallee ...</td>\n",
       "      <td>Studie \"Ferienimmobilien\" Downloaden Hotel St...</td>\n",
       "      <td>karriere DE / EN Investment Management Newslet...</td>\n",
       "      <td>\\n \\n \\n \\n \\n \\n \\n \\n \\n \\n \\n \\n \\n \\n \\n \\...</td>\n",
       "      <td>DE</td>\n",
       "    </tr>\n",
       "  </tbody>\n",
       "</table>\n",
       "<p>1 rows × 24 columns</p>\n",
       "</div>"
      ],
      "text/plain": [
       "                url  group_representative group_representative_label  \\\n",
       "0  http://12-18.com                    30  Leisure, Travel & Tourism   \n",
       "\n",
       "                                                text  \\\n",
       "0  \\n\\nInvestment Management.\\n\\nEin glückliches ...   \n",
       "\n",
       "                                               chtml  \\\n",
       "0  <html>\\n<head>\\n\\t<title>12.18. Investment Man...   \n",
       "\n",
       "                                        <meta>_title  \\\n",
       "0  12.18. Investment Management - ANDERS. AUS PRI...   \n",
       "\n",
       "                                     <meta>_keywords  \\\n",
       "0  12 18, 1218 Investment, 12 18 Invest, lim, lin...   \n",
       "\n",
       "                                  <meta>_description  \\\n",
       "0  Ein glückliches Investment ist das Resultat ha...   \n",
       "\n",
       "                                             <title> <h1>  ... <h6> <b>  \\\n",
       "0  12.18. Investment Management - ANDERS. AUS PRI...       ...            \n",
       "\n",
       "  <strong> <em>                                                <i>  \\\n",
       "0                 Wir nehmen den Datenschutz nach EU-DSGVO erns...   \n",
       "\n",
       "                                                 <p>  \\\n",
       "0  12.18. Investment Management GmbHKönigsallee ...   \n",
       "\n",
       "                                                 <a>  \\\n",
       "0   Studie \"Ferienimmobilien\" Downloaden Hotel St...   \n",
       "\n",
       "                                                <li>  \\\n",
       "0  karriere DE / EN Investment Management Newslet...   \n",
       "\n",
       "                                               <div> country  \n",
       "0  \\n \\n \\n \\n \\n \\n \\n \\n \\n \\n \\n \\n \\n \\n \\n \\...      DE  \n",
       "\n",
       "[1 rows x 24 columns]"
      ]
     },
     "execution_count": 4,
     "metadata": {},
     "output_type": "execute_result"
    }
   ],
   "source": [
    "train.head(1)"
   ]
  },
  {
   "cell_type": "code",
   "execution_count": 5,
   "metadata": {},
   "outputs": [],
   "source": [
    "ratios = []\n",
    "\n",
    "for idx, row in train.iterrows():\n",
    "    len_div = len(row[\"<div>\"].strip())\n",
    "    len_text = len(row[\"text\"].strip())\n",
    "    if len_div != 0 and len_text != 0:\n",
    "        ratio = len_div/len_text\n",
    "        ratios.append(ratio)"
   ]
  },
  {
   "cell_type": "code",
   "execution_count": 6,
   "metadata": {},
   "outputs": [
    {
     "data": {
      "text/plain": [
       "0.2031314987687735"
      ]
     },
     "execution_count": 6,
     "metadata": {},
     "output_type": "execute_result"
    }
   ],
   "source": [
    "np.mean(ratios)"
   ]
  },
  {
   "cell_type": "code",
   "execution_count": null,
   "metadata": {},
   "outputs": [],
   "source": []
  },
  {
   "cell_type": "code",
   "execution_count": 7,
   "metadata": {},
   "outputs": [
    {
     "name": "stdout",
     "output_type": "stream",
     "text": [
      "<a>: 29874 0.986\n",
      "<b>: 5433 0.179\n",
      "<div>: 29592 0.977\n",
      "<em>: 2997 0.099\n",
      "<h1>: 20810 0.687\n",
      "<h2>: 23819 0.786\n",
      "<h3>: 20427 0.674\n",
      "<h4>: 12935 0.427\n",
      "<h5>: 5844 0.193\n",
      "<h6>: 2904 0.096\n",
      "<i>: 2268 0.075\n",
      "<li>: 28261 0.933\n",
      "<meta>_description: 22779 0.752\n",
      "<meta>_keywords: 18 0.001\n",
      "<meta>_title: 17021 0.562\n",
      "<p>: 29149 0.962\n",
      "<strong>: 16424 0.542\n",
      "<title>: 30021 0.991\n"
     ]
    }
   ],
   "source": [
    "freq = {}\n",
    "\n",
    "for col in sorted(train.columns):\n",
    "    if col.startswith(\"<\"):\n",
    "        length = len(train[train[col] != \"\"])\n",
    "        abs_freq = np.round(length/30292, decimals=3)\n",
    "        freq[col] = abs_freq\n",
    "        print(f\"{col}:\", length, abs_freq)"
   ]
  },
  {
   "cell_type": "code",
   "execution_count": 8,
   "metadata": {},
   "outputs": [
    {
     "data": {
      "image/png": "[encoded data removed]",
      "text/plain": [
       "<Figure size 720x432 with 1 Axes>"
      ]
     },
     "metadata": {},
     "output_type": "display_data"
    }
   ],
   "source": [
    "from matplotlib import rcParams\n",
    "rcParams.update({'figure.autolayout': True})\n",
    "\n",
    "df = pd.DataFrame.from_dict(freq, orient=\"index\", columns=[\"element\"])\n",
    "\n",
    "sns.set(rc={'axes.facecolor':'#f9f9f9', 'figure.facecolor':'#ffffff', \"font.size\": 8})\n",
    "\n",
    "ax = df.plot(kind=\"bar\", figsize=(10,6), legend=False)\n",
    "\n",
    "for p in ax.patches:\n",
    "    ax.annotate(str(p.get_height()), (p.get_x() * 1.00, p.get_height() * 1.009))\n",
    "\n",
    "\n",
    "plt.title(\"Relative Häufigkeit der Instanzen im im Trainingsdatensatz, die das Element (mit Textinhalt) beinhalten\", \n",
    "          loc=\"left\")\n",
    "#plt.savefig(\"img/relative_frequency_elements.png\", dpi=300)\n",
    "plt.show()"
   ]
  },
  {
   "cell_type": "code",
   "execution_count": null,
   "metadata": {},
   "outputs": [],
   "source": []
  },
  {
   "cell_type": "code",
   "execution_count": 9,
   "metadata": {},
   "outputs": [
    {
     "data": {
      "text/html": [
       "<div>\n",
       "<style scoped>\n",
       "    .dataframe tbody tr th:only-of-type {\n",
       "        vertical-align: middle;\n",
       "    }\n",
       "\n",
       "    .dataframe tbody tr th {\n",
       "        vertical-align: top;\n",
       "    }\n",
       "\n",
       "    .dataframe thead th {\n",
       "        text-align: right;\n",
       "    }\n",
       "</style>\n",
       "<table border=\"1\" class=\"dataframe\">\n",
       "  <thead>\n",
       "    <tr style=\"text-align: right;\">\n",
       "      <th></th>\n",
       "      <th>url</th>\n",
       "      <th>group_representative</th>\n",
       "      <th>group_representative_label</th>\n",
       "      <th>text</th>\n",
       "      <th>chtml</th>\n",
       "      <th>&lt;meta&gt;_title</th>\n",
       "      <th>&lt;meta&gt;_keywords</th>\n",
       "      <th>&lt;meta&gt;_description</th>\n",
       "      <th>&lt;title&gt;</th>\n",
       "      <th>&lt;h1&gt;</th>\n",
       "      <th>...</th>\n",
       "      <th>&lt;h6&gt;</th>\n",
       "      <th>&lt;b&gt;</th>\n",
       "      <th>&lt;strong&gt;</th>\n",
       "      <th>&lt;em&gt;</th>\n",
       "      <th>&lt;i&gt;</th>\n",
       "      <th>&lt;p&gt;</th>\n",
       "      <th>&lt;a&gt;</th>\n",
       "      <th>&lt;li&gt;</th>\n",
       "      <th>&lt;div&gt;</th>\n",
       "      <th>country</th>\n",
       "    </tr>\n",
       "  </thead>\n",
       "  <tbody>\n",
       "    <tr>\n",
       "      <th>582</th>\n",
       "      <td>http://qidian.qq.com</td>\n",
       "      <td>96</td>\n",
       "      <td>Information Technology and Services</td>\n",
       "      <td>腾讯企点_智慧客户沟通运营平台_为企业提供智慧营销服务全链路SaaS解决方案\\n\\n首页\\n...</td>\n",
       "      <td>&lt;html&gt;\\n\\n&lt;head&gt;\\n    \\n    \\n    \\n    \\n\\t\\t...</td>\n",
       "      <td></td>\n",
       "      <td></td>\n",
       "      <td>以即时通讯、音视频、人工智能、大数据、云呼叫中心等科技为基础，结合微信、QQ社交通路，提供从...</td>\n",
       "      <td>腾讯企点_智慧客户沟通运营平台_为企业提供智慧营销服务全链路SaaS解决方案</td>\n",
       "      <td>定制产品咨询 首页</td>\n",
       "      <td>...</td>\n",
       "      <td></td>\n",
       "      <td></td>\n",
       "      <td>企点商圈 企业QQ 2.0 云电子合同 多触点营销互动管理,构建私域流量,精细化线索培育;从...</td>\n",
       "      <td>满足OTC合规</td>\n",
       "      <td>\\n</td>\n",
       "      <td>企点商圈 成为B2B合作伙伴共建产业互联网 企点的开放性及可拓展性,为客户服务智能化方向提...</td>\n",
       "      <td>\\n                            \\n             ...</td>\n",
       "      <td>\\n                        \\n                  ...</td>\n",
       "      <td>\\n \\n \\n \\n \\n \\n \\n \\n \\n \\n \\n \\n \\n \\n \\n \\...</td>\n",
       "      <td>ZH-CN</td>\n",
       "    </tr>\n",
       "  </tbody>\n",
       "</table>\n",
       "<p>1 rows × 24 columns</p>\n",
       "</div>"
      ],
      "text/plain": [
       "                      url  group_representative  \\\n",
       "582  http://qidian.qq.com                    96   \n",
       "\n",
       "              group_representative_label  \\\n",
       "582  Information Technology and Services   \n",
       "\n",
       "                                                  text  \\\n",
       "582  腾讯企点_智慧客户沟通运营平台_为企业提供智慧营销服务全链路SaaS解决方案\\n\\n首页\\n...   \n",
       "\n",
       "                                                 chtml <meta>_title  \\\n",
       "582  <html>\\n\\n<head>\\n    \\n    \\n    \\n    \\n\\t\\t...                \n",
       "\n",
       "    <meta>_keywords                                 <meta>_description  \\\n",
       "582                  以即时通讯、音视频、人工智能、大数据、云呼叫中心等科技为基础，结合微信、QQ社交通路，提供从...   \n",
       "\n",
       "                                    <title>       <h1>  ... <h6> <b>  \\\n",
       "582  腾讯企点_智慧客户沟通运营平台_为企业提供智慧营销服务全链路SaaS解决方案  定制产品咨询 首页  ...            \n",
       "\n",
       "                                              <strong>     <em>  \\\n",
       "582  企点商圈 企业QQ 2.0 云电子合同 多触点营销互动管理,构建私域流量,精细化线索培育;从...  满足OTC合规   \n",
       "\n",
       "                <i>                                                <p>  \\\n",
       "582  \\n               企点商圈 成为B2B合作伙伴共建产业互联网 企点的开放性及可拓展性,为客户服务智能化方向提...   \n",
       "\n",
       "                                                   <a>  \\\n",
       "582   \\n                            \\n             ...   \n",
       "\n",
       "                                                  <li>  \\\n",
       "582  \\n                        \\n                  ...   \n",
       "\n",
       "                                                 <div> country  \n",
       "582  \\n \\n \\n \\n \\n \\n \\n \\n \\n \\n \\n \\n \\n \\n \\n \\...   ZH-CN  \n",
       "\n",
       "[1 rows x 24 columns]"
      ]
     },
     "execution_count": 9,
     "metadata": {},
     "output_type": "execute_result"
    }
   ],
   "source": [
    "train[train.country == \"ZH-CN\"].head(1)"
   ]
  },
  {
   "cell_type": "code",
   "execution_count": 10,
   "metadata": {},
   "outputs": [
    {
     "data": {
      "text/plain": [
       "Information Technology and Services     6019\n",
       "Management Consulting                   2665\n",
       "Mechanical or Industrial Engineering    2305\n",
       "Marketing and Advertising               2086\n",
       "Consumer Goods                          2024\n",
       "Machinery                               2021\n",
       "Financial Services                      1648\n",
       "Construction                            1541\n",
       "Medical Practice                        1426\n",
       "Automotive                              1270\n",
       "Media Production                         966\n",
       "Real Estate                              946\n",
       "Wholesale                                929\n",
       "Human Resources                          772\n",
       "Recreational Facilities and Services     622\n",
       "Logistics and Supply Chain               590\n",
       "Telecommunications                       550\n",
       "Legal Services                           513\n",
       "Insurance                                499\n",
       "Leisure, Travel & Tourism                490\n",
       "Renewables & Environment                 410\n",
       "Name: group_representative_label, dtype: int64"
      ]
     },
     "execution_count": 10,
     "metadata": {},
     "output_type": "execute_result"
    }
   ],
   "source": [
    "train.group_representative_label.value_counts()"
   ]
  },
  {
   "cell_type": "code",
   "execution_count": 11,
   "metadata": {},
   "outputs": [
    {
     "data": {
      "image/png": "[encoded data removed]",
      "text/plain": [
       "<Figure size 576x432 with 1 Axes>"
      ]
     },
     "metadata": {},
     "output_type": "display_data"
    }
   ],
   "source": [
    "from matplotlib import rcParams\n",
    "rcParams.update({'figure.autolayout': True})\n",
    "\n",
    "train.group_representative_label.value_counts().plot(kind=\"bar\",\n",
    "                                                     figsize=(8,6),\n",
    "                                                     label=\"Industrie\")\n",
    "\n",
    "sns.set(rc={'axes.facecolor':'#f9f9f9', 'figure.facecolor':'#ffffff', \"font.size\": 10})\n",
    "plt.legend()\n",
    "plt.title(\"Verteilung der Industrie-Kategorien im Trainingsdatensatz\", loc=\"left\")\n",
    "#plt.savefig(\"img/industries_distribution\", dpi=300)\n",
    "plt.show()"
   ]
  },
  {
   "cell_type": "code",
   "execution_count": 63,
   "metadata": {},
   "outputs": [
    {
     "data": {
      "image/png": "[encoded data removed]",
      "text/plain": [
       "<Figure size 576x432 with 1 Axes>"
      ]
     },
     "metadata": {},
     "output_type": "display_data"
    }
   ],
   "source": [
    "from matplotlib import rcParams\n",
    "rcParams.update({'figure.autolayout': True})\n",
    "\n",
    "n = 4\n",
    "top = train.country.value_counts(normalize=True).iloc[:n]\n",
    "top.loc['other'] = train.country.value_counts(normalize=True).iloc[n:].sum()\n",
    "\n",
    "top.plot(kind=\"pie\", \n",
    "         figsize=(8,6), \n",
    "         label=\"\",\n",
    "         labels=top.keys(), \n",
    "         autopct='%1.1f%%', \n",
    "         pctdistance=0.9, \n",
    "         fontsize=10, \n",
    "         textprops={'color':\"w\"})\n",
    "\n",
    "sns.set(rc={'axes.facecolor':'#f9f9f9', 'figure.facecolor':'#ffffff', \"font.size\": 8})\n",
    "plt.legend()\n",
    "plt.title(\"Anteil der Sprachen im Trainingsdatensatz\", loc=\"left\")\n",
    "plt.savefig(\"img/percentage_countries\", dpi=300)\n",
    "plt.show()"
   ]
  },
  {
   "cell_type": "code",
   "execution_count": 42,
   "metadata": {},
   "outputs": [
    {
     "data": {
      "text/plain": [
       "Index(['DE', 'EN', 'NL', 'FR', 'ES', 'other'], dtype='object')"
      ]
     },
     "execution_count": 42,
     "metadata": {},
     "output_type": "execute_result"
    }
   ],
   "source": [
    "top.keys()"
   ]
  },
  {
   "cell_type": "code",
   "execution_count": 54,
   "metadata": {
    "collapsed": true
   },
   "outputs": [
    {
     "data": {
      "text/plain": [
       "DE       0.655454\n",
       "EN       0.270335\n",
       "NL       0.014294\n",
       "FR       0.013535\n",
       "ES       0.010003\n",
       "PT       0.008220\n",
       "IT       0.005084\n",
       "PL       0.002773\n",
       "TR       0.002443\n",
       "SV       0.002113\n",
       "DA       0.001618\n",
       "CS       0.001387\n",
       "RU       0.001320\n",
       "ZH-CN    0.001254\n",
       "RO       0.001089\n",
       "NO       0.000990\n",
       "CA       0.000924\n",
       "VI       0.000825\n",
       "JA       0.000660\n",
       "HR       0.000627\n",
       "ID       0.000561\n",
       "HU       0.000528\n",
       "KO       0.000495\n",
       "EL       0.000396\n",
       "BG       0.000363\n",
       "FI       0.000363\n",
       "SQ       0.000198\n",
       "UK       0.000198\n",
       "FA       0.000198\n",
       "ET       0.000198\n",
       "AF       0.000165\n",
       "HE       0.000165\n",
       "TL       0.000165\n",
       "SK       0.000165\n",
       "TH       0.000132\n",
       "SL       0.000132\n",
       "AR       0.000132\n",
       "LT       0.000099\n",
       "SW       0.000099\n",
       "MK       0.000099\n",
       "LV       0.000099\n",
       "SO       0.000066\n",
       "NE       0.000033\n",
       "Name: country, dtype: float64"
      ]
     },
     "execution_count": 54,
     "metadata": {},
     "output_type": "execute_result"
    }
   ],
   "source": [
    "train.country.value_counts(normalize=True)"
   ]
  },
  {
   "cell_type": "code",
   "execution_count": 18,
   "metadata": {},
   "outputs": [
    {
     "data": {
      "text/plain": [
       "DE       19855\n",
       "EN        8189\n",
       "NL         433\n",
       "FR         410\n",
       "ES         303\n",
       "other     1102\n",
       "Name: country, dtype: int64"
      ]
     },
     "execution_count": 18,
     "metadata": {},
     "output_type": "execute_result"
    }
   ],
   "source": [
    "\n",
    "out"
   ]
  },
  {
   "cell_type": "code",
   "execution_count": 13,
   "metadata": {},
   "outputs": [
    {
     "data": {
      "text/plain": [
       "Information Technology and Services     0.198699\n",
       "Management Consulting                   0.087977\n",
       "Mechanical or Industrial Engineering    0.076093\n",
       "Marketing and Advertising               0.068863\n",
       "Consumer Goods                          0.066816\n",
       "Machinery                               0.066717\n",
       "Financial Services                      0.054404\n",
       "Construction                            0.050872\n",
       "Medical Practice                        0.047075\n",
       "Automotive                              0.041925\n",
       "Media Production                        0.031890\n",
       "Real Estate                             0.031229\n",
       "Wholesale                               0.030668\n",
       "Human Resources                         0.025485\n",
       "Recreational Facilities and Services    0.020533\n",
       "Logistics and Supply Chain              0.019477\n",
       "Telecommunications                      0.018157\n",
       "Legal Services                          0.016935\n",
       "Insurance                               0.016473\n",
       "Leisure, Travel & Tourism               0.016176\n",
       "Renewables & Environment                0.013535\n",
       "Name: group_representative_label, dtype: float64"
      ]
     },
     "execution_count": 13,
     "metadata": {},
     "output_type": "execute_result"
    }
   ],
   "source": [
    "train.group_representative_label.value_counts(normalize=True)"
   ]
  },
  {
   "cell_type": "code",
   "execution_count": null,
   "metadata": {},
   "outputs": [],
   "source": []
  }
 ],
 "metadata": {
  "kernelspec": {
   "display_name": "Python 3",
   "language": "python",
   "name": "python3"
  },
  "language_info": {
   "codemirror_mode": {
    "name": "ipython",
    "version": 3
   },
   "file_extension": ".py",
   "mimetype": "text/x-python",
   "name": "python",
   "nbconvert_exporter": "python",
   "pygments_lexer": "ipython3",
   "version": "3.7.7"
  }
 },
 "nbformat": 4,
 "nbformat_minor": 4
}
