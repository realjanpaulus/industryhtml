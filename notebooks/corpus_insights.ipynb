{
 "cells": [
  {
   "cell_type": "markdown",
   "metadata": {},
   "source": [
    "# Corpus Insights"
   ]
  },
  {
   "cell_type": "code",
   "execution_count": 7,
   "metadata": {},
   "outputs": [],
   "source": [
    "import matplotlib.pyplot as plt\n",
    "import numpy as np\n",
    "import pandas as pd\n",
    "import seaborn as sns"
   ]
  },
  {
   "cell_type": "code",
   "execution_count": 8,
   "metadata": {},
   "outputs": [],
   "source": [
    "DATA_DIR_PATH = \"../data/\"\n",
    "CLEAN = \"c\"\n",
    "LANG = \"\"\n",
    "\n",
    "INDUSTRIES_PATH_CSV = DATA_DIR_PATH + \"industries.csv\"\n",
    "TRAIN_PATH_CSV = DATA_DIR_PATH + CLEAN + \"train\" + LANG + \".csv\"\n",
    "TEST_PATH_CSV = DATA_DIR_PATH + CLEAN + \"test\" + LANG + \".csv\""
   ]
  },
  {
   "cell_type": "code",
   "execution_count": 9,
   "metadata": {},
   "outputs": [
    {
     "name": "stdout",
     "output_type": "stream",
     "text": [
      "CPU times: user 23.3 s, sys: 2.86 s, total: 26.2 s\n",
      "Wall time: 26.2 s\n"
     ]
    },
    {
     "data": {
      "text/plain": [
       "(30292, 10)"
      ]
     },
     "execution_count": 9,
     "metadata": {},
     "output_type": "execute_result"
    }
   ],
   "source": [
    "%%time\n",
    "train = pd.read_csv(TRAIN_PATH_CSV, lineterminator='\\n')\n",
    "train.shape"
   ]
  },
  {
   "cell_type": "code",
   "execution_count": 14,
   "metadata": {},
   "outputs": [
    {
     "data": {
      "text/html": [
       "<div>\n",
       "<style scoped>\n",
       "    .dataframe tbody tr th:only-of-type {\n",
       "        vertical-align: middle;\n",
       "    }\n",
       "\n",
       "    .dataframe tbody tr th {\n",
       "        vertical-align: top;\n",
       "    }\n",
       "\n",
       "    .dataframe thead th {\n",
       "        text-align: right;\n",
       "    }\n",
       "</style>\n",
       "<table border=\"1\" class=\"dataframe\">\n",
       "  <thead>\n",
       "    <tr style=\"text-align: right;\">\n",
       "      <th></th>\n",
       "      <th>url</th>\n",
       "      <th>group_representative</th>\n",
       "      <th>group_representative_label</th>\n",
       "      <th>text</th>\n",
       "      <th>html</th>\n",
       "      <th>chtml</th>\n",
       "      <th>meta_title</th>\n",
       "      <th>meta_keywords</th>\n",
       "      <th>meta_description</th>\n",
       "      <th>country</th>\n",
       "    </tr>\n",
       "  </thead>\n",
       "  <tbody>\n",
       "    <tr>\n",
       "      <th>0</th>\n",
       "      <td>http://12-18.com</td>\n",
       "      <td>30</td>\n",
       "      <td>Leisure, Travel &amp; Tourism</td>\n",
       "      <td>\\n\\nInvestment Management.\\n\\nEin glückliches ...</td>\n",
       "      <td>&lt;!DOCTYPE html&gt;\\n&lt;html lang=\"de\"&gt;\\n&lt;head&gt;\\n\\t&lt;...</td>\n",
       "      <td>&lt;html&gt;\\n&lt;head&gt;\\n\\t&lt;title&gt;12.18. Investment Man...</td>\n",
       "      <td>12.18. Investment Management - ANDERS. AUS PRI...</td>\n",
       "      <td>12 18, 1218 Investment, 12 18 Invest, lim, lin...</td>\n",
       "      <td>Ein glückliches Investment ist das Resultat ha...</td>\n",
       "      <td>DE</td>\n",
       "    </tr>\n",
       "  </tbody>\n",
       "</table>\n",
       "</div>"
      ],
      "text/plain": [
       "                url  group_representative group_representative_label  \\\n",
       "0  http://12-18.com                    30  Leisure, Travel & Tourism   \n",
       "\n",
       "                                                text  \\\n",
       "0  \\n\\nInvestment Management.\\n\\nEin glückliches ...   \n",
       "\n",
       "                                                html  \\\n",
       "0  <!DOCTYPE html>\\n<html lang=\"de\">\\n<head>\\n\\t<...   \n",
       "\n",
       "                                               chtml  \\\n",
       "0  <html>\\n<head>\\n\\t<title>12.18. Investment Man...   \n",
       "\n",
       "                                          meta_title  \\\n",
       "0  12.18. Investment Management - ANDERS. AUS PRI...   \n",
       "\n",
       "                                       meta_keywords  \\\n",
       "0  12 18, 1218 Investment, 12 18 Invest, lim, lin...   \n",
       "\n",
       "                                    meta_description country  \n",
       "0  Ein glückliches Investment ist das Resultat ha...      DE  "
      ]
     },
     "execution_count": 14,
     "metadata": {},
     "output_type": "execute_result"
    }
   ],
   "source": [
    "train.head(1)"
   ]
  },
  {
   "cell_type": "code",
   "execution_count": 22,
   "metadata": {},
   "outputs": [
    {
     "data": {
      "text/plain": [
       "15576"
      ]
     },
     "execution_count": 22,
     "metadata": {},
     "output_type": "execute_result"
    }
   ],
   "source": [
    "len(train.meta_title.value_counts())"
   ]
  },
  {
   "cell_type": "code",
   "execution_count": 21,
   "metadata": {},
   "outputs": [
    {
     "data": {
      "text/plain": [
       "22143"
      ]
     },
     "execution_count": 21,
     "metadata": {},
     "output_type": "execute_result"
    }
   ],
   "source": [
    "len(train.meta_description.value_counts())"
   ]
  },
  {
   "cell_type": "code",
   "execution_count": 20,
   "metadata": {},
   "outputs": [
    {
     "data": {
      "text/plain": [
       "18"
      ]
     },
     "execution_count": 20,
     "metadata": {},
     "output_type": "execute_result"
    }
   ],
   "source": [
    "len(train.meta_keywords.value_counts())"
   ]
  },
  {
   "cell_type": "code",
   "execution_count": 10,
   "metadata": {},
   "outputs": [
    {
     "data": {
      "text/plain": [
       "DE       19854\n",
       "EN        8176\n",
       "NL         441\n",
       "FR         412\n",
       "ES         306\n",
       "PT         249\n",
       "IT         153\n",
       "PL          84\n",
       "TR          73\n",
       "SV          62\n",
       "DA          52\n",
       "CS          42\n",
       "RU          40\n",
       "ZH-CN       38\n",
       "NO          32\n",
       "RO          30\n",
       "CA          29\n",
       "VI          26\n",
       "JA          20\n",
       "HR          19\n",
       "ID          16\n",
       "HU          16\n",
       "KO          15\n",
       "EL          14\n",
       "FI          11\n",
       "BG          10\n",
       "ET           6\n",
       "FA           6\n",
       "SQ           6\n",
       "UK           6\n",
       "TL           6\n",
       "SL           5\n",
       "SK           5\n",
       "HE           5\n",
       "AF           4\n",
       "AR           4\n",
       "TH           4\n",
       "LV           3\n",
       "LT           3\n",
       "MK           3\n",
       "SW           3\n",
       "SO           2\n",
       "NE           1\n",
       "Name: country, dtype: int64"
      ]
     },
     "execution_count": 10,
     "metadata": {},
     "output_type": "execute_result"
    }
   ],
   "source": [
    "train.country.value_counts()"
   ]
  },
  {
   "cell_type": "code",
   "execution_count": 11,
   "metadata": {},
   "outputs": [
    {
     "data": {
      "text/plain": [
       "Information Technology and Services     6019\n",
       "Management Consulting                   2665\n",
       "Mechanical or Industrial Engineering    2305\n",
       "Marketing and Advertising               2086\n",
       "Consumer Goods                          2024\n",
       "Machinery                               2021\n",
       "Financial Services                      1648\n",
       "Construction                            1541\n",
       "Medical Practice                        1426\n",
       "Automotive                              1270\n",
       "Media Production                         966\n",
       "Real Estate                              946\n",
       "Wholesale                                929\n",
       "Human Resources                          772\n",
       "Recreational Facilities and Services     622\n",
       "Logistics and Supply Chain               590\n",
       "Telecommunications                       550\n",
       "Legal Services                           513\n",
       "Insurance                                499\n",
       "Leisure, Travel & Tourism                490\n",
       "Renewables & Environment                 410\n",
       "Name: group_representative_label, dtype: int64"
      ]
     },
     "execution_count": 11,
     "metadata": {},
     "output_type": "execute_result"
    }
   ],
   "source": [
    "train.group_representative_label.value_counts()"
   ]
  },
  {
   "cell_type": "code",
   "execution_count": 12,
   "metadata": {},
   "outputs": [
    {
     "data": {
      "image/png": "[encoded data removed]",
      "text/plain": [
       "<Figure size 576x432 with 1 Axes>"
      ]
     },
     "metadata": {
      "needs_background": "light"
     },
     "output_type": "display_data"
    }
   ],
   "source": [
    "from matplotlib import rcParams\n",
    "rcParams.update({'figure.autolayout': True})\n",
    "\n",
    "train.group_representative_label.value_counts().plot(kind=\"bar\",\n",
    "                                                     figsize=(8,6),\n",
    "                                                     label=\"Industrie\")\n",
    "\n",
    "sns.set(rc={'axes.facecolor':'#f9f9f9', 'figure.facecolor':'#ffffff', \"font.size\": 10})\n",
    "plt.legend()\n",
    "plt.title(\"Verteilung der Industrie-Kategorien im Trainingsdatensatz\", loc=\"left\")\n",
    "#plt.savefig(\"img/industries_distribution\", dpi=300)\n",
    "plt.show()"
   ]
  },
  {
   "cell_type": "code",
   "execution_count": 13,
   "metadata": {},
   "outputs": [
    {
     "data": {
      "image/png": "[encoded data removed]",
      "text/plain": [
       "<Figure size 576x432 with 1 Axes>"
      ]
     },
     "metadata": {},
     "output_type": "display_data"
    }
   ],
   "source": [
    "from matplotlib import rcParams\n",
    "rcParams.update({'figure.autolayout': True})\n",
    "\n",
    "train.country.value_counts().plot(kind=\"bar\", figsize=(8,6), label=\"Länder\")\n",
    "\n",
    "sns.set(rc={'axes.facecolor':'#f9f9f9', 'figure.facecolor':'#ffffff', \"font.size\": 10})\n",
    "plt.legend()\n",
    "plt.title(\"Verteilung der Länder im Trainingsdatensatz\", loc=\"left\")\n",
    "#plt.savefig(\"img/country_distribution\", dpi=300)\n",
    "plt.show()"
   ]
  },
  {
   "cell_type": "code",
   "execution_count": null,
   "metadata": {},
   "outputs": [],
   "source": []
  }
 ],
 "metadata": {
  "kernelspec": {
   "display_name": "Python 3",
   "language": "python",
   "name": "python3"
  },
  "language_info": {
   "codemirror_mode": {
    "name": "ipython",
    "version": 3
   },
   "file_extension": ".py",
   "mimetype": "text/x-python",
   "name": "python",
   "nbconvert_exporter": "python",
   "pygments_lexer": "ipython3",
   "version": "3.7.7"
  }
 },
 "nbformat": 4,
 "nbformat_minor": 4
}
