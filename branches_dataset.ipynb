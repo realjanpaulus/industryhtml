{
 "cells": [
  {
   "cell_type": "markdown",
   "metadata": {},
   "source": [
    "# Branches dataset"
   ]
  },
  {
   "cell_type": "markdown",
   "metadata": {},
   "source": [
    "### ideas/todo:\n",
    "- NER with HTML: https://webstruct.readthedocs.io/en/latest/"
   ]
  },
  {
   "cell_type": "code",
   "execution_count": 1,
   "metadata": {},
   "outputs": [],
   "source": [
    "from bs4 import BeautifulSoup\n",
    "import matplotlib.pyplot as plt\n",
    "import numpy as np\n",
    "import pandas as pd\n",
    "import ujson as json"
   ]
  },
  {
   "cell_type": "code",
   "execution_count": 2,
   "metadata": {},
   "outputs": [],
   "source": [
    "INDUSTRY_CODES_PATH = \"data/Branchen/linkedin-industry-codes.json\"\n",
    "TRAIN_PATH_JSON = \"data/Branchen/data/train.ndjson\"\n",
    "TEST_PATH_JSON = \"data/Branchen/data/test.ndjson\"\n",
    "TRAIN_PATH_CSV = \"data/Branchen/data/train.csv\"\n",
    "TEST_PATH_CSV = \"data/Branchen/data/test.csv\""
   ]
  },
  {
   "cell_type": "markdown",
   "metadata": {},
   "source": [
    "[Jump to CSV loading](#1)"
   ]
  },
  {
   "cell_type": "markdown",
   "metadata": {},
   "source": [
    "## Load datasets into dataframes\n",
    "\n",
    "Dataframe structure:\n",
    "- `text`: plain text of page, extracted with https://github.com/TeamHG-Memex/html-text\n",
    "- `html`: HTML of the page\n",
    "- `industry`: industry code of LinkedIn, i.e. the class\n",
    "- `country`: country of the website, derived from Top-Level-Domain (if possible)"
   ]
  },
  {
   "cell_type": "markdown",
   "metadata": {},
   "source": [
    "#### load train"
   ]
  },
  {
   "cell_type": "code",
   "execution_count": 3,
   "metadata": {},
   "outputs": [
    {
     "name": "stdout",
     "output_type": "stream",
     "text": [
      "CPU times: user 39.9 s, sys: 11.1 s, total: 51 s\n",
      "Wall time: 1min 18s\n"
     ]
    }
   ],
   "source": [
    "%%time\n",
    "# loading code taken from: https://stackoverflow.com/questions/63501251/how-to-open-ndjson-file-in-python\n",
    "train_records = map(json.loads, open(TRAIN_PATH_JSON))\n",
    "train = pd.DataFrame.from_records(train_records)"
   ]
  },
  {
   "cell_type": "markdown",
   "metadata": {},
   "source": [
    "#### load test"
   ]
  },
  {
   "cell_type": "code",
   "execution_count": 4,
   "metadata": {},
   "outputs": [
    {
     "name": "stdout",
     "output_type": "stream",
     "text": [
      "CPU times: user 11.2 s, sys: 3.31 s, total: 14.5 s\n",
      "Wall time: 22.6 s\n"
     ]
    }
   ],
   "source": [
    "%%time\n",
    "test_records = map(json.loads, open(TEST_PATH_JSON))\n",
    "test = pd.DataFrame.from_records(test_records)"
   ]
  },
  {
   "cell_type": "code",
   "execution_count": 5,
   "metadata": {},
   "outputs": [
    {
     "name": "stdout",
     "output_type": "stream",
     "text": [
      "(14374, 4)\n",
      "(3594, 4)\n"
     ]
    }
   ],
   "source": [
    "print(train.shape)\n",
    "print(test.shape)"
   ]
  },
  {
   "cell_type": "code",
   "execution_count": 6,
   "metadata": {},
   "outputs": [
    {
     "data": {
      "text/html": [
       "<div>\n",
       "<style scoped>\n",
       "    .dataframe tbody tr th:only-of-type {\n",
       "        vertical-align: middle;\n",
       "    }\n",
       "\n",
       "    .dataframe tbody tr th {\n",
       "        vertical-align: top;\n",
       "    }\n",
       "\n",
       "    .dataframe thead th {\n",
       "        text-align: right;\n",
       "    }\n",
       "</style>\n",
       "<table border=\"1\" class=\"dataframe\">\n",
       "  <thead>\n",
       "    <tr style=\"text-align: right;\">\n",
       "      <th></th>\n",
       "      <th>text</th>\n",
       "      <th>html</th>\n",
       "      <th>industry</th>\n",
       "      <th>country</th>\n",
       "    </tr>\n",
       "  </thead>\n",
       "  <tbody>\n",
       "    <tr>\n",
       "      <th>0</th>\n",
       "      <td>Home | NETZkultur GmbH\\n\\nZum Inhalt wechseln\\...</td>\n",
       "      <td>&lt;!DOCTYPE html&gt;\\n&lt;html lang=\"de-DE\"&gt;\\n&lt;head&gt;\\n...</td>\n",
       "      <td>4</td>\n",
       "      <td>DE</td>\n",
       "    </tr>\n",
       "    <tr>\n",
       "      <th>1</th>\n",
       "      <td>\\n\\nNXP Semiconductors | Automotive, Security,...</td>\n",
       "      <td>&lt;!DOCTYPE html&gt;\\n&lt;html&gt;\\n&lt;head&gt;\\n\\t&lt;title&gt;NXP ...</td>\n",
       "      <td>7</td>\n",
       "      <td></td>\n",
       "    </tr>\n",
       "    <tr>\n",
       "      <th>2</th>\n",
       "      <td>Suer Nutzfahrzeugtechnik Onlineshop\\n\\nSie wis...</td>\n",
       "      <td>&lt;!DOCTYPE html&gt;\\n&lt;html lang=\"de\"&gt;\\n    &lt;head&gt;\\...</td>\n",
       "      <td>53</td>\n",
       "      <td>DE</td>\n",
       "    </tr>\n",
       "    <tr>\n",
       "      <th>3</th>\n",
       "      <td>Improve cash flows and long-term profitability...</td>\n",
       "      <td>\\n&lt;!DOCTYPE html&gt;\\n&lt;html lang=\"en\" prefix=\"og:...</td>\n",
       "      <td>43</td>\n",
       "      <td></td>\n",
       "    </tr>\n",
       "    <tr>\n",
       "      <th>4</th>\n",
       "      <td>Your specialist for plastic compounds\\n\\nMenu ...</td>\n",
       "      <td>&lt;!DOCTYPE html&gt;\\n&lt;html xmlns:og=\"http://ogp.me...</td>\n",
       "      <td>117</td>\n",
       "      <td></td>\n",
       "    </tr>\n",
       "  </tbody>\n",
       "</table>\n",
       "</div>"
      ],
      "text/plain": [
       "                                                text  \\\n",
       "0  Home | NETZkultur GmbH\\n\\nZum Inhalt wechseln\\...   \n",
       "1  \\n\\nNXP Semiconductors | Automotive, Security,...   \n",
       "2  Suer Nutzfahrzeugtechnik Onlineshop\\n\\nSie wis...   \n",
       "3  Improve cash flows and long-term profitability...   \n",
       "4  Your specialist for plastic compounds\\n\\nMenu ...   \n",
       "\n",
       "                                                html  industry country  \n",
       "0  <!DOCTYPE html>\\n<html lang=\"de-DE\">\\n<head>\\n...         4      DE  \n",
       "1  <!DOCTYPE html>\\n<html>\\n<head>\\n\\t<title>NXP ...         7          \n",
       "2  <!DOCTYPE html>\\n<html lang=\"de\">\\n    <head>\\...        53      DE  \n",
       "3  \\n<!DOCTYPE html>\\n<html lang=\"en\" prefix=\"og:...        43          \n",
       "4  <!DOCTYPE html>\\n<html xmlns:og=\"http://ogp.me...       117          "
      ]
     },
     "execution_count": 6,
     "metadata": {},
     "output_type": "execute_result"
    }
   ],
   "source": [
    "train.head(5)"
   ]
  },
  {
   "cell_type": "markdown",
   "metadata": {},
   "source": [
    "### load industry name by code"
   ]
  },
  {
   "cell_type": "code",
   "execution_count": 7,
   "metadata": {},
   "outputs": [],
   "source": [
    "with open(INDUSTRY_CODES_PATH) as f:\n",
    "    industry_codes = json.load(f)\n",
    "    \n",
    "def get_code(code_list, identifier):\n",
    "    name = \"\"\n",
    "    for entry in code_list:\n",
    "        if entry[\"Code\"] == identifier:\n",
    "            name = entry[\"Description\"]\n",
    "            break\n",
    "    return name"
   ]
  },
  {
   "cell_type": "code",
   "execution_count": 8,
   "metadata": {},
   "outputs": [],
   "source": [
    "train[\"industry_name\"] = list(map(lambda x: get_code(industry_codes, x), dict(train[\"industry\"]).values()))"
   ]
  },
  {
   "cell_type": "code",
   "execution_count": 9,
   "metadata": {},
   "outputs": [
    {
     "data": {
      "text/html": [
       "<div>\n",
       "<style scoped>\n",
       "    .dataframe tbody tr th:only-of-type {\n",
       "        vertical-align: middle;\n",
       "    }\n",
       "\n",
       "    .dataframe tbody tr th {\n",
       "        vertical-align: top;\n",
       "    }\n",
       "\n",
       "    .dataframe thead th {\n",
       "        text-align: right;\n",
       "    }\n",
       "</style>\n",
       "<table border=\"1\" class=\"dataframe\">\n",
       "  <thead>\n",
       "    <tr style=\"text-align: right;\">\n",
       "      <th></th>\n",
       "      <th>text</th>\n",
       "      <th>html</th>\n",
       "      <th>industry</th>\n",
       "      <th>country</th>\n",
       "      <th>industry_name</th>\n",
       "    </tr>\n",
       "  </thead>\n",
       "  <tbody>\n",
       "    <tr>\n",
       "      <th>0</th>\n",
       "      <td>Home | NETZkultur GmbH\\n\\nZum Inhalt wechseln\\...</td>\n",
       "      <td>&lt;!DOCTYPE html&gt;\\n&lt;html lang=\"de-DE\"&gt;\\n&lt;head&gt;\\n...</td>\n",
       "      <td>4</td>\n",
       "      <td>DE</td>\n",
       "      <td>Computer Software</td>\n",
       "    </tr>\n",
       "    <tr>\n",
       "      <th>1</th>\n",
       "      <td>\\n\\nNXP Semiconductors | Automotive, Security,...</td>\n",
       "      <td>&lt;!DOCTYPE html&gt;\\n&lt;html&gt;\\n&lt;head&gt;\\n\\t&lt;title&gt;NXP ...</td>\n",
       "      <td>7</td>\n",
       "      <td></td>\n",
       "      <td>Semiconductors</td>\n",
       "    </tr>\n",
       "    <tr>\n",
       "      <th>2</th>\n",
       "      <td>Suer Nutzfahrzeugtechnik Onlineshop\\n\\nSie wis...</td>\n",
       "      <td>&lt;!DOCTYPE html&gt;\\n&lt;html lang=\"de\"&gt;\\n    &lt;head&gt;\\...</td>\n",
       "      <td>53</td>\n",
       "      <td>DE</td>\n",
       "      <td>Automotive</td>\n",
       "    </tr>\n",
       "    <tr>\n",
       "      <th>3</th>\n",
       "      <td>Improve cash flows and long-term profitability...</td>\n",
       "      <td>\\n&lt;!DOCTYPE html&gt;\\n&lt;html lang=\"en\" prefix=\"og:...</td>\n",
       "      <td>43</td>\n",
       "      <td></td>\n",
       "      <td>Financial Services</td>\n",
       "    </tr>\n",
       "    <tr>\n",
       "      <th>4</th>\n",
       "      <td>Your specialist for plastic compounds\\n\\nMenu ...</td>\n",
       "      <td>&lt;!DOCTYPE html&gt;\\n&lt;html xmlns:og=\"http://ogp.me...</td>\n",
       "      <td>117</td>\n",
       "      <td></td>\n",
       "      <td>Plastics</td>\n",
       "    </tr>\n",
       "  </tbody>\n",
       "</table>\n",
       "</div>"
      ],
      "text/plain": [
       "                                                text  \\\n",
       "0  Home | NETZkultur GmbH\\n\\nZum Inhalt wechseln\\...   \n",
       "1  \\n\\nNXP Semiconductors | Automotive, Security,...   \n",
       "2  Suer Nutzfahrzeugtechnik Onlineshop\\n\\nSie wis...   \n",
       "3  Improve cash flows and long-term profitability...   \n",
       "4  Your specialist for plastic compounds\\n\\nMenu ...   \n",
       "\n",
       "                                                html  industry country  \\\n",
       "0  <!DOCTYPE html>\\n<html lang=\"de-DE\">\\n<head>\\n...         4      DE   \n",
       "1  <!DOCTYPE html>\\n<html>\\n<head>\\n\\t<title>NXP ...         7           \n",
       "2  <!DOCTYPE html>\\n<html lang=\"de\">\\n    <head>\\...        53      DE   \n",
       "3  \\n<!DOCTYPE html>\\n<html lang=\"en\" prefix=\"og:...        43           \n",
       "4  <!DOCTYPE html>\\n<html xmlns:og=\"http://ogp.me...       117           \n",
       "\n",
       "        industry_name  \n",
       "0   Computer Software  \n",
       "1      Semiconductors  \n",
       "2          Automotive  \n",
       "3  Financial Services  \n",
       "4            Plastics  "
      ]
     },
     "execution_count": 9,
     "metadata": {},
     "output_type": "execute_result"
    }
   ],
   "source": [
    "train.head()"
   ]
  },
  {
   "cell_type": "markdown",
   "metadata": {},
   "source": [
    "### remove empty text, html, industry and industry_name cols"
   ]
  },
  {
   "cell_type": "code",
   "execution_count": 55,
   "metadata": {},
   "outputs": [
    {
     "data": {
      "text/plain": [
       "(14374, 5)"
      ]
     },
     "execution_count": 55,
     "metadata": {},
     "output_type": "execute_result"
    }
   ],
   "source": [
    "train.shape"
   ]
  },
  {
   "cell_type": "code",
   "execution_count": 56,
   "metadata": {},
   "outputs": [],
   "source": [
    "train = train.drop(train[train['text'] == ''].index)\n",
    "train = train.drop(train[train['html'] == ''].index)\n",
    "train = train.drop(train[train['industry_name'] == ''].index)"
   ]
  },
  {
   "cell_type": "code",
   "execution_count": 58,
   "metadata": {},
   "outputs": [
    {
     "data": {
      "text/plain": [
       "0"
      ]
     },
     "execution_count": 58,
     "metadata": {},
     "output_type": "execute_result"
    }
   ],
   "source": [
    "# NULL/NaN industry entry?\n",
    "train.industry.isnull().sum()"
   ]
  },
  {
   "cell_type": "code",
   "execution_count": 59,
   "metadata": {},
   "outputs": [
    {
     "data": {
      "text/plain": [
       "(13114, 5)"
      ]
     },
     "execution_count": 59,
     "metadata": {},
     "output_type": "execute_result"
    }
   ],
   "source": [
    "train.shape"
   ]
  },
  {
   "cell_type": "markdown",
   "metadata": {},
   "source": [
    "Same for test"
   ]
  },
  {
   "cell_type": "code",
   "execution_count": 60,
   "metadata": {},
   "outputs": [
    {
     "data": {
      "text/plain": [
       "(3594, 4)"
      ]
     },
     "execution_count": 60,
     "metadata": {},
     "output_type": "execute_result"
    }
   ],
   "source": [
    "test.shape"
   ]
  },
  {
   "cell_type": "code",
   "execution_count": 63,
   "metadata": {},
   "outputs": [],
   "source": [
    "# same for test\n",
    "test = test.drop(test[test['text'] == ''].index)\n",
    "test = test.drop(test[test['html'] == ''].index)"
   ]
  },
  {
   "cell_type": "code",
   "execution_count": 67,
   "metadata": {},
   "outputs": [
    {
     "data": {
      "text/plain": [
       "0"
      ]
     },
     "execution_count": 67,
     "metadata": {},
     "output_type": "execute_result"
    }
   ],
   "source": [
    "# NULL/NaN industry entry?\n",
    "test.industry.isnull().sum()"
   ]
  },
  {
   "cell_type": "code",
   "execution_count": 68,
   "metadata": {},
   "outputs": [
    {
     "data": {
      "text/plain": [
       "(3573, 4)"
      ]
     },
     "execution_count": 68,
     "metadata": {},
     "output_type": "execute_result"
    }
   ],
   "source": [
    "test.shape"
   ]
  },
  {
   "cell_type": "markdown",
   "metadata": {},
   "source": [
    "## Save train/test to csv"
   ]
  },
  {
   "cell_type": "code",
   "execution_count": 69,
   "metadata": {},
   "outputs": [],
   "source": [
    "train.to_csv(TRAIN_PATH_CSV, index=False)\n",
    "test.to_csv(TEST_PATH_CSV, index=False)"
   ]
  },
  {
   "cell_type": "markdown",
   "metadata": {},
   "source": [
    "# Load csv <a class=\"anchor\" id=\"1\"/>"
   ]
  },
  {
   "cell_type": "code",
   "execution_count": 70,
   "metadata": {},
   "outputs": [
    {
     "name": "stdout",
     "output_type": "stream",
     "text": [
      "CPU times: user 36.8 s, sys: 9.48 s, total: 46.3 s\n",
      "Wall time: 51.3 s\n"
     ]
    },
    {
     "data": {
      "text/html": [
       "<div>\n",
       "<style scoped>\n",
       "    .dataframe tbody tr th:only-of-type {\n",
       "        vertical-align: middle;\n",
       "    }\n",
       "\n",
       "    .dataframe tbody tr th {\n",
       "        vertical-align: top;\n",
       "    }\n",
       "\n",
       "    .dataframe thead th {\n",
       "        text-align: right;\n",
       "    }\n",
       "</style>\n",
       "<table border=\"1\" class=\"dataframe\">\n",
       "  <thead>\n",
       "    <tr style=\"text-align: right;\">\n",
       "      <th></th>\n",
       "      <th>text</th>\n",
       "      <th>html</th>\n",
       "      <th>industry</th>\n",
       "      <th>country</th>\n",
       "      <th>industry_name</th>\n",
       "    </tr>\n",
       "  </thead>\n",
       "  <tbody>\n",
       "    <tr>\n",
       "      <th>0</th>\n",
       "      <td>Home | NETZkultur GmbH\\n\\nZum Inhalt wechseln\\...</td>\n",
       "      <td>&lt;!DOCTYPE html&gt;\\n&lt;html lang=\"de-DE\"&gt;\\n&lt;head&gt;\\n...</td>\n",
       "      <td>4</td>\n",
       "      <td>DE</td>\n",
       "      <td>Computer Software</td>\n",
       "    </tr>\n",
       "    <tr>\n",
       "      <th>1</th>\n",
       "      <td>\\n\\nNXP Semiconductors | Automotive, Security,...</td>\n",
       "      <td>&lt;!DOCTYPE html&gt;\\n&lt;html&gt;\\n&lt;head&gt;\\n\\t&lt;title&gt;NXP ...</td>\n",
       "      <td>7</td>\n",
       "      <td>NaN</td>\n",
       "      <td>Semiconductors</td>\n",
       "    </tr>\n",
       "  </tbody>\n",
       "</table>\n",
       "</div>"
      ],
      "text/plain": [
       "                                                text  \\\n",
       "0  Home | NETZkultur GmbH\\n\\nZum Inhalt wechseln\\...   \n",
       "1  \\n\\nNXP Semiconductors | Automotive, Security,...   \n",
       "\n",
       "                                                html  industry country  \\\n",
       "0  <!DOCTYPE html>\\n<html lang=\"de-DE\">\\n<head>\\n...         4      DE   \n",
       "1  <!DOCTYPE html>\\n<html>\\n<head>\\n\\t<title>NXP ...         7     NaN   \n",
       "\n",
       "       industry_name  \n",
       "0  Computer Software  \n",
       "1     Semiconductors  "
      ]
     },
     "execution_count": 70,
     "metadata": {},
     "output_type": "execute_result"
    }
   ],
   "source": [
    "%%time\n",
    "train = pd.read_csv(TRAIN_PATH_CSV)\n",
    "test = pd.read_csv(TEST_PATH_CSV)\n",
    "\n",
    "train.head(2)"
   ]
  },
  {
   "cell_type": "markdown",
   "metadata": {},
   "source": [
    "# Train dataset insights\n",
    "\n",
    "- all columns have the same non-null values as the shape\n",
    "- exception: \"country\" &rarr; about 62% have non-null values"
   ]
  },
  {
   "cell_type": "code",
   "execution_count": 73,
   "metadata": {},
   "outputs": [
    {
     "data": {
      "text/plain": [
       "0.6210157084032332"
      ]
     },
     "execution_count": 73,
     "metadata": {},
     "output_type": "execute_result"
    }
   ],
   "source": [
    "8144/13114"
   ]
  },
  {
   "cell_type": "code",
   "execution_count": 72,
   "metadata": {},
   "outputs": [
    {
     "data": {
      "text/plain": [
       "(13114, 5)"
      ]
     },
     "execution_count": 72,
     "metadata": {},
     "output_type": "execute_result"
    }
   ],
   "source": [
    "train.shape"
   ]
  },
  {
   "cell_type": "code",
   "execution_count": 71,
   "metadata": {},
   "outputs": [
    {
     "name": "stdout",
     "output_type": "stream",
     "text": [
      "<class 'pandas.core.frame.DataFrame'>\n",
      "RangeIndex: 13114 entries, 0 to 13113\n",
      "Data columns (total 5 columns):\n",
      " #   Column         Non-Null Count  Dtype \n",
      "---  ------         --------------  ----- \n",
      " 0   text           13114 non-null  object\n",
      " 1   html           13114 non-null  object\n",
      " 2   industry       13114 non-null  int64 \n",
      " 3   country        8144 non-null   object\n",
      " 4   industry_name  13114 non-null  object\n",
      "dtypes: int64(1), object(4)\n",
      "memory usage: 512.4+ KB\n"
     ]
    }
   ],
   "source": [
    "train.info()"
   ]
  },
  {
   "cell_type": "code",
   "execution_count": 74,
   "metadata": {},
   "outputs": [
    {
     "data": {
      "image/png": "[encoded data removed]",
      "text/plain": [
       "<Figure size 432x288 with 1 Axes>"
      ]
     },
     "metadata": {
      "needs_background": "light"
     },
     "output_type": "display_data"
    }
   ],
   "source": [
    "industry_col = dict(train.industry.value_counts())\n",
    "\n",
    "SORT_KEYS = False\n",
    "keys = industry_col.keys()\n",
    "if SORT_KEYS:\n",
    "    keys = list(map(lambda x: \"i\"+str(x), industry_col.keys()))\n",
    "plt.bar(keys, industry_col.values())\n",
    "plt.show()"
   ]
  },
  {
   "cell_type": "markdown",
   "metadata": {},
   "source": [
    "## HTML parsing"
   ]
  },
  {
   "cell_type": "markdown",
   "metadata": {},
   "source": [
    "### Example instance"
   ]
  },
  {
   "cell_type": "code",
   "execution_count": 84,
   "metadata": {},
   "outputs": [
    {
     "name": "stdout",
     "output_type": "stream",
     "text": [
      "Home | NETZkultur Gm ...\n"
     ]
    }
   ],
   "source": [
    "html0 = train.html.iloc[0]\n",
    "text0 = train.text.iloc[0]\n",
    "\n",
    "print(text0[:20], \"...\")"
   ]
  },
  {
   "cell_type": "code",
   "execution_count": 86,
   "metadata": {},
   "outputs": [
    {
     "name": "stdout",
     "output_type": "stream",
     "text": [
      "<!DOCTYPE html>\n",
      "<htm ...\n"
     ]
    }
   ],
   "source": [
    "print(html0[:20], \"...\")"
   ]
  },
  {
   "cell_type": "code",
   "execution_count": 87,
   "metadata": {},
   "outputs": [],
   "source": [
    "soup = BeautifulSoup(html0, 'html.parser')"
   ]
  },
  {
   "cell_type": "code",
   "execution_count": 88,
   "metadata": {},
   "outputs": [
    {
     "name": "stdout",
     "output_type": "stream",
     "text": [
      "Title: \n",
      "  <title>Home | NETZkultur GmbH</title> \n",
      "  title \n",
      "  Home | NETZkultur GmbH \n",
      "  head\n",
      "\n"
     ]
    }
   ],
   "source": [
    "print(\"Title: \\n \", soup.title, \"\\n \", soup.title.name, \"\\n \", soup.title.string, \"\\n \", soup.title.parent.name)\n",
    "print()"
   ]
  },
  {
   "cell_type": "markdown",
   "metadata": {},
   "source": [
    "### Count HTMLs with `<address>`-Tag\n",
    "\n",
    "only 524 of 13114 HTML pages have `address`-Tag (~4%)"
   ]
  },
  {
   "cell_type": "code",
   "execution_count": 89,
   "metadata": {},
   "outputs": [],
   "source": [
    "counter = 0\n",
    "for index, row in train.iterrows():\n",
    "    html = row.html\n",
    "    try:\n",
    "        soup = BeautifulSoup(html, 'html.parser')\n",
    "        if soup.address is not None:\n",
    "            #print(soup.address)\n",
    "            counter += 1\n",
    "    except:\n",
    "        print(row)\n",
    "        break"
   ]
  },
  {
   "cell_type": "code",
   "execution_count": 94,
   "metadata": {},
   "outputs": [
    {
     "name": "stdout",
     "output_type": "stream",
     "text": [
      "524\n"
     ]
    }
   ],
   "source": [
    "print(counter)"
   ]
  },
  {
   "cell_type": "code",
   "execution_count": 97,
   "metadata": {},
   "outputs": [
    {
     "data": {
      "text/html": [
       "<div>\n",
       "<style scoped>\n",
       "    .dataframe tbody tr th:only-of-type {\n",
       "        vertical-align: middle;\n",
       "    }\n",
       "\n",
       "    .dataframe tbody tr th {\n",
       "        vertical-align: top;\n",
       "    }\n",
       "\n",
       "    .dataframe thead th {\n",
       "        text-align: right;\n",
       "    }\n",
       "</style>\n",
       "<table border=\"1\" class=\"dataframe\">\n",
       "  <thead>\n",
       "    <tr style=\"text-align: right;\">\n",
       "      <th></th>\n",
       "      <th>text</th>\n",
       "      <th>html</th>\n",
       "      <th>industry</th>\n",
       "      <th>country</th>\n",
       "      <th>industry_name</th>\n",
       "    </tr>\n",
       "  </thead>\n",
       "  <tbody>\n",
       "    <tr>\n",
       "      <th>0</th>\n",
       "      <td>Home | NETZkultur GmbH\\n\\nZum Inhalt wechseln\\...</td>\n",
       "      <td>&lt;!DOCTYPE html&gt;\\n&lt;html lang=\"de-DE\"&gt;\\n&lt;head&gt;\\n...</td>\n",
       "      <td>4</td>\n",
       "      <td>DE</td>\n",
       "      <td>Computer Software</td>\n",
       "    </tr>\n",
       "    <tr>\n",
       "      <th>1</th>\n",
       "      <td>\\n\\nNXP Semiconductors | Automotive, Security,...</td>\n",
       "      <td>&lt;!DOCTYPE html&gt;\\n&lt;html&gt;\\n&lt;head&gt;\\n\\t&lt;title&gt;NXP ...</td>\n",
       "      <td>7</td>\n",
       "      <td>NaN</td>\n",
       "      <td>Semiconductors</td>\n",
       "    </tr>\n",
       "    <tr>\n",
       "      <th>2</th>\n",
       "      <td>Suer Nutzfahrzeugtechnik Onlineshop\\n\\nSie wis...</td>\n",
       "      <td>&lt;!DOCTYPE html&gt;\\n&lt;html lang=\"de\"&gt;\\n    &lt;head&gt;\\...</td>\n",
       "      <td>53</td>\n",
       "      <td>DE</td>\n",
       "      <td>Automotive</td>\n",
       "    </tr>\n",
       "    <tr>\n",
       "      <th>3</th>\n",
       "      <td>Improve cash flows and long-term profitability...</td>\n",
       "      <td>\\n&lt;!DOCTYPE html&gt;\\n&lt;html lang=\"en\" prefix=\"og:...</td>\n",
       "      <td>43</td>\n",
       "      <td>NaN</td>\n",
       "      <td>Financial Services</td>\n",
       "    </tr>\n",
       "    <tr>\n",
       "      <th>4</th>\n",
       "      <td>Your specialist for plastic compounds\\n\\nMenu ...</td>\n",
       "      <td>&lt;!DOCTYPE html&gt;\\n&lt;html xmlns:og=\"http://ogp.me...</td>\n",
       "      <td>117</td>\n",
       "      <td>NaN</td>\n",
       "      <td>Plastics</td>\n",
       "    </tr>\n",
       "  </tbody>\n",
       "</table>\n",
       "</div>"
      ],
      "text/plain": [
       "                                                text  \\\n",
       "0  Home | NETZkultur GmbH\\n\\nZum Inhalt wechseln\\...   \n",
       "1  \\n\\nNXP Semiconductors | Automotive, Security,...   \n",
       "2  Suer Nutzfahrzeugtechnik Onlineshop\\n\\nSie wis...   \n",
       "3  Improve cash flows and long-term profitability...   \n",
       "4  Your specialist for plastic compounds\\n\\nMenu ...   \n",
       "\n",
       "                                                html  industry country  \\\n",
       "0  <!DOCTYPE html>\\n<html lang=\"de-DE\">\\n<head>\\n...         4      DE   \n",
       "1  <!DOCTYPE html>\\n<html>\\n<head>\\n\\t<title>NXP ...         7     NaN   \n",
       "2  <!DOCTYPE html>\\n<html lang=\"de\">\\n    <head>\\...        53      DE   \n",
       "3  \\n<!DOCTYPE html>\\n<html lang=\"en\" prefix=\"og:...        43     NaN   \n",
       "4  <!DOCTYPE html>\\n<html xmlns:og=\"http://ogp.me...       117     NaN   \n",
       "\n",
       "        industry_name  \n",
       "0   Computer Software  \n",
       "1      Semiconductors  \n",
       "2          Automotive  \n",
       "3  Financial Services  \n",
       "4            Plastics  "
      ]
     },
     "execution_count": 97,
     "metadata": {},
     "output_type": "execute_result"
    }
   ],
   "source": [
    "train.head()"
   ]
  },
  {
   "cell_type": "code",
   "execution_count": null,
   "metadata": {},
   "outputs": [],
   "source": []
  }
 ],
 "metadata": {
  "kernelspec": {
   "display_name": "Python 3",
   "language": "python",
   "name": "python3"
  },
  "language_info": {
   "codemirror_mode": {
    "name": "ipython",
    "version": 3
   },
   "file_extension": ".py",
   "mimetype": "text/x-python",
   "name": "python",
   "nbconvert_exporter": "python",
   "pygments_lexer": "ipython3",
   "version": "3.7.7"
  },
  "toc": {
   "base_numbering": 1,
   "nav_menu": {},
   "number_sections": true,
   "sideBar": true,
   "skip_h1_title": true,
   "title_cell": "Table of Contents",
   "title_sidebar": "Contents",
   "toc_cell": false,
   "toc_position": {},
   "toc_section_display": true,
   "toc_window_display": true
  }
 },
 "nbformat": 4,
 "nbformat_minor": 4
}
