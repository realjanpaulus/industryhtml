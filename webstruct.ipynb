{
 "cells": [
  {
   "cell_type": "markdown",
   "metadata": {},
   "source": [
    "# Webstruct\n",
    "\n",
    "- dependencies\n",
    "    - `lxml` for parsing HTML;\n",
    "    - `scikit-learn` >= 0.14."
   ]
  },
  {
   "cell_type": "markdown",
   "metadata": {},
   "source": [
    "## TODOS\n",
    "- WebAnnotator: https://www.aclweb.org/anthology/L12-1021/"
   ]
  },
  {
   "cell_type": "code",
   "execution_count": 18,
   "metadata": {},
   "outputs": [],
   "source": [
    "#!pip install webstruct"
   ]
  },
  {
   "cell_type": "code",
   "execution_count": 21,
   "metadata": {},
   "outputs": [],
   "source": [
    "import matplotlib.pyplot as plt\n",
    "import numpy as np\n",
    "import pandas as pd\n",
    "\n",
    "import webstruct\n",
    "from webstruct import WebAnnotatorLoader"
   ]
  },
  {
   "cell_type": "code",
   "execution_count": 3,
   "metadata": {},
   "outputs": [],
   "source": [
    "TRAIN_PATH_JSON = \"Branchen/data/train.ndjson\"\n",
    "TEST_PATH_JSON = \"Branchen/data/test.ndjson\"\n",
    "TRAIN_PATH_CSV = \"Branchen/data/train.csv\"\n",
    "TEST_PATH_CSV = \"Branchen/data/test.csv\""
   ]
  },
  {
   "cell_type": "markdown",
   "metadata": {},
   "source": [
    "## Load csvs and create test html"
   ]
  },
  {
   "cell_type": "code",
   "execution_count": 7,
   "metadata": {},
   "outputs": [
    {
     "name": "stdout",
     "output_type": "stream",
     "text": [
      "CPU times: user 29.4 s, sys: 10.5 s, total: 39.9 s\n",
      "Wall time: 57.7 s\n"
     ]
    },
    {
     "data": {
      "text/html": [
       "<div>\n",
       "<style scoped>\n",
       "    .dataframe tbody tr th:only-of-type {\n",
       "        vertical-align: middle;\n",
       "    }\n",
       "\n",
       "    .dataframe tbody tr th {\n",
       "        vertical-align: top;\n",
       "    }\n",
       "\n",
       "    .dataframe thead th {\n",
       "        text-align: right;\n",
       "    }\n",
       "</style>\n",
       "<table border=\"1\" class=\"dataframe\">\n",
       "  <thead>\n",
       "    <tr style=\"text-align: right;\">\n",
       "      <th></th>\n",
       "      <th>text</th>\n",
       "      <th>html</th>\n",
       "      <th>industry</th>\n",
       "      <th>country</th>\n",
       "      <th>industry_name</th>\n",
       "    </tr>\n",
       "  </thead>\n",
       "  <tbody>\n",
       "    <tr>\n",
       "      <th>0</th>\n",
       "      <td>Home | NETZkultur GmbH\\n\\nZum Inhalt wechseln\\...</td>\n",
       "      <td>&lt;!DOCTYPE html&gt;\\n&lt;html lang=\"de-DE\"&gt;\\n&lt;head&gt;\\n...</td>\n",
       "      <td>4</td>\n",
       "      <td>DE</td>\n",
       "      <td>Computer Software</td>\n",
       "    </tr>\n",
       "    <tr>\n",
       "      <th>1</th>\n",
       "      <td>\\n\\nNXP Semiconductors | Automotive, Security,...</td>\n",
       "      <td>&lt;!DOCTYPE html&gt;\\n&lt;html&gt;\\n&lt;head&gt;\\n\\t&lt;title&gt;NXP ...</td>\n",
       "      <td>7</td>\n",
       "      <td>NaN</td>\n",
       "      <td>Semiconductors</td>\n",
       "    </tr>\n",
       "  </tbody>\n",
       "</table>\n",
       "</div>"
      ],
      "text/plain": [
       "                                                text  \\\n",
       "0  Home | NETZkultur GmbH\\n\\nZum Inhalt wechseln\\...   \n",
       "1  \\n\\nNXP Semiconductors | Automotive, Security,...   \n",
       "\n",
       "                                                html  industry country  \\\n",
       "0  <!DOCTYPE html>\\n<html lang=\"de-DE\">\\n<head>\\n...         4      DE   \n",
       "1  <!DOCTYPE html>\\n<html>\\n<head>\\n\\t<title>NXP ...         7     NaN   \n",
       "\n",
       "       industry_name  \n",
       "0  Computer Software  \n",
       "1     Semiconductors  "
      ]
     },
     "execution_count": 7,
     "metadata": {},
     "output_type": "execute_result"
    }
   ],
   "source": [
    "%%time\n",
    "train = pd.read_csv(TRAIN_PATH_CSV)\n",
    "train.head(2)"
   ]
  },
  {
   "cell_type": "code",
   "execution_count": 24,
   "metadata": {},
   "outputs": [],
   "source": [
    "testhtml = train.iloc[0][\"html\"]\n",
    "with open(\"train/test.html\", \"w+\") as f:\n",
    "    f.write(testhtml)"
   ]
  },
  {
   "cell_type": "markdown",
   "metadata": {},
   "source": [
    "TODO: all HTMLs to train"
   ]
  },
  {
   "cell_type": "markdown",
   "metadata": {},
   "source": [
    "## ..."
   ]
  },
  {
   "cell_type": "code",
   "execution_count": 26,
   "metadata": {},
   "outputs": [
    {
     "data": {
      "text/plain": [
       "<Element html at 0x7f821d9b8bf0>"
      ]
     },
     "execution_count": 26,
     "metadata": {},
     "output_type": "execute_result"
    }
   ],
   "source": [
    "loader = WebAnnotatorLoader()  \n",
    "loader.load(\"train/test.html\")"
   ]
  },
  {
   "cell_type": "code",
   "execution_count": 25,
   "metadata": {},
   "outputs": [],
   "source": [
    "trees = webstruct.load_trees(\"train/*.html\", WebAnnotatorLoader())"
   ]
  },
  {
   "cell_type": "code",
   "execution_count": 27,
   "metadata": {},
   "outputs": [],
   "source": [
    "html_tokenizer = webstruct.HtmlTokenizer()\n",
    "X, y = html_tokenizer.tokenize(trees)"
   ]
  },
  {
   "cell_type": "markdown",
   "metadata": {},
   "source": [
    "TODO: https://webstruct.readthedocs.io/en/latest/tutorial.html"
   ]
  },
  {
   "cell_type": "code",
   "execution_count": null,
   "metadata": {},
   "outputs": [],
   "source": []
  }
 ],
 "metadata": {
  "kernelspec": {
   "display_name": "Python 3",
   "language": "python",
   "name": "python3"
  },
  "language_info": {
   "codemirror_mode": {
    "name": "ipython",
    "version": 3
   },
   "file_extension": ".py",
   "mimetype": "text/x-python",
   "name": "python",
   "nbconvert_exporter": "python",
   "pygments_lexer": "ipython3",
   "version": "3.7.7"
  }
 },
 "nbformat": 4,
 "nbformat_minor": 4
}
